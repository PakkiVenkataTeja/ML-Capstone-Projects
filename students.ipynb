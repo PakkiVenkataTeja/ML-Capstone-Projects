{
  "cells": [
    {
      "cell_type": "markdown",
      "source": [
        "# Library "
      ],
      "metadata": {
        "id": "TbWqMdAD_RRq"
      }
    },
    {
      "cell_type": "code",
      "execution_count": null,
      "metadata": {
        "id": "f-l4OeG5nEVG"
      },
      "outputs": [],
      "source": [
        "import numpy as np\n",
        "import pandas as pd\n",
        "import matplotlib.pyplot as plt\n",
        "import seaborn as sns"
      ]
    },
    {
      "cell_type": "code",
      "execution_count": null,
      "metadata": {
        "id": "xwOrXa7Vn7ic"
      },
      "outputs": [],
      "source": [
        "import statsmodels.formula.api as smf\n",
        "from sklearn.linear_model import LinearRegression\n",
        "from sklearn import metrics\n",
        "from sklearn.model_selection import train_test_split\n",
        "from sklearn.metrics import accuracy_score\n",
        "%matplotlib inline"
      ]
    },
    {
      "cell_type": "code",
      "source": [
        "import tensorflow as tf\n",
        "from imblearn.over_sampling import SMOTE\n",
        "from sklearn.feature_selection import RFE\n",
        "from sklearn.linear_model import LogisticRegression\n",
        "from sklearn.metrics import classification_report"
      ],
      "metadata": {
        "id": "s67cRl0T4dRa"
      },
      "execution_count": null,
      "outputs": []
    },
    {
      "cell_type": "markdown",
      "source": [
        "#Data"
      ],
      "metadata": {
        "id": "1BBrcVnZ_cSS"
      }
    },
    {
      "cell_type": "code",
      "execution_count": null,
      "metadata": {
        "id": "OSm1RD0_oEVR"
      },
      "outputs": [],
      "source": [
        "data=pd.read_excel(\"student-mat_excel.xlsx\")"
      ]
    },
    {
      "cell_type": "code",
      "execution_count": null,
      "metadata": {
        "colab": {
          "base_uri": "https://localhost:8080/",
          "height": 423
        },
        "id": "baZWD9LmoiId",
        "outputId": "3d714915-ff52-4f15-f086-c3695a6673a5"
      },
      "outputs": [
        {
          "output_type": "execute_result",
          "data": {
            "text/plain": [
              "    school sex  age address famsize Pstatus  Medu  Fedu      Mjob      Fjob  \\\n",
              "0       GP   F   18       U     GT3       A     4     4   at_home   teacher   \n",
              "1       GP   F   17       U     GT3       T     1     1   at_home     other   \n",
              "2       GP   F   15       U     LE3       T     1     1   at_home     other   \n",
              "3       GP   F   15       U     GT3       T     4     2    health  services   \n",
              "4       GP   F   16       U     GT3       T     3     3     other     other   \n",
              "..     ...  ..  ...     ...     ...     ...   ...   ...       ...       ...   \n",
              "390     MS   M   20       U     LE3       A     2     2  services  services   \n",
              "391     MS   M   17       U     LE3       T     3     1  services  services   \n",
              "392     MS   M   21       R     GT3       T     1     1     other     other   \n",
              "393     MS   M   18       R     LE3       T     3     2  services     other   \n",
              "394     MS   M   19       U     LE3       T     1     1     other   at_home   \n",
              "\n",
              "     ... famrel freetime  goout  Dalc  Walc health absences  G1  G2  G3  \n",
              "0    ...      4        3      4     1     1      3        6   5   6   6  \n",
              "1    ...      5        3      3     1     1      3        4   5   5   6  \n",
              "2    ...      4        3      2     2     3      3       10   7   8  10  \n",
              "3    ...      3        2      2     1     1      5        2  15  14  15  \n",
              "4    ...      4        3      2     1     2      5        4   6  10  10  \n",
              "..   ...    ...      ...    ...   ...   ...    ...      ...  ..  ..  ..  \n",
              "390  ...      5        5      4     4     5      4       11   9   9   9  \n",
              "391  ...      2        4      5     3     4      2        3  14  16  16  \n",
              "392  ...      5        5      3     3     3      3        3  10   8   7  \n",
              "393  ...      4        4      1     3     4      5        0  11  12  10  \n",
              "394  ...      3        2      3     3     3      5        5   8   9   9  \n",
              "\n",
              "[395 rows x 33 columns]"
            ],
            "text/html": [
              "\n",
              "  <div id=\"df-7dcfd88c-d532-40c3-8eb0-7a79429d33c3\">\n",
              "    <div class=\"colab-df-container\">\n",
              "      <div>\n",
              "<style scoped>\n",
              "    .dataframe tbody tr th:only-of-type {\n",
              "        vertical-align: middle;\n",
              "    }\n",
              "\n",
              "    .dataframe tbody tr th {\n",
              "        vertical-align: top;\n",
              "    }\n",
              "\n",
              "    .dataframe thead th {\n",
              "        text-align: right;\n",
              "    }\n",
              "</style>\n",
              "<table border=\"1\" class=\"dataframe\">\n",
              "  <thead>\n",
              "    <tr style=\"text-align: right;\">\n",
              "      <th></th>\n",
              "      <th>school</th>\n",
              "      <th>sex</th>\n",
              "      <th>age</th>\n",
              "      <th>address</th>\n",
              "      <th>famsize</th>\n",
              "      <th>Pstatus</th>\n",
              "      <th>Medu</th>\n",
              "      <th>Fedu</th>\n",
              "      <th>Mjob</th>\n",
              "      <th>Fjob</th>\n",
              "      <th>...</th>\n",
              "      <th>famrel</th>\n",
              "      <th>freetime</th>\n",
              "      <th>goout</th>\n",
              "      <th>Dalc</th>\n",
              "      <th>Walc</th>\n",
              "      <th>health</th>\n",
              "      <th>absences</th>\n",
              "      <th>G1</th>\n",
              "      <th>G2</th>\n",
              "      <th>G3</th>\n",
              "    </tr>\n",
              "  </thead>\n",
              "  <tbody>\n",
              "    <tr>\n",
              "      <th>0</th>\n",
              "      <td>GP</td>\n",
              "      <td>F</td>\n",
              "      <td>18</td>\n",
              "      <td>U</td>\n",
              "      <td>GT3</td>\n",
              "      <td>A</td>\n",
              "      <td>4</td>\n",
              "      <td>4</td>\n",
              "      <td>at_home</td>\n",
              "      <td>teacher</td>\n",
              "      <td>...</td>\n",
              "      <td>4</td>\n",
              "      <td>3</td>\n",
              "      <td>4</td>\n",
              "      <td>1</td>\n",
              "      <td>1</td>\n",
              "      <td>3</td>\n",
              "      <td>6</td>\n",
              "      <td>5</td>\n",
              "      <td>6</td>\n",
              "      <td>6</td>\n",
              "    </tr>\n",
              "    <tr>\n",
              "      <th>1</th>\n",
              "      <td>GP</td>\n",
              "      <td>F</td>\n",
              "      <td>17</td>\n",
              "      <td>U</td>\n",
              "      <td>GT3</td>\n",
              "      <td>T</td>\n",
              "      <td>1</td>\n",
              "      <td>1</td>\n",
              "      <td>at_home</td>\n",
              "      <td>other</td>\n",
              "      <td>...</td>\n",
              "      <td>5</td>\n",
              "      <td>3</td>\n",
              "      <td>3</td>\n",
              "      <td>1</td>\n",
              "      <td>1</td>\n",
              "      <td>3</td>\n",
              "      <td>4</td>\n",
              "      <td>5</td>\n",
              "      <td>5</td>\n",
              "      <td>6</td>\n",
              "    </tr>\n",
              "    <tr>\n",
              "      <th>2</th>\n",
              "      <td>GP</td>\n",
              "      <td>F</td>\n",
              "      <td>15</td>\n",
              "      <td>U</td>\n",
              "      <td>LE3</td>\n",
              "      <td>T</td>\n",
              "      <td>1</td>\n",
              "      <td>1</td>\n",
              "      <td>at_home</td>\n",
              "      <td>other</td>\n",
              "      <td>...</td>\n",
              "      <td>4</td>\n",
              "      <td>3</td>\n",
              "      <td>2</td>\n",
              "      <td>2</td>\n",
              "      <td>3</td>\n",
              "      <td>3</td>\n",
              "      <td>10</td>\n",
              "      <td>7</td>\n",
              "      <td>8</td>\n",
              "      <td>10</td>\n",
              "    </tr>\n",
              "    <tr>\n",
              "      <th>3</th>\n",
              "      <td>GP</td>\n",
              "      <td>F</td>\n",
              "      <td>15</td>\n",
              "      <td>U</td>\n",
              "      <td>GT3</td>\n",
              "      <td>T</td>\n",
              "      <td>4</td>\n",
              "      <td>2</td>\n",
              "      <td>health</td>\n",
              "      <td>services</td>\n",
              "      <td>...</td>\n",
              "      <td>3</td>\n",
              "      <td>2</td>\n",
              "      <td>2</td>\n",
              "      <td>1</td>\n",
              "      <td>1</td>\n",
              "      <td>5</td>\n",
              "      <td>2</td>\n",
              "      <td>15</td>\n",
              "      <td>14</td>\n",
              "      <td>15</td>\n",
              "    </tr>\n",
              "    <tr>\n",
              "      <th>4</th>\n",
              "      <td>GP</td>\n",
              "      <td>F</td>\n",
              "      <td>16</td>\n",
              "      <td>U</td>\n",
              "      <td>GT3</td>\n",
              "      <td>T</td>\n",
              "      <td>3</td>\n",
              "      <td>3</td>\n",
              "      <td>other</td>\n",
              "      <td>other</td>\n",
              "      <td>...</td>\n",
              "      <td>4</td>\n",
              "      <td>3</td>\n",
              "      <td>2</td>\n",
              "      <td>1</td>\n",
              "      <td>2</td>\n",
              "      <td>5</td>\n",
              "      <td>4</td>\n",
              "      <td>6</td>\n",
              "      <td>10</td>\n",
              "      <td>10</td>\n",
              "    </tr>\n",
              "    <tr>\n",
              "      <th>...</th>\n",
              "      <td>...</td>\n",
              "      <td>...</td>\n",
              "      <td>...</td>\n",
              "      <td>...</td>\n",
              "      <td>...</td>\n",
              "      <td>...</td>\n",
              "      <td>...</td>\n",
              "      <td>...</td>\n",
              "      <td>...</td>\n",
              "      <td>...</td>\n",
              "      <td>...</td>\n",
              "      <td>...</td>\n",
              "      <td>...</td>\n",
              "      <td>...</td>\n",
              "      <td>...</td>\n",
              "      <td>...</td>\n",
              "      <td>...</td>\n",
              "      <td>...</td>\n",
              "      <td>...</td>\n",
              "      <td>...</td>\n",
              "      <td>...</td>\n",
              "    </tr>\n",
              "    <tr>\n",
              "      <th>390</th>\n",
              "      <td>MS</td>\n",
              "      <td>M</td>\n",
              "      <td>20</td>\n",
              "      <td>U</td>\n",
              "      <td>LE3</td>\n",
              "      <td>A</td>\n",
              "      <td>2</td>\n",
              "      <td>2</td>\n",
              "      <td>services</td>\n",
              "      <td>services</td>\n",
              "      <td>...</td>\n",
              "      <td>5</td>\n",
              "      <td>5</td>\n",
              "      <td>4</td>\n",
              "      <td>4</td>\n",
              "      <td>5</td>\n",
              "      <td>4</td>\n",
              "      <td>11</td>\n",
              "      <td>9</td>\n",
              "      <td>9</td>\n",
              "      <td>9</td>\n",
              "    </tr>\n",
              "    <tr>\n",
              "      <th>391</th>\n",
              "      <td>MS</td>\n",
              "      <td>M</td>\n",
              "      <td>17</td>\n",
              "      <td>U</td>\n",
              "      <td>LE3</td>\n",
              "      <td>T</td>\n",
              "      <td>3</td>\n",
              "      <td>1</td>\n",
              "      <td>services</td>\n",
              "      <td>services</td>\n",
              "      <td>...</td>\n",
              "      <td>2</td>\n",
              "      <td>4</td>\n",
              "      <td>5</td>\n",
              "      <td>3</td>\n",
              "      <td>4</td>\n",
              "      <td>2</td>\n",
              "      <td>3</td>\n",
              "      <td>14</td>\n",
              "      <td>16</td>\n",
              "      <td>16</td>\n",
              "    </tr>\n",
              "    <tr>\n",
              "      <th>392</th>\n",
              "      <td>MS</td>\n",
              "      <td>M</td>\n",
              "      <td>21</td>\n",
              "      <td>R</td>\n",
              "      <td>GT3</td>\n",
              "      <td>T</td>\n",
              "      <td>1</td>\n",
              "      <td>1</td>\n",
              "      <td>other</td>\n",
              "      <td>other</td>\n",
              "      <td>...</td>\n",
              "      <td>5</td>\n",
              "      <td>5</td>\n",
              "      <td>3</td>\n",
              "      <td>3</td>\n",
              "      <td>3</td>\n",
              "      <td>3</td>\n",
              "      <td>3</td>\n",
              "      <td>10</td>\n",
              "      <td>8</td>\n",
              "      <td>7</td>\n",
              "    </tr>\n",
              "    <tr>\n",
              "      <th>393</th>\n",
              "      <td>MS</td>\n",
              "      <td>M</td>\n",
              "      <td>18</td>\n",
              "      <td>R</td>\n",
              "      <td>LE3</td>\n",
              "      <td>T</td>\n",
              "      <td>3</td>\n",
              "      <td>2</td>\n",
              "      <td>services</td>\n",
              "      <td>other</td>\n",
              "      <td>...</td>\n",
              "      <td>4</td>\n",
              "      <td>4</td>\n",
              "      <td>1</td>\n",
              "      <td>3</td>\n",
              "      <td>4</td>\n",
              "      <td>5</td>\n",
              "      <td>0</td>\n",
              "      <td>11</td>\n",
              "      <td>12</td>\n",
              "      <td>10</td>\n",
              "    </tr>\n",
              "    <tr>\n",
              "      <th>394</th>\n",
              "      <td>MS</td>\n",
              "      <td>M</td>\n",
              "      <td>19</td>\n",
              "      <td>U</td>\n",
              "      <td>LE3</td>\n",
              "      <td>T</td>\n",
              "      <td>1</td>\n",
              "      <td>1</td>\n",
              "      <td>other</td>\n",
              "      <td>at_home</td>\n",
              "      <td>...</td>\n",
              "      <td>3</td>\n",
              "      <td>2</td>\n",
              "      <td>3</td>\n",
              "      <td>3</td>\n",
              "      <td>3</td>\n",
              "      <td>5</td>\n",
              "      <td>5</td>\n",
              "      <td>8</td>\n",
              "      <td>9</td>\n",
              "      <td>9</td>\n",
              "    </tr>\n",
              "  </tbody>\n",
              "</table>\n",
              "<p>395 rows × 33 columns</p>\n",
              "</div>\n",
              "      <button class=\"colab-df-convert\" onclick=\"convertToInteractive('df-7dcfd88c-d532-40c3-8eb0-7a79429d33c3')\"\n",
              "              title=\"Convert this dataframe to an interactive table.\"\n",
              "              style=\"display:none;\">\n",
              "        \n",
              "  <svg xmlns=\"http://www.w3.org/2000/svg\" height=\"24px\"viewBox=\"0 0 24 24\"\n",
              "       width=\"24px\">\n",
              "    <path d=\"M0 0h24v24H0V0z\" fill=\"none\"/>\n",
              "    <path d=\"M18.56 5.44l.94 2.06.94-2.06 2.06-.94-2.06-.94-.94-2.06-.94 2.06-2.06.94zm-11 1L8.5 8.5l.94-2.06 2.06-.94-2.06-.94L8.5 2.5l-.94 2.06-2.06.94zm10 10l.94 2.06.94-2.06 2.06-.94-2.06-.94-.94-2.06-.94 2.06-2.06.94z\"/><path d=\"M17.41 7.96l-1.37-1.37c-.4-.4-.92-.59-1.43-.59-.52 0-1.04.2-1.43.59L10.3 9.45l-7.72 7.72c-.78.78-.78 2.05 0 2.83L4 21.41c.39.39.9.59 1.41.59.51 0 1.02-.2 1.41-.59l7.78-7.78 2.81-2.81c.8-.78.8-2.07 0-2.86zM5.41 20L4 18.59l7.72-7.72 1.47 1.35L5.41 20z\"/>\n",
              "  </svg>\n",
              "      </button>\n",
              "      \n",
              "  <style>\n",
              "    .colab-df-container {\n",
              "      display:flex;\n",
              "      flex-wrap:wrap;\n",
              "      gap: 12px;\n",
              "    }\n",
              "\n",
              "    .colab-df-convert {\n",
              "      background-color: #E8F0FE;\n",
              "      border: none;\n",
              "      border-radius: 50%;\n",
              "      cursor: pointer;\n",
              "      display: none;\n",
              "      fill: #1967D2;\n",
              "      height: 32px;\n",
              "      padding: 0 0 0 0;\n",
              "      width: 32px;\n",
              "    }\n",
              "\n",
              "    .colab-df-convert:hover {\n",
              "      background-color: #E2EBFA;\n",
              "      box-shadow: 0px 1px 2px rgba(60, 64, 67, 0.3), 0px 1px 3px 1px rgba(60, 64, 67, 0.15);\n",
              "      fill: #174EA6;\n",
              "    }\n",
              "\n",
              "    [theme=dark] .colab-df-convert {\n",
              "      background-color: #3B4455;\n",
              "      fill: #D2E3FC;\n",
              "    }\n",
              "\n",
              "    [theme=dark] .colab-df-convert:hover {\n",
              "      background-color: #434B5C;\n",
              "      box-shadow: 0px 1px 3px 1px rgba(0, 0, 0, 0.15);\n",
              "      filter: drop-shadow(0px 1px 2px rgba(0, 0, 0, 0.3));\n",
              "      fill: #FFFFFF;\n",
              "    }\n",
              "  </style>\n",
              "\n",
              "      <script>\n",
              "        const buttonEl =\n",
              "          document.querySelector('#df-7dcfd88c-d532-40c3-8eb0-7a79429d33c3 button.colab-df-convert');\n",
              "        buttonEl.style.display =\n",
              "          google.colab.kernel.accessAllowed ? 'block' : 'none';\n",
              "\n",
              "        async function convertToInteractive(key) {\n",
              "          const element = document.querySelector('#df-7dcfd88c-d532-40c3-8eb0-7a79429d33c3');\n",
              "          const dataTable =\n",
              "            await google.colab.kernel.invokeFunction('convertToInteractive',\n",
              "                                                     [key], {});\n",
              "          if (!dataTable) return;\n",
              "\n",
              "          const docLinkHtml = 'Like what you see? Visit the ' +\n",
              "            '<a target=\"_blank\" href=https://colab.research.google.com/notebooks/data_table.ipynb>data table notebook</a>'\n",
              "            + ' to learn more about interactive tables.';\n",
              "          element.innerHTML = '';\n",
              "          dataTable['output_type'] = 'display_data';\n",
              "          await google.colab.output.renderOutput(dataTable, element);\n",
              "          const docLink = document.createElement('div');\n",
              "          docLink.innerHTML = docLinkHtml;\n",
              "          element.appendChild(docLink);\n",
              "        }\n",
              "      </script>\n",
              "    </div>\n",
              "  </div>\n",
              "  "
            ]
          },
          "metadata": {},
          "execution_count": 5
        }
      ],
      "source": [
        "data"
      ]
    },
    {
      "cell_type": "code",
      "execution_count": null,
      "metadata": {
        "colab": {
          "base_uri": "https://localhost:8080/"
        },
        "id": "llgGp-Rgol6d",
        "outputId": "205653d7-9a37-4202-d9f7-daebe6b2747a"
      },
      "outputs": [
        {
          "output_type": "execute_result",
          "data": {
            "text/plain": [
              "school        0\n",
              "sex           0\n",
              "age           0\n",
              "address       0\n",
              "famsize       0\n",
              "Pstatus       0\n",
              "Medu          0\n",
              "Fedu          0\n",
              "Mjob          0\n",
              "Fjob          0\n",
              "reason        0\n",
              "guardian      0\n",
              "traveltime    0\n",
              "studytime     0\n",
              "failures      0\n",
              "schoolsup     0\n",
              "famsup        0\n",
              "paid          0\n",
              "activities    0\n",
              "nursery       0\n",
              "higher        0\n",
              "internet      0\n",
              "romantic      0\n",
              "famrel        0\n",
              "freetime      0\n",
              "goout         0\n",
              "Dalc          0\n",
              "Walc          0\n",
              "health        0\n",
              "absences      0\n",
              "G1            0\n",
              "G2            0\n",
              "G3            0\n",
              "dtype: int64"
            ]
          },
          "metadata": {},
          "execution_count": 6
        }
      ],
      "source": [
        "np.sum(data.isna())"
      ]
    },
    {
      "cell_type": "markdown",
      "source": [
        "# Data preprocessing "
      ],
      "metadata": {
        "id": "OB-CfyJb_hyW"
      }
    },
    {
      "cell_type": "code",
      "execution_count": null,
      "metadata": {
        "id": "9CquMaIAo2CD"
      },
      "outputs": [],
      "source": [
        "data['Sch_int'] = data.school.map({'GP':0, 'MS':1})\n",
        "data['gender'] = data.sex.map({'F':0, 'M':1})\n",
        "data['add_int'] = data.address.map({'U':0, 'R':1})\n",
        "data['act_int'] = data.activities.map({'yes':0, 'no':1})\n",
        "data['reason_int'] = data.reason.map({'home':0, 'reputation':1, 'course':2, 'other':3})\n",
        "data['paid_int'] = data.paid.map({'yes':0, 'no':1})\n",
        "data['schoolsup_int'] = data.schoolsup.map({'yes':0, 'no':1})\n",
        "data['fs_int'] = data.famsize.map({'GT3':0, 'LE3':1})\n",
        "data['ps_int'] = data.Pstatus.map({'A':0, 'T':1})\n",
        "data['nur_int'] = data.nursery.map({'yes':0, 'no':1})\n",
        "data['high_int'] = data.higher.map({'yes':0, 'no':1})\n",
        "data['int_int'] = data.internet.map({'yes':0, 'no':1})\n",
        "data['rom_int'] = data.romantic.map({'yes':0, 'no':1})\n"
      ]
    },
    {
      "cell_type": "code",
      "execution_count": null,
      "metadata": {
        "id": "hridtEc9pTMs",
        "colab": {
          "base_uri": "https://localhost:8080/",
          "height": 487
        },
        "outputId": "16c589f8-a142-4abd-986d-c5d4235f0285"
      },
      "outputs": [
        {
          "output_type": "execute_result",
          "data": {
            "text/plain": [
              "    school sex  age address famsize Pstatus  Medu  Fedu      Mjob      Fjob  \\\n",
              "0       GP   F   18       U     GT3       A     4     4   at_home   teacher   \n",
              "1       GP   F   17       U     GT3       T     1     1   at_home     other   \n",
              "2       GP   F   15       U     LE3       T     1     1   at_home     other   \n",
              "3       GP   F   15       U     GT3       T     4     2    health  services   \n",
              "4       GP   F   16       U     GT3       T     3     3     other     other   \n",
              "..     ...  ..  ...     ...     ...     ...   ...   ...       ...       ...   \n",
              "390     MS   M   20       U     LE3       A     2     2  services  services   \n",
              "391     MS   M   17       U     LE3       T     3     1  services  services   \n",
              "392     MS   M   21       R     GT3       T     1     1     other     other   \n",
              "393     MS   M   18       R     LE3       T     3     2  services     other   \n",
              "394     MS   M   19       U     LE3       T     1     1     other   at_home   \n",
              "\n",
              "     ... act_int reason_int  paid_int  schoolsup_int  fs_int ps_int nur_int  \\\n",
              "0    ...       1          2         1              0       0      0       0   \n",
              "1    ...       1          2         1              1       0      1       1   \n",
              "2    ...       1          3         0              0       1      1       0   \n",
              "3    ...       0          0         0              1       0      1       0   \n",
              "4    ...       1          0         0              1       0      1       0   \n",
              "..   ...     ...        ...       ...            ...     ...    ...     ...   \n",
              "390  ...       1          2         0              1       1      0       0   \n",
              "391  ...       1          2         1              1       1      1       1   \n",
              "392  ...       1          2         1              1       0      1       1   \n",
              "393  ...       1          2         1              1       1      1       1   \n",
              "394  ...       1          2         1              1       1      1       0   \n",
              "\n",
              "    high_int int_int rom_int  \n",
              "0          0       1       1  \n",
              "1          0       0       1  \n",
              "2          0       0       1  \n",
              "3          0       0       0  \n",
              "4          0       1       1  \n",
              "..       ...     ...     ...  \n",
              "390        0       1       1  \n",
              "391        0       0       1  \n",
              "392        0       1       1  \n",
              "393        0       0       1  \n",
              "394        0       0       1  \n",
              "\n",
              "[395 rows x 46 columns]"
            ],
            "text/html": [
              "\n",
              "  <div id=\"df-c2ae478e-4eb6-4b5e-b1c1-93255a3fad7c\">\n",
              "    <div class=\"colab-df-container\">\n",
              "      <div>\n",
              "<style scoped>\n",
              "    .dataframe tbody tr th:only-of-type {\n",
              "        vertical-align: middle;\n",
              "    }\n",
              "\n",
              "    .dataframe tbody tr th {\n",
              "        vertical-align: top;\n",
              "    }\n",
              "\n",
              "    .dataframe thead th {\n",
              "        text-align: right;\n",
              "    }\n",
              "</style>\n",
              "<table border=\"1\" class=\"dataframe\">\n",
              "  <thead>\n",
              "    <tr style=\"text-align: right;\">\n",
              "      <th></th>\n",
              "      <th>school</th>\n",
              "      <th>sex</th>\n",
              "      <th>age</th>\n",
              "      <th>address</th>\n",
              "      <th>famsize</th>\n",
              "      <th>Pstatus</th>\n",
              "      <th>Medu</th>\n",
              "      <th>Fedu</th>\n",
              "      <th>Mjob</th>\n",
              "      <th>Fjob</th>\n",
              "      <th>...</th>\n",
              "      <th>act_int</th>\n",
              "      <th>reason_int</th>\n",
              "      <th>paid_int</th>\n",
              "      <th>schoolsup_int</th>\n",
              "      <th>fs_int</th>\n",
              "      <th>ps_int</th>\n",
              "      <th>nur_int</th>\n",
              "      <th>high_int</th>\n",
              "      <th>int_int</th>\n",
              "      <th>rom_int</th>\n",
              "    </tr>\n",
              "  </thead>\n",
              "  <tbody>\n",
              "    <tr>\n",
              "      <th>0</th>\n",
              "      <td>GP</td>\n",
              "      <td>F</td>\n",
              "      <td>18</td>\n",
              "      <td>U</td>\n",
              "      <td>GT3</td>\n",
              "      <td>A</td>\n",
              "      <td>4</td>\n",
              "      <td>4</td>\n",
              "      <td>at_home</td>\n",
              "      <td>teacher</td>\n",
              "      <td>...</td>\n",
              "      <td>1</td>\n",
              "      <td>2</td>\n",
              "      <td>1</td>\n",
              "      <td>0</td>\n",
              "      <td>0</td>\n",
              "      <td>0</td>\n",
              "      <td>0</td>\n",
              "      <td>0</td>\n",
              "      <td>1</td>\n",
              "      <td>1</td>\n",
              "    </tr>\n",
              "    <tr>\n",
              "      <th>1</th>\n",
              "      <td>GP</td>\n",
              "      <td>F</td>\n",
              "      <td>17</td>\n",
              "      <td>U</td>\n",
              "      <td>GT3</td>\n",
              "      <td>T</td>\n",
              "      <td>1</td>\n",
              "      <td>1</td>\n",
              "      <td>at_home</td>\n",
              "      <td>other</td>\n",
              "      <td>...</td>\n",
              "      <td>1</td>\n",
              "      <td>2</td>\n",
              "      <td>1</td>\n",
              "      <td>1</td>\n",
              "      <td>0</td>\n",
              "      <td>1</td>\n",
              "      <td>1</td>\n",
              "      <td>0</td>\n",
              "      <td>0</td>\n",
              "      <td>1</td>\n",
              "    </tr>\n",
              "    <tr>\n",
              "      <th>2</th>\n",
              "      <td>GP</td>\n",
              "      <td>F</td>\n",
              "      <td>15</td>\n",
              "      <td>U</td>\n",
              "      <td>LE3</td>\n",
              "      <td>T</td>\n",
              "      <td>1</td>\n",
              "      <td>1</td>\n",
              "      <td>at_home</td>\n",
              "      <td>other</td>\n",
              "      <td>...</td>\n",
              "      <td>1</td>\n",
              "      <td>3</td>\n",
              "      <td>0</td>\n",
              "      <td>0</td>\n",
              "      <td>1</td>\n",
              "      <td>1</td>\n",
              "      <td>0</td>\n",
              "      <td>0</td>\n",
              "      <td>0</td>\n",
              "      <td>1</td>\n",
              "    </tr>\n",
              "    <tr>\n",
              "      <th>3</th>\n",
              "      <td>GP</td>\n",
              "      <td>F</td>\n",
              "      <td>15</td>\n",
              "      <td>U</td>\n",
              "      <td>GT3</td>\n",
              "      <td>T</td>\n",
              "      <td>4</td>\n",
              "      <td>2</td>\n",
              "      <td>health</td>\n",
              "      <td>services</td>\n",
              "      <td>...</td>\n",
              "      <td>0</td>\n",
              "      <td>0</td>\n",
              "      <td>0</td>\n",
              "      <td>1</td>\n",
              "      <td>0</td>\n",
              "      <td>1</td>\n",
              "      <td>0</td>\n",
              "      <td>0</td>\n",
              "      <td>0</td>\n",
              "      <td>0</td>\n",
              "    </tr>\n",
              "    <tr>\n",
              "      <th>4</th>\n",
              "      <td>GP</td>\n",
              "      <td>F</td>\n",
              "      <td>16</td>\n",
              "      <td>U</td>\n",
              "      <td>GT3</td>\n",
              "      <td>T</td>\n",
              "      <td>3</td>\n",
              "      <td>3</td>\n",
              "      <td>other</td>\n",
              "      <td>other</td>\n",
              "      <td>...</td>\n",
              "      <td>1</td>\n",
              "      <td>0</td>\n",
              "      <td>0</td>\n",
              "      <td>1</td>\n",
              "      <td>0</td>\n",
              "      <td>1</td>\n",
              "      <td>0</td>\n",
              "      <td>0</td>\n",
              "      <td>1</td>\n",
              "      <td>1</td>\n",
              "    </tr>\n",
              "    <tr>\n",
              "      <th>...</th>\n",
              "      <td>...</td>\n",
              "      <td>...</td>\n",
              "      <td>...</td>\n",
              "      <td>...</td>\n",
              "      <td>...</td>\n",
              "      <td>...</td>\n",
              "      <td>...</td>\n",
              "      <td>...</td>\n",
              "      <td>...</td>\n",
              "      <td>...</td>\n",
              "      <td>...</td>\n",
              "      <td>...</td>\n",
              "      <td>...</td>\n",
              "      <td>...</td>\n",
              "      <td>...</td>\n",
              "      <td>...</td>\n",
              "      <td>...</td>\n",
              "      <td>...</td>\n",
              "      <td>...</td>\n",
              "      <td>...</td>\n",
              "      <td>...</td>\n",
              "    </tr>\n",
              "    <tr>\n",
              "      <th>390</th>\n",
              "      <td>MS</td>\n",
              "      <td>M</td>\n",
              "      <td>20</td>\n",
              "      <td>U</td>\n",
              "      <td>LE3</td>\n",
              "      <td>A</td>\n",
              "      <td>2</td>\n",
              "      <td>2</td>\n",
              "      <td>services</td>\n",
              "      <td>services</td>\n",
              "      <td>...</td>\n",
              "      <td>1</td>\n",
              "      <td>2</td>\n",
              "      <td>0</td>\n",
              "      <td>1</td>\n",
              "      <td>1</td>\n",
              "      <td>0</td>\n",
              "      <td>0</td>\n",
              "      <td>0</td>\n",
              "      <td>1</td>\n",
              "      <td>1</td>\n",
              "    </tr>\n",
              "    <tr>\n",
              "      <th>391</th>\n",
              "      <td>MS</td>\n",
              "      <td>M</td>\n",
              "      <td>17</td>\n",
              "      <td>U</td>\n",
              "      <td>LE3</td>\n",
              "      <td>T</td>\n",
              "      <td>3</td>\n",
              "      <td>1</td>\n",
              "      <td>services</td>\n",
              "      <td>services</td>\n",
              "      <td>...</td>\n",
              "      <td>1</td>\n",
              "      <td>2</td>\n",
              "      <td>1</td>\n",
              "      <td>1</td>\n",
              "      <td>1</td>\n",
              "      <td>1</td>\n",
              "      <td>1</td>\n",
              "      <td>0</td>\n",
              "      <td>0</td>\n",
              "      <td>1</td>\n",
              "    </tr>\n",
              "    <tr>\n",
              "      <th>392</th>\n",
              "      <td>MS</td>\n",
              "      <td>M</td>\n",
              "      <td>21</td>\n",
              "      <td>R</td>\n",
              "      <td>GT3</td>\n",
              "      <td>T</td>\n",
              "      <td>1</td>\n",
              "      <td>1</td>\n",
              "      <td>other</td>\n",
              "      <td>other</td>\n",
              "      <td>...</td>\n",
              "      <td>1</td>\n",
              "      <td>2</td>\n",
              "      <td>1</td>\n",
              "      <td>1</td>\n",
              "      <td>0</td>\n",
              "      <td>1</td>\n",
              "      <td>1</td>\n",
              "      <td>0</td>\n",
              "      <td>1</td>\n",
              "      <td>1</td>\n",
              "    </tr>\n",
              "    <tr>\n",
              "      <th>393</th>\n",
              "      <td>MS</td>\n",
              "      <td>M</td>\n",
              "      <td>18</td>\n",
              "      <td>R</td>\n",
              "      <td>LE3</td>\n",
              "      <td>T</td>\n",
              "      <td>3</td>\n",
              "      <td>2</td>\n",
              "      <td>services</td>\n",
              "      <td>other</td>\n",
              "      <td>...</td>\n",
              "      <td>1</td>\n",
              "      <td>2</td>\n",
              "      <td>1</td>\n",
              "      <td>1</td>\n",
              "      <td>1</td>\n",
              "      <td>1</td>\n",
              "      <td>1</td>\n",
              "      <td>0</td>\n",
              "      <td>0</td>\n",
              "      <td>1</td>\n",
              "    </tr>\n",
              "    <tr>\n",
              "      <th>394</th>\n",
              "      <td>MS</td>\n",
              "      <td>M</td>\n",
              "      <td>19</td>\n",
              "      <td>U</td>\n",
              "      <td>LE3</td>\n",
              "      <td>T</td>\n",
              "      <td>1</td>\n",
              "      <td>1</td>\n",
              "      <td>other</td>\n",
              "      <td>at_home</td>\n",
              "      <td>...</td>\n",
              "      <td>1</td>\n",
              "      <td>2</td>\n",
              "      <td>1</td>\n",
              "      <td>1</td>\n",
              "      <td>1</td>\n",
              "      <td>1</td>\n",
              "      <td>0</td>\n",
              "      <td>0</td>\n",
              "      <td>0</td>\n",
              "      <td>1</td>\n",
              "    </tr>\n",
              "  </tbody>\n",
              "</table>\n",
              "<p>395 rows × 46 columns</p>\n",
              "</div>\n",
              "      <button class=\"colab-df-convert\" onclick=\"convertToInteractive('df-c2ae478e-4eb6-4b5e-b1c1-93255a3fad7c')\"\n",
              "              title=\"Convert this dataframe to an interactive table.\"\n",
              "              style=\"display:none;\">\n",
              "        \n",
              "  <svg xmlns=\"http://www.w3.org/2000/svg\" height=\"24px\"viewBox=\"0 0 24 24\"\n",
              "       width=\"24px\">\n",
              "    <path d=\"M0 0h24v24H0V0z\" fill=\"none\"/>\n",
              "    <path d=\"M18.56 5.44l.94 2.06.94-2.06 2.06-.94-2.06-.94-.94-2.06-.94 2.06-2.06.94zm-11 1L8.5 8.5l.94-2.06 2.06-.94-2.06-.94L8.5 2.5l-.94 2.06-2.06.94zm10 10l.94 2.06.94-2.06 2.06-.94-2.06-.94-.94-2.06-.94 2.06-2.06.94z\"/><path d=\"M17.41 7.96l-1.37-1.37c-.4-.4-.92-.59-1.43-.59-.52 0-1.04.2-1.43.59L10.3 9.45l-7.72 7.72c-.78.78-.78 2.05 0 2.83L4 21.41c.39.39.9.59 1.41.59.51 0 1.02-.2 1.41-.59l7.78-7.78 2.81-2.81c.8-.78.8-2.07 0-2.86zM5.41 20L4 18.59l7.72-7.72 1.47 1.35L5.41 20z\"/>\n",
              "  </svg>\n",
              "      </button>\n",
              "      \n",
              "  <style>\n",
              "    .colab-df-container {\n",
              "      display:flex;\n",
              "      flex-wrap:wrap;\n",
              "      gap: 12px;\n",
              "    }\n",
              "\n",
              "    .colab-df-convert {\n",
              "      background-color: #E8F0FE;\n",
              "      border: none;\n",
              "      border-radius: 50%;\n",
              "      cursor: pointer;\n",
              "      display: none;\n",
              "      fill: #1967D2;\n",
              "      height: 32px;\n",
              "      padding: 0 0 0 0;\n",
              "      width: 32px;\n",
              "    }\n",
              "\n",
              "    .colab-df-convert:hover {\n",
              "      background-color: #E2EBFA;\n",
              "      box-shadow: 0px 1px 2px rgba(60, 64, 67, 0.3), 0px 1px 3px 1px rgba(60, 64, 67, 0.15);\n",
              "      fill: #174EA6;\n",
              "    }\n",
              "\n",
              "    [theme=dark] .colab-df-convert {\n",
              "      background-color: #3B4455;\n",
              "      fill: #D2E3FC;\n",
              "    }\n",
              "\n",
              "    [theme=dark] .colab-df-convert:hover {\n",
              "      background-color: #434B5C;\n",
              "      box-shadow: 0px 1px 3px 1px rgba(0, 0, 0, 0.15);\n",
              "      filter: drop-shadow(0px 1px 2px rgba(0, 0, 0, 0.3));\n",
              "      fill: #FFFFFF;\n",
              "    }\n",
              "  </style>\n",
              "\n",
              "      <script>\n",
              "        const buttonEl =\n",
              "          document.querySelector('#df-c2ae478e-4eb6-4b5e-b1c1-93255a3fad7c button.colab-df-convert');\n",
              "        buttonEl.style.display =\n",
              "          google.colab.kernel.accessAllowed ? 'block' : 'none';\n",
              "\n",
              "        async function convertToInteractive(key) {\n",
              "          const element = document.querySelector('#df-c2ae478e-4eb6-4b5e-b1c1-93255a3fad7c');\n",
              "          const dataTable =\n",
              "            await google.colab.kernel.invokeFunction('convertToInteractive',\n",
              "                                                     [key], {});\n",
              "          if (!dataTable) return;\n",
              "\n",
              "          const docLinkHtml = 'Like what you see? Visit the ' +\n",
              "            '<a target=\"_blank\" href=https://colab.research.google.com/notebooks/data_table.ipynb>data table notebook</a>'\n",
              "            + ' to learn more about interactive tables.';\n",
              "          element.innerHTML = '';\n",
              "          dataTable['output_type'] = 'display_data';\n",
              "          await google.colab.output.renderOutput(dataTable, element);\n",
              "          const docLink = document.createElement('div');\n",
              "          docLink.innerHTML = docLinkHtml;\n",
              "          element.appendChild(docLink);\n",
              "        }\n",
              "      </script>\n",
              "    </div>\n",
              "  </div>\n",
              "  "
            ]
          },
          "metadata": {},
          "execution_count": 8
        }
      ],
      "source": [
        "data"
      ]
    },
    {
      "cell_type": "markdown",
      "source": [
        "# EDA"
      ],
      "metadata": {
        "id": "McK2BZ-v_ny9"
      }
    },
    {
      "cell_type": "code",
      "execution_count": null,
      "metadata": {
        "id": "rhUniIiwqByv",
        "colab": {
          "base_uri": "https://localhost:8080/",
          "height": 424
        },
        "outputId": "86e0c6a9-4034-4167-f8fa-a5421c231c54"
      },
      "outputs": [
        {
          "output_type": "execute_result",
          "data": {
            "text/plain": [
              "     failures  health  G2  G1  paid_int  gender  reason_int  schoolsup_int  \\\n",
              "0           0       3   6   5         1       0           2              0   \n",
              "1           0       3   5   5         1       0           2              1   \n",
              "2           3       3   8   7         0       0           3              0   \n",
              "3           0       5  14  15         0       0           0              1   \n",
              "4           0       5  10   6         0       0           0              1   \n",
              "..        ...     ...  ..  ..       ...     ...         ...            ...   \n",
              "390         2       4   9   9         0       1           2              1   \n",
              "391         0       2  16  14         1       1           2              1   \n",
              "392         3       3   8  10         1       1           2              1   \n",
              "393         0       5  12  11         1       1           2              1   \n",
              "394         0       5   9   8         1       1           2              1   \n",
              "\n",
              "     studytime  absences  act_int  Sch_int  add_int  \n",
              "0            2         6        1        0        0  \n",
              "1            2         4        1        0        0  \n",
              "2            2        10        1        0        0  \n",
              "3            3         2        0        0        0  \n",
              "4            2         4        1        0        0  \n",
              "..         ...       ...      ...      ...      ...  \n",
              "390          2        11        1        1        0  \n",
              "391          1         3        1        1        0  \n",
              "392          1         3        1        1        1  \n",
              "393          1         0        1        1        1  \n",
              "394          1         5        1        1        0  \n",
              "\n",
              "[395 rows x 13 columns]"
            ],
            "text/html": [
              "\n",
              "  <div id=\"df-a9b081f6-ddc9-4e92-b5e4-03deef11b5ee\">\n",
              "    <div class=\"colab-df-container\">\n",
              "      <div>\n",
              "<style scoped>\n",
              "    .dataframe tbody tr th:only-of-type {\n",
              "        vertical-align: middle;\n",
              "    }\n",
              "\n",
              "    .dataframe tbody tr th {\n",
              "        vertical-align: top;\n",
              "    }\n",
              "\n",
              "    .dataframe thead th {\n",
              "        text-align: right;\n",
              "    }\n",
              "</style>\n",
              "<table border=\"1\" class=\"dataframe\">\n",
              "  <thead>\n",
              "    <tr style=\"text-align: right;\">\n",
              "      <th></th>\n",
              "      <th>failures</th>\n",
              "      <th>health</th>\n",
              "      <th>G2</th>\n",
              "      <th>G1</th>\n",
              "      <th>paid_int</th>\n",
              "      <th>gender</th>\n",
              "      <th>reason_int</th>\n",
              "      <th>schoolsup_int</th>\n",
              "      <th>studytime</th>\n",
              "      <th>absences</th>\n",
              "      <th>act_int</th>\n",
              "      <th>Sch_int</th>\n",
              "      <th>add_int</th>\n",
              "    </tr>\n",
              "  </thead>\n",
              "  <tbody>\n",
              "    <tr>\n",
              "      <th>0</th>\n",
              "      <td>0</td>\n",
              "      <td>3</td>\n",
              "      <td>6</td>\n",
              "      <td>5</td>\n",
              "      <td>1</td>\n",
              "      <td>0</td>\n",
              "      <td>2</td>\n",
              "      <td>0</td>\n",
              "      <td>2</td>\n",
              "      <td>6</td>\n",
              "      <td>1</td>\n",
              "      <td>0</td>\n",
              "      <td>0</td>\n",
              "    </tr>\n",
              "    <tr>\n",
              "      <th>1</th>\n",
              "      <td>0</td>\n",
              "      <td>3</td>\n",
              "      <td>5</td>\n",
              "      <td>5</td>\n",
              "      <td>1</td>\n",
              "      <td>0</td>\n",
              "      <td>2</td>\n",
              "      <td>1</td>\n",
              "      <td>2</td>\n",
              "      <td>4</td>\n",
              "      <td>1</td>\n",
              "      <td>0</td>\n",
              "      <td>0</td>\n",
              "    </tr>\n",
              "    <tr>\n",
              "      <th>2</th>\n",
              "      <td>3</td>\n",
              "      <td>3</td>\n",
              "      <td>8</td>\n",
              "      <td>7</td>\n",
              "      <td>0</td>\n",
              "      <td>0</td>\n",
              "      <td>3</td>\n",
              "      <td>0</td>\n",
              "      <td>2</td>\n",
              "      <td>10</td>\n",
              "      <td>1</td>\n",
              "      <td>0</td>\n",
              "      <td>0</td>\n",
              "    </tr>\n",
              "    <tr>\n",
              "      <th>3</th>\n",
              "      <td>0</td>\n",
              "      <td>5</td>\n",
              "      <td>14</td>\n",
              "      <td>15</td>\n",
              "      <td>0</td>\n",
              "      <td>0</td>\n",
              "      <td>0</td>\n",
              "      <td>1</td>\n",
              "      <td>3</td>\n",
              "      <td>2</td>\n",
              "      <td>0</td>\n",
              "      <td>0</td>\n",
              "      <td>0</td>\n",
              "    </tr>\n",
              "    <tr>\n",
              "      <th>4</th>\n",
              "      <td>0</td>\n",
              "      <td>5</td>\n",
              "      <td>10</td>\n",
              "      <td>6</td>\n",
              "      <td>0</td>\n",
              "      <td>0</td>\n",
              "      <td>0</td>\n",
              "      <td>1</td>\n",
              "      <td>2</td>\n",
              "      <td>4</td>\n",
              "      <td>1</td>\n",
              "      <td>0</td>\n",
              "      <td>0</td>\n",
              "    </tr>\n",
              "    <tr>\n",
              "      <th>...</th>\n",
              "      <td>...</td>\n",
              "      <td>...</td>\n",
              "      <td>...</td>\n",
              "      <td>...</td>\n",
              "      <td>...</td>\n",
              "      <td>...</td>\n",
              "      <td>...</td>\n",
              "      <td>...</td>\n",
              "      <td>...</td>\n",
              "      <td>...</td>\n",
              "      <td>...</td>\n",
              "      <td>...</td>\n",
              "      <td>...</td>\n",
              "    </tr>\n",
              "    <tr>\n",
              "      <th>390</th>\n",
              "      <td>2</td>\n",
              "      <td>4</td>\n",
              "      <td>9</td>\n",
              "      <td>9</td>\n",
              "      <td>0</td>\n",
              "      <td>1</td>\n",
              "      <td>2</td>\n",
              "      <td>1</td>\n",
              "      <td>2</td>\n",
              "      <td>11</td>\n",
              "      <td>1</td>\n",
              "      <td>1</td>\n",
              "      <td>0</td>\n",
              "    </tr>\n",
              "    <tr>\n",
              "      <th>391</th>\n",
              "      <td>0</td>\n",
              "      <td>2</td>\n",
              "      <td>16</td>\n",
              "      <td>14</td>\n",
              "      <td>1</td>\n",
              "      <td>1</td>\n",
              "      <td>2</td>\n",
              "      <td>1</td>\n",
              "      <td>1</td>\n",
              "      <td>3</td>\n",
              "      <td>1</td>\n",
              "      <td>1</td>\n",
              "      <td>0</td>\n",
              "    </tr>\n",
              "    <tr>\n",
              "      <th>392</th>\n",
              "      <td>3</td>\n",
              "      <td>3</td>\n",
              "      <td>8</td>\n",
              "      <td>10</td>\n",
              "      <td>1</td>\n",
              "      <td>1</td>\n",
              "      <td>2</td>\n",
              "      <td>1</td>\n",
              "      <td>1</td>\n",
              "      <td>3</td>\n",
              "      <td>1</td>\n",
              "      <td>1</td>\n",
              "      <td>1</td>\n",
              "    </tr>\n",
              "    <tr>\n",
              "      <th>393</th>\n",
              "      <td>0</td>\n",
              "      <td>5</td>\n",
              "      <td>12</td>\n",
              "      <td>11</td>\n",
              "      <td>1</td>\n",
              "      <td>1</td>\n",
              "      <td>2</td>\n",
              "      <td>1</td>\n",
              "      <td>1</td>\n",
              "      <td>0</td>\n",
              "      <td>1</td>\n",
              "      <td>1</td>\n",
              "      <td>1</td>\n",
              "    </tr>\n",
              "    <tr>\n",
              "      <th>394</th>\n",
              "      <td>0</td>\n",
              "      <td>5</td>\n",
              "      <td>9</td>\n",
              "      <td>8</td>\n",
              "      <td>1</td>\n",
              "      <td>1</td>\n",
              "      <td>2</td>\n",
              "      <td>1</td>\n",
              "      <td>1</td>\n",
              "      <td>5</td>\n",
              "      <td>1</td>\n",
              "      <td>1</td>\n",
              "      <td>0</td>\n",
              "    </tr>\n",
              "  </tbody>\n",
              "</table>\n",
              "<p>395 rows × 13 columns</p>\n",
              "</div>\n",
              "      <button class=\"colab-df-convert\" onclick=\"convertToInteractive('df-a9b081f6-ddc9-4e92-b5e4-03deef11b5ee')\"\n",
              "              title=\"Convert this dataframe to an interactive table.\"\n",
              "              style=\"display:none;\">\n",
              "        \n",
              "  <svg xmlns=\"http://www.w3.org/2000/svg\" height=\"24px\"viewBox=\"0 0 24 24\"\n",
              "       width=\"24px\">\n",
              "    <path d=\"M0 0h24v24H0V0z\" fill=\"none\"/>\n",
              "    <path d=\"M18.56 5.44l.94 2.06.94-2.06 2.06-.94-2.06-.94-.94-2.06-.94 2.06-2.06.94zm-11 1L8.5 8.5l.94-2.06 2.06-.94-2.06-.94L8.5 2.5l-.94 2.06-2.06.94zm10 10l.94 2.06.94-2.06 2.06-.94-2.06-.94-.94-2.06-.94 2.06-2.06.94z\"/><path d=\"M17.41 7.96l-1.37-1.37c-.4-.4-.92-.59-1.43-.59-.52 0-1.04.2-1.43.59L10.3 9.45l-7.72 7.72c-.78.78-.78 2.05 0 2.83L4 21.41c.39.39.9.59 1.41.59.51 0 1.02-.2 1.41-.59l7.78-7.78 2.81-2.81c.8-.78.8-2.07 0-2.86zM5.41 20L4 18.59l7.72-7.72 1.47 1.35L5.41 20z\"/>\n",
              "  </svg>\n",
              "      </button>\n",
              "      \n",
              "  <style>\n",
              "    .colab-df-container {\n",
              "      display:flex;\n",
              "      flex-wrap:wrap;\n",
              "      gap: 12px;\n",
              "    }\n",
              "\n",
              "    .colab-df-convert {\n",
              "      background-color: #E8F0FE;\n",
              "      border: none;\n",
              "      border-radius: 50%;\n",
              "      cursor: pointer;\n",
              "      display: none;\n",
              "      fill: #1967D2;\n",
              "      height: 32px;\n",
              "      padding: 0 0 0 0;\n",
              "      width: 32px;\n",
              "    }\n",
              "\n",
              "    .colab-df-convert:hover {\n",
              "      background-color: #E2EBFA;\n",
              "      box-shadow: 0px 1px 2px rgba(60, 64, 67, 0.3), 0px 1px 3px 1px rgba(60, 64, 67, 0.15);\n",
              "      fill: #174EA6;\n",
              "    }\n",
              "\n",
              "    [theme=dark] .colab-df-convert {\n",
              "      background-color: #3B4455;\n",
              "      fill: #D2E3FC;\n",
              "    }\n",
              "\n",
              "    [theme=dark] .colab-df-convert:hover {\n",
              "      background-color: #434B5C;\n",
              "      box-shadow: 0px 1px 3px 1px rgba(0, 0, 0, 0.15);\n",
              "      filter: drop-shadow(0px 1px 2px rgba(0, 0, 0, 0.3));\n",
              "      fill: #FFFFFF;\n",
              "    }\n",
              "  </style>\n",
              "\n",
              "      <script>\n",
              "        const buttonEl =\n",
              "          document.querySelector('#df-a9b081f6-ddc9-4e92-b5e4-03deef11b5ee button.colab-df-convert');\n",
              "        buttonEl.style.display =\n",
              "          google.colab.kernel.accessAllowed ? 'block' : 'none';\n",
              "\n",
              "        async function convertToInteractive(key) {\n",
              "          const element = document.querySelector('#df-a9b081f6-ddc9-4e92-b5e4-03deef11b5ee');\n",
              "          const dataTable =\n",
              "            await google.colab.kernel.invokeFunction('convertToInteractive',\n",
              "                                                     [key], {});\n",
              "          if (!dataTable) return;\n",
              "\n",
              "          const docLinkHtml = 'Like what you see? Visit the ' +\n",
              "            '<a target=\"_blank\" href=https://colab.research.google.com/notebooks/data_table.ipynb>data table notebook</a>'\n",
              "            + ' to learn more about interactive tables.';\n",
              "          element.innerHTML = '';\n",
              "          dataTable['output_type'] = 'display_data';\n",
              "          await google.colab.output.renderOutput(dataTable, element);\n",
              "          const docLink = document.createElement('div');\n",
              "          docLink.innerHTML = docLinkHtml;\n",
              "          element.appendChild(docLink);\n",
              "        }\n",
              "      </script>\n",
              "    </div>\n",
              "  </div>\n",
              "  "
            ]
          },
          "metadata": {},
          "execution_count": 12
        }
      ],
      "source": [
        "a = data[{\"Sch_int\",\"gender\",\"add_int\",\"reason_int\",\"studytime\",\"failures\",\"schoolsup_int\",\"paid_int\",\"act_int\",\"health\",\"absences\",\"G1\",\"G2\"}]\n",
        "a"
      ]
    },
    {
      "cell_type": "code",
      "source": [],
      "metadata": {
        "id": "e4GeDW8yBSjc"
      },
      "execution_count": null,
      "outputs": []
    },
    {
      "cell_type": "code",
      "execution_count": null,
      "metadata": {
        "id": "fOb8pWjaxQsj",
        "colab": {
          "base_uri": "https://localhost:8080/",
          "height": 1000
        },
        "outputId": "245839ba-5c15-4c73-d0af-27e1ca36c8b2"
      },
      "outputs": [
        {
          "output_type": "execute_result",
          "data": {
            "text/plain": [
              "<matplotlib.axes._subplots.AxesSubplot at 0x7fb442fce310>"
            ]
          },
          "metadata": {},
          "execution_count": 10
        },
        {
          "output_type": "display_data",
          "data": {
            "text/plain": [
              "<Figure size 1080x1440 with 2 Axes>"
            ],
            "image/png": "[encoded data removed]"
          },
          "metadata": {
            "needs_background": "light"
          }
        }
      ],
      "source": [
        "fig, axs = plt.subplots(nrows=1)\n",
        "fig.set_size_inches(15, 20);\n",
        "sns.heatmap(a)"
      ]
    },
    {
      "cell_type": "code",
      "source": [],
      "metadata": {
        "id": "hUMWX323BWRB"
      },
      "execution_count": null,
      "outputs": []
    },
    {
      "cell_type": "code",
      "execution_count": null,
      "metadata": {
        "colab": {
          "base_uri": "https://localhost:8080/",
          "height": 141
        },
        "outputId": "d4da3ee2-7a65-4a42-dc66-92e7545790c6",
        "id": "DOaizkhoBWxh"
      },
      "outputs": [
        {
          "data": {
            "text/html": [
              "\n",
              "  <div id=\"df-6bf3db35-8894-45ec-a5ce-645e5f105acf\">\n",
              "    <div class=\"colab-df-container\">\n",
              "      <div>\n",
              "<style scoped>\n",
              "    .dataframe tbody tr th:only-of-type {\n",
              "        vertical-align: middle;\n",
              "    }\n",
              "\n",
              "    .dataframe tbody tr th {\n",
              "        vertical-align: top;\n",
              "    }\n",
              "\n",
              "    .dataframe thead th {\n",
              "        text-align: right;\n",
              "    }\n",
              "</style>\n",
              "<table border=\"1\" class=\"dataframe\">\n",
              "  <thead>\n",
              "    <tr style=\"text-align: right;\">\n",
              "      <th></th>\n",
              "      <th>school</th>\n",
              "      <th>sex</th>\n",
              "      <th>age</th>\n",
              "      <th>address</th>\n",
              "      <th>famsize</th>\n",
              "      <th>Pstatus</th>\n",
              "      <th>Medu</th>\n",
              "      <th>Fedu</th>\n",
              "      <th>Mjob</th>\n",
              "      <th>Fjob</th>\n",
              "      <th>...</th>\n",
              "      <th>G1</th>\n",
              "      <th>G2</th>\n",
              "      <th>G3</th>\n",
              "      <th>Sch_int</th>\n",
              "      <th>gender</th>\n",
              "      <th>add_int</th>\n",
              "      <th>act_int</th>\n",
              "      <th>reason_int</th>\n",
              "      <th>paid_int</th>\n",
              "      <th>schoolsup_int</th>\n",
              "    </tr>\n",
              "  </thead>\n",
              "  <tbody>\n",
              "    <tr>\n",
              "      <th>0</th>\n",
              "      <td>GP</td>\n",
              "      <td>F</td>\n",
              "      <td>18</td>\n",
              "      <td>U</td>\n",
              "      <td>GT3</td>\n",
              "      <td>A</td>\n",
              "      <td>4</td>\n",
              "      <td>4</td>\n",
              "      <td>at_home</td>\n",
              "      <td>teacher</td>\n",
              "      <td>...</td>\n",
              "      <td>5</td>\n",
              "      <td>6</td>\n",
              "      <td>6</td>\n",
              "      <td>0</td>\n",
              "      <td>0</td>\n",
              "      <td>0</td>\n",
              "      <td>1</td>\n",
              "      <td>2</td>\n",
              "      <td>1</td>\n",
              "      <td>0</td>\n",
              "    </tr>\n",
              "    <tr>\n",
              "      <th>1</th>\n",
              "      <td>GP</td>\n",
              "      <td>F</td>\n",
              "      <td>17</td>\n",
              "      <td>U</td>\n",
              "      <td>GT3</td>\n",
              "      <td>T</td>\n",
              "      <td>1</td>\n",
              "      <td>1</td>\n",
              "      <td>at_home</td>\n",
              "      <td>other</td>\n",
              "      <td>...</td>\n",
              "      <td>5</td>\n",
              "      <td>5</td>\n",
              "      <td>6</td>\n",
              "      <td>0</td>\n",
              "      <td>0</td>\n",
              "      <td>0</td>\n",
              "      <td>1</td>\n",
              "      <td>2</td>\n",
              "      <td>1</td>\n",
              "      <td>1</td>\n",
              "    </tr>\n",
              "  </tbody>\n",
              "</table>\n",
              "<p>2 rows × 40 columns</p>\n",
              "</div>\n",
              "      <button class=\"colab-df-convert\" onclick=\"convertToInteractive('df-6bf3db35-8894-45ec-a5ce-645e5f105acf')\"\n",
              "              title=\"Convert this dataframe to an interactive table.\"\n",
              "              style=\"display:none;\">\n",
              "        \n",
              "  <svg xmlns=\"http://www.w3.org/2000/svg\" height=\"24px\"viewBox=\"0 0 24 24\"\n",
              "       width=\"24px\">\n",
              "    <path d=\"M0 0h24v24H0V0z\" fill=\"none\"/>\n",
              "    <path d=\"M18.56 5.44l.94 2.06.94-2.06 2.06-.94-2.06-.94-.94-2.06-.94 2.06-2.06.94zm-11 1L8.5 8.5l.94-2.06 2.06-.94-2.06-.94L8.5 2.5l-.94 2.06-2.06.94zm10 10l.94 2.06.94-2.06 2.06-.94-2.06-.94-.94-2.06-.94 2.06-2.06.94z\"/><path d=\"M17.41 7.96l-1.37-1.37c-.4-.4-.92-.59-1.43-.59-.52 0-1.04.2-1.43.59L10.3 9.45l-7.72 7.72c-.78.78-.78 2.05 0 2.83L4 21.41c.39.39.9.59 1.41.59.51 0 1.02-.2 1.41-.59l7.78-7.78 2.81-2.81c.8-.78.8-2.07 0-2.86zM5.41 20L4 18.59l7.72-7.72 1.47 1.35L5.41 20z\"/>\n",
              "  </svg>\n",
              "      </button>\n",
              "      \n",
              "  <style>\n",
              "    .colab-df-container {\n",
              "      display:flex;\n",
              "      flex-wrap:wrap;\n",
              "      gap: 12px;\n",
              "    }\n",
              "\n",
              "    .colab-df-convert {\n",
              "      background-color: #E8F0FE;\n",
              "      border: none;\n",
              "      border-radius: 50%;\n",
              "      cursor: pointer;\n",
              "      display: none;\n",
              "      fill: #1967D2;\n",
              "      height: 32px;\n",
              "      padding: 0 0 0 0;\n",
              "      width: 32px;\n",
              "    }\n",
              "\n",
              "    .colab-df-convert:hover {\n",
              "      background-color: #E2EBFA;\n",
              "      box-shadow: 0px 1px 2px rgba(60, 64, 67, 0.3), 0px 1px 3px 1px rgba(60, 64, 67, 0.15);\n",
              "      fill: #174EA6;\n",
              "    }\n",
              "\n",
              "    [theme=dark] .colab-df-convert {\n",
              "      background-color: #3B4455;\n",
              "      fill: #D2E3FC;\n",
              "    }\n",
              "\n",
              "    [theme=dark] .colab-df-convert:hover {\n",
              "      background-color: #434B5C;\n",
              "      box-shadow: 0px 1px 3px 1px rgba(0, 0, 0, 0.15);\n",
              "      filter: drop-shadow(0px 1px 2px rgba(0, 0, 0, 0.3));\n",
              "      fill: #FFFFFF;\n",
              "    }\n",
              "  </style>\n",
              "\n",
              "      <script>\n",
              "        const buttonEl =\n",
              "          document.querySelector('#df-6bf3db35-8894-45ec-a5ce-645e5f105acf button.colab-df-convert');\n",
              "        buttonEl.style.display =\n",
              "          google.colab.kernel.accessAllowed ? 'block' : 'none';\n",
              "\n",
              "        async function convertToInteractive(key) {\n",
              "          const element = document.querySelector('#df-6bf3db35-8894-45ec-a5ce-645e5f105acf');\n",
              "          const dataTable =\n",
              "            await google.colab.kernel.invokeFunction('convertToInteractive',\n",
              "                                                     [key], {});\n",
              "          if (!dataTable) return;\n",
              "\n",
              "          const docLinkHtml = 'Like what you see? Visit the ' +\n",
              "            '<a target=\"_blank\" href=https://colab.research.google.com/notebooks/data_table.ipynb>data table notebook</a>'\n",
              "            + ' to learn more about interactive tables.';\n",
              "          element.innerHTML = '';\n",
              "          dataTable['output_type'] = 'display_data';\n",
              "          await google.colab.output.renderOutput(dataTable, element);\n",
              "          const docLink = document.createElement('div');\n",
              "          docLink.innerHTML = docLinkHtml;\n",
              "          element.appendChild(docLink);\n",
              "        }\n",
              "      </script>\n",
              "    </div>\n",
              "  </div>\n",
              "  "
            ],
            "text/plain": [
              "  school sex  age address famsize Pstatus  Medu  Fedu     Mjob     Fjob  ...  \\\n",
              "0     GP   F   18       U     GT3       A     4     4  at_home  teacher  ...   \n",
              "1     GP   F   17       U     GT3       T     1     1  at_home    other  ...   \n",
              "\n",
              "  G1 G2  G3  Sch_int  gender add_int act_int reason_int paid_int schoolsup_int  \n",
              "0  5  6   6        0       0       0       1          2        1             0  \n",
              "1  5  5   6        0       0       0       1          2        1             1  \n",
              "\n",
              "[2 rows x 40 columns]"
            ]
          },
          "execution_count": 9,
          "metadata": {},
          "output_type": "execute_result"
        }
      ],
      "source": [
        "data.head(2)"
      ]
    },
    {
      "cell_type": "code",
      "execution_count": null,
      "metadata": {
        "colab": {
          "base_uri": "https://localhost:8080/"
        },
        "outputId": "ab47809a-c3d5-4f12-a5b8-8ed6fd5d11b6",
        "id": "EyqMLMaXBWxi"
      },
      "outputs": [
        {
          "data": {
            "text/plain": [
              "Sch_int\n",
              "0    1.229226\n",
              "1    1.608696\n",
              "Name: reason_int, dtype: float64"
            ]
          },
          "execution_count": 16,
          "metadata": {},
          "output_type": "execute_result"
        }
      ],
      "source": [
        "sr=data.groupby(\"Sch_int\")[\"reason_int\"].mean()\n",
        "sr\n"
      ]
    },
    {
      "cell_type": "code",
      "execution_count": null,
      "metadata": {
        "colab": {
          "base_uri": "https://localhost:8080/",
          "height": 297
        },
        "outputId": "a38c368c-d3c4-4228-e749-20c8b226ec70",
        "id": "NM00LZiyBWxj"
      },
      "outputs": [
        {
          "data": {
            "text/plain": [
              "<matplotlib.axes._subplots.AxesSubplot at 0x7f299b1b6090>"
            ]
          },
          "execution_count": 17,
          "metadata": {},
          "output_type": "execute_result"
        },
        {
          "data": {
            "image/png": "[encoded data removed]",
            "text/plain": [
              "<Figure size 432x288 with 1 Axes>"
            ]
          },
          "metadata": {},
          "output_type": "display_data"
        }
      ],
      "source": [
        "sns.barplot(x=sr.index,y=sr.values)"
      ]
    },
    {
      "cell_type": "code",
      "execution_count": null,
      "metadata": {
        "colab": {
          "base_uri": "https://localhost:8080/",
          "height": 296
        },
        "outputId": "8e2e9613-d127-4c5a-cddd-835e9bdce6ed",
        "id": "tA_6K8FWBWxk"
      },
      "outputs": [
        {
          "data": {
            "text/plain": [
              "<matplotlib.axes._subplots.AxesSubplot at 0x7f299b044a50>"
            ]
          },
          "execution_count": 19,
          "metadata": {},
          "output_type": "execute_result"
        },
        {
          "data": {
            "image/png": "[encoded data removed]",
            "text/plain": [
              "<Figure size 432x288 with 1 Axes>"
            ]
          },
          "metadata": {},
          "output_type": "display_data"
        }
      ],
      "source": [
        "sns.barplot(x = \"gender\", y= \"G1\", data=data)"
      ]
    },
    {
      "cell_type": "code",
      "execution_count": null,
      "metadata": {
        "colab": {
          "base_uri": "https://localhost:8080/",
          "height": 424
        },
        "outputId": "3102d980-57a6-4c11-cc68-cfef05209324",
        "id": "ykpM92WeBWxk"
      },
      "outputs": [
        {
          "data": {
            "text/html": [
              "\n",
              "  <div id=\"df-3f84e1e5-0991-4b6a-905e-ab8f878c1e03\">\n",
              "    <div class=\"colab-df-container\">\n",
              "      <div>\n",
              "<style scoped>\n",
              "    .dataframe tbody tr th:only-of-type {\n",
              "        vertical-align: middle;\n",
              "    }\n",
              "\n",
              "    .dataframe tbody tr th {\n",
              "        vertical-align: top;\n",
              "    }\n",
              "\n",
              "    .dataframe thead th {\n",
              "        text-align: right;\n",
              "    }\n",
              "</style>\n",
              "<table border=\"1\" class=\"dataframe\">\n",
              "  <thead>\n",
              "    <tr style=\"text-align: right;\">\n",
              "      <th></th>\n",
              "      <th>G1</th>\n",
              "      <th>rom_int</th>\n",
              "      <th>nur_int</th>\n",
              "      <th>Sch_int</th>\n",
              "      <th>high_int</th>\n",
              "      <th>Dalc</th>\n",
              "      <th>act_int</th>\n",
              "      <th>ps_int</th>\n",
              "      <th>add_int</th>\n",
              "      <th>Walc</th>\n",
              "      <th>...</th>\n",
              "      <th>reason_int</th>\n",
              "      <th>paid_int</th>\n",
              "      <th>absences</th>\n",
              "      <th>freetime</th>\n",
              "      <th>gender</th>\n",
              "      <th>health</th>\n",
              "      <th>G2</th>\n",
              "      <th>goout</th>\n",
              "      <th>int_int</th>\n",
              "      <th>age</th>\n",
              "    </tr>\n",
              "  </thead>\n",
              "  <tbody>\n",
              "    <tr>\n",
              "      <th>0</th>\n",
              "      <td>5</td>\n",
              "      <td>1</td>\n",
              "      <td>0</td>\n",
              "      <td>0</td>\n",
              "      <td>0</td>\n",
              "      <td>1</td>\n",
              "      <td>1</td>\n",
              "      <td>0</td>\n",
              "      <td>0</td>\n",
              "      <td>1</td>\n",
              "      <td>...</td>\n",
              "      <td>2</td>\n",
              "      <td>1</td>\n",
              "      <td>6</td>\n",
              "      <td>3</td>\n",
              "      <td>0</td>\n",
              "      <td>3</td>\n",
              "      <td>6</td>\n",
              "      <td>4</td>\n",
              "      <td>1</td>\n",
              "      <td>18</td>\n",
              "    </tr>\n",
              "    <tr>\n",
              "      <th>1</th>\n",
              "      <td>5</td>\n",
              "      <td>1</td>\n",
              "      <td>1</td>\n",
              "      <td>0</td>\n",
              "      <td>0</td>\n",
              "      <td>1</td>\n",
              "      <td>1</td>\n",
              "      <td>1</td>\n",
              "      <td>0</td>\n",
              "      <td>1</td>\n",
              "      <td>...</td>\n",
              "      <td>2</td>\n",
              "      <td>1</td>\n",
              "      <td>4</td>\n",
              "      <td>3</td>\n",
              "      <td>0</td>\n",
              "      <td>3</td>\n",
              "      <td>5</td>\n",
              "      <td>3</td>\n",
              "      <td>0</td>\n",
              "      <td>17</td>\n",
              "    </tr>\n",
              "    <tr>\n",
              "      <th>2</th>\n",
              "      <td>7</td>\n",
              "      <td>1</td>\n",
              "      <td>0</td>\n",
              "      <td>0</td>\n",
              "      <td>0</td>\n",
              "      <td>2</td>\n",
              "      <td>1</td>\n",
              "      <td>1</td>\n",
              "      <td>0</td>\n",
              "      <td>3</td>\n",
              "      <td>...</td>\n",
              "      <td>3</td>\n",
              "      <td>0</td>\n",
              "      <td>10</td>\n",
              "      <td>3</td>\n",
              "      <td>0</td>\n",
              "      <td>3</td>\n",
              "      <td>8</td>\n",
              "      <td>2</td>\n",
              "      <td>0</td>\n",
              "      <td>15</td>\n",
              "    </tr>\n",
              "    <tr>\n",
              "      <th>3</th>\n",
              "      <td>15</td>\n",
              "      <td>0</td>\n",
              "      <td>0</td>\n",
              "      <td>0</td>\n",
              "      <td>0</td>\n",
              "      <td>1</td>\n",
              "      <td>0</td>\n",
              "      <td>1</td>\n",
              "      <td>0</td>\n",
              "      <td>1</td>\n",
              "      <td>...</td>\n",
              "      <td>0</td>\n",
              "      <td>0</td>\n",
              "      <td>2</td>\n",
              "      <td>2</td>\n",
              "      <td>0</td>\n",
              "      <td>5</td>\n",
              "      <td>14</td>\n",
              "      <td>2</td>\n",
              "      <td>0</td>\n",
              "      <td>15</td>\n",
              "    </tr>\n",
              "    <tr>\n",
              "      <th>4</th>\n",
              "      <td>6</td>\n",
              "      <td>1</td>\n",
              "      <td>0</td>\n",
              "      <td>0</td>\n",
              "      <td>0</td>\n",
              "      <td>1</td>\n",
              "      <td>1</td>\n",
              "      <td>1</td>\n",
              "      <td>0</td>\n",
              "      <td>2</td>\n",
              "      <td>...</td>\n",
              "      <td>0</td>\n",
              "      <td>0</td>\n",
              "      <td>4</td>\n",
              "      <td>3</td>\n",
              "      <td>0</td>\n",
              "      <td>5</td>\n",
              "      <td>10</td>\n",
              "      <td>2</td>\n",
              "      <td>1</td>\n",
              "      <td>16</td>\n",
              "    </tr>\n",
              "    <tr>\n",
              "      <th>...</th>\n",
              "      <td>...</td>\n",
              "      <td>...</td>\n",
              "      <td>...</td>\n",
              "      <td>...</td>\n",
              "      <td>...</td>\n",
              "      <td>...</td>\n",
              "      <td>...</td>\n",
              "      <td>...</td>\n",
              "      <td>...</td>\n",
              "      <td>...</td>\n",
              "      <td>...</td>\n",
              "      <td>...</td>\n",
              "      <td>...</td>\n",
              "      <td>...</td>\n",
              "      <td>...</td>\n",
              "      <td>...</td>\n",
              "      <td>...</td>\n",
              "      <td>...</td>\n",
              "      <td>...</td>\n",
              "      <td>...</td>\n",
              "      <td>...</td>\n",
              "    </tr>\n",
              "    <tr>\n",
              "      <th>390</th>\n",
              "      <td>9</td>\n",
              "      <td>1</td>\n",
              "      <td>0</td>\n",
              "      <td>1</td>\n",
              "      <td>0</td>\n",
              "      <td>4</td>\n",
              "      <td>1</td>\n",
              "      <td>0</td>\n",
              "      <td>0</td>\n",
              "      <td>5</td>\n",
              "      <td>...</td>\n",
              "      <td>2</td>\n",
              "      <td>0</td>\n",
              "      <td>11</td>\n",
              "      <td>5</td>\n",
              "      <td>1</td>\n",
              "      <td>4</td>\n",
              "      <td>9</td>\n",
              "      <td>4</td>\n",
              "      <td>1</td>\n",
              "      <td>20</td>\n",
              "    </tr>\n",
              "    <tr>\n",
              "      <th>391</th>\n",
              "      <td>14</td>\n",
              "      <td>1</td>\n",
              "      <td>1</td>\n",
              "      <td>1</td>\n",
              "      <td>0</td>\n",
              "      <td>3</td>\n",
              "      <td>1</td>\n",
              "      <td>1</td>\n",
              "      <td>0</td>\n",
              "      <td>4</td>\n",
              "      <td>...</td>\n",
              "      <td>2</td>\n",
              "      <td>1</td>\n",
              "      <td>3</td>\n",
              "      <td>4</td>\n",
              "      <td>1</td>\n",
              "      <td>2</td>\n",
              "      <td>16</td>\n",
              "      <td>5</td>\n",
              "      <td>0</td>\n",
              "      <td>17</td>\n",
              "    </tr>\n",
              "    <tr>\n",
              "      <th>392</th>\n",
              "      <td>10</td>\n",
              "      <td>1</td>\n",
              "      <td>1</td>\n",
              "      <td>1</td>\n",
              "      <td>0</td>\n",
              "      <td>3</td>\n",
              "      <td>1</td>\n",
              "      <td>1</td>\n",
              "      <td>1</td>\n",
              "      <td>3</td>\n",
              "      <td>...</td>\n",
              "      <td>2</td>\n",
              "      <td>1</td>\n",
              "      <td>3</td>\n",
              "      <td>5</td>\n",
              "      <td>1</td>\n",
              "      <td>3</td>\n",
              "      <td>8</td>\n",
              "      <td>3</td>\n",
              "      <td>1</td>\n",
              "      <td>21</td>\n",
              "    </tr>\n",
              "    <tr>\n",
              "      <th>393</th>\n",
              "      <td>11</td>\n",
              "      <td>1</td>\n",
              "      <td>1</td>\n",
              "      <td>1</td>\n",
              "      <td>0</td>\n",
              "      <td>3</td>\n",
              "      <td>1</td>\n",
              "      <td>1</td>\n",
              "      <td>1</td>\n",
              "      <td>4</td>\n",
              "      <td>...</td>\n",
              "      <td>2</td>\n",
              "      <td>1</td>\n",
              "      <td>0</td>\n",
              "      <td>4</td>\n",
              "      <td>1</td>\n",
              "      <td>5</td>\n",
              "      <td>12</td>\n",
              "      <td>1</td>\n",
              "      <td>0</td>\n",
              "      <td>18</td>\n",
              "    </tr>\n",
              "    <tr>\n",
              "      <th>394</th>\n",
              "      <td>8</td>\n",
              "      <td>1</td>\n",
              "      <td>0</td>\n",
              "      <td>1</td>\n",
              "      <td>0</td>\n",
              "      <td>3</td>\n",
              "      <td>1</td>\n",
              "      <td>1</td>\n",
              "      <td>0</td>\n",
              "      <td>3</td>\n",
              "      <td>...</td>\n",
              "      <td>2</td>\n",
              "      <td>1</td>\n",
              "      <td>5</td>\n",
              "      <td>2</td>\n",
              "      <td>1</td>\n",
              "      <td>5</td>\n",
              "      <td>9</td>\n",
              "      <td>3</td>\n",
              "      <td>0</td>\n",
              "      <td>19</td>\n",
              "    </tr>\n",
              "  </tbody>\n",
              "</table>\n",
              "<p>395 rows × 25 columns</p>\n",
              "</div>\n",
              "      <button class=\"colab-df-convert\" onclick=\"convertToInteractive('df-3f84e1e5-0991-4b6a-905e-ab8f878c1e03')\"\n",
              "              title=\"Convert this dataframe to an interactive table.\"\n",
              "              style=\"display:none;\">\n",
              "        \n",
              "  <svg xmlns=\"http://www.w3.org/2000/svg\" height=\"24px\"viewBox=\"0 0 24 24\"\n",
              "       width=\"24px\">\n",
              "    <path d=\"M0 0h24v24H0V0z\" fill=\"none\"/>\n",
              "    <path d=\"M18.56 5.44l.94 2.06.94-2.06 2.06-.94-2.06-.94-.94-2.06-.94 2.06-2.06.94zm-11 1L8.5 8.5l.94-2.06 2.06-.94-2.06-.94L8.5 2.5l-.94 2.06-2.06.94zm10 10l.94 2.06.94-2.06 2.06-.94-2.06-.94-.94-2.06-.94 2.06-2.06.94z\"/><path d=\"M17.41 7.96l-1.37-1.37c-.4-.4-.92-.59-1.43-.59-.52 0-1.04.2-1.43.59L10.3 9.45l-7.72 7.72c-.78.78-.78 2.05 0 2.83L4 21.41c.39.39.9.59 1.41.59.51 0 1.02-.2 1.41-.59l7.78-7.78 2.81-2.81c.8-.78.8-2.07 0-2.86zM5.41 20L4 18.59l7.72-7.72 1.47 1.35L5.41 20z\"/>\n",
              "  </svg>\n",
              "      </button>\n",
              "      \n",
              "  <style>\n",
              "    .colab-df-container {\n",
              "      display:flex;\n",
              "      flex-wrap:wrap;\n",
              "      gap: 12px;\n",
              "    }\n",
              "\n",
              "    .colab-df-convert {\n",
              "      background-color: #E8F0FE;\n",
              "      border: none;\n",
              "      border-radius: 50%;\n",
              "      cursor: pointer;\n",
              "      display: none;\n",
              "      fill: #1967D2;\n",
              "      height: 32px;\n",
              "      padding: 0 0 0 0;\n",
              "      width: 32px;\n",
              "    }\n",
              "\n",
              "    .colab-df-convert:hover {\n",
              "      background-color: #E2EBFA;\n",
              "      box-shadow: 0px 1px 2px rgba(60, 64, 67, 0.3), 0px 1px 3px 1px rgba(60, 64, 67, 0.15);\n",
              "      fill: #174EA6;\n",
              "    }\n",
              "\n",
              "    [theme=dark] .colab-df-convert {\n",
              "      background-color: #3B4455;\n",
              "      fill: #D2E3FC;\n",
              "    }\n",
              "\n",
              "    [theme=dark] .colab-df-convert:hover {\n",
              "      background-color: #434B5C;\n",
              "      box-shadow: 0px 1px 3px 1px rgba(0, 0, 0, 0.15);\n",
              "      filter: drop-shadow(0px 1px 2px rgba(0, 0, 0, 0.3));\n",
              "      fill: #FFFFFF;\n",
              "    }\n",
              "  </style>\n",
              "\n",
              "      <script>\n",
              "        const buttonEl =\n",
              "          document.querySelector('#df-3f84e1e5-0991-4b6a-905e-ab8f878c1e03 button.colab-df-convert');\n",
              "        buttonEl.style.display =\n",
              "          google.colab.kernel.accessAllowed ? 'block' : 'none';\n",
              "\n",
              "        async function convertToInteractive(key) {\n",
              "          const element = document.querySelector('#df-3f84e1e5-0991-4b6a-905e-ab8f878c1e03');\n",
              "          const dataTable =\n",
              "            await google.colab.kernel.invokeFunction('convertToInteractive',\n",
              "                                                     [key], {});\n",
              "          if (!dataTable) return;\n",
              "\n",
              "          const docLinkHtml = 'Like what you see? Visit the ' +\n",
              "            '<a target=\"_blank\" href=https://colab.research.google.com/notebooks/data_table.ipynb>data table notebook</a>'\n",
              "            + ' to learn more about interactive tables.';\n",
              "          element.innerHTML = '';\n",
              "          dataTable['output_type'] = 'display_data';\n",
              "          await google.colab.output.renderOutput(dataTable, element);\n",
              "          const docLink = document.createElement('div');\n",
              "          docLink.innerHTML = docLinkHtml;\n",
              "          element.appendChild(docLink);\n",
              "        }\n",
              "      </script>\n",
              "    </div>\n",
              "  </div>\n",
              "  "
            ],
            "text/plain": [
              "     G1  rom_int  nur_int  Sch_int  high_int  Dalc  act_int  ps_int  add_int  \\\n",
              "0     5        1        0        0         0     1        1       0        0   \n",
              "1     5        1        1        0         0     1        1       1        0   \n",
              "2     7        1        0        0         0     2        1       1        0   \n",
              "3    15        0        0        0         0     1        0       1        0   \n",
              "4     6        1        0        0         0     1        1       1        0   \n",
              "..   ..      ...      ...      ...       ...   ...      ...     ...      ...   \n",
              "390   9        1        0        1         0     4        1       0        0   \n",
              "391  14        1        1        1         0     3        1       1        0   \n",
              "392  10        1        1        1         0     3        1       1        1   \n",
              "393  11        1        1        1         0     3        1       1        1   \n",
              "394   8        1        0        1         0     3        1       1        0   \n",
              "\n",
              "     Walc  ...  reason_int  paid_int  absences  freetime  gender  health  G2  \\\n",
              "0       1  ...           2         1         6         3       0       3   6   \n",
              "1       1  ...           2         1         4         3       0       3   5   \n",
              "2       3  ...           3         0        10         3       0       3   8   \n",
              "3       1  ...           0         0         2         2       0       5  14   \n",
              "4       2  ...           0         0         4         3       0       5  10   \n",
              "..    ...  ...         ...       ...       ...       ...     ...     ...  ..   \n",
              "390     5  ...           2         0        11         5       1       4   9   \n",
              "391     4  ...           2         1         3         4       1       2  16   \n",
              "392     3  ...           2         1         3         5       1       3   8   \n",
              "393     4  ...           2         1         0         4       1       5  12   \n",
              "394     3  ...           2         1         5         2       1       5   9   \n",
              "\n",
              "     goout  int_int  age  \n",
              "0        4        1   18  \n",
              "1        3        0   17  \n",
              "2        2        0   15  \n",
              "3        2        0   15  \n",
              "4        2        1   16  \n",
              "..     ...      ...  ...  \n",
              "390      4        1   20  \n",
              "391      5        0   17  \n",
              "392      3        1   21  \n",
              "393      1        0   18  \n",
              "394      3        0   19  \n",
              "\n",
              "[395 rows x 25 columns]"
            ]
          },
          "execution_count": 32,
          "metadata": {},
          "output_type": "execute_result"
        }
      ],
      "source": [
        "testing = data[{\"Sch_int\",\"gender\",\"age\",\"fs_int\",\"ps_int\",\"add_int\",\"reason_int\",\"traveltime\",\"studytime\",\"failures\",\"schoolsup_int\",\"paid_int\",\"act_int\",\"nur_int\",\"high_int\",\"int_int\",\"rom_int\",\"freetime\",\"goout\",\"Dalc\",\"Walc\",\"health\",\"absences\",\"G1\",\"G2\"}]\n",
        "testing"
      ]
    },
    {
      "cell_type": "code",
      "execution_count": null,
      "metadata": {
        "colab": {
          "base_uri": "https://localhost:8080/",
          "height": 351
        },
        "outputId": "6093a71c-336d-4033-82c6-fd2a836f8bb0",
        "id": "GU_7yECuBWxl"
      },
      "outputs": [
        {
          "name": "stderr",
          "output_type": "stream",
          "text": [
            "/usr/local/lib/python3.7/dist-packages/seaborn/distributions.py:2619: FutureWarning: `distplot` is a deprecated function and will be removed in a future version. Please adapt your code to use either `displot` (a figure-level function with similar flexibility) or `histplot` (an axes-level function for histograms).\n",
            "  warnings.warn(msg, FutureWarning)\n"
          ]
        },
        {
          "data": {
            "text/plain": [
              "<matplotlib.axes._subplots.AxesSubplot at 0x7f29902c7d10>"
            ]
          },
          "execution_count": 89,
          "metadata": {},
          "output_type": "execute_result"
        },
        {
          "data": {
            "image/png": "[encoded data removed]",
            "text/plain": [
              "<Figure size 432x288 with 1 Axes>"
            ]
          },
          "metadata": {},
          "output_type": "display_data"
        }
      ],
      "source": [
        "sns.distplot(data.G3)"
      ]
    },
    {
      "cell_type": "code",
      "execution_count": null,
      "metadata": {
        "colab": {
          "base_uri": "https://localhost:8080/",
          "height": 297
        },
        "outputId": "d291eb63-2e81-417a-c4c6-4762bbe887db",
        "id": "p2fZaUZtBWxl"
      },
      "outputs": [
        {
          "output_type": "execute_result",
          "data": {
            "text/plain": [
              "<matplotlib.axes._subplots.AxesSubplot at 0x7f9220f9a410>"
            ]
          },
          "metadata": {},
          "execution_count": 11
        },
        {
          "output_type": "display_data",
          "data": {
            "text/plain": [
              "<Figure size 432x288 with 1 Axes>"
            ],
            "image/png": "[encoded data removed]"
          },
          "metadata": {
            "needs_background": "light"
          }
        }
      ],
      "source": [
        "sns.boxplot(x=\"Sch_int\",y=\"G1\",data=data)"
      ]
    },
    {
      "cell_type": "code",
      "execution_count": null,
      "metadata": {
        "colab": {
          "base_uri": "https://localhost:8080/",
          "height": 297
        },
        "outputId": "1a51bbba-d9b7-473e-b738-fdf99f6505e5",
        "id": "j1jhcbjGBWxm"
      },
      "outputs": [
        {
          "data": {
            "text/plain": [
              "<matplotlib.axes._subplots.AxesSubplot at 0x7f29880f3ed0>"
            ]
          },
          "execution_count": 37,
          "metadata": {},
          "output_type": "execute_result"
        },
        {
          "data": {
            "image/png": "[encoded data removed]",
            "text/plain": [
              "<Figure size 432x288 with 1 Axes>"
            ]
          },
          "metadata": {},
          "output_type": "display_data"
        }
      ],
      "source": [
        "sns.boxenplot(x=\"Sch_int\",y=\"G2\",data=data)"
      ]
    },
    {
      "cell_type": "code",
      "execution_count": null,
      "metadata": {
        "colab": {
          "base_uri": "https://localhost:8080/",
          "height": 296
        },
        "outputId": "47d2a72b-56c9-4f6b-add0-97b4aff1331f",
        "id": "am50gUS0BWxn"
      },
      "outputs": [
        {
          "data": {
            "text/plain": [
              "<matplotlib.axes._subplots.AxesSubplot at 0x7f2999a68c50>"
            ]
          },
          "execution_count": 39,
          "metadata": {},
          "output_type": "execute_result"
        },
        {
          "data": {
            "image/png": "[encoded data removed]",
            "text/plain": [
              "<Figure size 432x288 with 1 Axes>"
            ]
          },
          "metadata": {},
          "output_type": "display_data"
        }
      ],
      "source": [
        "sns.scatterplot(x=testing['absences'],y=testing['G1'])"
      ]
    },
    {
      "cell_type": "code",
      "execution_count": null,
      "metadata": {
        "colab": {
          "base_uri": "https://localhost:8080/",
          "height": 298
        },
        "outputId": "80f2b93d-247b-48a3-b9e9-0d6e1a4cb0b2",
        "id": "p9DkoiQmBWxn"
      },
      "outputs": [
        {
          "data": {
            "text/plain": [
              "<matplotlib.axes._subplots.AxesSubplot at 0x7f2990229210>"
            ]
          },
          "execution_count": 90,
          "metadata": {},
          "output_type": "execute_result"
        },
        {
          "data": {
            "image/png": "[encoded data removed]",
            "text/plain": [
              "<Figure size 432x288 with 1 Axes>"
            ]
          },
          "metadata": {},
          "output_type": "display_data"
        }
      ],
      "source": [
        "sns.barplot(x=\"gender\",y = \"G3\" , data=data)"
      ]
    },
    {
      "cell_type": "code",
      "execution_count": null,
      "metadata": {
        "colab": {
          "base_uri": "https://localhost:8080/"
        },
        "outputId": "e3edd639-26d7-4a44-fd03-69b272a0a542",
        "id": "ztsd3eMYBWxo"
      },
      "outputs": [
        {
          "data": {
            "text/plain": [
              "gender\n",
              "0     9.966346\n",
              "1    10.914439\n",
              "Name: G3, dtype: float64"
            ]
          },
          "execution_count": 93,
          "metadata": {},
          "output_type": "execute_result"
        }
      ],
      "source": [
        "data.groupby(\"gender\")[\"G3\"].mean()"
      ]
    },
    {
      "cell_type": "code",
      "execution_count": null,
      "metadata": {
        "colab": {
          "base_uri": "https://localhost:8080/",
          "height": 296
        },
        "outputId": "e1853b6f-ae18-440e-832f-aec608c258ac",
        "id": "e-ORYR8_BWxo"
      },
      "outputs": [
        {
          "data": {
            "text/plain": [
              "<matplotlib.axes._subplots.AxesSubplot at 0x7f94e8b5d3d0>"
            ]
          },
          "execution_count": 5,
          "metadata": {},
          "output_type": "execute_result"
        },
        {
          "data": {
            "image/png": "[encoded data removed]",
            "text/plain": [
              "<Figure size 432x288 with 1 Axes>"
            ]
          },
          "metadata": {},
          "output_type": "display_data"
        }
      ],
      "source": [
        "sns.scatterplot(x=data['G3'],y=data['G1'],hue=data['G2'])"
      ]
    },
    {
      "cell_type": "code",
      "execution_count": null,
      "metadata": {
        "colab": {
          "base_uri": "https://localhost:8080/",
          "height": 335
        },
        "outputId": "6b4c3c9e-cf39-4a44-f928-fa9237e4bf89",
        "id": "U95ogvIqBWxp"
      },
      "outputs": [
        {
          "output_type": "stream",
          "name": "stderr",
          "text": [
            "/usr/local/lib/python3.7/dist-packages/seaborn/_decorators.py:43: FutureWarning: Pass the following variables as keyword args: x, y. From version 0.12, the only valid positional argument will be `data`, and passing other arguments without an explicit keyword will result in an error or misinterpretation.\n",
            "  FutureWarning\n"
          ]
        },
        {
          "output_type": "display_data",
          "data": {
            "text/plain": [
              "<Figure size 432x288 with 1 Axes>"
            ],
            "image/png": "[encoded data removed]"
          },
          "metadata": {
            "needs_background": "light"
          }
        }
      ],
      "source": [
        "sns.lineplot('school','absences', data=data, hue='sex');"
      ]
    },
    {
      "cell_type": "code",
      "source": [
        "plt.scatter(data.G1, data.G2)\n",
        "plt.plot(data.G1,data.G2,color='red')\n",
        "plt.xlabel('G1')\n",
        "plt.ylabel('G2')"
      ],
      "metadata": {
        "colab": {
          "base_uri": "https://localhost:8080/",
          "height": 296
        },
        "outputId": "417f7060-0716-4c86-ab97-0d3a2328b279",
        "id": "4UOLMC_pBWxs"
      },
      "execution_count": null,
      "outputs": [
        {
          "output_type": "execute_result",
          "data": {
            "text/plain": [
              "Text(0, 0.5, 'G2')"
            ]
          },
          "metadata": {},
          "execution_count": 177
        },
        {
          "output_type": "display_data",
          "data": {
            "text/plain": [
              "<Figure size 432x288 with 1 Axes>"
            ],
            "image/png": "[encoded data removed]"
          },
          "metadata": {
            "needs_background": "light"
          }
        }
      ]
    },
    {
      "cell_type": "code",
      "source": [
        "sns.scatterplot(x='G1',y='G2',data=data,hue='G3')"
      ],
      "metadata": {
        "colab": {
          "base_uri": "https://localhost:8080/",
          "height": 297
        },
        "outputId": "2a03907f-5b84-411c-f009-12424313223e",
        "id": "dAA_oWuaBWxt"
      },
      "execution_count": null,
      "outputs": [
        {
          "output_type": "execute_result",
          "data": {
            "text/plain": [
              "<matplotlib.axes._subplots.AxesSubplot at 0x7fb43d8da810>"
            ]
          },
          "metadata": {},
          "execution_count": 31
        },
        {
          "output_type": "display_data",
          "data": {
            "text/plain": [
              "<Figure size 432x288 with 1 Axes>"
            ],
            "image/png": "[encoded data removed]"
          },
          "metadata": {
            "needs_background": "light"
          }
        }
      ]
    },
    {
      "cell_type": "code",
      "source": [
        "Z=data.groupby(\"G1\")[\"G3\"].median()"
      ],
      "metadata": {
        "id": "vj3qvze0BWxu"
      },
      "execution_count": null,
      "outputs": []
    },
    {
      "cell_type": "code",
      "source": [
        "sns.barplot(data.G1)"
      ],
      "metadata": {
        "colab": {
          "base_uri": "https://localhost:8080/",
          "height": 354
        },
        "outputId": "f518de5a-4916-4c30-8731-9875310afb37",
        "id": "EFyfMwj0BWxv"
      },
      "execution_count": null,
      "outputs": [
        {
          "output_type": "stream",
          "name": "stderr",
          "text": [
            "/usr/local/lib/python3.7/dist-packages/seaborn/_decorators.py:43: FutureWarning: Pass the following variable as a keyword arg: x. From version 0.12, the only valid positional argument will be `data`, and passing other arguments without an explicit keyword will result in an error or misinterpretation.\n",
            "  FutureWarning\n"
          ]
        },
        {
          "output_type": "execute_result",
          "data": {
            "text/plain": [
              "<matplotlib.axes._subplots.AxesSubplot at 0x7f78037daf90>"
            ]
          },
          "metadata": {},
          "execution_count": 29
        },
        {
          "output_type": "display_data",
          "data": {
            "text/plain": [
              "<Figure size 432x288 with 1 Axes>"
            ],
            "image/png": "[encoded data removed]"
          },
          "metadata": {
            "needs_background": "light"
          }
        }
      ]
    },
    {
      "cell_type": "code",
      "source": [
        "n=data.groupby(\"G2\")[\"G3\"].mean()"
      ],
      "metadata": {
        "id": "__wU1ZYcBWxv"
      },
      "execution_count": null,
      "outputs": []
    },
    {
      "cell_type": "code",
      "source": [
        "sns.barplot(data.G2)"
      ],
      "metadata": {
        "colab": {
          "base_uri": "https://localhost:8080/",
          "height": 354
        },
        "outputId": "a669cfbd-87dd-49f2-e73d-a572a8de0435",
        "id": "sxLbslitBWxw"
      },
      "execution_count": null,
      "outputs": [
        {
          "output_type": "stream",
          "name": "stderr",
          "text": [
            "/usr/local/lib/python3.7/dist-packages/seaborn/_decorators.py:43: FutureWarning: Pass the following variables as keyword args: x, y. From version 0.12, the only valid positional argument will be `data`, and passing other arguments without an explicit keyword will result in an error or misinterpretation.\n",
            "  FutureWarning\n"
          ]
        },
        {
          "output_type": "execute_result",
          "data": {
            "text/plain": [
              "<matplotlib.axes._subplots.AxesSubplot at 0x7f78026babd0>"
            ]
          },
          "metadata": {},
          "execution_count": 44
        },
        {
          "output_type": "display_data",
          "data": {
            "text/plain": [
              "<Figure size 432x288 with 1 Axes>"
            ],
            "image/png": "[encoded data removed]"
          },
          "metadata": {
            "needs_background": "light"
          }
        }
      ]
    },
    {
      "cell_type": "code",
      "source": [
        "m=data.groupby(\"G1\")[\"G2\"].mean()"
      ],
      "metadata": {
        "id": "-wrhdFBZBWxw"
      },
      "execution_count": null,
      "outputs": []
    },
    {
      "cell_type": "code",
      "source": [
        "sns.barplot(m)"
      ],
      "metadata": {
        "colab": {
          "base_uri": "https://localhost:8080/",
          "height": 354
        },
        "outputId": "31c943a1-5e37-44ae-ebba-3ed441cd3653",
        "id": "4ATkfhpZBWxx"
      },
      "execution_count": null,
      "outputs": [
        {
          "output_type": "stream",
          "name": "stderr",
          "text": [
            "/usr/local/lib/python3.7/dist-packages/seaborn/_decorators.py:43: FutureWarning: Pass the following variable as a keyword arg: x. From version 0.12, the only valid positional argument will be `data`, and passing other arguments without an explicit keyword will result in an error or misinterpretation.\n",
            "  FutureWarning\n"
          ]
        },
        {
          "output_type": "execute_result",
          "data": {
            "text/plain": [
              "<matplotlib.axes._subplots.AxesSubplot at 0x7f7802ba82d0>"
            ]
          },
          "metadata": {},
          "execution_count": 43
        },
        {
          "output_type": "display_data",
          "data": {
            "text/plain": [
              "<Figure size 432x288 with 1 Axes>"
            ],
            "image/png": "[encoded data removed]"
          },
          "metadata": {
            "needs_background": "light"
          }
        }
      ]
    },
    {
      "cell_type": "code",
      "source": [
        "plt.pie(m,autopct=\"%.2f%%\")"
      ],
      "metadata": {
        "colab": {
          "base_uri": "https://localhost:8080/",
          "height": 1000
        },
        "outputId": "64c575a3-db84-4160-e652-ecb5634eeb29",
        "id": "SbMTwjXiBWxx"
      },
      "execution_count": null,
      "outputs": [
        {
          "output_type": "execute_result",
          "data": {
            "text/plain": [
              "([<matplotlib.patches.Wedge at 0x7f7802dcebd0>,\n",
              "  <matplotlib.patches.Wedge at 0x7f7802dded10>,\n",
              "  <matplotlib.patches.Wedge at 0x7f7802d78c90>,\n",
              "  <matplotlib.patches.Wedge at 0x7f7802d85090>,\n",
              "  <matplotlib.patches.Wedge at 0x7f7802d8a610>,\n",
              "  <matplotlib.patches.Wedge at 0x7f7802d91890>,\n",
              "  <matplotlib.patches.Wedge at 0x7f7802d99490>,\n",
              "  <matplotlib.patches.Wedge at 0x7f7802d9e5d0>,\n",
              "  <matplotlib.patches.Wedge at 0x7f7802d8a210>,\n",
              "  <matplotlib.patches.Wedge at 0x7f7802d91290>,\n",
              "  <matplotlib.patches.Wedge at 0x7f7802dce150>,\n",
              "  <matplotlib.patches.Wedge at 0x7f7802d387d0>,\n",
              "  <matplotlib.patches.Wedge at 0x7f7802d3e910>,\n",
              "  <matplotlib.patches.Wedge at 0x7f7802d45a50>,\n",
              "  <matplotlib.patches.Wedge at 0x7f7802d4ab90>,\n",
              "  <matplotlib.patches.Wedge at 0x7f7803447650>,\n",
              "  <matplotlib.patches.Wedge at 0x7f78033e4890>],\n",
              " [Text(1.0958691185386713, 0.09524114149502672, ''),\n",
              "  Text(1.0835074999394987, 0.1897669559614033, ''),\n",
              "  Text(1.0643962063152002, 0.2775981195574105, ''),\n",
              "  Text(0.9968358829819987, 0.46510022833739756, ''),\n",
              "  Text(0.8718554076297278, 0.6707221095109371, ''),\n",
              "  Text(0.6668929274833552, 0.8747878732999678, ''),\n",
              "  Text(0.38179726833389643, 1.0316156483365182, ''),\n",
              "  Text(0.03384491549199792, 1.0994792047580253, ''),\n",
              "  Text(-0.3546607913137147, 1.0412567997879918, ''),\n",
              "  Text(-0.7244524193162996, 0.8277491722416646, ''),\n",
              "  Text(-1.000997071808027, 0.456075500582695, ''),\n",
              "  Text(-1.0995049783433342, -0.032997008928456535, ''),\n",
              "  Text(-0.9569085323838543, -0.5425182583572449, ''),\n",
              "  Text(-0.5590997990524967, -0.947315900161851, ''),\n",
              "  Text(0.027276838792379934, -1.0996617543888187, ''),\n",
              "  Text(0.641795103503831, -0.8933638928894021, ''),\n",
              "  Text(1.044894150344436, -0.34379676347513727, '')],\n",
              " [Text(0.5977467919301843, 0.05194971354274184, '2.76%'),\n",
              "  Text(0.5910040908760902, 0.10350924870621997, '0.00%'),\n",
              "  Text(0.5805797488991999, 0.15141715612222387, '2.60%'),\n",
              "  Text(0.5437286634447265, 0.2536910336385805, '3.17%'),\n",
              "  Text(0.4755574950707605, 0.36584842336960205, '3.80%'),\n",
              "  Text(0.3637597786272846, 0.4771570217999824, '4.59%'),\n",
              "  Text(0.20825305545485256, 0.5626994445471917, '4.86%'),\n",
              "  Text(0.018460862995635225, 0.5997159298680137, '5.44%'),\n",
              "  Text(-0.19345134071657163, 0.5679582544298136, '5.99%'),\n",
              "  Text(-0.3951558650816179, 0.4514995484954533, '6.45%'),\n",
              "  Text(-0.5459984028043783, 0.24876845486328816, '7.06%'),\n",
              "  Text(-0.5997299881872731, -0.017998368506430835, '7.51%'),\n",
              "  Text(-0.5219501085730114, -0.29591905001304264, '7.96%'),\n",
              "  Text(-0.30496352675590727, -0.516717763724646, '8.65%'),\n",
              "  Text(0.014878275704934508, -0.599815502393901, '9.11%'),\n",
              "  Text(0.350070056456635, -0.487289396121492, '9.93%'),\n",
              "  Text(0.5699422638242377, -0.18752550735007484, '10.12%')])"
            ]
          },
          "metadata": {},
          "execution_count": 42
        },
        {
          "output_type": "display_data",
          "data": {
            "text/plain": [
              "<Figure size 432x288 with 1 Axes>"
            ],
            "image/png": "[encoded data removed]"
          },
          "metadata": {}
        }
      ]
    },
    {
      "cell_type": "code",
      "source": [
        "sns.barplot(data.G3)"
      ],
      "metadata": {
        "colab": {
          "base_uri": "https://localhost:8080/",
          "height": 354
        },
        "outputId": "5551e773-fdb0-42af-9d25-1a88697a1082",
        "id": "ncPTJOp4BWxy"
      },
      "execution_count": null,
      "outputs": [
        {
          "output_type": "stream",
          "name": "stderr",
          "text": [
            "/usr/local/lib/python3.7/dist-packages/seaborn/_decorators.py:43: FutureWarning: Pass the following variable as a keyword arg: x. From version 0.12, the only valid positional argument will be `data`, and passing other arguments without an explicit keyword will result in an error or misinterpretation.\n",
            "  FutureWarning\n"
          ]
        },
        {
          "output_type": "execute_result",
          "data": {
            "text/plain": [
              "<matplotlib.axes._subplots.AxesSubplot at 0x7f7803869a50>"
            ]
          },
          "metadata": {},
          "execution_count": 28
        },
        {
          "output_type": "display_data",
          "data": {
            "text/plain": [
              "<Figure size 432x288 with 1 Axes>"
            ],
            "image/png": "[encoded data removed]"
          },
          "metadata": {
            "needs_background": "light"
          }
        }
      ]
    },
    {
      "cell_type": "code",
      "source": [
        "np.mean(data.G1)"
      ],
      "metadata": {
        "colab": {
          "base_uri": "https://localhost:8080/"
        },
        "outputId": "76edadf6-667e-4d50-9178-a756da12d629",
        "id": "Eyxdv-BSBWxz"
      },
      "execution_count": null,
      "outputs": [
        {
          "output_type": "execute_result",
          "data": {
            "text/plain": [
              "10.90886075949367"
            ]
          },
          "metadata": {},
          "execution_count": 49
        }
      ]
    },
    {
      "cell_type": "code",
      "source": [
        "np.mean(data.G2)"
      ],
      "metadata": {
        "colab": {
          "base_uri": "https://localhost:8080/"
        },
        "outputId": "18bc8ec1-2f9e-4c72-a449-19a31bd37034",
        "id": "OngpaF1pBWxz"
      },
      "execution_count": null,
      "outputs": [
        {
          "output_type": "execute_result",
          "data": {
            "text/plain": [
              "10.713924050632912"
            ]
          },
          "metadata": {},
          "execution_count": 33
        }
      ]
    },
    {
      "cell_type": "code",
      "source": [
        "np.mean(data.G3)"
      ],
      "metadata": {
        "colab": {
          "base_uri": "https://localhost:8080/"
        },
        "outputId": "49e28e94-ff40-46d1-cfd5-f95ca9e50c48",
        "id": "z7x7oEiHBWx0"
      },
      "execution_count": null,
      "outputs": [
        {
          "output_type": "execute_result",
          "data": {
            "text/plain": [
              "10.415189873417722"
            ]
          },
          "metadata": {},
          "execution_count": 31
        }
      ]
    },
    {
      "cell_type": "code",
      "source": [
        "sns.barplot(m)"
      ],
      "metadata": {
        "colab": {
          "base_uri": "https://localhost:8080/",
          "height": 354
        },
        "outputId": "b30beae5-6ae1-4a52-faa2-06f732becf23",
        "id": "lEUrPUKCBWx0"
      },
      "execution_count": null,
      "outputs": [
        {
          "output_type": "stream",
          "name": "stderr",
          "text": [
            "/usr/local/lib/python3.7/dist-packages/seaborn/_decorators.py:43: FutureWarning: Pass the following variable as a keyword arg: x. From version 0.12, the only valid positional argument will be `data`, and passing other arguments without an explicit keyword will result in an error or misinterpretation.\n",
            "  FutureWarning\n"
          ]
        },
        {
          "output_type": "execute_result",
          "data": {
            "text/plain": [
              "<matplotlib.axes._subplots.AxesSubplot at 0x7f78037a1cd0>"
            ]
          },
          "metadata": {},
          "execution_count": 30
        },
        {
          "output_type": "display_data",
          "data": {
            "text/plain": [
              "<Figure size 432x288 with 1 Axes>"
            ],
            "image/png": "[encoded data removed]"
          },
          "metadata": {
            "needs_background": "light"
          }
        }
      ]
    },
    {
      "cell_type": "code",
      "source": [
        "sns.barplot(data.G1)"
      ],
      "metadata": {
        "colab": {
          "base_uri": "https://localhost:8080/",
          "height": 354
        },
        "outputId": "58ce45fb-888c-42ec-89dc-9d789643b344",
        "id": "pDWhcMTJBWx1"
      },
      "execution_count": null,
      "outputs": [
        {
          "output_type": "stream",
          "name": "stderr",
          "text": [
            "/usr/local/lib/python3.7/dist-packages/seaborn/_decorators.py:43: FutureWarning: Pass the following variable as a keyword arg: x. From version 0.12, the only valid positional argument will be `data`, and passing other arguments without an explicit keyword will result in an error or misinterpretation.\n",
            "  FutureWarning\n"
          ]
        },
        {
          "output_type": "execute_result",
          "data": {
            "text/plain": [
              "<matplotlib.axes._subplots.AxesSubplot at 0x7f7805029f90>"
            ]
          },
          "metadata": {},
          "execution_count": 7
        },
        {
          "output_type": "display_data",
          "data": {
            "text/plain": [
              "<Figure size 432x288 with 1 Axes>"
            ],
            "image/png": "[encoded data removed]"
          },
          "metadata": {
            "needs_background": "light"
          }
        }
      ]
    },
    {
      "cell_type": "code",
      "source": [
        "sns.barplot(data.G2)"
      ],
      "metadata": {
        "colab": {
          "base_uri": "https://localhost:8080/",
          "height": 354
        },
        "outputId": "c22c2ad7-cbd7-4357-c7b2-c5f343d6a7c4",
        "id": "gEsGkDYnBWx1"
      },
      "execution_count": null,
      "outputs": [
        {
          "output_type": "stream",
          "name": "stderr",
          "text": [
            "/usr/local/lib/python3.7/dist-packages/seaborn/_decorators.py:43: FutureWarning: Pass the following variable as a keyword arg: x. From version 0.12, the only valid positional argument will be `data`, and passing other arguments without an explicit keyword will result in an error or misinterpretation.\n",
            "  FutureWarning\n"
          ]
        },
        {
          "output_type": "execute_result",
          "data": {
            "text/plain": [
              "<matplotlib.axes._subplots.AxesSubplot at 0x7f780432f1d0>"
            ]
          },
          "metadata": {},
          "execution_count": 8
        },
        {
          "output_type": "display_data",
          "data": {
            "text/plain": [
              "<Figure size 432x288 with 1 Axes>"
            ],
            "image/png": "[encoded data removed]"
          },
          "metadata": {
            "needs_background": "light"
          }
        }
      ]
    },
    {
      "cell_type": "code",
      "source": [
        "# fit a linear regression model and store the predictions\n",
        "feature_cols = ['G1']\n",
        "X = data[feature_cols]\n",
        "y = data.gender\n",
        "model_tt.fit(X, y)\n",
        "data['gender_pred'] = model_tt.predict(X)"
      ],
      "metadata": {
        "id": "AwmPpKccBWx2"
      },
      "execution_count": null,
      "outputs": []
    },
    {
      "cell_type": "code",
      "source": [
        "data['gender_pred_class'] = np.where(data.gender_pred >= 0.5,1,0)"
      ],
      "metadata": {
        "id": "GaAj8rzdBWx2"
      },
      "execution_count": null,
      "outputs": []
    },
    {
      "cell_type": "code",
      "source": [
        "# plot the class predictions\n",
        "plt.scatter(data.G1, data.G3)\n",
        "plt.plot(data.G1,data.G3_pred, color='red')\n",
        "plt.xlabel('G1')\n",
        "plt.ylabel('G3')"
      ],
      "metadata": {
        "colab": {
          "base_uri": "https://localhost:8080/",
          "height": 296
        },
        "outputId": "34cd8e20-5d80-451a-cf49-aae4d895f2f7",
        "id": "5rmLd5UIBWx3"
      },
      "execution_count": null,
      "outputs": [
        {
          "output_type": "execute_result",
          "data": {
            "text/plain": [
              "Text(0, 0.5, 'G3')"
            ]
          },
          "metadata": {},
          "execution_count": 190
        },
        {
          "output_type": "display_data",
          "data": {
            "text/plain": [
              "<Figure size 432x288 with 1 Axes>"
            ],
            "image/png": "[encoded data removed]"
          },
          "metadata": {
            "needs_background": "light"
          }
        }
      ]
    },
    {
      "cell_type": "code",
      "source": [
        "# plot the class predictions\n",
        "plt.scatter(data.G1, data.gender)\n",
        "plt.plot(data.G1,data.gender_pred_class, color='red')\n",
        "plt.xlabel('G1')\n",
        "plt.ylabel('gender')"
      ],
      "metadata": {
        "colab": {
          "base_uri": "https://localhost:8080/",
          "height": 297
        },
        "outputId": "1289295c-5ea5-4e73-ef9f-c49caf699115",
        "id": "jJPcdWIaBWx3"
      },
      "execution_count": null,
      "outputs": [
        {
          "output_type": "execute_result",
          "data": {
            "text/plain": [
              "Text(0, 0.5, 'gender')"
            ]
          },
          "metadata": {},
          "execution_count": 29
        },
        {
          "output_type": "display_data",
          "data": {
            "text/plain": [
              "<Figure size 432x288 with 1 Axes>"
            ],
            "image/png": "[encoded data removed]"
          },
          "metadata": {
            "needs_background": "light"
          }
        }
      ]
    },
    {
      "cell_type": "code",
      "source": [
        "sns.lineplot('school','failures', data=data, hue='sex');"
      ],
      "metadata": {
        "colab": {
          "base_uri": "https://localhost:8080/",
          "height": 279
        },
        "outputId": "13aca501-d576-4bd8-fef9-e5f43f7d54cc",
        "id": "GuTNu94VBWx4"
      },
      "execution_count": null,
      "outputs": [
        {
          "output_type": "display_data",
          "data": {
            "text/plain": [
              "<Figure size 432x288 with 1 Axes>"
            ],
            "image/png": "[encoded data removed]"
          },
          "metadata": {
            "needs_background": "light"
          }
        }
      ]
    },
    {
      "cell_type": "code",
      "source": [
        "d=data.groupby(\"Medu\")[\"Fedu\"].count()\n",
        "d"
      ],
      "metadata": {
        "colab": {
          "base_uri": "https://localhost:8080/"
        },
        "outputId": "bba5a079-1206-4b81-df45-ae5ad102affb",
        "id": "QcXw1jIVBWx5"
      },
      "execution_count": null,
      "outputs": [
        {
          "output_type": "execute_result",
          "data": {
            "text/plain": [
              "Medu\n",
              "0      3\n",
              "1     59\n",
              "2    103\n",
              "3     99\n",
              "4    131\n",
              "Name: Fedu, dtype: int64"
            ]
          },
          "metadata": {},
          "execution_count": 34
        }
      ]
    },
    {
      "cell_type": "code",
      "source": [
        "plt.pie(d,labels=d.index,autopct=\"%.2f%%\");\n",
        "plt.show()"
      ],
      "metadata": {
        "colab": {
          "base_uri": "https://localhost:8080/",
          "height": 248
        },
        "outputId": "730a6a75-b3e5-4566-f013-9fdc683dfa74",
        "id": "w359SxHDBWx5"
      },
      "execution_count": null,
      "outputs": [
        {
          "output_type": "display_data",
          "data": {
            "text/plain": [
              "<Figure size 432x288 with 1 Axes>"
            ],
            "image/png": "[encoded data removed]"
          },
          "metadata": {}
        }
      ]
    },
    {
      "cell_type": "code",
      "source": [
        "e=data.groupby(\"Mjob\")[\"Fjob\"].count()\n",
        "e"
      ],
      "metadata": {
        "colab": {
          "base_uri": "https://localhost:8080/"
        },
        "outputId": "1e377a85-865b-42cc-e7dc-e52327fa639e",
        "id": "N6gG4tD2BWx6"
      },
      "execution_count": null,
      "outputs": [
        {
          "output_type": "execute_result",
          "data": {
            "text/plain": [
              "Mjob\n",
              "at_home      59\n",
              "health       34\n",
              "other       141\n",
              "services    103\n",
              "teacher      58\n",
              "Name: Fjob, dtype: int64"
            ]
          },
          "metadata": {},
          "execution_count": 37
        }
      ]
    },
    {
      "cell_type": "code",
      "source": [
        "plt.pie(e,labels=e.index,autopct=\"%.2f%%\");\n",
        "plt.show()"
      ],
      "metadata": {
        "colab": {
          "base_uri": "https://localhost:8080/",
          "height": 248
        },
        "outputId": "3fce9027-fd10-403c-decd-94f6ea71997d",
        "id": "TdQU0dOKBWx7"
      },
      "execution_count": null,
      "outputs": [
        {
          "output_type": "display_data",
          "data": {
            "text/plain": [
              "<Figure size 432x288 with 1 Axes>"
            ],
            "image/png": "[encoded data removed]"
          },
          "metadata": {}
        }
      ]
    },
    {
      "cell_type": "code",
      "source": [
        "sgf=data.groupby([\"studytime\",\"gender\"])[\"failures\"].count()\n",
        "sgf"
      ],
      "metadata": {
        "colab": {
          "base_uri": "https://localhost:8080/"
        },
        "outputId": "a3768dc0-28df-405e-baab-325a65501081",
        "id": "GEc8VLv2BWx7"
      },
      "execution_count": null,
      "outputs": [
        {
          "output_type": "execute_result",
          "data": {
            "text/plain": [
              "studytime  gender\n",
              "1          0          27\n",
              "           1          78\n",
              "2          0         113\n",
              "           1          85\n",
              "3          0          51\n",
              "           1          14\n",
              "4          0          17\n",
              "           1          10\n",
              "Name: failures, dtype: int64"
            ]
          },
          "metadata": {},
          "execution_count": 43
        }
      ]
    },
    {
      "cell_type": "code",
      "source": [
        "sns.barplot(x=\"gender\",y = \"studytime\" , data=data, hue='failures')"
      ],
      "metadata": {
        "colab": {
          "base_uri": "https://localhost:8080/",
          "height": 297
        },
        "outputId": "2c2203ab-5407-442e-edbe-a4f77255aea0",
        "id": "arWH7OgMBWx8"
      },
      "execution_count": null,
      "outputs": [
        {
          "output_type": "execute_result",
          "data": {
            "text/plain": [
              "<matplotlib.axes._subplots.AxesSubplot at 0x7f465b5e8710>"
            ]
          },
          "metadata": {},
          "execution_count": 12
        },
        {
          "output_type": "display_data",
          "data": {
            "text/plain": [
              "<Figure size 432x288 with 1 Axes>"
            ],
            "image/png": "[encoded data removed]"
          },
          "metadata": {
            "needs_background": "light"
          }
        }
      ]
    },
    {
      "cell_type": "code",
      "source": [
        "gsf=data.groupby([\"gender\",\"studytime\"])[\"failures\"].count()\n",
        "gsf"
      ],
      "metadata": {
        "colab": {
          "base_uri": "https://localhost:8080/"
        },
        "outputId": "401fc5c6-b1da-4193-deb5-5542ca2de9b7",
        "id": "AU5HSkp8BWx8"
      },
      "execution_count": null,
      "outputs": [
        {
          "output_type": "execute_result",
          "data": {
            "text/plain": [
              "gender  studytime\n",
              "0       1             27\n",
              "        2            113\n",
              "        3             51\n",
              "        4             17\n",
              "1       1             78\n",
              "        2             85\n",
              "        3             14\n",
              "        4             10\n",
              "Name: failures, dtype: int64"
            ]
          },
          "metadata": {},
          "execution_count": 7
        }
      ]
    },
    {
      "cell_type": "code",
      "source": [
        "sns.barplot(x=\"studytime\",y = \"failures\" , data=data, hue='gender')"
      ],
      "metadata": {
        "colab": {
          "base_uri": "https://localhost:8080/",
          "height": 297
        },
        "outputId": "3df4afc7-9b1f-44ae-cd96-91db4faef4bc",
        "id": "FKzkUZlIBWx9"
      },
      "execution_count": null,
      "outputs": [
        {
          "output_type": "execute_result",
          "data": {
            "text/plain": [
              "<matplotlib.axes._subplots.AxesSubplot at 0x7f465b404650>"
            ]
          },
          "metadata": {},
          "execution_count": 14
        },
        {
          "output_type": "display_data",
          "data": {
            "text/plain": [
              "<Figure size 432x288 with 1 Axes>"
            ],
            "image/png": "[encoded data removed]"
          },
          "metadata": {
            "needs_background": "light"
          }
        }
      ]
    },
    {
      "cell_type": "code",
      "source": [
        "gg=data.groupby([\"gender\"])[\"G3\"].count()\n",
        "gg"
      ],
      "metadata": {
        "colab": {
          "base_uri": "https://localhost:8080/"
        },
        "outputId": "32e41a7a-f239-4374-d3e1-d3f187f8923f",
        "id": "We3WNBxmBWx-"
      },
      "execution_count": null,
      "outputs": [
        {
          "output_type": "execute_result",
          "data": {
            "text/plain": [
              "gender\n",
              "0    208\n",
              "1    187\n",
              "Name: G3, dtype: int64"
            ]
          },
          "metadata": {},
          "execution_count": 25
        }
      ]
    },
    {
      "cell_type": "code",
      "source": [
        "sns.barplot(x=\"school\",y = \"G3\" , data=data,hue='gender')"
      ],
      "metadata": {
        "colab": {
          "base_uri": "https://localhost:8080/",
          "height": 297
        },
        "outputId": "86f8239a-1256-4969-bad6-b2df85d63c37",
        "id": "fTuUWVNkBWx-"
      },
      "execution_count": null,
      "outputs": [
        {
          "output_type": "execute_result",
          "data": {
            "text/plain": [
              "<matplotlib.axes._subplots.AxesSubplot at 0x7f465b2a7fd0>"
            ]
          },
          "metadata": {},
          "execution_count": 19
        },
        {
          "output_type": "display_data",
          "data": {
            "text/plain": [
              "<Figure size 432x288 with 1 Axes>"
            ],
            "image/png": "[encoded data removed]"
          },
          "metadata": {
            "needs_background": "light"
          }
        }
      ]
    },
    {
      "cell_type": "code",
      "source": [
        "sns.barplot(x=\"studytime\",y = \"G3\" , data=data)"
      ],
      "metadata": {
        "colab": {
          "base_uri": "https://localhost:8080/",
          "height": 297
        },
        "outputId": "5835c1f8-1ca0-4d65-c173-b9ce9ffd79c5",
        "id": "tPIzbVvLBWx_"
      },
      "execution_count": null,
      "outputs": [
        {
          "output_type": "execute_result",
          "data": {
            "text/plain": [
              "<matplotlib.axes._subplots.AxesSubplot at 0x7f4659bd6450>"
            ]
          },
          "metadata": {},
          "execution_count": 54
        },
        {
          "output_type": "display_data",
          "data": {
            "text/plain": [
              "<Figure size 432x288 with 1 Axes>"
            ],
            "image/png": "[encoded data removed]"
          },
          "metadata": {
            "needs_background": "light"
          }
        }
      ]
    },
    {
      "cell_type": "code",
      "source": [
        "sns.kdeplot(data.G1, shade=True)"
      ],
      "metadata": {
        "colab": {
          "base_uri": "https://localhost:8080/",
          "height": 297
        },
        "outputId": "d088a90a-4673-4ee1-e06e-43b6ebe649ff",
        "id": "0_6aA6ofBWyD"
      },
      "execution_count": null,
      "outputs": [
        {
          "output_type": "execute_result",
          "data": {
            "text/plain": [
              "<matplotlib.axes._subplots.AxesSubplot at 0x7f4659420b10>"
            ]
          },
          "metadata": {},
          "execution_count": 63
        },
        {
          "output_type": "display_data",
          "data": {
            "text/plain": [
              "<Figure size 432x288 with 1 Axes>"
            ],
            "image/png": "[encoded data removed]"
          },
          "metadata": {
            "needs_background": "light"
          }
        }
      ]
    },
    {
      "cell_type": "code",
      "source": [
        "sns.kdeplot(data.G2, shade=True)"
      ],
      "metadata": {
        "colab": {
          "base_uri": "https://localhost:8080/",
          "height": 297
        },
        "outputId": "21aa3f32-c66b-4d24-ca57-0d642f0dfc0c",
        "id": "LK0RoE7XBWyE"
      },
      "execution_count": null,
      "outputs": [
        {
          "output_type": "execute_result",
          "data": {
            "text/plain": [
              "<matplotlib.axes._subplots.AxesSubplot at 0x7f4659098110>"
            ]
          },
          "metadata": {},
          "execution_count": 64
        },
        {
          "output_type": "display_data",
          "data": {
            "text/plain": [
              "<Figure size 432x288 with 1 Axes>"
            ],
            "image/png": "[encoded data removed]"
          },
          "metadata": {
            "needs_background": "light"
          }
        }
      ]
    },
    {
      "cell_type": "code",
      "source": [
        "sns.kdeplot(data.G3, shade=True)"
      ],
      "metadata": {
        "colab": {
          "base_uri": "https://localhost:8080/",
          "height": 297
        },
        "outputId": "6685d20e-4746-47ca-f1ed-a4e11a351dab",
        "id": "n19l3yqQBWyE"
      },
      "execution_count": null,
      "outputs": [
        {
          "output_type": "execute_result",
          "data": {
            "text/plain": [
              "<matplotlib.axes._subplots.AxesSubplot at 0x7f465903a390>"
            ]
          },
          "metadata": {},
          "execution_count": 65
        },
        {
          "output_type": "display_data",
          "data": {
            "text/plain": [
              "<Figure size 432x288 with 1 Axes>"
            ],
            "image/png": "[encoded data removed]"
          },
          "metadata": {
            "needs_background": "light"
          }
        }
      ]
    },
    {
      "cell_type": "code",
      "source": [
        "sns.barplot(x=\"ps_int\",y=\"health\",data=data,hue=\"age\")"
      ],
      "metadata": {
        "colab": {
          "base_uri": "https://localhost:8080/",
          "height": 297
        },
        "outputId": "0812c2d4-5a04-42b9-9e1e-e288a0f72d65",
        "id": "ABggRCWdBWyF"
      },
      "execution_count": null,
      "outputs": [
        {
          "output_type": "execute_result",
          "data": {
            "text/plain": [
              "<matplotlib.axes._subplots.AxesSubplot at 0x7f2d9cb33b90>"
            ]
          },
          "metadata": {},
          "execution_count": 6
        },
        {
          "output_type": "display_data",
          "data": {
            "text/plain": [
              "<Figure size 432x288 with 1 Axes>"
            ],
            "image/png": "[encoded data removed]"
          },
          "metadata": {
            "needs_background": "light"
          }
        }
      ]
    },
    {
      "cell_type": "markdown",
      "source": [
        "in above graph we can see that students who are apart from family have less health when compared to the students who are living with there parents.\n",
        "\n",
        "ps_int family status\n",
        "0 - apart from family\n",
        "1 - living with family"
      ],
      "metadata": {
        "id": "vpBLhWPeBWyG"
      }
    },
    {
      "cell_type": "code",
      "source": [
        "data.groupby(['ps_int','health'])['gender'].count()"
      ],
      "metadata": {
        "colab": {
          "base_uri": "https://localhost:8080/"
        },
        "outputId": "44d85518-5695-4837-98df-cf985437dc6b",
        "id": "t4CNBYIXBWyG"
      },
      "execution_count": null,
      "outputs": [
        {
          "output_type": "execute_result",
          "data": {
            "text/plain": [
              "ps_int  health\n",
              "0       1           8\n",
              "        2           3\n",
              "        3           7\n",
              "        4           8\n",
              "        5          15\n",
              "1       1          39\n",
              "        2          42\n",
              "        3          84\n",
              "        4          58\n",
              "        5         131\n",
              "Name: gender, dtype: int64"
            ]
          },
          "metadata": {},
          "execution_count": 14
        }
      ]
    },
    {
      "cell_type": "code",
      "source": [
        "sns.boxenplot(x='Sch_int',y='freetime',data=data,hue='freetime')"
      ],
      "metadata": {
        "colab": {
          "base_uri": "https://localhost:8080/",
          "height": 297
        },
        "outputId": "184e17d0-8c97-4248-9519-967175e7a8ee",
        "id": "S6VlqQMuBWyH"
      },
      "execution_count": null,
      "outputs": [
        {
          "output_type": "execute_result",
          "data": {
            "text/plain": [
              "<matplotlib.axes._subplots.AxesSubplot at 0x7f9223e9d490>"
            ]
          },
          "metadata": {},
          "execution_count": 10
        },
        {
          "output_type": "display_data",
          "data": {
            "text/plain": [
              "<Figure size 432x288 with 1 Axes>"
            ],
            "image/png": "[encoded data removed]"
          },
          "metadata": {
            "needs_background": "light"
          }
        }
      ]
    },
    {
      "cell_type": "code",
      "source": [
        "data.groupby('Sch_int')['G3'].mean()"
      ],
      "metadata": {
        "colab": {
          "base_uri": "https://localhost:8080/"
        },
        "outputId": "fcd1c5e5-9350-4580-9d91-4a0b67c613eb",
        "id": "UkvVcvzuBWyH"
      },
      "execution_count": null,
      "outputs": [
        {
          "output_type": "execute_result",
          "data": {
            "text/plain": [
              "Sch_int\n",
              "0    10.489971\n",
              "1     9.847826\n",
              "Name: G3, dtype: float64"
            ]
          },
          "metadata": {},
          "execution_count": 18
        }
      ]
    },
    {
      "cell_type": "markdown",
      "source": [
        "in above line plot , we can see that both the schools have same no of periods or same timing but Gabriel Pereira school have more study rate compared to Mousinho da Silveira school."
      ],
      "metadata": {
        "id": "jb6oiaAzBWyI"
      }
    },
    {
      "cell_type": "code",
      "source": [
        "pd.crosstab(index=data['school'], columns=data['address'])"
      ],
      "metadata": {
        "colab": {
          "base_uri": "https://localhost:8080/",
          "height": 143
        },
        "outputId": "57ede059-115a-40b1-db44-377ed37dfba6",
        "id": "JQYxDQavBWyJ"
      },
      "execution_count": null,
      "outputs": [
        {
          "output_type": "execute_result",
          "data": {
            "text/plain": [
              "address   R    U\n",
              "school          \n",
              "GP       63  286\n",
              "MS       25   21"
            ],
            "text/html": [
              "\n",
              "  <div id=\"df-fbd411fe-eed3-4a3b-8e73-1ddb1d3210fb\">\n",
              "    <div class=\"colab-df-container\">\n",
              "      <div>\n",
              "<style scoped>\n",
              "    .dataframe tbody tr th:only-of-type {\n",
              "        vertical-align: middle;\n",
              "    }\n",
              "\n",
              "    .dataframe tbody tr th {\n",
              "        vertical-align: top;\n",
              "    }\n",
              "\n",
              "    .dataframe thead th {\n",
              "        text-align: right;\n",
              "    }\n",
              "</style>\n",
              "<table border=\"1\" class=\"dataframe\">\n",
              "  <thead>\n",
              "    <tr style=\"text-align: right;\">\n",
              "      <th>address</th>\n",
              "      <th>R</th>\n",
              "      <th>U</th>\n",
              "    </tr>\n",
              "    <tr>\n",
              "      <th>school</th>\n",
              "      <th></th>\n",
              "      <th></th>\n",
              "    </tr>\n",
              "  </thead>\n",
              "  <tbody>\n",
              "    <tr>\n",
              "      <th>GP</th>\n",
              "      <td>63</td>\n",
              "      <td>286</td>\n",
              "    </tr>\n",
              "    <tr>\n",
              "      <th>MS</th>\n",
              "      <td>25</td>\n",
              "      <td>21</td>\n",
              "    </tr>\n",
              "  </tbody>\n",
              "</table>\n",
              "</div>\n",
              "      <button class=\"colab-df-convert\" onclick=\"convertToInteractive('df-fbd411fe-eed3-4a3b-8e73-1ddb1d3210fb')\"\n",
              "              title=\"Convert this dataframe to an interactive table.\"\n",
              "              style=\"display:none;\">\n",
              "        \n",
              "  <svg xmlns=\"http://www.w3.org/2000/svg\" height=\"24px\"viewBox=\"0 0 24 24\"\n",
              "       width=\"24px\">\n",
              "    <path d=\"M0 0h24v24H0V0z\" fill=\"none\"/>\n",
              "    <path d=\"M18.56 5.44l.94 2.06.94-2.06 2.06-.94-2.06-.94-.94-2.06-.94 2.06-2.06.94zm-11 1L8.5 8.5l.94-2.06 2.06-.94-2.06-.94L8.5 2.5l-.94 2.06-2.06.94zm10 10l.94 2.06.94-2.06 2.06-.94-2.06-.94-.94-2.06-.94 2.06-2.06.94z\"/><path d=\"M17.41 7.96l-1.37-1.37c-.4-.4-.92-.59-1.43-.59-.52 0-1.04.2-1.43.59L10.3 9.45l-7.72 7.72c-.78.78-.78 2.05 0 2.83L4 21.41c.39.39.9.59 1.41.59.51 0 1.02-.2 1.41-.59l7.78-7.78 2.81-2.81c.8-.78.8-2.07 0-2.86zM5.41 20L4 18.59l7.72-7.72 1.47 1.35L5.41 20z\"/>\n",
              "  </svg>\n",
              "      </button>\n",
              "      \n",
              "  <style>\n",
              "    .colab-df-container {\n",
              "      display:flex;\n",
              "      flex-wrap:wrap;\n",
              "      gap: 12px;\n",
              "    }\n",
              "\n",
              "    .colab-df-convert {\n",
              "      background-color: #E8F0FE;\n",
              "      border: none;\n",
              "      border-radius: 50%;\n",
              "      cursor: pointer;\n",
              "      display: none;\n",
              "      fill: #1967D2;\n",
              "      height: 32px;\n",
              "      padding: 0 0 0 0;\n",
              "      width: 32px;\n",
              "    }\n",
              "\n",
              "    .colab-df-convert:hover {\n",
              "      background-color: #E2EBFA;\n",
              "      box-shadow: 0px 1px 2px rgba(60, 64, 67, 0.3), 0px 1px 3px 1px rgba(60, 64, 67, 0.15);\n",
              "      fill: #174EA6;\n",
              "    }\n",
              "\n",
              "    [theme=dark] .colab-df-convert {\n",
              "      background-color: #3B4455;\n",
              "      fill: #D2E3FC;\n",
              "    }\n",
              "\n",
              "    [theme=dark] .colab-df-convert:hover {\n",
              "      background-color: #434B5C;\n",
              "      box-shadow: 0px 1px 3px 1px rgba(0, 0, 0, 0.15);\n",
              "      filter: drop-shadow(0px 1px 2px rgba(0, 0, 0, 0.3));\n",
              "      fill: #FFFFFF;\n",
              "    }\n",
              "  </style>\n",
              "\n",
              "      <script>\n",
              "        const buttonEl =\n",
              "          document.querySelector('#df-fbd411fe-eed3-4a3b-8e73-1ddb1d3210fb button.colab-df-convert');\n",
              "        buttonEl.style.display =\n",
              "          google.colab.kernel.accessAllowed ? 'block' : 'none';\n",
              "\n",
              "        async function convertToInteractive(key) {\n",
              "          const element = document.querySelector('#df-fbd411fe-eed3-4a3b-8e73-1ddb1d3210fb');\n",
              "          const dataTable =\n",
              "            await google.colab.kernel.invokeFunction('convertToInteractive',\n",
              "                                                     [key], {});\n",
              "          if (!dataTable) return;\n",
              "\n",
              "          const docLinkHtml = 'Like what you see? Visit the ' +\n",
              "            '<a target=\"_blank\" href=https://colab.research.google.com/notebooks/data_table.ipynb>data table notebook</a>'\n",
              "            + ' to learn more about interactive tables.';\n",
              "          element.innerHTML = '';\n",
              "          dataTable['output_type'] = 'display_data';\n",
              "          await google.colab.output.renderOutput(dataTable, element);\n",
              "          const docLink = document.createElement('div');\n",
              "          docLink.innerHTML = docLinkHtml;\n",
              "          element.appendChild(docLink);\n",
              "        }\n",
              "      </script>\n",
              "    </div>\n",
              "  </div>\n",
              "  "
            ]
          },
          "metadata": {},
          "execution_count": 19
        }
      ]
    },
    {
      "cell_type": "markdown",
      "source": [
        "in above table we can see that more students are from urban area..."
      ],
      "metadata": {
        "id": "7R0Jo7-UBWyJ"
      }
    },
    {
      "cell_type": "code",
      "source": [
        "sns.barplot(x=\"studytime\",y = \"Dalc\" , data=data,hue=\"Walc\")"
      ],
      "metadata": {
        "colab": {
          "base_uri": "https://localhost:8080/",
          "height": 297
        },
        "outputId": "e15c1184-7fc1-4a61-af3f-d2a694253001",
        "id": "od0748byBWyK"
      },
      "execution_count": null,
      "outputs": [
        {
          "output_type": "execute_result",
          "data": {
            "text/plain": [
              "<matplotlib.axes._subplots.AxesSubplot at 0x7f98c7adf350>"
            ]
          },
          "metadata": {},
          "execution_count": 15
        },
        {
          "output_type": "display_data",
          "data": {
            "text/plain": [
              "<Figure size 432x288 with 1 Axes>"
            ],
            "image/png": "[encoded data removed]"
          },
          "metadata": {
            "needs_background": "light"
          }
        }
      ]
    },
    {
      "cell_type": "code",
      "source": [
        "data.groupby([\"age\",\"Walc\"])[\"Walc\"].sum()"
      ],
      "metadata": {
        "colab": {
          "base_uri": "https://localhost:8080/"
        },
        "outputId": "ac9a18f7-650f-47e6-ae63-ed544f7d043d",
        "id": "U0LhucYrBWyK"
      },
      "execution_count": null,
      "outputs": [
        {
          "output_type": "execute_result",
          "data": {
            "text/plain": [
              "age  Walc\n",
              "15   1       46\n",
              "     2       24\n",
              "     3       39\n",
              "     4       32\n",
              "     5       15\n",
              "16   1       42\n",
              "     2       46\n",
              "     3       45\n",
              "     4       64\n",
              "     5       40\n",
              "17   1       25\n",
              "     2       46\n",
              "     3       81\n",
              "     4       60\n",
              "     5       40\n",
              "18   1       27\n",
              "     2       40\n",
              "     3       48\n",
              "     4       48\n",
              "     5       35\n",
              "19   1        9\n",
              "     2       14\n",
              "     3       24\n",
              "20   1        2\n",
              "     5        5\n",
              "21   3        3\n",
              "22   5        5\n",
              "Name: Walc, dtype: int64"
            ]
          },
          "metadata": {},
          "execution_count": 21
        }
      ]
    },
    {
      "cell_type": "code",
      "source": [
        "sns.lineplot(x=\"age\",y=\"romantic\",data=data)"
      ],
      "metadata": {
        "colab": {
          "base_uri": "https://localhost:8080/",
          "height": 296
        },
        "outputId": "34824196-3454-42d6-8ddd-bc7b47283ff4",
        "id": "GLs3hlQBBWyL"
      },
      "execution_count": null,
      "outputs": [
        {
          "output_type": "execute_result",
          "data": {
            "text/plain": [
              "<matplotlib.axes._subplots.AxesSubplot at 0x7f19f6ff1b10>"
            ]
          },
          "metadata": {},
          "execution_count": 22
        },
        {
          "output_type": "display_data",
          "data": {
            "text/plain": [
              "<Figure size 432x288 with 1 Axes>"
            ],
            "image/png": "[encoded data removed]"
          },
          "metadata": {
            "needs_background": "light"
          }
        }
      ]
    },
    {
      "cell_type": "code",
      "source": [
        "pd.crosstab(index=data['school'], columns=data['gender'])"
      ],
      "metadata": {
        "colab": {
          "base_uri": "https://localhost:8080/",
          "height": 143
        },
        "outputId": "a1403af7-5304-4237-e467-881f261c110d",
        "id": "EE0Aj13BBWyL"
      },
      "execution_count": null,
      "outputs": [
        {
          "output_type": "execute_result",
          "data": {
            "text/plain": [
              "gender    0    1\n",
              "school          \n",
              "GP      183  166\n",
              "MS       25   21"
            ],
            "text/html": [
              "\n",
              "  <div id=\"df-85d45889-3044-44c8-8ac9-4c51062de463\">\n",
              "    <div class=\"colab-df-container\">\n",
              "      <div>\n",
              "<style scoped>\n",
              "    .dataframe tbody tr th:only-of-type {\n",
              "        vertical-align: middle;\n",
              "    }\n",
              "\n",
              "    .dataframe tbody tr th {\n",
              "        vertical-align: top;\n",
              "    }\n",
              "\n",
              "    .dataframe thead th {\n",
              "        text-align: right;\n",
              "    }\n",
              "</style>\n",
              "<table border=\"1\" class=\"dataframe\">\n",
              "  <thead>\n",
              "    <tr style=\"text-align: right;\">\n",
              "      <th>gender</th>\n",
              "      <th>0</th>\n",
              "      <th>1</th>\n",
              "    </tr>\n",
              "    <tr>\n",
              "      <th>school</th>\n",
              "      <th></th>\n",
              "      <th></th>\n",
              "    </tr>\n",
              "  </thead>\n",
              "  <tbody>\n",
              "    <tr>\n",
              "      <th>GP</th>\n",
              "      <td>183</td>\n",
              "      <td>166</td>\n",
              "    </tr>\n",
              "    <tr>\n",
              "      <th>MS</th>\n",
              "      <td>25</td>\n",
              "      <td>21</td>\n",
              "    </tr>\n",
              "  </tbody>\n",
              "</table>\n",
              "</div>\n",
              "      <button class=\"colab-df-convert\" onclick=\"convertToInteractive('df-85d45889-3044-44c8-8ac9-4c51062de463')\"\n",
              "              title=\"Convert this dataframe to an interactive table.\"\n",
              "              style=\"display:none;\">\n",
              "        \n",
              "  <svg xmlns=\"http://www.w3.org/2000/svg\" height=\"24px\"viewBox=\"0 0 24 24\"\n",
              "       width=\"24px\">\n",
              "    <path d=\"M0 0h24v24H0V0z\" fill=\"none\"/>\n",
              "    <path d=\"M18.56 5.44l.94 2.06.94-2.06 2.06-.94-2.06-.94-.94-2.06-.94 2.06-2.06.94zm-11 1L8.5 8.5l.94-2.06 2.06-.94-2.06-.94L8.5 2.5l-.94 2.06-2.06.94zm10 10l.94 2.06.94-2.06 2.06-.94-2.06-.94-.94-2.06-.94 2.06-2.06.94z\"/><path d=\"M17.41 7.96l-1.37-1.37c-.4-.4-.92-.59-1.43-.59-.52 0-1.04.2-1.43.59L10.3 9.45l-7.72 7.72c-.78.78-.78 2.05 0 2.83L4 21.41c.39.39.9.59 1.41.59.51 0 1.02-.2 1.41-.59l7.78-7.78 2.81-2.81c.8-.78.8-2.07 0-2.86zM5.41 20L4 18.59l7.72-7.72 1.47 1.35L5.41 20z\"/>\n",
              "  </svg>\n",
              "      </button>\n",
              "      \n",
              "  <style>\n",
              "    .colab-df-container {\n",
              "      display:flex;\n",
              "      flex-wrap:wrap;\n",
              "      gap: 12px;\n",
              "    }\n",
              "\n",
              "    .colab-df-convert {\n",
              "      background-color: #E8F0FE;\n",
              "      border: none;\n",
              "      border-radius: 50%;\n",
              "      cursor: pointer;\n",
              "      display: none;\n",
              "      fill: #1967D2;\n",
              "      height: 32px;\n",
              "      padding: 0 0 0 0;\n",
              "      width: 32px;\n",
              "    }\n",
              "\n",
              "    .colab-df-convert:hover {\n",
              "      background-color: #E2EBFA;\n",
              "      box-shadow: 0px 1px 2px rgba(60, 64, 67, 0.3), 0px 1px 3px 1px rgba(60, 64, 67, 0.15);\n",
              "      fill: #174EA6;\n",
              "    }\n",
              "\n",
              "    [theme=dark] .colab-df-convert {\n",
              "      background-color: #3B4455;\n",
              "      fill: #D2E3FC;\n",
              "    }\n",
              "\n",
              "    [theme=dark] .colab-df-convert:hover {\n",
              "      background-color: #434B5C;\n",
              "      box-shadow: 0px 1px 3px 1px rgba(0, 0, 0, 0.15);\n",
              "      filter: drop-shadow(0px 1px 2px rgba(0, 0, 0, 0.3));\n",
              "      fill: #FFFFFF;\n",
              "    }\n",
              "  </style>\n",
              "\n",
              "      <script>\n",
              "        const buttonEl =\n",
              "          document.querySelector('#df-85d45889-3044-44c8-8ac9-4c51062de463 button.colab-df-convert');\n",
              "        buttonEl.style.display =\n",
              "          google.colab.kernel.accessAllowed ? 'block' : 'none';\n",
              "\n",
              "        async function convertToInteractive(key) {\n",
              "          const element = document.querySelector('#df-85d45889-3044-44c8-8ac9-4c51062de463');\n",
              "          const dataTable =\n",
              "            await google.colab.kernel.invokeFunction('convertToInteractive',\n",
              "                                                     [key], {});\n",
              "          if (!dataTable) return;\n",
              "\n",
              "          const docLinkHtml = 'Like what you see? Visit the ' +\n",
              "            '<a target=\"_blank\" href=https://colab.research.google.com/notebooks/data_table.ipynb>data table notebook</a>'\n",
              "            + ' to learn more about interactive tables.';\n",
              "          element.innerHTML = '';\n",
              "          dataTable['output_type'] = 'display_data';\n",
              "          await google.colab.output.renderOutput(dataTable, element);\n",
              "          const docLink = document.createElement('div');\n",
              "          docLink.innerHTML = docLinkHtml;\n",
              "          element.appendChild(docLink);\n",
              "        }\n",
              "      </script>\n",
              "    </div>\n",
              "  </div>\n",
              "  "
            ]
          },
          "metadata": {},
          "execution_count": 6
        }
      ]
    },
    {
      "cell_type": "code",
      "source": [
        "sns.barplot(x='Sch_int',y='Sch_int',data=data,hue='gender')"
      ],
      "metadata": {
        "colab": {
          "base_uri": "https://localhost:8080/",
          "height": 297
        },
        "outputId": "9a8bf03a-e596-4975-ab3b-948545d47dd2",
        "id": "xjz7Z0nbBWyM"
      },
      "execution_count": null,
      "outputs": [
        {
          "output_type": "execute_result",
          "data": {
            "text/plain": [
              "<matplotlib.axes._subplots.AxesSubplot at 0x7f9224009c90>"
            ]
          },
          "metadata": {},
          "execution_count": 7
        },
        {
          "output_type": "display_data",
          "data": {
            "text/plain": [
              "<Figure size 432x288 with 1 Axes>"
            ],
            "image/png": "[encoded data removed]"
          },
          "metadata": {
            "needs_background": "light"
          }
        }
      ]
    },
    {
      "cell_type": "code",
      "source": [
        "fmh = data.groupby(['Mjob','Fjob'])['higher'].count()\n",
        "fmh"
      ],
      "metadata": {
        "colab": {
          "base_uri": "https://localhost:8080/"
        },
        "outputId": "6da8ead5-dba4-45cb-e55f-0601eb55ad03",
        "id": "lhTS0EXuBWyM"
      },
      "execution_count": null,
      "outputs": [
        {
          "output_type": "execute_result",
          "data": {
            "text/plain": [
              "Mjob      Fjob    \n",
              "at_home   at_home       7\n",
              "          health        2\n",
              "          other        33\n",
              "          services     15\n",
              "          teacher       2\n",
              "health    health        6\n",
              "          other        17\n",
              "          services     10\n",
              "          teacher       1\n",
              "other     at_home       5\n",
              "          health        2\n",
              "          other       104\n",
              "          services     24\n",
              "          teacher       6\n",
              "services  at_home       6\n",
              "          health        4\n",
              "          other        42\n",
              "          services     43\n",
              "          teacher       8\n",
              "teacher   at_home       2\n",
              "          health        4\n",
              "          other        21\n",
              "          services     19\n",
              "          teacher      12\n",
              "Name: higher, dtype: int64"
            ]
          },
          "metadata": {},
          "execution_count": 19
        }
      ]
    },
    {
      "cell_type": "code",
      "source": [
        "sns.barplot(y=fmh1.values)"
      ],
      "metadata": {
        "colab": {
          "base_uri": "https://localhost:8080/",
          "height": 169
        },
        "outputId": "30ebac6b-91f1-4b1b-abe3-fb8fca205b54",
        "id": "4tfpzt3jBWyN"
      },
      "execution_count": null,
      "outputs": [
        {
          "output_type": "error",
          "ename": "AttributeError",
          "evalue": "ignored",
          "traceback": [
            "\u001b[0;31m---------------------------------------------------------------------------\u001b[0m",
            "\u001b[0;31mAttributeError\u001b[0m                            Traceback (most recent call last)",
            "\u001b[0;32m<ipython-input-27-281c6d4b88fa>\u001b[0m in \u001b[0;36m<module>\u001b[0;34m\u001b[0m\n\u001b[0;32m----> 1\u001b[0;31m \u001b[0msns\u001b[0m\u001b[0;34m.\u001b[0m\u001b[0mbarplot\u001b[0m\u001b[0;34m(\u001b[0m\u001b[0mx\u001b[0m\u001b[0;34m=\u001b[0m\u001b[0mfmh1\u001b[0m\u001b[0;34m.\u001b[0m\u001b[0mindex\u001b[0m\u001b[0;34m,\u001b[0m\u001b[0my\u001b[0m\u001b[0;34m=\u001b[0m\u001b[0mfmh1\u001b[0m\u001b[0;34m.\u001b[0m\u001b[0mvalues\u001b[0m\u001b[0;34m)\u001b[0m\u001b[0;34m\u001b[0m\u001b[0;34m\u001b[0m\u001b[0m\n\u001b[0m",
            "\u001b[0;31mAttributeError\u001b[0m: 'MultiIndex' object has no attribute 'index'"
          ]
        }
      ]
    },
    {
      "cell_type": "code",
      "source": [
        "Fjob=data['Fjob']\n",
        "Mjob=data['Mjob']\n",
        "higher=data['higher']\n",
        "fmh1 = pd.MultiIndex.from_arrays([Fjob,Mjob,higher], names=('Fjob', 'Mjob','Higher'))\n",
        "fmh1"
      ],
      "metadata": {
        "colab": {
          "base_uri": "https://localhost:8080/"
        },
        "outputId": "c87e4471-700c-41f4-f99a-7af563c4d3fe",
        "id": "zBy9uCfkBWyN"
      },
      "execution_count": null,
      "outputs": [
        {
          "output_type": "execute_result",
          "data": {
            "text/plain": [
              "MultiIndex([( 'teacher',  'at_home', 'yes'),\n",
              "            (   'other',  'at_home', 'yes'),\n",
              "            (   'other',  'at_home', 'yes'),\n",
              "            ('services',   'health', 'yes'),\n",
              "            (   'other',    'other', 'yes'),\n",
              "            (   'other', 'services', 'yes'),\n",
              "            (   'other',    'other', 'yes'),\n",
              "            ( 'teacher',    'other', 'yes'),\n",
              "            (   'other', 'services', 'yes'),\n",
              "            (   'other',    'other', 'yes'),\n",
              "            ...\n",
              "            (   'other',  'at_home', 'yes'),\n",
              "            ( 'at_home',  'teacher', 'yes'),\n",
              "            (   'other', 'services', 'yes'),\n",
              "            ('services',  'teacher', 'yes'),\n",
              "            (   'other',    'other', 'yes'),\n",
              "            ('services', 'services', 'yes'),\n",
              "            ('services', 'services', 'yes'),\n",
              "            (   'other',    'other', 'yes'),\n",
              "            (   'other', 'services', 'yes'),\n",
              "            ( 'at_home',    'other', 'yes')],\n",
              "           names=['Fjob', 'Mjob', 'Higher'], length=395)"
            ]
          },
          "metadata": {},
          "execution_count": 26
        }
      ]
    },
    {
      "cell_type": "code",
      "source": [
        "plt.pie(e,labels=e.index,autopct=\"%.2f%%\");\n",
        "plt.show()"
      ],
      "metadata": {
        "id": "0JOWJhr8BWyO"
      },
      "execution_count": null,
      "outputs": []
    },
    {
      "cell_type": "code",
      "source": [],
      "metadata": {
        "id": "DA2qs1JyBWyO"
      },
      "execution_count": null,
      "outputs": []
    },
    {
      "cell_type": "markdown",
      "source": [
        "# Linear regression"
      ],
      "metadata": {
        "id": "V74miWjE_tHK"
      }
    },
    {
      "cell_type": "code",
      "execution_count": null,
      "metadata": {
        "id": "W1JmbGYn0SM0"
      },
      "outputs": [],
      "source": [
        "X = data['Sch_int','gender','add_int','reason_int','studytime','failures','schoolsup_int','paid_int','act_int','health','absences','G1','G2']\n",
        "y = data.G3\n",
        "X_train, X_test, y_train, y_test = train_test_split(X, y, test_size=0.2)\n",
        "lm3 = LinearRegression()\n",
        "lm3.fit(X_train, y_train)\n",
        "y_pred = lm3.predict(X_test)\n",
        "print(np.sqrt(metrics.mean_squared_error(y_test, y_pred)))\n"
      ]
    },
    {
      "cell_type": "code",
      "source": [
        "mae = metrics.mean_absolute_error(y_test, y_pred)  ##MAE (Mean absolute error)\n",
        "mse = metrics.mean_squared_error(y_test, y_pred)   ##MSE (Mean Squared Error) \n",
        "rmse = np.sqrt(mse) # or mse**(0.5)                    ##RMSE (Root Mean Squared Error)\n",
        "r2 = metrics.r2_score(y_test, y_pred)                ##R-squared (Coefficient of determination)\n",
        "print(mae)\n",
        "print(mse)\n",
        "print(rmse)\n",
        "print(r2)"
      ],
      "metadata": {
        "colab": {
          "base_uri": "https://localhost:8080/"
        },
        "id": "CFJWV5h70R5n",
        "outputId": "c936937b-e61e-4862-f8a0-acc8da7a19a0"
      },
      "execution_count": null,
      "outputs": [
        {
          "output_type": "stream",
          "name": "stdout",
          "text": [
            "1.179056295339554\n",
            "3.409483220685156\n",
            "1.8464786001156785\n",
            "0.8294657243356409\n"
          ]
        }
      ]
    },
    {
      "cell_type": "code",
      "source": [
        "lm3 = smf.ols(formula='G3 ~ Sch_int+gender+add_int+reason_int+studytime+failures+schoolsup_int+paid_int+act_int+health+absences+G1+G2', data=data).fit()\n",
        "lm3.params "
      ],
      "metadata": {
        "colab": {
          "base_uri": "https://localhost:8080/"
        },
        "id": "QZgv3KG7gadp",
        "outputId": "e27d9cbd-db9b-44b8-9c76-90e1bdf341b9"
      },
      "execution_count": null,
      "outputs": [
        {
          "output_type": "execute_result",
          "data": {
            "text/plain": [
              "Intercept       -1.892788\n",
              "Sch_int          0.065265\n",
              "gender           0.248612\n",
              "add_int          0.027831\n",
              "reason_int       0.123367\n",
              "studytime       -0.120276\n",
              "failures        -0.269688\n",
              "schoolsup_int   -0.605915\n",
              "paid_int        -0.154515\n",
              "act_int          0.324360\n",
              "health           0.088296\n",
              "absences         0.039895\n",
              "G1               0.176712\n",
              "G2               0.964827\n",
              "dtype: float64"
            ]
          },
          "metadata": {},
          "execution_count": 13
        }
      ]
    },
    {
      "cell_type": "code",
      "source": [
        "lm3.summary()"
      ],
      "metadata": {
        "colab": {
          "base_uri": "https://localhost:8080/",
          "height": 692
        },
        "id": "JX0j3Z2Sgx92",
        "outputId": "8ea43261-b20e-466c-c368-64a0719c7ca0"
      },
      "execution_count": null,
      "outputs": [
        {
          "output_type": "execute_result",
          "data": {
            "text/plain": [
              "<class 'statsmodels.iolib.summary.Summary'>\n",
              "\"\"\"\n",
              "                            OLS Regression Results                            \n",
              "==============================================================================\n",
              "Dep. Variable:                     G3   R-squared:                       0.833\n",
              "Model:                            OLS   Adj. R-squared:                  0.828\n",
              "Method:                 Least Squares   F-statistic:                     146.6\n",
              "Date:                Sat, 20 Aug 2022   Prob (F-statistic):          2.77e-139\n",
              "Time:                        12:40:38   Log-Likelihood:                -807.29\n",
              "No. Observations:                 395   AIC:                             1643.\n",
              "Df Residuals:                     381   BIC:                             1698.\n",
              "Df Model:                          13                                         \n",
              "Covariance Type:            nonrobust                                         \n",
              "=================================================================================\n",
              "                    coef    std err          t      P>|t|      [0.025      0.975]\n",
              "---------------------------------------------------------------------------------\n",
              "Intercept        -1.8928      0.598     -3.167      0.002      -3.068      -0.718\n",
              "Sch_int           0.0653      0.322      0.203      0.839      -0.568       0.698\n",
              "gender            0.2486      0.211      1.179      0.239      -0.166       0.663\n",
              "add_int           0.0278      0.246      0.113      0.910      -0.455       0.511\n",
              "reason_int        0.1234      0.102      1.207      0.228      -0.078       0.324\n",
              "studytime        -0.1203      0.126     -0.951      0.342      -0.369       0.128\n",
              "failures         -0.2697      0.143     -1.890      0.059      -0.550       0.011\n",
              "schoolsup_int    -0.6059      0.302     -2.009      0.045      -1.199      -0.013\n",
              "paid_int         -0.1545      0.201     -0.768      0.443      -0.550       0.241\n",
              "act_int           0.3244      0.196      1.652      0.099      -0.062       0.710\n",
              "health            0.0883      0.071      1.252      0.211      -0.050       0.227\n",
              "absences          0.0399      0.012      3.251      0.001       0.016       0.064\n",
              "G1                0.1767      0.058      3.057      0.002       0.063       0.290\n",
              "G2                0.9648      0.050     19.206      0.000       0.866       1.064\n",
              "==============================================================================\n",
              "Omnibus:                      202.797   Durbin-Watson:                   1.880\n",
              "Prob(Omnibus):                  0.000   Jarque-Bera (JB):             1098.945\n",
              "Skew:                          -2.212   Prob(JB):                    2.33e-239\n",
              "Kurtosis:                       9.871   Cond. No.                         114.\n",
              "==============================================================================\n",
              "\n",
              "Notes:\n",
              "[1] Standard Errors assume that the covariance matrix of the errors is correctly specified.\n",
              "\"\"\""
            ],
            "text/html": [
              "<table class=\"simpletable\">\n",
              "<caption>OLS Regression Results</caption>\n",
              "<tr>\n",
              "  <th>Dep. Variable:</th>           <td>G3</td>        <th>  R-squared:         </th> <td>   0.833</td> \n",
              "</tr>\n",
              "<tr>\n",
              "  <th>Model:</th>                   <td>OLS</td>       <th>  Adj. R-squared:    </th> <td>   0.828</td> \n",
              "</tr>\n",
              "<tr>\n",
              "  <th>Method:</th>             <td>Least Squares</td>  <th>  F-statistic:       </th> <td>   146.6</td> \n",
              "</tr>\n",
              "<tr>\n",
              "  <th>Date:</th>             <td>Sat, 20 Aug 2022</td> <th>  Prob (F-statistic):</th> <td>2.77e-139</td>\n",
              "</tr>\n",
              "<tr>\n",
              "  <th>Time:</th>                 <td>12:40:38</td>     <th>  Log-Likelihood:    </th> <td> -807.29</td> \n",
              "</tr>\n",
              "<tr>\n",
              "  <th>No. Observations:</th>      <td>   395</td>      <th>  AIC:               </th> <td>   1643.</td> \n",
              "</tr>\n",
              "<tr>\n",
              "  <th>Df Residuals:</th>          <td>   381</td>      <th>  BIC:               </th> <td>   1698.</td> \n",
              "</tr>\n",
              "<tr>\n",
              "  <th>Df Model:</th>              <td>    13</td>      <th>                     </th>     <td> </td>    \n",
              "</tr>\n",
              "<tr>\n",
              "  <th>Covariance Type:</th>      <td>nonrobust</td>    <th>                     </th>     <td> </td>    \n",
              "</tr>\n",
              "</table>\n",
              "<table class=\"simpletable\">\n",
              "<tr>\n",
              "        <td></td>           <th>coef</th>     <th>std err</th>      <th>t</th>      <th>P>|t|</th>  <th>[0.025</th>    <th>0.975]</th>  \n",
              "</tr>\n",
              "<tr>\n",
              "  <th>Intercept</th>     <td>   -1.8928</td> <td>    0.598</td> <td>   -3.167</td> <td> 0.002</td> <td>   -3.068</td> <td>   -0.718</td>\n",
              "</tr>\n",
              "<tr>\n",
              "  <th>Sch_int</th>       <td>    0.0653</td> <td>    0.322</td> <td>    0.203</td> <td> 0.839</td> <td>   -0.568</td> <td>    0.698</td>\n",
              "</tr>\n",
              "<tr>\n",
              "  <th>gender</th>        <td>    0.2486</td> <td>    0.211</td> <td>    1.179</td> <td> 0.239</td> <td>   -0.166</td> <td>    0.663</td>\n",
              "</tr>\n",
              "<tr>\n",
              "  <th>add_int</th>       <td>    0.0278</td> <td>    0.246</td> <td>    0.113</td> <td> 0.910</td> <td>   -0.455</td> <td>    0.511</td>\n",
              "</tr>\n",
              "<tr>\n",
              "  <th>reason_int</th>    <td>    0.1234</td> <td>    0.102</td> <td>    1.207</td> <td> 0.228</td> <td>   -0.078</td> <td>    0.324</td>\n",
              "</tr>\n",
              "<tr>\n",
              "  <th>studytime</th>     <td>   -0.1203</td> <td>    0.126</td> <td>   -0.951</td> <td> 0.342</td> <td>   -0.369</td> <td>    0.128</td>\n",
              "</tr>\n",
              "<tr>\n",
              "  <th>failures</th>      <td>   -0.2697</td> <td>    0.143</td> <td>   -1.890</td> <td> 0.059</td> <td>   -0.550</td> <td>    0.011</td>\n",
              "</tr>\n",
              "<tr>\n",
              "  <th>schoolsup_int</th> <td>   -0.6059</td> <td>    0.302</td> <td>   -2.009</td> <td> 0.045</td> <td>   -1.199</td> <td>   -0.013</td>\n",
              "</tr>\n",
              "<tr>\n",
              "  <th>paid_int</th>      <td>   -0.1545</td> <td>    0.201</td> <td>   -0.768</td> <td> 0.443</td> <td>   -0.550</td> <td>    0.241</td>\n",
              "</tr>\n",
              "<tr>\n",
              "  <th>act_int</th>       <td>    0.3244</td> <td>    0.196</td> <td>    1.652</td> <td> 0.099</td> <td>   -0.062</td> <td>    0.710</td>\n",
              "</tr>\n",
              "<tr>\n",
              "  <th>health</th>        <td>    0.0883</td> <td>    0.071</td> <td>    1.252</td> <td> 0.211</td> <td>   -0.050</td> <td>    0.227</td>\n",
              "</tr>\n",
              "<tr>\n",
              "  <th>absences</th>      <td>    0.0399</td> <td>    0.012</td> <td>    3.251</td> <td> 0.001</td> <td>    0.016</td> <td>    0.064</td>\n",
              "</tr>\n",
              "<tr>\n",
              "  <th>G1</th>            <td>    0.1767</td> <td>    0.058</td> <td>    3.057</td> <td> 0.002</td> <td>    0.063</td> <td>    0.290</td>\n",
              "</tr>\n",
              "<tr>\n",
              "  <th>G2</th>            <td>    0.9648</td> <td>    0.050</td> <td>   19.206</td> <td> 0.000</td> <td>    0.866</td> <td>    1.064</td>\n",
              "</tr>\n",
              "</table>\n",
              "<table class=\"simpletable\">\n",
              "<tr>\n",
              "  <th>Omnibus:</th>       <td>202.797</td> <th>  Durbin-Watson:     </th> <td>   1.880</td> \n",
              "</tr>\n",
              "<tr>\n",
              "  <th>Prob(Omnibus):</th> <td> 0.000</td>  <th>  Jarque-Bera (JB):  </th> <td>1098.945</td> \n",
              "</tr>\n",
              "<tr>\n",
              "  <th>Skew:</th>          <td>-2.212</td>  <th>  Prob(JB):          </th> <td>2.33e-239</td>\n",
              "</tr>\n",
              "<tr>\n",
              "  <th>Kurtosis:</th>      <td> 9.871</td>  <th>  Cond. No.          </th> <td>    114.</td> \n",
              "</tr>\n",
              "</table><br/><br/>Notes:<br/>[1] Standard Errors assume that the covariance matrix of the errors is correctly specified."
            ]
          },
          "metadata": {},
          "execution_count": 14
        }
      ]
    },
    {
      "cell_type": "code",
      "execution_count": null,
      "metadata": {
        "colab": {
          "base_uri": "https://localhost:8080/"
        },
        "id": "8ZBbs6fKycEe",
        "outputId": "afdcfbd7-fd3a-452f-a142-3b3115bf3627"
      },
      "outputs": [
        {
          "output_type": "execute_result",
          "data": {
            "text/plain": [
              "Intercept       -1.892788\n",
              "Sch_int          0.065265\n",
              "gender           0.248612\n",
              "add_int          0.027831\n",
              "reason_int       0.123367\n",
              "studytime       -0.120276\n",
              "failures        -0.269688\n",
              "schoolsup_int   -0.605915\n",
              "paid_int        -0.154515\n",
              "act_int          0.324360\n",
              "health           0.088296\n",
              "absences         0.039895\n",
              "G1               0.176712\n",
              "G2               0.964827\n",
              "dtype: float64"
            ]
          },
          "metadata": {},
          "execution_count": 15
        }
      ],
      "source": [
        "lm1 = smf.ols(formula='G3 ~ Sch_int+gender+add_int+reason_int+studytime+failures+schoolsup_int+paid_int+act_int+health+absences+G1+G2', data=data).fit()\n",
        "lm1.params"
      ]
    },
    {
      "cell_type": "code",
      "execution_count": null,
      "metadata": {
        "colab": {
          "base_uri": "https://localhost:8080/",
          "height": 692
        },
        "id": "NB9CS5eTzU5t",
        "outputId": "ca602618-8dff-4992-fc58-4e2cc30619c0"
      },
      "outputs": [
        {
          "output_type": "execute_result",
          "data": {
            "text/plain": [
              "<class 'statsmodels.iolib.summary.Summary'>\n",
              "\"\"\"\n",
              "                            OLS Regression Results                            \n",
              "==============================================================================\n",
              "Dep. Variable:                     G3   R-squared:                       0.833\n",
              "Model:                            OLS   Adj. R-squared:                  0.828\n",
              "Method:                 Least Squares   F-statistic:                     146.6\n",
              "Date:                Sat, 20 Aug 2022   Prob (F-statistic):          2.77e-139\n",
              "Time:                        12:40:46   Log-Likelihood:                -807.29\n",
              "No. Observations:                 395   AIC:                             1643.\n",
              "Df Residuals:                     381   BIC:                             1698.\n",
              "Df Model:                          13                                         \n",
              "Covariance Type:            nonrobust                                         \n",
              "=================================================================================\n",
              "                    coef    std err          t      P>|t|      [0.025      0.975]\n",
              "---------------------------------------------------------------------------------\n",
              "Intercept        -1.8928      0.598     -3.167      0.002      -3.068      -0.718\n",
              "Sch_int           0.0653      0.322      0.203      0.839      -0.568       0.698\n",
              "gender            0.2486      0.211      1.179      0.239      -0.166       0.663\n",
              "add_int           0.0278      0.246      0.113      0.910      -0.455       0.511\n",
              "reason_int        0.1234      0.102      1.207      0.228      -0.078       0.324\n",
              "studytime        -0.1203      0.126     -0.951      0.342      -0.369       0.128\n",
              "failures         -0.2697      0.143     -1.890      0.059      -0.550       0.011\n",
              "schoolsup_int    -0.6059      0.302     -2.009      0.045      -1.199      -0.013\n",
              "paid_int         -0.1545      0.201     -0.768      0.443      -0.550       0.241\n",
              "act_int           0.3244      0.196      1.652      0.099      -0.062       0.710\n",
              "health            0.0883      0.071      1.252      0.211      -0.050       0.227\n",
              "absences          0.0399      0.012      3.251      0.001       0.016       0.064\n",
              "G1                0.1767      0.058      3.057      0.002       0.063       0.290\n",
              "G2                0.9648      0.050     19.206      0.000       0.866       1.064\n",
              "==============================================================================\n",
              "Omnibus:                      202.797   Durbin-Watson:                   1.880\n",
              "Prob(Omnibus):                  0.000   Jarque-Bera (JB):             1098.945\n",
              "Skew:                          -2.212   Prob(JB):                    2.33e-239\n",
              "Kurtosis:                       9.871   Cond. No.                         114.\n",
              "==============================================================================\n",
              "\n",
              "Notes:\n",
              "[1] Standard Errors assume that the covariance matrix of the errors is correctly specified.\n",
              "\"\"\""
            ],
            "text/html": [
              "<table class=\"simpletable\">\n",
              "<caption>OLS Regression Results</caption>\n",
              "<tr>\n",
              "  <th>Dep. Variable:</th>           <td>G3</td>        <th>  R-squared:         </th> <td>   0.833</td> \n",
              "</tr>\n",
              "<tr>\n",
              "  <th>Model:</th>                   <td>OLS</td>       <th>  Adj. R-squared:    </th> <td>   0.828</td> \n",
              "</tr>\n",
              "<tr>\n",
              "  <th>Method:</th>             <td>Least Squares</td>  <th>  F-statistic:       </th> <td>   146.6</td> \n",
              "</tr>\n",
              "<tr>\n",
              "  <th>Date:</th>             <td>Sat, 20 Aug 2022</td> <th>  Prob (F-statistic):</th> <td>2.77e-139</td>\n",
              "</tr>\n",
              "<tr>\n",
              "  <th>Time:</th>                 <td>12:40:46</td>     <th>  Log-Likelihood:    </th> <td> -807.29</td> \n",
              "</tr>\n",
              "<tr>\n",
              "  <th>No. Observations:</th>      <td>   395</td>      <th>  AIC:               </th> <td>   1643.</td> \n",
              "</tr>\n",
              "<tr>\n",
              "  <th>Df Residuals:</th>          <td>   381</td>      <th>  BIC:               </th> <td>   1698.</td> \n",
              "</tr>\n",
              "<tr>\n",
              "  <th>Df Model:</th>              <td>    13</td>      <th>                     </th>     <td> </td>    \n",
              "</tr>\n",
              "<tr>\n",
              "  <th>Covariance Type:</th>      <td>nonrobust</td>    <th>                     </th>     <td> </td>    \n",
              "</tr>\n",
              "</table>\n",
              "<table class=\"simpletable\">\n",
              "<tr>\n",
              "        <td></td>           <th>coef</th>     <th>std err</th>      <th>t</th>      <th>P>|t|</th>  <th>[0.025</th>    <th>0.975]</th>  \n",
              "</tr>\n",
              "<tr>\n",
              "  <th>Intercept</th>     <td>   -1.8928</td> <td>    0.598</td> <td>   -3.167</td> <td> 0.002</td> <td>   -3.068</td> <td>   -0.718</td>\n",
              "</tr>\n",
              "<tr>\n",
              "  <th>Sch_int</th>       <td>    0.0653</td> <td>    0.322</td> <td>    0.203</td> <td> 0.839</td> <td>   -0.568</td> <td>    0.698</td>\n",
              "</tr>\n",
              "<tr>\n",
              "  <th>gender</th>        <td>    0.2486</td> <td>    0.211</td> <td>    1.179</td> <td> 0.239</td> <td>   -0.166</td> <td>    0.663</td>\n",
              "</tr>\n",
              "<tr>\n",
              "  <th>add_int</th>       <td>    0.0278</td> <td>    0.246</td> <td>    0.113</td> <td> 0.910</td> <td>   -0.455</td> <td>    0.511</td>\n",
              "</tr>\n",
              "<tr>\n",
              "  <th>reason_int</th>    <td>    0.1234</td> <td>    0.102</td> <td>    1.207</td> <td> 0.228</td> <td>   -0.078</td> <td>    0.324</td>\n",
              "</tr>\n",
              "<tr>\n",
              "  <th>studytime</th>     <td>   -0.1203</td> <td>    0.126</td> <td>   -0.951</td> <td> 0.342</td> <td>   -0.369</td> <td>    0.128</td>\n",
              "</tr>\n",
              "<tr>\n",
              "  <th>failures</th>      <td>   -0.2697</td> <td>    0.143</td> <td>   -1.890</td> <td> 0.059</td> <td>   -0.550</td> <td>    0.011</td>\n",
              "</tr>\n",
              "<tr>\n",
              "  <th>schoolsup_int</th> <td>   -0.6059</td> <td>    0.302</td> <td>   -2.009</td> <td> 0.045</td> <td>   -1.199</td> <td>   -0.013</td>\n",
              "</tr>\n",
              "<tr>\n",
              "  <th>paid_int</th>      <td>   -0.1545</td> <td>    0.201</td> <td>   -0.768</td> <td> 0.443</td> <td>   -0.550</td> <td>    0.241</td>\n",
              "</tr>\n",
              "<tr>\n",
              "  <th>act_int</th>       <td>    0.3244</td> <td>    0.196</td> <td>    1.652</td> <td> 0.099</td> <td>   -0.062</td> <td>    0.710</td>\n",
              "</tr>\n",
              "<tr>\n",
              "  <th>health</th>        <td>    0.0883</td> <td>    0.071</td> <td>    1.252</td> <td> 0.211</td> <td>   -0.050</td> <td>    0.227</td>\n",
              "</tr>\n",
              "<tr>\n",
              "  <th>absences</th>      <td>    0.0399</td> <td>    0.012</td> <td>    3.251</td> <td> 0.001</td> <td>    0.016</td> <td>    0.064</td>\n",
              "</tr>\n",
              "<tr>\n",
              "  <th>G1</th>            <td>    0.1767</td> <td>    0.058</td> <td>    3.057</td> <td> 0.002</td> <td>    0.063</td> <td>    0.290</td>\n",
              "</tr>\n",
              "<tr>\n",
              "  <th>G2</th>            <td>    0.9648</td> <td>    0.050</td> <td>   19.206</td> <td> 0.000</td> <td>    0.866</td> <td>    1.064</td>\n",
              "</tr>\n",
              "</table>\n",
              "<table class=\"simpletable\">\n",
              "<tr>\n",
              "  <th>Omnibus:</th>       <td>202.797</td> <th>  Durbin-Watson:     </th> <td>   1.880</td> \n",
              "</tr>\n",
              "<tr>\n",
              "  <th>Prob(Omnibus):</th> <td> 0.000</td>  <th>  Jarque-Bera (JB):  </th> <td>1098.945</td> \n",
              "</tr>\n",
              "<tr>\n",
              "  <th>Skew:</th>          <td>-2.212</td>  <th>  Prob(JB):          </th> <td>2.33e-239</td>\n",
              "</tr>\n",
              "<tr>\n",
              "  <th>Kurtosis:</th>      <td> 9.871</td>  <th>  Cond. No.          </th> <td>    114.</td> \n",
              "</tr>\n",
              "</table><br/><br/>Notes:<br/>[1] Standard Errors assume that the covariance matrix of the errors is correctly specified."
            ]
          },
          "metadata": {},
          "execution_count": 16
        }
      ],
      "source": [
        "lm1.summary()"
      ]
    },
    {
      "cell_type": "code",
      "execution_count": null,
      "metadata": {
        "colab": {
          "base_uri": "https://localhost:8080/"
        },
        "id": "TtJ7i0Kh-h5T",
        "outputId": "5c17eb46-284c-488f-d093-6cc1b11473ad"
      },
      "outputs": [
        {
          "data": {
            "text/plain": [
              "0.8333481667994753"
            ]
          },
          "execution_count": 14,
          "metadata": {},
          "output_type": "execute_result"
        }
      ],
      "source": [
        "lm1.rsquared"
      ]
    },
    {
      "cell_type": "code",
      "execution_count": null,
      "metadata": {
        "colab": {
          "base_uri": "https://localhost:8080/"
        },
        "id": "xmTr_bCv9wQv",
        "outputId": "3a17c9a7-3f6a-4f24-eee2-1fc1715b2bf0"
      },
      "outputs": [
        {
          "output_type": "stream",
          "name": "stdout",
          "text": [
            "1.9175782670264354\n"
          ]
        }
      ],
      "source": [
        "X = data[[\"Sch_int\",\"gender\",\"add_int\",\"reason_int\",\"act_int\",\"health\",\"absences\",\"G1\",\"G2\"]]\n",
        "y = data.G3\n",
        "X_train4, X_test4, y_train4, y_test4 = train_test_split(X, y, test_size=0.3)\n",
        "lm4 = LinearRegression()\n",
        "lm4.fit(X_train4, y_train4)\n",
        "y_pred4 = lm4.predict(X_test4)\n",
        "print(np.sqrt(metrics.mean_squared_error(y_test4, y_pred4)))"
      ]
    },
    {
      "cell_type": "code",
      "source": [
        "mae = metrics.mean_absolute_error(y_test4, y_pred4)  ##MAE (Mean absolute error)\n",
        "mse = metrics.mean_squared_error(y_test4, y_pred4)   ##MSE (Mean Squared Error) \n",
        "rmse = np.sqrt(mse) # or mse**(0.5)                    ##RMSE (Root Mean Squared Error)\n",
        "r2 = metrics.r2_score(y_test4, y_pred4)                ##R-squared (Coefficient of determination)\n",
        "\n",
        "print(mae)\n",
        "print(mse)\n",
        "print(rmse)\n",
        "print(r2)"
      ],
      "metadata": {
        "colab": {
          "base_uri": "https://localhost:8080/"
        },
        "id": "Qszxu2AgStCf",
        "outputId": "98b71ddd-b712-409a-8f56-10b4299cf4d2"
      },
      "execution_count": null,
      "outputs": [
        {
          "output_type": "stream",
          "name": "stdout",
          "text": [
            "1.222853832369576\n",
            "3.677106410172107\n",
            "1.9175782670264354\n",
            "0.8297036861875029\n"
          ]
        }
      ]
    },
    {
      "cell_type": "code",
      "execution_count": null,
      "metadata": {
        "colab": {
          "base_uri": "https://localhost:8080/"
        },
        "id": "f7AGp6tGzlnO",
        "outputId": "965aed6a-8832-45cc-8d99-97eddba13c13"
      },
      "outputs": [
        {
          "data": {
            "text/plain": [
              "Intercept    -2.818282\n",
              "Sch_int      -0.017653\n",
              "gender        0.212372\n",
              "add_int      -0.001537\n",
              "reason_int    0.131125\n",
              "act_int       0.301707\n",
              "health        0.079007\n",
              "absences      0.039548\n",
              "G1            0.154891\n",
              "G2            0.991597\n",
              "dtype: float64"
            ]
          },
          "execution_count": 35,
          "metadata": {},
          "output_type": "execute_result"
        }
      ],
      "source": [
        "lm2 = smf.ols(formula='G3 ~ Sch_int+gender+add_int+reason_int+act_int+health+absences+G1+G2', data=data).fit()\n",
        "lm2.params"
      ]
    },
    {
      "cell_type": "code",
      "execution_count": null,
      "metadata": {
        "colab": {
          "base_uri": "https://localhost:8080/",
          "height": 622
        },
        "id": "2bNjaS6pz32k",
        "outputId": "0104af5f-8727-4338-cd5d-7c93fa45db11"
      },
      "outputs": [
        {
          "data": {
            "text/html": [
              "<table class=\"simpletable\">\n",
              "<caption>OLS Regression Results</caption>\n",
              "<tr>\n",
              "  <th>Dep. Variable:</th>           <td>G3</td>        <th>  R-squared:         </th> <td>   0.829</td> \n",
              "</tr>\n",
              "<tr>\n",
              "  <th>Model:</th>                   <td>OLS</td>       <th>  Adj. R-squared:    </th> <td>   0.825</td> \n",
              "</tr>\n",
              "<tr>\n",
              "  <th>Method:</th>             <td>Least Squares</td>  <th>  F-statistic:       </th> <td>   207.7</td> \n",
              "</tr>\n",
              "<tr>\n",
              "  <th>Date:</th>             <td>Wed, 17 Aug 2022</td> <th>  Prob (F-statistic):</th> <td>8.13e-142</td>\n",
              "</tr>\n",
              "<tr>\n",
              "  <th>Time:</th>                 <td>17:17:56</td>     <th>  Log-Likelihood:    </th> <td> -812.12</td> \n",
              "</tr>\n",
              "<tr>\n",
              "  <th>No. Observations:</th>      <td>   395</td>      <th>  AIC:               </th> <td>   1644.</td> \n",
              "</tr>\n",
              "<tr>\n",
              "  <th>Df Residuals:</th>          <td>   385</td>      <th>  BIC:               </th> <td>   1684.</td> \n",
              "</tr>\n",
              "<tr>\n",
              "  <th>Df Model:</th>              <td>     9</td>      <th>                     </th>     <td> </td>    \n",
              "</tr>\n",
              "<tr>\n",
              "  <th>Covariance Type:</th>      <td>nonrobust</td>    <th>                     </th>     <td> </td>    \n",
              "</tr>\n",
              "</table>\n",
              "<table class=\"simpletable\">\n",
              "<tr>\n",
              "       <td></td>         <th>coef</th>     <th>std err</th>      <th>t</th>      <th>P>|t|</th>  <th>[0.025</th>    <th>0.975]</th>  \n",
              "</tr>\n",
              "<tr>\n",
              "  <th>Intercept</th>  <td>   -2.8183</td> <td>    0.477</td> <td>   -5.905</td> <td> 0.000</td> <td>   -3.757</td> <td>   -1.880</td>\n",
              "</tr>\n",
              "<tr>\n",
              "  <th>Sch_int</th>    <td>   -0.0177</td> <td>    0.319</td> <td>   -0.055</td> <td> 0.956</td> <td>   -0.646</td> <td>    0.610</td>\n",
              "</tr>\n",
              "<tr>\n",
              "  <th>gender</th>     <td>    0.2124</td> <td>    0.197</td> <td>    1.075</td> <td> 0.283</td> <td>   -0.176</td> <td>    0.601</td>\n",
              "</tr>\n",
              "<tr>\n",
              "  <th>add_int</th>    <td>   -0.0015</td> <td>    0.246</td> <td>   -0.006</td> <td> 0.995</td> <td>   -0.486</td> <td>    0.483</td>\n",
              "</tr>\n",
              "<tr>\n",
              "  <th>reason_int</th> <td>    0.1311</td> <td>    0.102</td> <td>    1.284</td> <td> 0.200</td> <td>   -0.070</td> <td>    0.332</td>\n",
              "</tr>\n",
              "<tr>\n",
              "  <th>act_int</th>    <td>    0.3017</td> <td>    0.196</td> <td>    1.538</td> <td> 0.125</td> <td>   -0.084</td> <td>    0.687</td>\n",
              "</tr>\n",
              "<tr>\n",
              "  <th>health</th>     <td>    0.0790</td> <td>    0.071</td> <td>    1.114</td> <td> 0.266</td> <td>   -0.060</td> <td>    0.218</td>\n",
              "</tr>\n",
              "<tr>\n",
              "  <th>absences</th>   <td>    0.0395</td> <td>    0.012</td> <td>    3.223</td> <td> 0.001</td> <td>    0.015</td> <td>    0.064</td>\n",
              "</tr>\n",
              "<tr>\n",
              "  <th>G1</th>         <td>    0.1549</td> <td>    0.056</td> <td>    2.778</td> <td> 0.006</td> <td>    0.045</td> <td>    0.265</td>\n",
              "</tr>\n",
              "<tr>\n",
              "  <th>G2</th>         <td>    0.9916</td> <td>    0.050</td> <td>   20.000</td> <td> 0.000</td> <td>    0.894</td> <td>    1.089</td>\n",
              "</tr>\n",
              "</table>\n",
              "<table class=\"simpletable\">\n",
              "<tr>\n",
              "  <th>Omnibus:</th>       <td>211.797</td> <th>  Durbin-Watson:     </th> <td>   1.842</td> \n",
              "</tr>\n",
              "<tr>\n",
              "  <th>Prob(Omnibus):</th> <td> 0.000</td>  <th>  Jarque-Bera (JB):  </th> <td>1197.675</td> \n",
              "</tr>\n",
              "<tr>\n",
              "  <th>Skew:</th>          <td>-2.317</td>  <th>  Prob(JB):          </th> <td>8.48e-261</td>\n",
              "</tr>\n",
              "<tr>\n",
              "  <th>Kurtosis:</th>      <td>10.163</td>  <th>  Cond. No.          </th> <td>    88.2</td> \n",
              "</tr>\n",
              "</table><br/><br/>Warnings:<br/>[1] Standard Errors assume that the covariance matrix of the errors is correctly specified."
            ],
            "text/plain": [
              "<class 'statsmodels.iolib.summary.Summary'>\n",
              "\"\"\"\n",
              "                            OLS Regression Results                            \n",
              "==============================================================================\n",
              "Dep. Variable:                     G3   R-squared:                       0.829\n",
              "Model:                            OLS   Adj. R-squared:                  0.825\n",
              "Method:                 Least Squares   F-statistic:                     207.7\n",
              "Date:                Wed, 17 Aug 2022   Prob (F-statistic):          8.13e-142\n",
              "Time:                        17:17:56   Log-Likelihood:                -812.12\n",
              "No. Observations:                 395   AIC:                             1644.\n",
              "Df Residuals:                     385   BIC:                             1684.\n",
              "Df Model:                           9                                         \n",
              "Covariance Type:            nonrobust                                         \n",
              "==============================================================================\n",
              "                 coef    std err          t      P>|t|      [0.025      0.975]\n",
              "------------------------------------------------------------------------------\n",
              "Intercept     -2.8183      0.477     -5.905      0.000      -3.757      -1.880\n",
              "Sch_int       -0.0177      0.319     -0.055      0.956      -0.646       0.610\n",
              "gender         0.2124      0.197      1.075      0.283      -0.176       0.601\n",
              "add_int       -0.0015      0.246     -0.006      0.995      -0.486       0.483\n",
              "reason_int     0.1311      0.102      1.284      0.200      -0.070       0.332\n",
              "act_int        0.3017      0.196      1.538      0.125      -0.084       0.687\n",
              "health         0.0790      0.071      1.114      0.266      -0.060       0.218\n",
              "absences       0.0395      0.012      3.223      0.001       0.015       0.064\n",
              "G1             0.1549      0.056      2.778      0.006       0.045       0.265\n",
              "G2             0.9916      0.050     20.000      0.000       0.894       1.089\n",
              "==============================================================================\n",
              "Omnibus:                      211.797   Durbin-Watson:                   1.842\n",
              "Prob(Omnibus):                  0.000   Jarque-Bera (JB):             1197.675\n",
              "Skew:                          -2.317   Prob(JB):                    8.48e-261\n",
              "Kurtosis:                      10.163   Cond. No.                         88.2\n",
              "==============================================================================\n",
              "\n",
              "Warnings:\n",
              "[1] Standard Errors assume that the covariance matrix of the errors is correctly specified.\n",
              "\"\"\""
            ]
          },
          "execution_count": 36,
          "metadata": {},
          "output_type": "execute_result"
        }
      ],
      "source": [
        "lm2.summary()"
      ]
    },
    {
      "cell_type": "code",
      "execution_count": null,
      "metadata": {
        "id": "7nVLVFbJ-jlY"
      },
      "outputs": [],
      "source": []
    },
    {
      "cell_type": "code",
      "execution_count": null,
      "metadata": {
        "colab": {
          "base_uri": "https://localhost:8080/"
        },
        "id": "a-7oEEg5-GSl",
        "outputId": "b7c93c5e-0bf8-4e3b-c362-a4d441712377"
      },
      "outputs": [
        {
          "output_type": "stream",
          "name": "stdout",
          "text": [
            "1.902693382159543\n"
          ]
        }
      ],
      "source": [
        "X = data[[\"gender\",\"reason_int\",\"act_int\",\"health\",\"absences\",\"G1\",\"G2\"]]\n",
        "y = data.G3\n",
        "X_train5, X_test5, y_train5, y_test5 = train_test_split(X, y, test_size=0.3)\n",
        "lm5 = LinearRegression()\n",
        "lm5.fit(X_train5, y_train5)\n",
        "y_pred5 = lm5.predict(X_test5)\n",
        "print(np.sqrt(metrics.mean_squared_error(y_test5, y_pred5)))\n"
      ]
    },
    {
      "cell_type": "code",
      "source": [
        "mae = metrics.mean_absolute_error(y_test5, y_pred5)  ##MAE (Mean absolute error)\n",
        "mse = metrics.mean_squared_error(y_test5, y_pred5)   ##MSE (Mean Squared Error) \n",
        "rmse = np.sqrt(mse) # or mse**(0.5)                    ##RMSE (Root Mean Squared Error)\n",
        "r2 = metrics.r2_score(y_test5, y_pred5)                ##R-squared (Coefficient of determination)\n",
        "\n",
        "print(mae)\n",
        "print(mse)\n",
        "print(rmse)\n",
        "print(r2)"
      ],
      "metadata": {
        "colab": {
          "base_uri": "https://localhost:8080/"
        },
        "id": "ET4pk6_9Sclo",
        "outputId": "2e116df0-e579-49d2-f4a8-ca8fc43d583f"
      },
      "execution_count": null,
      "outputs": [
        {
          "output_type": "stream",
          "name": "stdout",
          "text": [
            "1.197814233078953\n",
            "3.6202421065137207\n",
            "1.902693382159543\n",
            "0.7927799172581214\n"
          ]
        }
      ]
    },
    {
      "cell_type": "code",
      "execution_count": null,
      "metadata": {
        "colab": {
          "base_uri": "https://localhost:8080/"
        },
        "id": "OQu6cpST0RdM",
        "outputId": "9fa49b43-57dd-4983-fb70-23824cfedd93"
      },
      "outputs": [
        {
          "output_type": "execute_result",
          "data": {
            "text/plain": [
              "Intercept    -2.820765\n",
              "gender        0.212282\n",
              "reason_int    0.130365\n",
              "act_int       0.300496\n",
              "health        0.079231\n",
              "absences      0.039599\n",
              "G1            0.154744\n",
              "G2            0.991802\n",
              "dtype: float64"
            ]
          },
          "metadata": {},
          "execution_count": 20
        }
      ],
      "source": [
        "lm = smf.ols(formula='G3 ~ gender+reason_int+act_int+health+absences+G1+G2', data=data).fit()\n",
        "lm.params"
      ]
    },
    {
      "cell_type": "code",
      "execution_count": null,
      "metadata": {
        "colab": {
          "base_uri": "https://localhost:8080/",
          "height": 567
        },
        "id": "_uLRr_TU2M54",
        "outputId": "6115efeb-a13d-4013-f3bb-ba4426d9ea2b"
      },
      "outputs": [
        {
          "output_type": "execute_result",
          "data": {
            "text/plain": [
              "<class 'statsmodels.iolib.summary.Summary'>\n",
              "\"\"\"\n",
              "                            OLS Regression Results                            \n",
              "==============================================================================\n",
              "Dep. Variable:                     G3   R-squared:                       0.829\n",
              "Model:                            OLS   Adj. R-squared:                  0.826\n",
              "Method:                 Least Squares   F-statistic:                     268.4\n",
              "Date:                Sat, 20 Aug 2022   Prob (F-statistic):          3.03e-144\n",
              "Time:                        12:41:07   Log-Likelihood:                -812.12\n",
              "No. Observations:                 395   AIC:                             1640.\n",
              "Df Residuals:                     387   BIC:                             1672.\n",
              "Df Model:                           7                                         \n",
              "Covariance Type:            nonrobust                                         \n",
              "==============================================================================\n",
              "                 coef    std err          t      P>|t|      [0.025      0.975]\n",
              "------------------------------------------------------------------------------\n",
              "Intercept     -2.8208      0.472     -5.973      0.000      -3.749      -1.892\n",
              "gender         0.2123      0.197      1.078      0.282      -0.175       0.599\n",
              "reason_int     0.1304      0.101      1.294      0.197      -0.068       0.328\n",
              "act_int        0.3005      0.194      1.553      0.121      -0.080       0.681\n",
              "health         0.0792      0.071      1.123      0.262      -0.060       0.218\n",
              "absences       0.0396      0.012      3.253      0.001       0.016       0.064\n",
              "G1             0.1547      0.055      2.791      0.006       0.046       0.264\n",
              "G2             0.9918      0.049     20.226      0.000       0.895       1.088\n",
              "==============================================================================\n",
              "Omnibus:                      211.673   Durbin-Watson:                   1.842\n",
              "Prob(Omnibus):                  0.000   Jarque-Bera (JB):             1195.419\n",
              "Skew:                          -2.315   Prob(JB):                    2.62e-260\n",
              "Kurtosis:                      10.155   Cond. No.                         87.4\n",
              "==============================================================================\n",
              "\n",
              "Notes:\n",
              "[1] Standard Errors assume that the covariance matrix of the errors is correctly specified.\n",
              "\"\"\""
            ],
            "text/html": [
              "<table class=\"simpletable\">\n",
              "<caption>OLS Regression Results</caption>\n",
              "<tr>\n",
              "  <th>Dep. Variable:</th>           <td>G3</td>        <th>  R-squared:         </th> <td>   0.829</td> \n",
              "</tr>\n",
              "<tr>\n",
              "  <th>Model:</th>                   <td>OLS</td>       <th>  Adj. R-squared:    </th> <td>   0.826</td> \n",
              "</tr>\n",
              "<tr>\n",
              "  <th>Method:</th>             <td>Least Squares</td>  <th>  F-statistic:       </th> <td>   268.4</td> \n",
              "</tr>\n",
              "<tr>\n",
              "  <th>Date:</th>             <td>Sat, 20 Aug 2022</td> <th>  Prob (F-statistic):</th> <td>3.03e-144</td>\n",
              "</tr>\n",
              "<tr>\n",
              "  <th>Time:</th>                 <td>12:41:07</td>     <th>  Log-Likelihood:    </th> <td> -812.12</td> \n",
              "</tr>\n",
              "<tr>\n",
              "  <th>No. Observations:</th>      <td>   395</td>      <th>  AIC:               </th> <td>   1640.</td> \n",
              "</tr>\n",
              "<tr>\n",
              "  <th>Df Residuals:</th>          <td>   387</td>      <th>  BIC:               </th> <td>   1672.</td> \n",
              "</tr>\n",
              "<tr>\n",
              "  <th>Df Model:</th>              <td>     7</td>      <th>                     </th>     <td> </td>    \n",
              "</tr>\n",
              "<tr>\n",
              "  <th>Covariance Type:</th>      <td>nonrobust</td>    <th>                     </th>     <td> </td>    \n",
              "</tr>\n",
              "</table>\n",
              "<table class=\"simpletable\">\n",
              "<tr>\n",
              "       <td></td>         <th>coef</th>     <th>std err</th>      <th>t</th>      <th>P>|t|</th>  <th>[0.025</th>    <th>0.975]</th>  \n",
              "</tr>\n",
              "<tr>\n",
              "  <th>Intercept</th>  <td>   -2.8208</td> <td>    0.472</td> <td>   -5.973</td> <td> 0.000</td> <td>   -3.749</td> <td>   -1.892</td>\n",
              "</tr>\n",
              "<tr>\n",
              "  <th>gender</th>     <td>    0.2123</td> <td>    0.197</td> <td>    1.078</td> <td> 0.282</td> <td>   -0.175</td> <td>    0.599</td>\n",
              "</tr>\n",
              "<tr>\n",
              "  <th>reason_int</th> <td>    0.1304</td> <td>    0.101</td> <td>    1.294</td> <td> 0.197</td> <td>   -0.068</td> <td>    0.328</td>\n",
              "</tr>\n",
              "<tr>\n",
              "  <th>act_int</th>    <td>    0.3005</td> <td>    0.194</td> <td>    1.553</td> <td> 0.121</td> <td>   -0.080</td> <td>    0.681</td>\n",
              "</tr>\n",
              "<tr>\n",
              "  <th>health</th>     <td>    0.0792</td> <td>    0.071</td> <td>    1.123</td> <td> 0.262</td> <td>   -0.060</td> <td>    0.218</td>\n",
              "</tr>\n",
              "<tr>\n",
              "  <th>absences</th>   <td>    0.0396</td> <td>    0.012</td> <td>    3.253</td> <td> 0.001</td> <td>    0.016</td> <td>    0.064</td>\n",
              "</tr>\n",
              "<tr>\n",
              "  <th>G1</th>         <td>    0.1547</td> <td>    0.055</td> <td>    2.791</td> <td> 0.006</td> <td>    0.046</td> <td>    0.264</td>\n",
              "</tr>\n",
              "<tr>\n",
              "  <th>G2</th>         <td>    0.9918</td> <td>    0.049</td> <td>   20.226</td> <td> 0.000</td> <td>    0.895</td> <td>    1.088</td>\n",
              "</tr>\n",
              "</table>\n",
              "<table class=\"simpletable\">\n",
              "<tr>\n",
              "  <th>Omnibus:</th>       <td>211.673</td> <th>  Durbin-Watson:     </th> <td>   1.842</td> \n",
              "</tr>\n",
              "<tr>\n",
              "  <th>Prob(Omnibus):</th> <td> 0.000</td>  <th>  Jarque-Bera (JB):  </th> <td>1195.419</td> \n",
              "</tr>\n",
              "<tr>\n",
              "  <th>Skew:</th>          <td>-2.315</td>  <th>  Prob(JB):          </th> <td>2.62e-260</td>\n",
              "</tr>\n",
              "<tr>\n",
              "  <th>Kurtosis:</th>      <td>10.155</td>  <th>  Cond. No.          </th> <td>    87.4</td> \n",
              "</tr>\n",
              "</table><br/><br/>Notes:<br/>[1] Standard Errors assume that the covariance matrix of the errors is correctly specified."
            ]
          },
          "metadata": {},
          "execution_count": 21
        }
      ],
      "source": [
        "lm.summary()"
      ]
    },
    {
      "cell_type": "code",
      "execution_count": null,
      "metadata": {
        "id": "ntZwoylW19Kg"
      },
      "outputs": [],
      "source": []
    },
    {
      "cell_type": "code",
      "execution_count": null,
      "metadata": {
        "colab": {
          "base_uri": "https://localhost:8080/"
        },
        "id": "16KGobTHA5kC",
        "outputId": "64418bb8-4a91-4d57-e2c5-c69fe47777c7"
      },
      "outputs": [
        {
          "output_type": "stream",
          "name": "stdout",
          "text": [
            "1.79010608743047\n"
          ]
        }
      ],
      "source": [
        "X = data[[\"absences\",\"G1\",\"G2\"]]\n",
        "y = data.G3\n",
        "X_traino, X_testo, y_traino, y_testo = train_test_split(X, y, test_size=0.2)\n",
        "lm_0 = LinearRegression()\n",
        "lm_0.fit(X_traino, y_traino)\n",
        "y_predo = lm_0.predict(X_testo)\n",
        "print(np.sqrt(metrics.mean_squared_error(y_testo, y_predo)))"
      ]
    },
    {
      "cell_type": "code",
      "source": [
        "metrics.explained_variance_score(y_testo, y_predo)"
      ],
      "metadata": {
        "colab": {
          "base_uri": "https://localhost:8080/"
        },
        "id": "ujER1yc40y5C",
        "outputId": "db6cc0da-fcef-4050-e61c-32928cd9b4e5"
      },
      "execution_count": null,
      "outputs": [
        {
          "output_type": "execute_result",
          "data": {
            "text/plain": [
              "0.8429622612013908"
            ]
          },
          "metadata": {},
          "execution_count": 23
        }
      ]
    },
    {
      "cell_type": "code",
      "source": [
        "mae = metrics.mean_absolute_error(y_testo, y_predo)  ##MAE (Mean absolute error)\n",
        "mse = metrics.mean_squared_error(y_testo, y_predo)   ##MSE (Mean Squared Error) \n",
        "rmse = np.sqrt(mse) # or mse**(0.5)                    ##RMSE (Root Mean Squared Error)\n",
        "r2 = metrics.r2_score(y_testo, y_predo)                ##R-squared (Coefficient of determination)\n",
        "\n",
        "print(mae)\n",
        "print(mse)\n",
        "print(rmse)\n",
        "print(r2)"
      ],
      "metadata": {
        "colab": {
          "base_uri": "https://localhost:8080/"
        },
        "id": "W2RRRIp3R6lc",
        "outputId": "29087347-1460-4721-d4e4-7c9e601e1f0c"
      },
      "execution_count": null,
      "outputs": [
        {
          "output_type": "stream",
          "name": "stdout",
          "text": [
            "1.2364168562075275\n",
            "4.214499829536561\n",
            "2.052924701380097\n",
            "0.8160007454624856\n"
          ]
        }
      ]
    },
    {
      "cell_type": "code",
      "execution_count": null,
      "metadata": {
        "colab": {
          "base_uri": "https://localhost:8080/"
        },
        "id": "0Gm5hIaS2gYx",
        "outputId": "84b3db7c-0832-4888-e1fd-d79567bd63bc"
      },
      "outputs": [
        {
          "data": {
            "text/plain": [
              "Intercept   -2.067468\n",
              "absences     0.036354\n",
              "G1           0.154525\n",
              "G2           0.988380\n",
              "dtype: float64"
            ]
          },
          "execution_count": 59,
          "metadata": {},
          "output_type": "execute_result"
        }
      ],
      "source": [
        "lm_hm = smf.ols(formula='G3 ~ absences+G1+G2', data=data).fit()\n",
        "lm_hm.params"
      ]
    },
    {
      "cell_type": "code",
      "execution_count": null,
      "metadata": {
        "colab": {
          "base_uri": "https://localhost:8080/",
          "height": 494
        },
        "id": "K7B2QR_y_yPp",
        "outputId": "f90a4b3e-ae19-4649-97f6-a58d5ca0f4ee"
      },
      "outputs": [
        {
          "data": {
            "text/html": [
              "<table class=\"simpletable\">\n",
              "<caption>OLS Regression Results</caption>\n",
              "<tr>\n",
              "  <th>Dep. Variable:</th>           <td>G3</td>        <th>  R-squared:         </th> <td>   0.826</td> \n",
              "</tr>\n",
              "<tr>\n",
              "  <th>Model:</th>                   <td>OLS</td>       <th>  Adj. R-squared:    </th> <td>   0.825</td> \n",
              "</tr>\n",
              "<tr>\n",
              "  <th>Method:</th>             <td>Least Squares</td>  <th>  F-statistic:       </th> <td>   619.5</td> \n",
              "</tr>\n",
              "<tr>\n",
              "  <th>Date:</th>             <td>Wed, 17 Aug 2022</td> <th>  Prob (F-statistic):</th> <td>3.90e-148</td>\n",
              "</tr>\n",
              "<tr>\n",
              "  <th>Time:</th>                 <td>18:13:10</td>     <th>  Log-Likelihood:    </th> <td> -815.59</td> \n",
              "</tr>\n",
              "<tr>\n",
              "  <th>No. Observations:</th>      <td>   395</td>      <th>  AIC:               </th> <td>   1639.</td> \n",
              "</tr>\n",
              "<tr>\n",
              "  <th>Df Residuals:</th>          <td>   391</td>      <th>  BIC:               </th> <td>   1655.</td> \n",
              "</tr>\n",
              "<tr>\n",
              "  <th>Df Model:</th>              <td>     3</td>      <th>                     </th>     <td> </td>    \n",
              "</tr>\n",
              "<tr>\n",
              "  <th>Covariance Type:</th>      <td>nonrobust</td>    <th>                     </th>     <td> </td>    \n",
              "</tr>\n",
              "</table>\n",
              "<table class=\"simpletable\">\n",
              "<tr>\n",
              "      <td></td>         <th>coef</th>     <th>std err</th>      <th>t</th>      <th>P>|t|</th>  <th>[0.025</th>    <th>0.975]</th>  \n",
              "</tr>\n",
              "<tr>\n",
              "  <th>Intercept</th> <td>   -2.0675</td> <td>    0.341</td> <td>   -6.060</td> <td> 0.000</td> <td>   -2.738</td> <td>   -1.397</td>\n",
              "</tr>\n",
              "<tr>\n",
              "  <th>absences</th>  <td>    0.0364</td> <td>    0.012</td> <td>    3.010</td> <td> 0.003</td> <td>    0.013</td> <td>    0.060</td>\n",
              "</tr>\n",
              "<tr>\n",
              "  <th>G1</th>        <td>    0.1545</td> <td>    0.056</td> <td>    2.779</td> <td> 0.006</td> <td>    0.045</td> <td>    0.264</td>\n",
              "</tr>\n",
              "<tr>\n",
              "  <th>G2</th>        <td>    0.9884</td> <td>    0.049</td> <td>   20.142</td> <td> 0.000</td> <td>    0.892</td> <td>    1.085</td>\n",
              "</tr>\n",
              "</table>\n",
              "<table class=\"simpletable\">\n",
              "<tr>\n",
              "  <th>Omnibus:</th>       <td>228.806</td> <th>  Durbin-Watson:     </th> <td>   1.827</td>\n",
              "</tr>\n",
              "<tr>\n",
              "  <th>Prob(Omnibus):</th> <td> 0.000</td>  <th>  Jarque-Bera (JB):  </th> <td>1474.871</td>\n",
              "</tr>\n",
              "<tr>\n",
              "  <th>Skew:</th>          <td>-2.493</td>  <th>  Prob(JB):          </th> <td>    0.00</td>\n",
              "</tr>\n",
              "<tr>\n",
              "  <th>Kurtosis:</th>      <td>11.046</td>  <th>  Cond. No.          </th> <td>    60.9</td>\n",
              "</tr>\n",
              "</table><br/><br/>Warnings:<br/>[1] Standard Errors assume that the covariance matrix of the errors is correctly specified."
            ],
            "text/plain": [
              "<class 'statsmodels.iolib.summary.Summary'>\n",
              "\"\"\"\n",
              "                            OLS Regression Results                            \n",
              "==============================================================================\n",
              "Dep. Variable:                     G3   R-squared:                       0.826\n",
              "Model:                            OLS   Adj. R-squared:                  0.825\n",
              "Method:                 Least Squares   F-statistic:                     619.5\n",
              "Date:                Wed, 17 Aug 2022   Prob (F-statistic):          3.90e-148\n",
              "Time:                        18:13:10   Log-Likelihood:                -815.59\n",
              "No. Observations:                 395   AIC:                             1639.\n",
              "Df Residuals:                     391   BIC:                             1655.\n",
              "Df Model:                           3                                         \n",
              "Covariance Type:            nonrobust                                         \n",
              "==============================================================================\n",
              "                 coef    std err          t      P>|t|      [0.025      0.975]\n",
              "------------------------------------------------------------------------------\n",
              "Intercept     -2.0675      0.341     -6.060      0.000      -2.738      -1.397\n",
              "absences       0.0364      0.012      3.010      0.003       0.013       0.060\n",
              "G1             0.1545      0.056      2.779      0.006       0.045       0.264\n",
              "G2             0.9884      0.049     20.142      0.000       0.892       1.085\n",
              "==============================================================================\n",
              "Omnibus:                      228.806   Durbin-Watson:                   1.827\n",
              "Prob(Omnibus):                  0.000   Jarque-Bera (JB):             1474.871\n",
              "Skew:                          -2.493   Prob(JB):                         0.00\n",
              "Kurtosis:                      11.046   Cond. No.                         60.9\n",
              "==============================================================================\n",
              "\n",
              "Warnings:\n",
              "[1] Standard Errors assume that the covariance matrix of the errors is correctly specified.\n",
              "\"\"\""
            ]
          },
          "execution_count": 60,
          "metadata": {},
          "output_type": "execute_result"
        }
      ],
      "source": [
        "lm_hm.summary()"
      ]
    },
    {
      "cell_type": "code",
      "execution_count": null,
      "metadata": {
        "id": "xpEliOEd_IWH"
      },
      "outputs": [],
      "source": []
    },
    {
      "cell_type": "code",
      "execution_count": null,
      "metadata": {
        "colab": {
          "base_uri": "https://localhost:8080/",
          "height": 419
        },
        "id": "3_JBa5p-6fG9",
        "outputId": "623e587f-6dd0-4f42-8187-e074f0c07543"
      },
      "outputs": [
        {
          "ename": "PatsyError",
          "evalue": "ignored",
          "output_type": "error",
          "traceback": [
            "\u001b[0;31m---------------------------------------------------------------------------\u001b[0m",
            "\u001b[0;31mNameError\u001b[0m                                 Traceback (most recent call last)",
            "\u001b[0;32m/usr/local/lib/python3.7/dist-packages/patsy/compat.py\u001b[0m in \u001b[0;36mcall_and_wrap_exc\u001b[0;34m(msg, origin, f, *args, **kwargs)\u001b[0m\n\u001b[1;32m     35\u001b[0m     \u001b[0;32mtry\u001b[0m\u001b[0;34m:\u001b[0m\u001b[0;34m\u001b[0m\u001b[0;34m\u001b[0m\u001b[0m\n\u001b[0;32m---> 36\u001b[0;31m         \u001b[0;32mreturn\u001b[0m \u001b[0mf\u001b[0m\u001b[0;34m(\u001b[0m\u001b[0;34m*\u001b[0m\u001b[0margs\u001b[0m\u001b[0;34m,\u001b[0m \u001b[0;34m**\u001b[0m\u001b[0mkwargs\u001b[0m\u001b[0;34m)\u001b[0m\u001b[0;34m\u001b[0m\u001b[0;34m\u001b[0m\u001b[0m\n\u001b[0m\u001b[1;32m     37\u001b[0m     \u001b[0;32mexcept\u001b[0m \u001b[0mException\u001b[0m \u001b[0;32mas\u001b[0m \u001b[0me\u001b[0m\u001b[0;34m:\u001b[0m\u001b[0;34m\u001b[0m\u001b[0;34m\u001b[0m\u001b[0m\n",
            "\u001b[0;32m/usr/local/lib/python3.7/dist-packages/patsy/eval.py\u001b[0m in \u001b[0;36meval\u001b[0;34m(self, expr, source_name, inner_namespace)\u001b[0m\n\u001b[1;32m    165\u001b[0m         return eval(code, {}, VarLookupDict([inner_namespace]\n\u001b[0;32m--> 166\u001b[0;31m                                             + self._namespaces))\n\u001b[0m\u001b[1;32m    167\u001b[0m \u001b[0;34m\u001b[0m\u001b[0m\n",
            "\u001b[0;32m<string>\u001b[0m in \u001b[0;36m<module>\u001b[0;34m\u001b[0m\n",
            "\u001b[0;31mNameError\u001b[0m: name 'Sex' is not defined",
            "\nThe above exception was the direct cause of the following exception:\n",
            "\u001b[0;31mPatsyError\u001b[0m                                Traceback (most recent call last)",
            "\u001b[0;32m<ipython-input-8-53dc8a1de329>\u001b[0m in \u001b[0;36m<module>\u001b[0;34m\u001b[0m\n\u001b[0;32m----> 1\u001b[0;31m \u001b[0morg_lm\u001b[0m \u001b[0;34m=\u001b[0m \u001b[0msmf\u001b[0m\u001b[0;34m.\u001b[0m\u001b[0mols\u001b[0m\u001b[0;34m(\u001b[0m\u001b[0mformula\u001b[0m\u001b[0;34m=\u001b[0m\u001b[0;34m'G3 ~ Sex+address+reason+studytime+failures+schoolsup+paid+activities+health+absences+G1+G2'\u001b[0m\u001b[0;34m,\u001b[0m \u001b[0mdata\u001b[0m\u001b[0;34m=\u001b[0m\u001b[0mdata\u001b[0m\u001b[0;34m)\u001b[0m\u001b[0;34m.\u001b[0m\u001b[0mfit\u001b[0m\u001b[0;34m(\u001b[0m\u001b[0;34m)\u001b[0m\u001b[0;34m\u001b[0m\u001b[0;34m\u001b[0m\u001b[0m\n\u001b[0m",
            "\u001b[0;32m/usr/local/lib/python3.7/dist-packages/statsmodels/base/model.py\u001b[0m in \u001b[0;36mfrom_formula\u001b[0;34m(cls, formula, data, subset, drop_cols, *args, **kwargs)\u001b[0m\n\u001b[1;32m    157\u001b[0m \u001b[0;34m\u001b[0m\u001b[0m\n\u001b[1;32m    158\u001b[0m         tmp = handle_formula_data(data, None, formula, depth=eval_env,\n\u001b[0;32m--> 159\u001b[0;31m                                   missing=missing)\n\u001b[0m\u001b[1;32m    160\u001b[0m         \u001b[0;34m(\u001b[0m\u001b[0;34m(\u001b[0m\u001b[0mendog\u001b[0m\u001b[0;34m,\u001b[0m \u001b[0mexog\u001b[0m\u001b[0;34m)\u001b[0m\u001b[0;34m,\u001b[0m \u001b[0mmissing_idx\u001b[0m\u001b[0;34m,\u001b[0m \u001b[0mdesign_info\u001b[0m\u001b[0;34m)\u001b[0m \u001b[0;34m=\u001b[0m \u001b[0mtmp\u001b[0m\u001b[0;34m\u001b[0m\u001b[0;34m\u001b[0m\u001b[0m\n\u001b[1;32m    161\u001b[0m \u001b[0;34m\u001b[0m\u001b[0m\n",
            "\u001b[0;32m/usr/local/lib/python3.7/dist-packages/statsmodels/formula/formulatools.py\u001b[0m in \u001b[0;36mhandle_formula_data\u001b[0;34m(Y, X, formula, depth, missing)\u001b[0m\n\u001b[1;32m     63\u001b[0m         \u001b[0;32mif\u001b[0m \u001b[0mdata_util\u001b[0m\u001b[0;34m.\u001b[0m\u001b[0m_is_using_pandas\u001b[0m\u001b[0;34m(\u001b[0m\u001b[0mY\u001b[0m\u001b[0;34m,\u001b[0m \u001b[0;32mNone\u001b[0m\u001b[0;34m)\u001b[0m\u001b[0;34m:\u001b[0m\u001b[0;34m\u001b[0m\u001b[0;34m\u001b[0m\u001b[0m\n\u001b[1;32m     64\u001b[0m             result = dmatrices(formula, Y, depth, return_type='dataframe',\n\u001b[0;32m---> 65\u001b[0;31m                                NA_action=na_action)\n\u001b[0m\u001b[1;32m     66\u001b[0m         \u001b[0;32melse\u001b[0m\u001b[0;34m:\u001b[0m\u001b[0;34m\u001b[0m\u001b[0;34m\u001b[0m\u001b[0m\n\u001b[1;32m     67\u001b[0m             result = dmatrices(formula, Y, depth, return_type='dataframe',\n",
            "\u001b[0;32m/usr/local/lib/python3.7/dist-packages/patsy/highlevel.py\u001b[0m in \u001b[0;36mdmatrices\u001b[0;34m(formula_like, data, eval_env, NA_action, return_type)\u001b[0m\n\u001b[1;32m    308\u001b[0m     \u001b[0meval_env\u001b[0m \u001b[0;34m=\u001b[0m \u001b[0mEvalEnvironment\u001b[0m\u001b[0;34m.\u001b[0m\u001b[0mcapture\u001b[0m\u001b[0;34m(\u001b[0m\u001b[0meval_env\u001b[0m\u001b[0;34m,\u001b[0m \u001b[0mreference\u001b[0m\u001b[0;34m=\u001b[0m\u001b[0;36m1\u001b[0m\u001b[0;34m)\u001b[0m\u001b[0;34m\u001b[0m\u001b[0;34m\u001b[0m\u001b[0m\n\u001b[1;32m    309\u001b[0m     (lhs, rhs) = _do_highlevel_design(formula_like, data, eval_env,\n\u001b[0;32m--> 310\u001b[0;31m                                       NA_action, return_type)\n\u001b[0m\u001b[1;32m    311\u001b[0m     \u001b[0;32mif\u001b[0m \u001b[0mlhs\u001b[0m\u001b[0;34m.\u001b[0m\u001b[0mshape\u001b[0m\u001b[0;34m[\u001b[0m\u001b[0;36m1\u001b[0m\u001b[0;34m]\u001b[0m \u001b[0;34m==\u001b[0m \u001b[0;36m0\u001b[0m\u001b[0;34m:\u001b[0m\u001b[0;34m\u001b[0m\u001b[0;34m\u001b[0m\u001b[0m\n\u001b[1;32m    312\u001b[0m         \u001b[0;32mraise\u001b[0m \u001b[0mPatsyError\u001b[0m\u001b[0;34m(\u001b[0m\u001b[0;34m\"model is missing required outcome variables\"\u001b[0m\u001b[0;34m)\u001b[0m\u001b[0;34m\u001b[0m\u001b[0;34m\u001b[0m\u001b[0m\n",
            "\u001b[0;32m/usr/local/lib/python3.7/dist-packages/patsy/highlevel.py\u001b[0m in \u001b[0;36m_do_highlevel_design\u001b[0;34m(formula_like, data, eval_env, NA_action, return_type)\u001b[0m\n\u001b[1;32m    163\u001b[0m         \u001b[0;32mreturn\u001b[0m \u001b[0miter\u001b[0m\u001b[0;34m(\u001b[0m\u001b[0;34m[\u001b[0m\u001b[0mdata\u001b[0m\u001b[0;34m]\u001b[0m\u001b[0;34m)\u001b[0m\u001b[0;34m\u001b[0m\u001b[0;34m\u001b[0m\u001b[0m\n\u001b[1;32m    164\u001b[0m     design_infos = _try_incr_builders(formula_like, data_iter_maker, eval_env,\n\u001b[0;32m--> 165\u001b[0;31m                                       NA_action)\n\u001b[0m\u001b[1;32m    166\u001b[0m     \u001b[0;32mif\u001b[0m \u001b[0mdesign_infos\u001b[0m \u001b[0;32mis\u001b[0m \u001b[0;32mnot\u001b[0m \u001b[0;32mNone\u001b[0m\u001b[0;34m:\u001b[0m\u001b[0;34m\u001b[0m\u001b[0;34m\u001b[0m\u001b[0m\n\u001b[1;32m    167\u001b[0m         return build_design_matrices(design_infos, data,\n",
            "\u001b[0;32m/usr/local/lib/python3.7/dist-packages/patsy/highlevel.py\u001b[0m in \u001b[0;36m_try_incr_builders\u001b[0;34m(formula_like, data_iter_maker, eval_env, NA_action)\u001b[0m\n\u001b[1;32m     68\u001b[0m                                       \u001b[0mdata_iter_maker\u001b[0m\u001b[0;34m,\u001b[0m\u001b[0;34m\u001b[0m\u001b[0;34m\u001b[0m\u001b[0m\n\u001b[1;32m     69\u001b[0m                                       \u001b[0meval_env\u001b[0m\u001b[0;34m,\u001b[0m\u001b[0;34m\u001b[0m\u001b[0;34m\u001b[0m\u001b[0m\n\u001b[0;32m---> 70\u001b[0;31m                                       NA_action)\n\u001b[0m\u001b[1;32m     71\u001b[0m     \u001b[0;32melse\u001b[0m\u001b[0;34m:\u001b[0m\u001b[0;34m\u001b[0m\u001b[0;34m\u001b[0m\u001b[0m\n\u001b[1;32m     72\u001b[0m         \u001b[0;32mreturn\u001b[0m \u001b[0;32mNone\u001b[0m\u001b[0;34m\u001b[0m\u001b[0;34m\u001b[0m\u001b[0m\n",
            "\u001b[0;32m/usr/local/lib/python3.7/dist-packages/patsy/build.py\u001b[0m in \u001b[0;36mdesign_matrix_builders\u001b[0;34m(termlists, data_iter_maker, eval_env, NA_action)\u001b[0m\n\u001b[1;32m    694\u001b[0m                                                    \u001b[0mfactor_states\u001b[0m\u001b[0;34m,\u001b[0m\u001b[0;34m\u001b[0m\u001b[0;34m\u001b[0m\u001b[0m\n\u001b[1;32m    695\u001b[0m                                                    \u001b[0mdata_iter_maker\u001b[0m\u001b[0;34m,\u001b[0m\u001b[0;34m\u001b[0m\u001b[0;34m\u001b[0m\u001b[0m\n\u001b[0;32m--> 696\u001b[0;31m                                                    NA_action)\n\u001b[0m\u001b[1;32m    697\u001b[0m     \u001b[0;31m# Now we need the factor infos, which encapsulate the knowledge of\u001b[0m\u001b[0;34m\u001b[0m\u001b[0;34m\u001b[0m\u001b[0;34m\u001b[0m\u001b[0m\n\u001b[1;32m    698\u001b[0m     \u001b[0;31m# how to turn any given factor into a chunk of data:\u001b[0m\u001b[0;34m\u001b[0m\u001b[0;34m\u001b[0m\u001b[0;34m\u001b[0m\u001b[0m\n",
            "\u001b[0;32m/usr/local/lib/python3.7/dist-packages/patsy/build.py\u001b[0m in \u001b[0;36m_examine_factor_types\u001b[0;34m(factors, factor_states, data_iter_maker, NA_action)\u001b[0m\n\u001b[1;32m    441\u001b[0m     \u001b[0;32mfor\u001b[0m \u001b[0mdata\u001b[0m \u001b[0;32min\u001b[0m \u001b[0mdata_iter_maker\u001b[0m\u001b[0;34m(\u001b[0m\u001b[0;34m)\u001b[0m\u001b[0;34m:\u001b[0m\u001b[0;34m\u001b[0m\u001b[0;34m\u001b[0m\u001b[0m\n\u001b[1;32m    442\u001b[0m         \u001b[0;32mfor\u001b[0m \u001b[0mfactor\u001b[0m \u001b[0;32min\u001b[0m \u001b[0mlist\u001b[0m\u001b[0;34m(\u001b[0m\u001b[0mexamine_needed\u001b[0m\u001b[0;34m)\u001b[0m\u001b[0;34m:\u001b[0m\u001b[0;34m\u001b[0m\u001b[0;34m\u001b[0m\u001b[0m\n\u001b[0;32m--> 443\u001b[0;31m             \u001b[0mvalue\u001b[0m \u001b[0;34m=\u001b[0m \u001b[0mfactor\u001b[0m\u001b[0;34m.\u001b[0m\u001b[0meval\u001b[0m\u001b[0;34m(\u001b[0m\u001b[0mfactor_states\u001b[0m\u001b[0;34m[\u001b[0m\u001b[0mfactor\u001b[0m\u001b[0;34m]\u001b[0m\u001b[0;34m,\u001b[0m \u001b[0mdata\u001b[0m\u001b[0;34m)\u001b[0m\u001b[0;34m\u001b[0m\u001b[0;34m\u001b[0m\u001b[0m\n\u001b[0m\u001b[1;32m    444\u001b[0m             \u001b[0;32mif\u001b[0m \u001b[0mfactor\u001b[0m \u001b[0;32min\u001b[0m \u001b[0mcat_sniffers\u001b[0m \u001b[0;32mor\u001b[0m \u001b[0mguess_categorical\u001b[0m\u001b[0;34m(\u001b[0m\u001b[0mvalue\u001b[0m\u001b[0;34m)\u001b[0m\u001b[0;34m:\u001b[0m\u001b[0;34m\u001b[0m\u001b[0;34m\u001b[0m\u001b[0m\n\u001b[1;32m    445\u001b[0m                 \u001b[0;32mif\u001b[0m \u001b[0mfactor\u001b[0m \u001b[0;32mnot\u001b[0m \u001b[0;32min\u001b[0m \u001b[0mcat_sniffers\u001b[0m\u001b[0;34m:\u001b[0m\u001b[0;34m\u001b[0m\u001b[0;34m\u001b[0m\u001b[0m\n",
            "\u001b[0;32m/usr/local/lib/python3.7/dist-packages/patsy/eval.py\u001b[0m in \u001b[0;36meval\u001b[0;34m(self, memorize_state, data)\u001b[0m\n\u001b[1;32m    564\u001b[0m         return self._eval(memorize_state[\"eval_code\"],\n\u001b[1;32m    565\u001b[0m                           \u001b[0mmemorize_state\u001b[0m\u001b[0;34m,\u001b[0m\u001b[0;34m\u001b[0m\u001b[0;34m\u001b[0m\u001b[0m\n\u001b[0;32m--> 566\u001b[0;31m                           data)\n\u001b[0m\u001b[1;32m    567\u001b[0m \u001b[0;34m\u001b[0m\u001b[0m\n\u001b[1;32m    568\u001b[0m     \u001b[0m__getstate__\u001b[0m \u001b[0;34m=\u001b[0m \u001b[0mno_pickling\u001b[0m\u001b[0;34m\u001b[0m\u001b[0;34m\u001b[0m\u001b[0m\n",
            "\u001b[0;32m/usr/local/lib/python3.7/dist-packages/patsy/eval.py\u001b[0m in \u001b[0;36m_eval\u001b[0;34m(self, code, memorize_state, data)\u001b[0m\n\u001b[1;32m    549\u001b[0m                                  \u001b[0mmemorize_state\u001b[0m\u001b[0;34m[\u001b[0m\u001b[0;34m\"eval_env\"\u001b[0m\u001b[0;34m]\u001b[0m\u001b[0;34m.\u001b[0m\u001b[0meval\u001b[0m\u001b[0;34m,\u001b[0m\u001b[0;34m\u001b[0m\u001b[0;34m\u001b[0m\u001b[0m\n\u001b[1;32m    550\u001b[0m                                  \u001b[0mcode\u001b[0m\u001b[0;34m,\u001b[0m\u001b[0;34m\u001b[0m\u001b[0;34m\u001b[0m\u001b[0m\n\u001b[0;32m--> 551\u001b[0;31m                                  inner_namespace=inner_namespace)\n\u001b[0m\u001b[1;32m    552\u001b[0m \u001b[0;34m\u001b[0m\u001b[0m\n\u001b[1;32m    553\u001b[0m     \u001b[0;32mdef\u001b[0m \u001b[0mmemorize_chunk\u001b[0m\u001b[0;34m(\u001b[0m\u001b[0mself\u001b[0m\u001b[0;34m,\u001b[0m \u001b[0mstate\u001b[0m\u001b[0;34m,\u001b[0m \u001b[0mwhich_pass\u001b[0m\u001b[0;34m,\u001b[0m \u001b[0mdata\u001b[0m\u001b[0;34m)\u001b[0m\u001b[0;34m:\u001b[0m\u001b[0;34m\u001b[0m\u001b[0;34m\u001b[0m\u001b[0m\n",
            "\u001b[0;32m/usr/local/lib/python3.7/dist-packages/patsy/compat.py\u001b[0m in \u001b[0;36mcall_and_wrap_exc\u001b[0;34m(msg, origin, f, *args, **kwargs)\u001b[0m\n\u001b[1;32m     41\u001b[0m                                  origin)\n\u001b[1;32m     42\u001b[0m             \u001b[0;31m# Use 'exec' to hide this syntax from the Python 2 parser:\u001b[0m\u001b[0;34m\u001b[0m\u001b[0;34m\u001b[0m\u001b[0;34m\u001b[0m\u001b[0m\n\u001b[0;32m---> 43\u001b[0;31m             \u001b[0mexec\u001b[0m\u001b[0;34m(\u001b[0m\u001b[0;34m\"raise new_exc from e\"\u001b[0m\u001b[0;34m)\u001b[0m\u001b[0;34m\u001b[0m\u001b[0;34m\u001b[0m\u001b[0m\n\u001b[0m\u001b[1;32m     44\u001b[0m         \u001b[0;32melse\u001b[0m\u001b[0;34m:\u001b[0m\u001b[0;34m\u001b[0m\u001b[0;34m\u001b[0m\u001b[0m\n\u001b[1;32m     45\u001b[0m             \u001b[0;31m# In python 2, we just let the original exception escape -- better\u001b[0m\u001b[0;34m\u001b[0m\u001b[0;34m\u001b[0m\u001b[0;34m\u001b[0m\u001b[0m\n",
            "\u001b[0;32m/usr/local/lib/python3.7/dist-packages/patsy/compat.py\u001b[0m in \u001b[0;36m<module>\u001b[0;34m\u001b[0m\n",
            "\u001b[0;31mPatsyError\u001b[0m: Error evaluating factor: NameError: name 'Sex' is not defined\n    G3 ~ Sex+address+reason+studytime+failures+schoolsup+paid+activities+health+absences+G1+G2\n         ^^^"
          ]
        }
      ],
      "source": [
        "org_lm = smf.ols(formula='G3 ~ Sex+address+reason+studytime+failures+schoolsup+paid+activities+health+absences+G1+G2', data=data).fit()\n"
      ]
    },
    {
      "cell_type": "code",
      "source": [
        "model = smf.ols(formula='G3 ~ Sch_int+gender+reason_int+studytime+failures+schoolsup_int+paid_int+act_int+health+absences+G1+G2', data=data).fit()\n",
        "model.params"
      ],
      "metadata": {
        "colab": {
          "base_uri": "https://localhost:8080/"
        },
        "id": "Vy7Dgfzq4al7",
        "outputId": "545e1e99-a0d0-4226-b697-f901dc20a8d3"
      },
      "execution_count": null,
      "outputs": [
        {
          "output_type": "execute_result",
          "data": {
            "text/plain": [
              "Intercept       -1.890539\n",
              "Sch_int          0.075589\n",
              "gender           0.249960\n",
              "reason_int       0.124517\n",
              "studytime       -0.119013\n",
              "failures        -0.269089\n",
              "schoolsup_int   -0.606483\n",
              "paid_int        -0.154062\n",
              "act_int          0.322543\n",
              "health           0.088543\n",
              "absences         0.040000\n",
              "G1               0.177096\n",
              "G2               0.964207\n",
              "dtype: float64"
            ]
          },
          "metadata": {},
          "execution_count": 19
        }
      ]
    },
    {
      "cell_type": "code",
      "source": [
        "model.rsquared"
      ],
      "metadata": {
        "colab": {
          "base_uri": "https://localhost:8080/"
        },
        "id": "9_1tcklo7VNZ",
        "outputId": "21f57f21-d570-43d8-9743-a1fbbffffd34"
      },
      "execution_count": null,
      "outputs": [
        {
          "output_type": "execute_result",
          "data": {
            "text/plain": [
              "0.8333425527375488"
            ]
          },
          "metadata": {},
          "execution_count": 34
        }
      ]
    },
    {
      "cell_type": "code",
      "source": [
        "model.summary()"
      ],
      "metadata": {
        "colab": {
          "base_uri": "https://localhost:8080/",
          "height": 687
        },
        "id": "6ZfWegXL4hXm",
        "outputId": "633e2e5e-8790-4f52-db04-ce9a0851018c"
      },
      "execution_count": null,
      "outputs": [
        {
          "output_type": "execute_result",
          "data": {
            "text/plain": [
              "<class 'statsmodels.iolib.summary.Summary'>\n",
              "\"\"\"\n",
              "                            OLS Regression Results                            \n",
              "==============================================================================\n",
              "Dep. Variable:                     G3   R-squared:                       0.833\n",
              "Model:                            OLS   Adj. R-squared:                  0.828\n",
              "Method:                 Least Squares   F-statistic:                     159.2\n",
              "Date:                Fri, 19 Aug 2022   Prob (F-statistic):          2.16e-140\n",
              "Time:                        17:44:06   Log-Likelihood:                -807.29\n",
              "No. Observations:                 395   AIC:                             1641.\n",
              "Df Residuals:                     382   BIC:                             1692.\n",
              "Df Model:                          12                                         \n",
              "Covariance Type:            nonrobust                                         \n",
              "=================================================================================\n",
              "                    coef    std err          t      P>|t|      [0.025      0.975]\n",
              "---------------------------------------------------------------------------------\n",
              "Intercept        -1.8905      0.597     -3.169      0.002      -3.063      -0.718\n",
              "Sch_int           0.0756      0.308      0.245      0.807      -0.531       0.682\n",
              "gender            0.2500      0.210      1.188      0.235      -0.164       0.664\n",
              "reason_int        0.1245      0.102      1.226      0.221      -0.075       0.324\n",
              "studytime        -0.1190      0.126     -0.946      0.345      -0.366       0.128\n",
              "failures         -0.2691      0.142     -1.890      0.060      -0.549       0.011\n",
              "schoolsup_int    -0.6065      0.301     -2.014      0.045      -1.199      -0.014\n",
              "paid_int         -0.1541      0.201     -0.766      0.444      -0.549       0.241\n",
              "act_int           0.3225      0.195      1.651      0.100      -0.062       0.707\n",
              "health            0.0885      0.070      1.258      0.209      -0.050       0.227\n",
              "absences          0.0400      0.012      3.273      0.001       0.016       0.064\n",
              "G1                0.1771      0.058      3.073      0.002       0.064       0.290\n",
              "G2                0.9642      0.050     19.334      0.000       0.866       1.062\n",
              "==============================================================================\n",
              "Omnibus:                      202.967   Durbin-Watson:                   1.878\n",
              "Prob(Omnibus):                  0.000   Jarque-Bera (JB):             1101.152\n",
              "Skew:                          -2.213   Prob(JB):                    7.72e-240\n",
              "Kurtosis:                       9.878   Cond. No.                         113.\n",
              "==============================================================================\n",
              "\n",
              "Warnings:\n",
              "[1] Standard Errors assume that the covariance matrix of the errors is correctly specified.\n",
              "\"\"\""
            ],
            "text/html": [
              "<table class=\"simpletable\">\n",
              "<caption>OLS Regression Results</caption>\n",
              "<tr>\n",
              "  <th>Dep. Variable:</th>           <td>G3</td>        <th>  R-squared:         </th> <td>   0.833</td> \n",
              "</tr>\n",
              "<tr>\n",
              "  <th>Model:</th>                   <td>OLS</td>       <th>  Adj. R-squared:    </th> <td>   0.828</td> \n",
              "</tr>\n",
              "<tr>\n",
              "  <th>Method:</th>             <td>Least Squares</td>  <th>  F-statistic:       </th> <td>   159.2</td> \n",
              "</tr>\n",
              "<tr>\n",
              "  <th>Date:</th>             <td>Fri, 19 Aug 2022</td> <th>  Prob (F-statistic):</th> <td>2.16e-140</td>\n",
              "</tr>\n",
              "<tr>\n",
              "  <th>Time:</th>                 <td>17:44:06</td>     <th>  Log-Likelihood:    </th> <td> -807.29</td> \n",
              "</tr>\n",
              "<tr>\n",
              "  <th>No. Observations:</th>      <td>   395</td>      <th>  AIC:               </th> <td>   1641.</td> \n",
              "</tr>\n",
              "<tr>\n",
              "  <th>Df Residuals:</th>          <td>   382</td>      <th>  BIC:               </th> <td>   1692.</td> \n",
              "</tr>\n",
              "<tr>\n",
              "  <th>Df Model:</th>              <td>    12</td>      <th>                     </th>     <td> </td>    \n",
              "</tr>\n",
              "<tr>\n",
              "  <th>Covariance Type:</th>      <td>nonrobust</td>    <th>                     </th>     <td> </td>    \n",
              "</tr>\n",
              "</table>\n",
              "<table class=\"simpletable\">\n",
              "<tr>\n",
              "        <td></td>           <th>coef</th>     <th>std err</th>      <th>t</th>      <th>P>|t|</th>  <th>[0.025</th>    <th>0.975]</th>  \n",
              "</tr>\n",
              "<tr>\n",
              "  <th>Intercept</th>     <td>   -1.8905</td> <td>    0.597</td> <td>   -3.169</td> <td> 0.002</td> <td>   -3.063</td> <td>   -0.718</td>\n",
              "</tr>\n",
              "<tr>\n",
              "  <th>Sch_int</th>       <td>    0.0756</td> <td>    0.308</td> <td>    0.245</td> <td> 0.807</td> <td>   -0.531</td> <td>    0.682</td>\n",
              "</tr>\n",
              "<tr>\n",
              "  <th>gender</th>        <td>    0.2500</td> <td>    0.210</td> <td>    1.188</td> <td> 0.235</td> <td>   -0.164</td> <td>    0.664</td>\n",
              "</tr>\n",
              "<tr>\n",
              "  <th>reason_int</th>    <td>    0.1245</td> <td>    0.102</td> <td>    1.226</td> <td> 0.221</td> <td>   -0.075</td> <td>    0.324</td>\n",
              "</tr>\n",
              "<tr>\n",
              "  <th>studytime</th>     <td>   -0.1190</td> <td>    0.126</td> <td>   -0.946</td> <td> 0.345</td> <td>   -0.366</td> <td>    0.128</td>\n",
              "</tr>\n",
              "<tr>\n",
              "  <th>failures</th>      <td>   -0.2691</td> <td>    0.142</td> <td>   -1.890</td> <td> 0.060</td> <td>   -0.549</td> <td>    0.011</td>\n",
              "</tr>\n",
              "<tr>\n",
              "  <th>schoolsup_int</th> <td>   -0.6065</td> <td>    0.301</td> <td>   -2.014</td> <td> 0.045</td> <td>   -1.199</td> <td>   -0.014</td>\n",
              "</tr>\n",
              "<tr>\n",
              "  <th>paid_int</th>      <td>   -0.1541</td> <td>    0.201</td> <td>   -0.766</td> <td> 0.444</td> <td>   -0.549</td> <td>    0.241</td>\n",
              "</tr>\n",
              "<tr>\n",
              "  <th>act_int</th>       <td>    0.3225</td> <td>    0.195</td> <td>    1.651</td> <td> 0.100</td> <td>   -0.062</td> <td>    0.707</td>\n",
              "</tr>\n",
              "<tr>\n",
              "  <th>health</th>        <td>    0.0885</td> <td>    0.070</td> <td>    1.258</td> <td> 0.209</td> <td>   -0.050</td> <td>    0.227</td>\n",
              "</tr>\n",
              "<tr>\n",
              "  <th>absences</th>      <td>    0.0400</td> <td>    0.012</td> <td>    3.273</td> <td> 0.001</td> <td>    0.016</td> <td>    0.064</td>\n",
              "</tr>\n",
              "<tr>\n",
              "  <th>G1</th>            <td>    0.1771</td> <td>    0.058</td> <td>    3.073</td> <td> 0.002</td> <td>    0.064</td> <td>    0.290</td>\n",
              "</tr>\n",
              "<tr>\n",
              "  <th>G2</th>            <td>    0.9642</td> <td>    0.050</td> <td>   19.334</td> <td> 0.000</td> <td>    0.866</td> <td>    1.062</td>\n",
              "</tr>\n",
              "</table>\n",
              "<table class=\"simpletable\">\n",
              "<tr>\n",
              "  <th>Omnibus:</th>       <td>202.967</td> <th>  Durbin-Watson:     </th> <td>   1.878</td> \n",
              "</tr>\n",
              "<tr>\n",
              "  <th>Prob(Omnibus):</th> <td> 0.000</td>  <th>  Jarque-Bera (JB):  </th> <td>1101.152</td> \n",
              "</tr>\n",
              "<tr>\n",
              "  <th>Skew:</th>          <td>-2.213</td>  <th>  Prob(JB):          </th> <td>7.72e-240</td>\n",
              "</tr>\n",
              "<tr>\n",
              "  <th>Kurtosis:</th>      <td> 9.878</td>  <th>  Cond. No.          </th> <td>    113.</td> \n",
              "</tr>\n",
              "</table><br/><br/>Warnings:<br/>[1] Standard Errors assume that the covariance matrix of the errors is correctly specified."
            ]
          },
          "metadata": {},
          "execution_count": 125
        }
      ]
    },
    {
      "cell_type": "code",
      "source": [],
      "metadata": {
        "id": "079G2R1v7M1d"
      },
      "execution_count": null,
      "outputs": []
    },
    {
      "cell_type": "code",
      "source": [
        "from sklearn.model_selection import train_test_split\n",
        "\n",
        "import warnings\n",
        "warnings.filterwarnings('ignore')"
      ],
      "metadata": {
        "id": "Jh05MmJ18rSk"
      },
      "execution_count": null,
      "outputs": []
    },
    {
      "cell_type": "code",
      "source": [
        "X = data[[\"Sch_int\",\"gender\",\"add_int\",\"reason_int\",\"studytime\",\"failures\",\"schoolsup_int\",\"paid_int\",\"act_int\",\"health\",\"absences\",\"G1\",\"G2\"]]\n",
        "y = data.G3\n",
        "##X_training, X_testing, y_training, y_testing = train_test_split(X, y, test_size=0.2)\n",
        "X_training, X_testing, y_training, y_testing = train_test_split(X, y, train_size = 0.7, test_size = 0.3)\n",
        "model_tt = LinearRegression()\n",
        "model_tt.fit(X_training, y_training)\n",
        "y_pred_tt = model_tt.predict(X_testing)\n",
        "print(np.sqrt(metrics.mean_squared_error(y_testing, y_pred_tt)))"
      ],
      "metadata": {
        "colab": {
          "base_uri": "https://localhost:8080/"
        },
        "id": "AKzT9wKg8rOf",
        "outputId": "d65adf59-1a54-49ca-88a9-56a9de43053b"
      },
      "execution_count": null,
      "outputs": [
        {
          "output_type": "stream",
          "name": "stdout",
          "text": [
            "1.8979535462926462\n"
          ]
        }
      ]
    },
    {
      "cell_type": "code",
      "source": [
        "metrics.explained_variance_score(y_testing, y_pred_tt)"
      ],
      "metadata": {
        "colab": {
          "base_uri": "https://localhost:8080/"
        },
        "id": "dJaBC5eXO0As",
        "outputId": "287a82a3-e130-4dd7-e2bf-93a2562cde6b"
      },
      "execution_count": null,
      "outputs": [
        {
          "output_type": "execute_result",
          "data": {
            "text/plain": [
              "0.815065748314197"
            ]
          },
          "metadata": {},
          "execution_count": 9
        }
      ]
    },
    {
      "cell_type": "code",
      "source": [
        "mae = metrics.mean_absolute_error(y_testing, y_pred_tt)  ##MAE (Mean absolute error)\n",
        "mse = metrics.mean_squared_error(y_testing, y_pred_tt)   ##MSE (Mean Squared Error) \n",
        "rmse = np.sqrt(mse) # or mse**(0.5)                    ##RMSE (Root Mean Squared Error)\n",
        "r2 = metrics.r2_score(y_testing, y_pred_tt)                ##R-squared (Coefficient of determination)"
      ],
      "metadata": {
        "id": "YQOyd8oXQVeH"
      },
      "execution_count": null,
      "outputs": []
    },
    {
      "cell_type": "code",
      "source": [
        "print(mae)\n",
        "print(mse)\n",
        "print(rmse)\n",
        "print(r2)"
      ],
      "metadata": {
        "colab": {
          "base_uri": "https://localhost:8080/"
        },
        "id": "QB64WeREQrzJ",
        "outputId": "dc3dd788-81ee-4adf-d222-90179fc49a1c"
      },
      "execution_count": null,
      "outputs": [
        {
          "output_type": "stream",
          "name": "stdout",
          "text": [
            "1.115270382800426\n",
            "2.253364120335092\n",
            "1.5011209545986266\n",
            "0.8585077893791117\n"
          ]
        }
      ]
    },
    {
      "cell_type": "markdown",
      "source": [
        "### ***For our review to understand***\n",
        "\n",
        "**Regression accuracy metrics**\n",
        "\n",
        "   The MSE, MAE, RMSE, and R-Squared are mainly used metrics to evaluate the prediction error rates and model performance in regression analysis.\n",
        "\n",
        "**MAE (Mean absolute error)** represents the difference between the original and predicted values extracted by averaged the absolute difference over the data set.\n",
        "\n",
        "**MSE (Mean Squared Error)** represents the difference between the original and predicted values extracted by squared the average difference over the data set.\n",
        "\n",
        "**RMSE (Root Mean Squared Error)** is the error rate by the square root of MSE.\n",
        "\n",
        "**R-squared (Coefficient of determination)** represents the coefficient of how well the values fit compared to the original values. The value from 0 to 1 interpreted as percentages. The higher the value is, the better the model is.\n",
        "\n",
        "**The above metrics can be expressed,**\n",
        " \n",
        "![formula-MAE-MSE-RMSE-RSquared.JPG](data:image/jpeg;base64,/9j/4AAQSkZJRgABAQEAYABgAAD/4QCCRXhpZgAASUkqAAgAAAAEADEBAgAHAAAAPgAAADsBAgAKAAAARQAAABICAwACAAAAAgACAGmHBAABAAAAUAAAAAAAAABHb29nbGUAb3N0MDAxMTQ5AAADAACQBwAEAAAAMDIyMAKgBAABAAAAiQEAAAOgBAABAAAAxgEAAAAAAAD/2wBDAAcFBQYFBAcGBQYIBwcIChELCgkJChUPEAwRGBUaGRgVGBcbHichGx0lHRcYIi4iJSgpKywrGiAvMy8qMicqKyr/2wBDAQcICAoJChQLCxQqHBgcKioqKioqKioqKioqKioqKioqKioqKioqKioqKioqKioqKioqKioqKioqKioqKioqKir/wAARCAHGAYkDASIAAhEBAxEB/8QAHwAAAQUBAQEBAQEAAAAAAAAAAAECAwQFBgcICQoL/8QAtRAAAgEDAwIEAwUFBAQAAAF9AQIDAAQRBRIhMUEGE1FhByJxFDKBkaEII0KxwRVS0fAkM2JyggkKFhcYGRolJicoKSo0NTY3ODk6Q0RFRkdISUpTVFVWV1hZWmNkZWZnaGlqc3R1dnd4eXqDhIWGh4iJipKTlJWWl5iZmqKjpKWmp6ipqrKztLW2t7i5usLDxMXGx8jJytLT1NXW19jZ2uHi4+Tl5ufo6erx8vP09fb3+Pn6/8QAHwEAAwEBAQEBAQEBAQAAAAAAAAECAwQFBgcICQoL/8QAtREAAgECBAQDBAcFBAQAAQJ3AAECAxEEBSExBhJBUQdhcRMiMoEIFEKRobHBCSMzUvAVYnLRChYkNOEl8RcYGRomJygpKjU2Nzg5OkNERUZHSElKU1RVVldYWVpjZGVmZ2hpanN0dXZ3eHl6goOEhYaHiImKkpOUlZaXmJmaoqOkpaanqKmqsrO0tba3uLm6wsPExcbHyMnK0tPU1dbX2Nna4uPk5ebn6Onq8vP09fb3+Pn6/9oADAMBAAIRAxEAPwD6RooooAKKKKACiiigAooooAKKKKACiiigAooooAKKKKACiiigAooooAKKKKACiiigAooooAKKKKACiiigAooooAKKKKACiiigAooooAKKKKACiiigAooooAKKKKACiiigBr9KhqZ+lQ0AWKKKKACiiigAooooAKKKKACiiigAooooAKKKKACiiigAopsrmOF3WNpWVSQiYyx9BkgZ+pArmfCviTUtZ1/xFp2rWVtZtpNxDEiQSmXIkhWXLMQOcOOAMA55PWgDqK5fx7c61Ho9tbeFbw2mr3M5W3Plo6vsieQqwYH5TsxkYIJHNbWra5pOg26XGuapZabDI+xJLy4SFWbGcAsQCcAnHtXNXXi34dXmsWOqXHi/RDd2AkFuy62iqu8bWygkCtx/eBx2xQBJ4M1+fxVqV9q9tfzNpLW9skVi8SAQTtGJJBuChiQrxjBJwd3tjr643SvFvw30OCeHSvFHh22juLiS5kVNVhw0kjbnbl+57dB2rqdP1Kx1ewjvtKvLe+tJc+XcW0qyRvgkHDKSDggj6igCzRRRQAUUUUAFFFFABRRRQAUUUUAFFFFABRRRQAUUUUAFFFFABRRRQAUUUUAFFFFABRRRQA1+lQ1M/SoaALFFFFABRRRQAUUUUAFFFFABRRXj3w88TXOlf8JVPqF/f6pBKbfUNKgubp5naO5klWCGNnJPO2Nfq2T7AHsNFeffCL+1LzR9Y1jXNTudQmvdVuFiZ53aFI428vESE4VN6yYwM4wDnFQ6hrmp3PxS8MXEF3LDoc95dafHCrFUuWS3kZpW7MN6BUz/AHWYZ3A0Aej0V5T481Wxt/ifENVvvEMemafoUl1ew6RNehGYyfui4tyAmAsx3MQDgZOAMd34V0VtF0+4U3uo3Ud3cG5ij1G4kmltlZFHlbndjgFSevUn60AbdFY2p+KdP0m8NrdW+rSSBQ2600e7uUwf9uKJlz7ZzRpninT9WvBa2tvq0chUtuu9Hu7ZMD/bliVc+2c0AbDuI42dskKCTtUk/gBya8/8Gal5nxI8YO+natbw6ldW0lpPc6XcQxyqlqiP87oAMMhHOM8Yzmuv1fxHofh/yf7e1nT9M8/d5X226SHzNuM7dxGcZGceorN/4WP4I/6HLw//AODSD/4qgC14u8K6d408L3mh6xHut7lMBx96JxyrqexB5/Toa8++E/inUtF1e4+GXjaT/ib6UudOum4F9aj7pBPUgdO+Bg8qa9S0/UrHV7CO+0q8t760lz5dxbSrJG+CQcMpIOCCPqK4j4r+AZvFuk2+q+H5DaeJ9Fb7RptyhwWI5MRPoccZ4B9icgHfSRpLG0cqq6OCrKwyGB6gisXwb4Yg8G+FoNDtJfNt7ead4iE27VkmeQLjJ+6H2574zxnFUPht4xbxx4KttVuLV7S9R2tryB1K7J04fGe2efbOOorq6ACiuK8MT3lvD4tk02zF7dDXphHC0wiVj5cXViDgepAJ9jT7Hx5carpfhO+03RxKniCUxzRvc7XstqMztjYQ4XYynledvrwAdlRRWFe+OfCWm3stnqPijRbS6hbbJBPqESOh9CpbINAG7RWXpPifQNflkj0LXNN1OSJQ0iWd3HMUB6EhScCsHxheJLr+iaLrWnTSaLqlybV5VugiSzeW0io8YGWQhGGCwBPBVhQB2VFeU6qXi+GXjSwhsGstO0+6a1sl+1mdGRShJQFAUUE42ZYKQyqcAV6tQAUUUUAFFFFABRRRQAUUUUAFFFFABRRRQAUUUUAFFFFABRRRQA1+lQ1M/SoaALFFFFABRRRQAUUUUAFFFFAGV4nt9Vu/C2o23h42y6lPA0Vu91IyRozcbiVVjwCSBjkgDjORyw+H9zbahZ69YNbJqljokVhbae0jfZEnjDhJTIF3MFErqPk6HOAcY76igDg9N8M+KdD+Ddn4b0h9Ni1yK3+zPcG6k8pMk7pVby9xcg5AKgBj1OOa2pfDWG08R+FtQ8HaB4f05dLuvOvZQvkzSIYzHsDJES/DlssRkqPXI9FooA4KLSPGuneLvEesafp+g3J1XyUtmuNTmjMMcSFVDKLc5yzOxww+9jPGa7HSYr6DRbKLV7hbq/SBFuZ0UKsku0bmAAGATnHFXKKAMbU/C2n6teG6urjVo5CoXbaaxd2yYH+xFKq598Zo0zwtp+k3gurW41aSQKV23esXdymD/sSysuffGa2aKAKWtaomiaHe6pLBNcR2cDzvFBt3sqjJxuIGcA9SK5v/AIWVpknw+tvF9np2p3dncTJB9mhjj+0Ru0vkhWVnAz5mFwCeo7c1Z+IMqv4XGlErv1q6h00KWxuSVwJf/IXmH8K4mO1l0/4rzeDfLIsb7V4/EkPBwIxG7SD0GLmOI4/6aZoA9cjYvGrMjRlgCUbGV9jjI/KuQ8YazfXmoQ+EPDE3latfR77q7UZ/s61zhpT/ALbcqg7nJ6Kas/ELx1p/w+8JzaxqBVpCfKtYCcGaUjgeuO5PYA/SvPfB/wAXfhn4f0+abUfFovNa1GT7Rqd7/Z9z+9lxgKv7vhEHyqvYD1JoA9c0XRrHw/ottpWlQiG0tUCRrnJ9yT3JOST3JNXq82P7QfwxCkjxLn2Fhc8/+Q61/hb4puvGfg59dupN8d1f3P2VSgUxwCVljU47hR15NAC+D7y2s5vE7XdxFAr+IJ1UyuFDHyozgZ74BP0Bqt4E0STSdJvNQvpCLZJ719MVU+aK1luHm34I+82V4PZV4GSK6ufQtIuk23WlWUy/aBd4kt0YecBgS8j7+P4utX6AOV+Gl2NQ+HumXrTxXNxdR/aLmaKJIw80h3uT5aqhYFsEgckHvmuqoooAK47x4java6fY6JcW8msWmsWs0cRO7yzGyPJ5gHKgRPk5x99QOWXPY1Vg0ywtb+5vbaxtobu72/aLiOFVkm2jC72Ay2BwM9KAOU8eafFpfwh1SzhLMsduNzt96Ri4LO3+0zEsfcmu1qK6tbe+tXtr2CK4gkGHilQOrD3B4NS0AFFFFABRRRQAUUUUAFFFFABRRRQAUUUUAFFFFABRRRQAUUUUANfpUNTP0qGgCxRRRQAUUUUAFFFFABRRRQAUUUUAFFFFABRRRQAUUUUAUdQ0TStXktpNV0yzvntX8y3a5t1kMLcfMpYHaeByPQVO1lavfJetbQtdxxtElwYx5ioSCVDdQCQCR7Cp6KAMPxba+HZNBnvvFum2V/Y6fG1w32uzFyIgB8zBdrHp1IHSuZm0P4fWFrZtqfgLT/PubdZmXT/DMl5GmRyN8dv6/wB4Kcc4FdZ4o0V/EXhe/wBIjuFtjeRGIyPF5igE8grlcgjIIyOD1qO88MW+qrbtql7qb3EUYRpLPUrmzVz1JKQyKvX1yccZoA5TUNF8CW/hO81zT/h1p92tqkjmCbQks3+RCxJE8akLxjIB5PGea7Pw9b2Ft4dshpOn2+m2kkKypa20apHHvG4gBQB1J7c1nar4Vnl8H3mhaDqclp9sR45LjUmn1FlR1KttMkoYH0+YgenNaWg2N5pmhWtjqV3BeT28Yj86C3MKso4X5C74OAM88n06UAaNFFFABRRRQAUUUUAFFFFABRRRQAUUUUAFFFFABRRRQAUUUUAFFFFABRRRQAUUUUAFFFFADX6VDUz9KhoAsUUUUAFFFFABRRRQAUUUUAFFFFABRRRQAUUUUAFFFFABRRRQAUUUUAFFFFABRRRQAUUUUAFFFFABRRRQAUUUUAFFFFABRRRQAUUUUAFFFFABRRRQAUUUUAFFFFABRRRQA1+lQ1M/SoaALFFFFABRRRQAUUUUAFFFFABRRRQAUUUUAFFFFABRRRQAUUUUAFFFIzKilnIVVGSScACgBaKy08UaBJZWl5Hrmmta3s3kWs63cZS4kyRsRs4ZsgjAyeK1KACiiigAooooAKKKKACiiigAooooAKKKKACiiigAooooAKKKKACiiigAooooAKKKKACiiigBr9KhqZ+lQ0AWKKKKACiiigAooooAKKKKACiiigAooooAKKKKACiiigAoorgfGlmYviB4KvPtd2zTas8fkmYiJF+yynAQYUnK53EFuoBA4oA76szxHqU2j+GdR1C0tZ7y4t7d3ht7aFpZJZMfKoVQScnH06nitGQuI2MSqz4O0M2AT2ycHH5GvMPCvxT8Q+K9e1XQ4fCumadq2kvtuLLUNbkSQjpvXbbMGXpznuOxFAEnh/wxe6N4wsNGgtp5PD0ax6vDcPGQqTrB9naFsjKklllAPOd3oa9Nrm/t3jf/AKF7w/8A+D6f/wCQ6q6L4t1q68d3PhnX/D9vp0kVgL6K6tr9rmOZS4TAzEhBB65/rQB11FFFABRRRQAUUUUAFFFFABRRRQAUUUUAFFFFABRRRQAUUUUAFFFFABRRRQAUUUUAFFFFADX6VFipmqPFAEtFFFABRRRQAUUUUAFFFFABWL4p8X6J4L0tdS8S3b2dm0gi85beSUBiDgHYrY6dTxW1XnfxZsz4gsIvDqc+bY399IMZ4jt2jTP/AG0njYe6exoA67xF4n0fwnpI1PX7wWloZFiV/LaQu7fdVVQFmJ9h2Jp2reJNL0SC2k1GeSNrtttvBHbySzTHGSFiRS5IHJAXjvXkl3dP49n8CSSZNld3luttEwI8xII/PuZSOmC8aRA44Acg4eu28cWN+b+DxZ4WurSfU/Dkc8dxYTv+7midEkeMsOY5Nqoyn3GRg0Aa7ePfDqeFbrxG97Mul2chiuJTZzboXBCsGj2bxgnByvHel0/xzompata6bAdRiurtHe3S70q6thKqjLENJGqnAI79x61ynjS+g8SfC/R7fRYI7P8A4TG7s1VZIc4WUiaRnUEbvkRs8jPrzmut0G31Fb+9XxLqWmalqEMge2FnbeSbaB0AHyMzMu5kk5LEHHHTAAN+isTxXqN5pmlRzafcfZ5WmCFv7GuNSyNrHHlQMrDoPmJwOnUiuR/4S7xB/wBBb/zH2rf/AB2gD0muS8U+Fda17XtHv7HW7Kxi0m6+1QxS6a0zOxjZCGYTKMYdugB6c8V1Ny062srWccctwEJijlkKIzY4DMAxUE9SAceh6Vz/ANu8b/8AQveH/wDwfT//ACHQB0UQkEKCZleQKN7Iu0E9yBk4Htk15b8W/Buopd2vxB8Egp4k0UbpIkXP263H3o2A+8QCfcjI67cd7pVz4jmumXXNK0uzt9hKyWepyXDlsjAKtBGAMZ5yeg45yNegDn/BHjHTvHXhS11zSX+SZcSxE/NBIPvI3uP1GD3rbNrbm8F2YI/tIjMQm2DeEJBK7uuMgHHtXlvg7Qf7I+OXiN/CM5Xw7JCG1W22/uo78nO2L3CnLAcDdj0A9XoAzo9ctZ9dl0q1SW4mtwDdSRqPLtiRlVdiR8xBB2jJAIJABBOjXEfDCNr74dtdvNJHd6neXs9xMhG9ZGuJF75GVAVen8I47VgwR6hfWOueC/7Y1Nb2DxCsdrdLfSi4is2WK4JMgbeQI2dBuJGSooA9VoqKO5SW4mhVZQ8ONxaJlU5GRtYjDe+CcdDWbqtz4jhulXQ9K0u8t9gLSXmpyW7hsnICrBICMY5yOp44yQDXqrqWpW2k2D3d67LEmAAiF2djwFVRksxPAA5JrO0+78VS38aaro2j21oc+ZLbavLNIvBxhGtkB5wPvDA556HK+KEV/H4F1HVtJv7y0u9Jga9iW3mMayGMhyHA+8Cqsu0/L8xyCcEAGha+LY7q0uGOj6rBeWyh306aFRcNGTjeo3bXHf5WJHTG75auDU31fw9Hf+FpbW5NwFaCS4LCPaWAYkAbsgbvl4ORtJXkjK0aN9U8cX+vW19dNpq2UVnFbm4cwPLkvJII87QQpjXcB1Dj1rG8O6e2rN480BL660+2XWj5ctmVWSISQxSyBdysoDOzk8fxtQB0XhHVNW1O31D+2RaS/ZrxoLe8s42jiu0Crl1RmYjDFkPzEEocV0FZehaK+iWrwyare6kGK7DdrCoiUKFCIsUaKq8elalABRRRQAUUUUAFFFFABRRRQAUUUUAFFFFABRRRQAUUUUABpuKdRigAooooAKKKKACiiigAooooAKyn8NaXJ4m/t94ZW1H7MbUyG5l2GInJTy92zGefu9ea1aKAMKXwVoEuuaXq/wBhaK70iHyLHyLiSKO3QggqsSsEwQcH5eQADwBiC9+H/hzUNUvL+5s5zNfkG8SO+njiucKFHmRK4RxgAYZTXSUUAYes+D9F157B9QhuFbTiTaG0vZrXySV25XynXnbkfQkd6l0PwvpXhyS7k0uKcS3rq9xNc3ctzJKVGBl5WZuB2zWvRQAUUUUAFeaeGvFOtH4patpWr6m1zo2oG5/sd3hjQwPbSbJ4gVUbsFuC2ThOec59Evp5rbT557W0e9njjLR20bqrSsBwoLEKM+pIFeXax4L8R3/wk0H+zrP7L4s01/OMcssf+sm3pc/MrFdpEruPmycDvxQB1/w4n1S98DWOo65qk2qT34NzHNLDHERC5zGu2NVH3NpyRnJPbADPGWv3sU9t4a8Muv8Ab+qKSkhXctjADh7lx6DooP3mIHY1vrAdJ0EW+mW/nmzttlvAGC79i4VcngZwBk8V4TpMnx50jVNT1KHwRo9ze6nMJJri6uo2cIOEiBFwAEUZwAO5JySTQB7h4d0Cy8MaFb6VpqsIYV+Z3OXlc8tI57sxySfU1de8to7yK0kuIluZkZ44WcB3VcbiF6kDcuT2yPWvGP8AhKP2hv8AoRPD/wD3/T/5KrR8BWXxK1b4pHxD8SNEtNMtrbSZLS1W0mjZBI0sbHgSO2SFOSTjgUAdZZWGreDRqkGj6S2r2FxcSXtnDDPHE8LyNukiO8gbSxZlIP8AEVIGATp6JoS22r6jr15AsWpansEiq27yo0UBUz0LYGWI6nA5Cg1u0UAcr4G0u70tdc+26Uunteavc3mVkQife5CuAhOMxrHknBLFsgYBPVUUUAFYXiAanqHm6Ja6Zus761eOXUXlTy4d3yspjzuY7SSMDGeCR1rdooAy47QeHPDcVnoWnvdLaRrFBbLKFLdss7n8STknk4J4NfwnoM2haXP9uljm1G/upL2+liB2NK+OFzztVQqDPOFGa3KKACiiigAooooAKKKKACiiigAooooAKKKKACiiigAooooAKKKKACiiigAooooAKKKKACiiigAooooAKKKKACiiigAooooAKKKKACiiigArhbLX9Qm0rxDqMd7Cs8eqSQWzQ6fdXwWCOTygTbRyls7kkBZNqkruI4Nd1Vay0yw03z/7Osre0+0SmabyIlTzZD1dsDlj6nmgDl/DWu6vqmpvb3uoeanksVA8J32nbW4wfNndkPX7uMn8DT/Ak90994st7vUbnUPsmttDFJcuGZV+zW7bQAAFG5m4AAyTXWsqupVwGVhggjIIrL0nwr4e0G4efQtC0zTZpF2PJZ2ccLMuc4JUDIyOlAGrRRRQAUUUUAFFFFABRRRQAUUUUAFFFFABRRRQAUUUUAFFFFABRRRQAUUUUAFFFFABRRRQAUUUUAFFFFABRRRQAUUUUAFFFFABRRRQAUUUUAFFFFABRRRQAUUUUAFFFFABRRRQAUUUUAFFFFABRRRQAUUVh674mGi6lY2EWkajqlzeRyyqlisR8tIzGGZt7rxmVBxk80AblFc3/wAJbd/9Ch4g/wC/dv8A/HqP+Etu/wDoUPEH/fu3/wDj1AHSUVzf/CW3f/QoeIP+/dv/APHqP+Etu/8AoUPEH/fu3/8Aj1AHSUVzf/CW3f8A0KHiD/v3b/8Ax6j/AIS27/6FDxB/37t//j1AHSUVzf8Awlt3/wBCh4g/792//wAeo/4S27/6FDxB/wB+7f8A+PUAdJRXN/8ACW3f/QoeIP8Av3b/APx6j/hLbv8A6FDxB/37t/8A49QB0lFc3/wlt3/0KHiD/v3b/wDx6j/hLbv/AKFDxB/37t//AI9QB0lFc3/wlt3/ANCh4g/792//AMeo/wCEtu/+hQ8Qf9+7f/49QB0lFZ+k6pLqkcjTaVfaaYyAFvFjBf3Gx2/XFaFABRRRQAUUUUAFFFFABRRRQAUUUUAFFFFABRRRQAUUUUAFFFFABRRRQAUUUUAFFFFABRRRQAUUUUAFFFFABRRRQAVztz8/xO07/pjo936cb5rf/wCN10Vc6nz/ABOm/wCmOjx/+PzP/wDG6AOiooooAKKp6xfRaZod9f3GfKtbaSZ8MQdqqSeR04FeceFL7XF1nTPCGv6hdTappt0b24n81g1zZtAWXdg8gTyBOf8AnnjvQB6nRRRQAUUUUAFFFFABRRRQAUUUUAFFFFABRRRQAUUUUAFFFFABRRRQAUUUUAFFFFABRRRQAUUUUAFFFFABRRRQAUUUUAFFFZfiTWW0HQ5L2G2F3cGSKC3tzJ5fmyySLGi7sHA3MMnBwMmgDUorml1XxiVG/wALacGxyBrJIB+vkUv9q+L/APoV9P8A/Bwf/jNAHSUVzf8Aavi//oV9P/8ABwf/AIzR/avi/wD6FfT/APwcH/4zQB0lFZWk3mt3M0i6zpFtYRhco8N8Zyxz0x5a4+tatABRRRQAVztl83xM1k9k0mwUdeCZbsn/ANlroq53SPn8d+I5P7sVpF09Fdv/AGegDP1rxHr1j8RPDekx2tnDpWp3M8TyvIXmk8u3eTIAG1BlfUk47V11zcR2trLcTbvLhQu+1CxwBk4UAkn2AzXC+MZ5z8RPCFxb6bqVzb6XdXEl5NBZSOkSyWzIpyB83Lj7ucYOa71GDorLkBhkbgQfyPIoA4EfEvwJ4x0W5t7efUtVsJcwz/ZNHvnU9CVLJFxxjIz0PvVseMPCY1caoLHWft4t/sv2g+Hr8v5W7dsz5PTPNcJ4mtJ/gr8Qv+Ey0iF28Ja1KI9as4hkWspPEyjsMkn6ll43Lj2q1uoL2zhurOVJ7edBJFLGcq6kZBB7gigDC8P+PPDvijVrvTNGvJpL6yQPcW89nNbvGD0yJEWuirIi8N2cPjK48SRl1u7iySykUY2sqOzBvXPzY+gFaxYAgEgEnA96AFooooAKKKKACiimJNFJGJI5EdGOAysCCc46/WgB9FQXt9aabZvd6jcw2ttHjfNM4RVycDJPHJIH1NM07VLHVrdp9Mu4bqNHMbtE4bY46qfQjI4PNAFqiiigAooooAKKKKACiiigAooooAKKKKACiiigArJ8WahDpPg3WdQulV4bWxmldHGQ4CE7SO+emPetaud8d+HLrxb4PutDs7qK0+2FFlklQuPLDBmUAEfext+hNAHmXg3TIXtvBumeF4bi21zSzb3fiC6liktyIXjYvG4cKZd7HC4DAbc5GBWp8RHz8V/Dl/DlP7HnskuJFOMi7naIBvUDyycHpu967iXw1P8A8LCtPE1rcxRhdNbT7u2KE+Yu8OjKc8FTu6g8MelUL3wBHr3/AAkkPiS4E1rrNzbSottmN4Ug2lU3HP8AEmSRj77dOKAOVeaTxr8bvD9w7s+k2FtdXtpBn5JI1KxJOR33yMSv+zEjD7xqxqlvY3fxE1fQ/iBby+XreyPQL/J8pFEQBijbkRTB9zZ6tkegFdXp/hS6svHGqa4t1bLDcadDYWMCQkfZEjLEDrggsxOBjoBVKLwl4g1OHQ7bxbq1neQ6PdRXZmt7dllvJYgdjPk4Tk7iADkjqBkUAcx4y/slPilZR6npU+qWHh/w7LcTxRW5nLln2xhx3wschGe5967/AMJeHrDQdNmfTbR7IalKL2W1ZgVt3aNFKLgDCjb09SfWsqHwx4hsfFniHXLDUdN8zVxCkaz20jfZ0iQqg4cZ5ZmPTk102jWdzp+iWVpfXj311DAiTXTjBmcD5nx2ycnHagCnrGsarp94sWneGrzVYmjDGeC5t41VskbcSSKc8A5xjmotM1zWb3UI4L7wnf6dC2d1zNdWzqmBkZCSFuTxwO9O1vwZoHiK9S71mw+0zpGIlfzpEwoJOMKwHUmotK8B+G9E1KO/0vTvIuYgQknnyNjIIPBYjoTQBP4s8Qy+F/D1zqselXWppbI0ssdsyAoijLMdxGcAHgAn271n313B4h8SeGobKVZrNY31hnX7roECRfmZt4/6511LoskbJIoZWGGUjII9K4z4feCrrwe2px3d0tzB5ot9MAJJhslZ3jjYnuGlkH0VfwAOY8XyBPjboesRN5aaXcWthO+7AY3Md1kN2O0CI8/36TTZJvGfxy07VLkudOsdLlvbCBj8vlvII4pSv95ysrg9lEfQiuouPh5Brdvrdv4nmF1Dqeqx6gBbgxlVjSNEiJOcjEeCRjO5ulWbHwrqFn4n8S6ut/bo2q20NtZCOA5s1iVwvfDcuWwMelAHJXFnY6n441zw38QYLhLvV52fQdSDEL5AjXEcD8iOVCGYjALE55GKtfENbG8+I3hLT73TpdQtrO3vL+6ghtzMzRhVjQFR1Xe+eeMqK24vCmuapcaA3izU7O5TQ5luVNpAyvdTqjIsjlj8owzEqBye4HFSzeGtcXx9e+JLO+08+dYx2MENxA7eTGrM5OQwyWZvyAoAl8DaNpNrp7a7o2nyaauuwwXL2bYCwgJ8oCgYU4OSPUmtDWNX1XT7pItO8N3mrRsm5poLiCMKcn5cSSKc8A8DHNWNAsb7TtFht9Xv/wC0L0F3mudpUOzOWwq5OFGcAZ4AAqprfg3QfEV2l1rNj9pmjj8tW86RMLknGFYDqTQAzTdd1m81CKC98JX+nwPndczXVs6pgEjISQsckAcDvW/XO6X4C8NaLqUWoaZpvkXUOdknnyNjIKngsR0JroqACuU06/h0/WfGF/cJcPHDqEETLbWz3Eh/0WAjEcas5/1nYHAyegJrq653wt8+qeKJf+emsHv/AHbaBP8A2WgBv/CeaR/z5+IP/Cc1D/4xWlpGvWmt+d9ih1CLydu77bptxaZznG3zkXd05xnHGeorF0Dx3FrfjTW/DbWTW11pYDRyGXcl0m4qzLwMbWwCOxNafhTXZfEvh2DVZbMWYuGfy4/N8zKqxUNnA64yPYj6AAv6nplnrOlXOm6nAlxaXUZimiccMpHP/wCuvLfhaNX8EeONU+Gt+0l/plrB/aGlXmcmGBnx5T+hyTj3DY4Ix3/i/wATxeFdDN15LXd7PILewsoz891O3CIP5k9gCar+CvDEvh/T57nVZlu9d1OT7Tqd2Bw8mOEX0jQfKo9BnuaAOlrhvBMja7pd34zntxe6heTXC2MbsB5FukjRxxITwu7ZuY9y3OcDHc1wHhPU9P8AAeiXnh/xJdxaeulXE0sE1wdq3FrJKXSRT3279jAfdI54IJAJF+IN/J4ZubqLRYW1e11oaM+n/bDteUyKu5ZNmSNjiTlRwD6V2sV3bTXE1vDcRSTW5UTRo4LR5GRuHUZHIzXE+E9BW/8AGGr+K8yf2Zd3QuNNt5IymZPISGS5wefmCELnHysx/iFXvh/qf9qxa7O94Ll/7ZukCEgtDGkhiRDjkf6ssAecMO2KANPV/GXh7Qb0Wmsatb2lwUDiOQnO09D+hpul+NfDmt362Wk6vb3VywLCKMnJA5Pat2igDkPiRqs2k+GzPJYy3GliWMajJDeeQ6QtIqHbhSW+9kgFOAfm5xVPR9F0pPFuveGrLQreLQY7aCSaJZc25nfJCiErhHCqGJU90JGTmrPxE1DTb7w/qXhDzPP1nV7B47WxjGZG3gqsnoEVhkseAB9M6mlWtt4P8MtLrN/GZSfPv76U7RNM2AW/kqr1wFUZoA53RPEFzp/hbxDaXtpda3c+HNRazgjSNpprhPkkgLYBJIWRAWwT8hbk1reBEiFlqM/k3y3l3eG4vZ7uyktRNKyKP3aSAMEVVVBkfw8knJpngDTrqG01fWb+B7ebXdSkvlglXa8UO1Y4lYdm2RqxHYsR2rraACiiigAooooAKKKKACiiigAooooAKKKKACiiigAooooAKKKKACiiigAooooAKKKKACiiigAooooAKKKKACiiigAooooAK5rwrPHDp+t3lxIscX9q3jvI5wFVHKEknsNldLXN+DIkm8N3QmRXSbVdSLKy5DKb2bGQfbFAHl2sTXfh3wF4c+IulxtLdzfa3uVj+86agWkjB/3ZTCMdq9e0q2tfCfg2ztbmaOG00mxRJJmOFVI0ALE/QE1pC1t1txbrBEIR0jCDaOc9OnXmnyRpLG0cqK6MMMrDII9CKAPANI+NngfUfGtz4n8UalNG9qXtdGsvskji2hP3piQMeZJ7fdUAZ611/wDw0b8Nv+gvcf8AgDL/APE1vabeaZPDrOoNoslxBa6i9lHbRadG7qYwFYrsyWUtuOTgjkYGKvadcaTqk0sMHhe4t3SIyKbzTPJRiMDaGIxk5/nQBzHg34p2nxA+KFxZ+GrqWXRLPSDJJ5kOzzLhpVAPI3YC5HYfMeOAa9MZFcYdQwznkZrmPBV82orq7XOl2Gn3FjqMlkVshkFVVG5YgE8t6D6V1FABQAB0GKKKACiiigBNo3bsDOMZxSkA9RmiigAooooAKKKKACiiigAooooAKKKKACiiigAooooAKKKKACiiigAooooAKKKKACiiigAooooAKKKKACiiigAooooAKKKKACiiigDhNS1zWvC3xI0xdbv0ufD+ug2cJWARrZXYJaNc8kh1+Xkn5lzwOK2fAfPguzccebJNL/33M7f1qfxh4Zt/F/hO+0W6Yx/aEzDMv3oJQcpIPdWAP6Uvg7SrvQ/BekaZqTpJeWtpHHcOhyrSBRuIOBxnPagDaooooA5zTvBdhaaNc6VfSy6lZ3F3LdeXchRsaSVpTyoBPzOeST2q5pfhXRdEuHuNI0+K0neMxmRMk7SQccn1A/KteigDD8O+HH8Pzai51Ka8GoXTXciyxou2RgoONoHGFHBrcoooAKKKKACiiigAooooAKKKKACiiigAooooAKKKKACiiigAooooAKKKKACiiigAooooAKKKKACiiigAooooAKKKKACiiigAooooAKKKKACiiigAooooAKKKKACiiigAooooAKKKKACiiigAooooAKKKKACiiigAooooAKKKKACiiigAooooAKKKKACiiigAooooAKKKKACiiigAooooAKKKKACiiigAooooAKKKKACiiigAooooAKKKKACiiigAooooAKKKKACiiigAooooAKKKKACiiigAooooAKKKKACiiigAooooAKKKKACiiigAooooAKKKKACiiigAooqlqmr2WjWq3GoSsiO4jRUjaR5HOcKqICzNweACeDQBdoqho2t6f4g00X2kzmeAu0ZLRtGyOp2srIwDKwIIIIBFX6ACiiigAooooAK4v4paDrWs+EjP4Xvr631TT5BcxW9peSwC8UfehYxspO4dOcg4wRk12lZPiXX4vDmitePE1zcO6wWlrGfnuZ24SNfcnv2AJPAoA4TTNGtfG3hDR/EPgbXdcsZjdQTyRXOu3kq7UkHnQSK8jDOAw6cnHY100l9c694+utFguJbbT9GghmvDC+x7iaXcUj3DkIqruOMFiyjOAQYvD2m6f8O/C8txrNxDDdaje/ab+WGMhJLudwu1EAJxkqoAGcDJ5yaZoanTfix4otbkbf7WhtdQtSf+WgSPyZAP90pGSP8AbHrQBqW3i62utc1PSFsL6O80+2F0EljVPtUZZlDR5b+8hHzbex6HNXPDmuQ+JfDdjrVrb3FtBfQiaKK6ULIFPQkAkcjB69CK5fxNpd5e/EzTP7NwFvNHurPUJVOGghMsLK3XqcSqvoSTzg42rfUJf+E6OhWsXk2OnaZHOfKlXaxkdkRGQx5XAhcgq4HJyDxgA6Gis/VtA0fX4Y4td0mx1OOJt0aXlskwQ9MgMDg1mxfD3wXBMksPhDQY5I2DI6aZCCpHIIO3g0Aaet6i+laPcXcNrcXcqISkNtF5jscZ6FlHbuyjtnkVxOmalHFe+GdRstV17U08UqxYybGgA8vzATHvUwELnBjBHBD7jtNei1wPwv0We30O2mvEQQaebm00vYcq1ubhyJRz0ZBEB7LkcNQBpaRfT6V4tvvC2o3sl1bmyF/YTzyZlWHdskjd+rbG2kOecOMkkZOB4Cm8G3vjaa98IX2noW09oVtLS4EktyiyJuuZ8Endkqql/nIZiTzhdiFP7Q+Ns11bHdDpWh/ZLhh0Es0yyKn1CRZI9HX1rs6ACiiigAooooAKKKKACiiigAooooAKKKKACiiigAooooAKKKKACiiigAooooAKKKKACiiigAooooAKKKKAPHvHV14SPxiW68XaUl9ZaNoJadzpj3ah5Zv3YkwjKoVUcgvgZk4PWt3wza+JfDPw7nFjpM91c3WozTWOnCWItp9rJISiHfIqtsXnaH6kDIHIv2vgK5N74wl1nVoL6HxRH5TxpZGJrdBGY1Xd5jbgFPoOcnviui8OaZdaN4a0/TL+9W/ns4EgNysPleaFAAJXc2Dgc89fSgCt4Rt3tdDMcul3WmuZ5HZLyWKSaZmO5pXMTMoLMWOATjjoOBLqus32nXSxWfhrVNVRkDGazktVRTkjafNmRs8Z4GORz1xr1kar4T8Oa9dLda5oGl6lcIgjWW8so5nVQSQoLAnGSTj3NAEen69qN7fx29z4T1jT4nzuubmWzaNMAnkRzs3OMcKeT2HNal7bG8s3txPNb+ZgGSBtrgZ5AOOMjjI5GeCDg1l6f4K8K6Rfx32leGtHsbuLPl3FtYRRyJkEHDKoIyCR9DWrdrcvayLYyxQ3BHySTRGRFPuoZSfzFAHHfCVPL8F3EW+RxHq1/GrSyNIxC3MgGWYkk4HUkmuj1bxDZaLLHHeQ6lIZFLKbPS7m6A+pijYA+xxWV4H8L6r4Usbmzv8AWLXUoJrma6XyrBrdkeWQuwyZXBXLHAxn3rqaAMKy8Yabf3sVrBba0kkrbVafQr2FB9XeIKo9yRWR8RNA8Ia/DYReNtJ1LU44mka3Sytr2YIflDFhbA4PTG73x3rtK4v4pSeKLPwkdU8HX89vPp8gnuraCGJ3urcffVTIjAOBkg47EYPFAHG2PgX4Q6dqFvfWfhHxBHcW0qzRP/ZOsHa6nIOCmDyO9dtf+J/Dep+Qb3Tdfd7eTzIZF8Paijxt6qywgjI4ODyCQeKyFj8R6x4b0jxB4H8a6lqsFxcW8rwXlvYhZbcyASrlYEKsq7s85+UjriupvdduJPFEfh/Rkhe5jhW6vZ5slLaIsVUbQQWdyrYGQAFJPYEAx9E13wt4dsRaaTpniKKL/b0HU5WIHQF3iLEDsM4HalXXvC6eIJNbXTPEX2+SJYmkOg6mVKrnHyeVtBG4jdjOCRnFdQus6W8l7GmpWjPp4zeKJ1JthjOZBn5OATzjgVLY39nqljHeaZdwXlrKMxz28gkRxnHDDIPIoAw/+E80j/nz8Qf+E5qH/wAYo/4TzSP+fPxB/wCE5qH/AMYrpKKAOK1jXvC+vLarqum+IpltZvPiC6DqaAPsZDnbENwKuylTkEMQRV//AITnRvL8sWfiBVxtwvhzUBge2IOK29Wv49L0i6vpZbWFYImcPeXHkQg443yYOxc4BODj0PSudj8Ta2moadbalb+F7NdSP+jFfEDySTjAJMUZtl83AIOAw6jkZoAZpnibw1o1n9l03S9egiLF2/4p3UWZ3PVmYwksx7sSSfWtC28aaXdXUVvFa64rzOEUy6BfRoCTgbnaEKo9SSAOpNLomu3dzqV/ourwQxatYokoMRIiuoXyElTOSo3KylTnaR1IIJq6LqniN/F02l6yNMuLdLITySWEci/ZJiwAhZmY+ZlSWDAIcDlRuFAHU0UUUAFFFFABRRRQAUUUUAFFFFABRRRQAUUUUAFFFFABRRRQAUUUUAFFFFABRRRQAUUUUAFFFFABRRRQAUUUUAFFFFABRRRQAUUUUAFZ+ua1aeHtFuNT1BmEMC/dRdzyMThUUd2ZiAB3JFaFcv428CW/jmLT47vWdY0sWExuIjpdwsLGTGFYkoxyvOMY+8fbABU8A6BD4G8IzvqkkOm/brx72W2M2ILFpmG2BCeABlV9CxOOoFJ4ZOz4qeOI5v8AWubCWPPeHyCo/wDH1l/OspfgvatdWst9428aajHbXEdyttfasJYneNgy7lKcjIFdlqGgi41u21mwuPseowx+Q8mzek8JbJjdcjODypBBUk9iQQDkNejbQvinanSLdY5td0SezhWNAF8+OZHV2A7BZ5WPchTXSaLJYaFe2Hg3SUUJp+nLIyuJFZIwQiEHZsfJDZ+cEEdDk4s6Not3aSJd67qK6rqSRGFblbcQKqEgkKgJwWIUsc87R0AApsOg3EXja713+0FMFzaQ2xtfI+ZfLMhH7zd90mVjgKDkDnAxQBb1bTrrUYY0s9ZvtJZGyz2aQMXHofNjcY+gBrNi8NarHMjv4316VVYEo8Fhhh6HFsDg+xBroqKAIbqzt72ExXkEc8f92RQQOCP5E/nXnHwzsf7T0bQortGaPwp9oslaReWuEkeAf98xKfr5o7qRXeaxZ6peLajSNVXTTHNunLWomMsexlKDJG05IYNzyoyCCQZ7Gwh0zTks7FfLSMHaXJYliSSzEnLEkkkk5JJNAHKTK8nx0gETMFj8NTCUr/CWuY/LJ/74kx9DWn4d8JP4euPM/wCEh1bUY9jr5F59n2FnZWaRjHEjO/y/eYngt61a0Pw+NJuLy+urlr7U79la6umQICFGERF52ouTgZJ5JJJJNbFABRRRQAUUUUAFFFFABRRRQAUUUUAFFFFABRRRQAUUUUAFFFFABRRRQAUUUUAFFFFABRRRQAUUUUAFFFFABRRRQAUUUUAFFFFABRRRQAUUUUAFFFFABRRRQAUUUUAFFFFABRRRQAUUUUAFFFFABRRRQAUUUUAFFFFABRRRQAUUUUAFFFFABRRRQAUUUUAFFFFABRRRQAUUUUAFFFFABRRRQAUUUUAFFFFABRRRQAUUUUAFFFFABRRRQAUUUUAFFFFABRRRQAUUUUAFFFFABRRRQAUUUUAFFFFABRRRQAUUUUAFFFFABRRRQAUUUUAFFFFABRRRQAUUUUAFFFFABRRRQAUUUUAFcHf+Ir/w58RtWGr6nNNo39hNqVnaGKJVR4mxMoYJvY4MZALH77cHAx3lcz4s8GReKtR0O7e7a1fSrvzmCx7vtERwXhPIwGKoSefu4xzwAcnpmv8AinUfCkWjX2rNZ+Kk1/8As6e5toIj+7H79jsZGXH2YnBx94LknnNjTPGC+FrvxUNUj1jULK219YmuS/nJZRyQW+MmRwdm92O1AduegBFdPbeD4bb4hXvikXTMbq1WL7JswqyDCtLnPLFEjXpwFPPNYmpfDzU9R0TxRpz69aoNf1BL1XGmsfs+0Rrtx53z5EMfPHO445AABr63480/RLy9hksr+7i02JJtRubaNDHZIwJBfcwY/KNxCBiBgkc1FdfEC2t9f1DR4NE1m+ubD7M0hs7dJVaOYkLIpD/dG05zg9wCASM3WPhbZ6t4qu9alGjzPqCRLdi/0WO7cMibN8Lu37slQBhg44HHXO5pXhi503x1rOvfb4HttTt7eAWa2pRofJ3bT5m8g/ffI2j+Hpg5AIdO8e6dqWpWdvFZ30VrqEskNjqEqIILt4wxZUw5ccIxBZVDAcE11Fef+GfhdY+Eb2O5s7fSbmOyMj2nl6PFHenIbCNclvmwGwCApOBliM563w5Bq1t4asIfEd2l5qqQKLueNQqvJj5iAABjPsKANOiiigAooooAKKKKACiiigAooooAKKKKACiiigAooooAKKKKACiiigAooooAKKKKACiiigAooooAKKKKACiiigAooooAKKKKACiiigAooooAKKKKACiiigAooooAKKKKAEZgqljnAGTgZP5CsTTNc1K71Lyr7QbixtJgTa3BkDlsdpUA/dEjkZJBHBKt8taWpabaavp8tjqUC3FrMAJImJ2uM5wcdRxyOh6GuC+HWite2ejX2qW5MnhqO60uznkALTYlMZkB7rsjUA553N6A0Aej0VHcxPPayxRTyWzyIVWaIKXjJGAy7gVyOoyCPUGuf/4RfV/+h78Qf9+NP/8AkWgDpKK5X4i+TD8NNX+1wnUGFqY4oZMf6RM3yRhgMA5dl4xjPauR03QYH1L+0bPRdRfTtL0GW1u5by1mhuNWlJjZYvLYB3VREwxjafM2qCM0AesUV5nYeDbrw38K4r/R7AzeMbXQngglYnejuisY1B4wrKNq44x/tNnJ0rQb7S/DniHXPDUF7Lry6Q1tby/2RLYfaJD829kmZpZpgQDvckdl6kUAej6zrt1pniHQdOt7CO5i1WeWKWY3BRrfZGZNwXad4O0g8rgleueL1lqX228v7cWd3ALKYRebPFsSfKK26M5+ZRu2545BHavP/DGi2Fj8QNOudK8P39raLpLot5PaPHJczO675Jy4BDgJj5zvO9sDAzWXZWl1B8O9NtV0PVbLT7rXZZ9bt4LKRJVhd5ZCiRIN5Td5SEqMFc4yMkAHq2p6pZaNYm71KcQQB0j3EE5Z2CqABySSQOKt15Z4l8L+H49H8PxWPg1k0ifWxeXlrHpbTNEqxNg+SoYoHaOJSMAYb5gMmqXizRbm/wDEKabLpElr4dTS4k0/TodCa8j81y/mYCMIYZV+QAygqMkqRySAewVieEtduvEfh5NRvbCOwlaeaLyY7gzKfLkaPcGKrkHaSOBwRXC63o8ia5cadfaFf61Y6VoMMehwTRNPDLOA4keV8FPNAWIAt83UqCSa7bwRaLZeBNHshDcQi3s44j9ojaORiFAZip+ZSTk84PPSgDforyzQvCcepf2hpdxok9rAniOe+aWeNo441jlURmINje0ixKd4yAHc7snByZ9Kn1SMXms+HdSn1uTxCftt4bORmtrRZ2McUDY5ieNUUlPlw7FznqAenf27c/8ACef2B9hjNt/ZxvTeC4O5T5gQIY9vGeSG3fwnituvPJY7m98R+N5bvQr64c2cEVpHJCRFcRwxeasYbO190ssilQSCFIbggHK8OwahBfeDreDSNSa10fQZI7d7m1eLfeFYkPmbgPLAXeBuwTubAOBkA9YoryP4b+Hri51vTtZ8Qx3p1y1gkkup30iS0JmkGHjlmlYmdRubaI8RjAIAwK6Dx3F9o8T6Mmt6be6j4bjt7iSa2tLOS6We6BQRLLGgOU2mQjcNu7GegoA7LU9RtdI0q61HUJRFa2kLTTOf4VUZJ/IVneG9X1bWYXuNU0RdLt5IoprVvtYmeRXBJDqFGx1+XIBYfNwxxXnmqaBLD8HrXw7q1giTa9rSw21jKFcafHNclwi9QDHDu6fdIOOBXqmnaZYaPYpZaRY21jaxklILWFYo1ycnCqABknNAFqivMtW8MxN461jQLK1J0/xRpSG/P3hEySOrysSch2RwqnqWQHopx6VBDHbW8cECBIolCIg6KoGAKAH0UUUAFFFFABRRRQAUUUUAFFFFABRRRQAUUUUAFFFFABRRRQAUUUUAFFFFABRRRQAUUUUAZ+uQadNpMp1q4NtYwjzZpftbW6qo673Vl+X1BOCOtUtI8W+E9RuItN0HxBo13MExFa2V7E7BVHRUU9AB2HArR1a2vbzTJoNMvzp1y4wlysSyNH7gNlc/UH6VyXgrXNZ8VLouoyXpjht9NKavbLGhSS9JUYBxuUrtkJUHo8fvQB3NFZGq3PiOG6VdD0rS7y32AtJeanJbuGycgKsEgIxjnI6njjJfpNxr80sg13TNNsowo8trPUZLkse4IaCPA98mgCXWdEsNfsBZarC00AljmCrK8ZDowdDlSDwwB69qv1554g1nWrbxV4ghi197TS9N0UX9w0dtEWtmJk2BCytlisTFi24YxhRnIbomva/b6/pSeI9XWTd4e+26jZpBGqpMSgj8v5d5Zts+RnHy8AUAei0V5f4S8T+KNcutN17Up3sdLubOW+l0+U2pWSDZmMwLGWlJG5dzOyjqNgJGG6P4o1zULzwrez+II4/7fRr6408QxeRZ2nl70Abbv3ljGhLNzl8KMcAHqVFeUDxD4mWzkuG8Rgp/wlCadaO1tCguIldVuA+V4RQlwV2kN8oyzY57H4gane6X8PNX1PRr02t1b2jywSxxpIS+07AAwK4Lbc5B4z0PIAOmorzzXfE2saFb6vrUGpR6hZ2NolqsJhVYPtzyJGp3gbiFJJfnaAwAAKtRY+IL7RPE2rwav4lbVbLSdJF1d+bBDF/pDGRtkexQcKkEh2ksRnljjgA7LQ9e0/xHpY1DSJZJbYyPFukgkhYOjFWBV1DAhgRyOorRrzDR7zUNG0nwJZwavDE17I0mpQokZRmMMlxclnOSMORjbtOSSSQcBJfiDqh8MXN/ppN9darr7adpUASMNBCHaMNtZkBJMEzLvYZYgZwMUAeoUVy/gd9cltdQfXr83ai622yStA08ChF3JKYAI927ccDJAIyT25PU/FmvXFre6xp+r/ZWj13+ydM0ZYI2F4UnWJ/NLKZMnEjfIV2qATnmgD0XWNb0/QbVLjU5mjWSQRxJHE8skrkE7URAWY4BOACcAntU2m6hbatpdrqOnyGW0vIUngkKld6MAynBAIyCOCM1w+s6dca58a9Mig1m+tYtG0t7x44FhKpJLJ5aD542+8izA85AA27cknt9St7q60+WCwvWsJ3AC3KxLI0fPJAbjOM4yCPY9KALVFcH4K1vW/EyaJczahtFjazQ61EkUeya6VvLUZ25UgpI5CkYyvGCK7ygChcaJYXetWuq3MLS3dmpW3Z5XKxZBBYJnaGwSN2N2DjOKv0UUAUtM0ez0iKRLJJMytukkmmeaSQ/7TuSzYHAyeBwKu0UUAFFFFABRRRQAUUUUAFFFFABRRRQAUUUUAFFFFABRRRQAUUUUAFFFFABRRRQAUUUUAFFFFAFPU4L+4tVj0u9ispC43yyW/nHZzkKNwAbpgncB3U0aVpVpo2nJZafH5cSFmPcuzEszMe7EkknuTVyigAooooAqT6Tpt0t2tzp9rMt6gS6EkKsLhQMAPkfMADjBzTm02xfU01F7O3a+jjMSXRiUyqhOSofGQM84zirNFAGdp3h7RtHlnl0jSLCwkuDmZ7W2SIyn1YqBn8abbeGtCs/I+yaLp0H2eVpofKtEXypG4Z1wOGPcjk1p0UAUJdB0iexjsptKsZLWObz0ge2QxpJuLbwuMBtxJz1ySas3dnbahZy2l/bxXVtMpSWGZA6Op6gqeCPrU1FAFWTTLCXTDp0tlbvYsnlm1aJTEU/u7MYx7YqCLw/o0JzDpFhGfs32TKWyD9x/wA8un3OT8vTnpWjRQBnN4d0R7O0tG0ewa2sWD2sJtUKW7DoUXGFI9Rikk8OaJNY3NlLo2nyWl1KZriBrVDHNITkuy4wzZ5yea0qKAILKxtNNs47TTrWG0tohiOGCMIiD2UcCq0WgaPBrD6tDpNjHqUgw94lsgmb6vjcfzrQooAxNC8PSaXq2rarfXi3l/qkieZIkPlJHFGpWONV3McDLEkk5LE8dBo6jFfT2mzS7uG0mLDMs1uZgF74UMvzehOQO4NWqKAKWk6Ta6LYC0skIUu8sjty0sjsWeRj3ZmJJPvV2iigAooooAKKKKACiiigAooooAKKKKACiiigAooooAKKKKACiiigAooooAKKKKACiiigAooooAKKKKACiiigAooooAKKKKACiiigAooooAKKKKACiiigAooooAKKKKACiiigAooooAKKKKACiiigAooooAKKKKACiiigAooooAKKKKAP/9k=)"
      ],
      "metadata": {
        "id": "7WgsIPhBUXWs"
      }
    },
    {
      "cell_type": "code",
      "source": [],
      "metadata": {
        "id": "mW4IL-m8QuMi"
      },
      "execution_count": null,
      "outputs": []
    },
    {
      "cell_type": "code",
      "source": [
        "model_tt.intercept_ + model_tt.coef_ * 2"
      ],
      "metadata": {
        "colab": {
          "base_uri": "https://localhost:8080/"
        },
        "id": "O9LG4mTLYYh7",
        "outputId": "31eb1924-839a-41ee-d27f-43587022e555"
      },
      "execution_count": null,
      "outputs": [
        {
          "output_type": "execute_result",
          "data": {
            "text/plain": [
              "array([-1.32326851, -1.89389315, -2.46004192, -2.30259916, -2.8193187 ,\n",
              "       -3.09563319, -3.47951295, -2.61074478, -1.8569979 , -2.00887844,\n",
              "       -2.2752103 , -2.02549695, -0.38013979])"
            ]
          },
          "metadata": {},
          "execution_count": 178
        }
      ]
    },
    {
      "cell_type": "code",
      "source": [],
      "metadata": {
        "id": "B3AcYjLBY0gw"
      },
      "execution_count": null,
      "outputs": []
    },
    {
      "cell_type": "code",
      "source": [],
      "metadata": {
        "id": "kwGRQ79IY0YJ"
      },
      "execution_count": null,
      "outputs": []
    },
    {
      "cell_type": "code",
      "source": [
        "X = data[[\"Sch_int\",\"gender\",\"add_int\",\"reason_int\",\"studytime\",\"failures\",\"schoolsup_int\",\"paid_int\",\"act_int\",\"health\",\"absences\",\"G1\",\"G2\"]]\n",
        "y = data.G3\n",
        "##X_training, X_testing, y_training, y_testing = train_test_split(X, y, test_size=0.2)\n",
        "X_training, X_testing, y_training, y_testing = train_test_split(X, y, train_size = 0.7, test_size = 0.3)\n",
        "model_tt = LinearRegression()\n",
        "model_tt.fit(X_training, y_training)\n",
        "y_pred_tt = model_tt.predict(X_testing)\n",
        "print(np.sqrt(metrics.mean_squared_error(y_testing, y_pred_tt)))\n"
      ],
      "metadata": {
        "colab": {
          "base_uri": "https://localhost:8080/"
        },
        "id": "Fbuh-WHuRshS",
        "outputId": "1dd7092e-cb99-4d18-fcca-6b5bfd0ea3a0"
      },
      "execution_count": null,
      "outputs": [
        {
          "output_type": "stream",
          "name": "stdout",
          "text": [
            "1.5011209545986266\n"
          ]
        }
      ]
    },
    {
      "cell_type": "markdown",
      "source": [
        "in above line plot , we can see that both the schools have same no of periods or same timing but Gabriel Pereira school have more study rate compared to Mousinho da Silveira school."
      ],
      "metadata": {
        "id": "YSTTon76SlYj"
      }
    },
    {
      "cell_type": "markdown",
      "source": [
        "# Neural Network"
      ],
      "metadata": {
        "id": "fpYKWzTG48iM"
      }
    },
    {
      "cell_type": "code",
      "source": [
        "df = pd.get_dummies(data, columns=['reason'])\n",
        "df"
      ],
      "metadata": {
        "colab": {
          "base_uri": "https://localhost:8080/",
          "height": 488
        },
        "id": "U2eKT_p95Hiv",
        "outputId": "f690cf92-d2ed-4da9-cbbe-8783281012ae"
      },
      "execution_count": null,
      "outputs": [
        {
          "output_type": "execute_result",
          "data": {
            "text/plain": [
              "    school sex  age address famsize Pstatus  Medu  Fedu      Mjob      Fjob  \\\n",
              "0       GP   F   18       U     GT3       A     4     4   at_home   teacher   \n",
              "1       GP   F   17       U     GT3       T     1     1   at_home     other   \n",
              "2       GP   F   15       U     LE3       T     1     1   at_home     other   \n",
              "3       GP   F   15       U     GT3       T     4     2    health  services   \n",
              "4       GP   F   16       U     GT3       T     3     3     other     other   \n",
              "..     ...  ..  ...     ...     ...     ...   ...   ...       ...       ...   \n",
              "390     MS   M   20       U     LE3       A     2     2  services  services   \n",
              "391     MS   M   17       U     LE3       T     3     1  services  services   \n",
              "392     MS   M   21       R     GT3       T     1     1     other     other   \n",
              "393     MS   M   18       R     LE3       T     3     2  services     other   \n",
              "394     MS   M   19       U     LE3       T     1     1     other   at_home   \n",
              "\n",
              "     ... fs_int  ps_int  nur_int  high_int int_int rom_int reason_course  \\\n",
              "0    ...      0       0        0         0       1       1             1   \n",
              "1    ...      0       1        1         0       0       1             1   \n",
              "2    ...      1       1        0         0       0       1             0   \n",
              "3    ...      0       1        0         0       0       0             0   \n",
              "4    ...      0       1        0         0       1       1             0   \n",
              "..   ...    ...     ...      ...       ...     ...     ...           ...   \n",
              "390  ...      1       0        0         0       1       1             1   \n",
              "391  ...      1       1        1         0       0       1             1   \n",
              "392  ...      0       1        1         0       1       1             1   \n",
              "393  ...      1       1        1         0       0       1             1   \n",
              "394  ...      1       1        0         0       0       1             1   \n",
              "\n",
              "    reason_home reason_other reason_reputation  \n",
              "0             0            0                 0  \n",
              "1             0            0                 0  \n",
              "2             0            1                 0  \n",
              "3             1            0                 0  \n",
              "4             1            0                 0  \n",
              "..          ...          ...               ...  \n",
              "390           0            0                 0  \n",
              "391           0            0                 0  \n",
              "392           0            0                 0  \n",
              "393           0            0                 0  \n",
              "394           0            0                 0  \n",
              "\n",
              "[395 rows x 49 columns]"
            ],
            "text/html": [
              "\n",
              "  <div id=\"df-52e52a15-e099-4bd7-b77c-96fb476237ef\">\n",
              "    <div class=\"colab-df-container\">\n",
              "      <div>\n",
              "<style scoped>\n",
              "    .dataframe tbody tr th:only-of-type {\n",
              "        vertical-align: middle;\n",
              "    }\n",
              "\n",
              "    .dataframe tbody tr th {\n",
              "        vertical-align: top;\n",
              "    }\n",
              "\n",
              "    .dataframe thead th {\n",
              "        text-align: right;\n",
              "    }\n",
              "</style>\n",
              "<table border=\"1\" class=\"dataframe\">\n",
              "  <thead>\n",
              "    <tr style=\"text-align: right;\">\n",
              "      <th></th>\n",
              "      <th>school</th>\n",
              "      <th>sex</th>\n",
              "      <th>age</th>\n",
              "      <th>address</th>\n",
              "      <th>famsize</th>\n",
              "      <th>Pstatus</th>\n",
              "      <th>Medu</th>\n",
              "      <th>Fedu</th>\n",
              "      <th>Mjob</th>\n",
              "      <th>Fjob</th>\n",
              "      <th>...</th>\n",
              "      <th>fs_int</th>\n",
              "      <th>ps_int</th>\n",
              "      <th>nur_int</th>\n",
              "      <th>high_int</th>\n",
              "      <th>int_int</th>\n",
              "      <th>rom_int</th>\n",
              "      <th>reason_course</th>\n",
              "      <th>reason_home</th>\n",
              "      <th>reason_other</th>\n",
              "      <th>reason_reputation</th>\n",
              "    </tr>\n",
              "  </thead>\n",
              "  <tbody>\n",
              "    <tr>\n",
              "      <th>0</th>\n",
              "      <td>GP</td>\n",
              "      <td>F</td>\n",
              "      <td>18</td>\n",
              "      <td>U</td>\n",
              "      <td>GT3</td>\n",
              "      <td>A</td>\n",
              "      <td>4</td>\n",
              "      <td>4</td>\n",
              "      <td>at_home</td>\n",
              "      <td>teacher</td>\n",
              "      <td>...</td>\n",
              "      <td>0</td>\n",
              "      <td>0</td>\n",
              "      <td>0</td>\n",
              "      <td>0</td>\n",
              "      <td>1</td>\n",
              "      <td>1</td>\n",
              "      <td>1</td>\n",
              "      <td>0</td>\n",
              "      <td>0</td>\n",
              "      <td>0</td>\n",
              "    </tr>\n",
              "    <tr>\n",
              "      <th>1</th>\n",
              "      <td>GP</td>\n",
              "      <td>F</td>\n",
              "      <td>17</td>\n",
              "      <td>U</td>\n",
              "      <td>GT3</td>\n",
              "      <td>T</td>\n",
              "      <td>1</td>\n",
              "      <td>1</td>\n",
              "      <td>at_home</td>\n",
              "      <td>other</td>\n",
              "      <td>...</td>\n",
              "      <td>0</td>\n",
              "      <td>1</td>\n",
              "      <td>1</td>\n",
              "      <td>0</td>\n",
              "      <td>0</td>\n",
              "      <td>1</td>\n",
              "      <td>1</td>\n",
              "      <td>0</td>\n",
              "      <td>0</td>\n",
              "      <td>0</td>\n",
              "    </tr>\n",
              "    <tr>\n",
              "      <th>2</th>\n",
              "      <td>GP</td>\n",
              "      <td>F</td>\n",
              "      <td>15</td>\n",
              "      <td>U</td>\n",
              "      <td>LE3</td>\n",
              "      <td>T</td>\n",
              "      <td>1</td>\n",
              "      <td>1</td>\n",
              "      <td>at_home</td>\n",
              "      <td>other</td>\n",
              "      <td>...</td>\n",
              "      <td>1</td>\n",
              "      <td>1</td>\n",
              "      <td>0</td>\n",
              "      <td>0</td>\n",
              "      <td>0</td>\n",
              "      <td>1</td>\n",
              "      <td>0</td>\n",
              "      <td>0</td>\n",
              "      <td>1</td>\n",
              "      <td>0</td>\n",
              "    </tr>\n",
              "    <tr>\n",
              "      <th>3</th>\n",
              "      <td>GP</td>\n",
              "      <td>F</td>\n",
              "      <td>15</td>\n",
              "      <td>U</td>\n",
              "      <td>GT3</td>\n",
              "      <td>T</td>\n",
              "      <td>4</td>\n",
              "      <td>2</td>\n",
              "      <td>health</td>\n",
              "      <td>services</td>\n",
              "      <td>...</td>\n",
              "      <td>0</td>\n",
              "      <td>1</td>\n",
              "      <td>0</td>\n",
              "      <td>0</td>\n",
              "      <td>0</td>\n",
              "      <td>0</td>\n",
              "      <td>0</td>\n",
              "      <td>1</td>\n",
              "      <td>0</td>\n",
              "      <td>0</td>\n",
              "    </tr>\n",
              "    <tr>\n",
              "      <th>4</th>\n",
              "      <td>GP</td>\n",
              "      <td>F</td>\n",
              "      <td>16</td>\n",
              "      <td>U</td>\n",
              "      <td>GT3</td>\n",
              "      <td>T</td>\n",
              "      <td>3</td>\n",
              "      <td>3</td>\n",
              "      <td>other</td>\n",
              "      <td>other</td>\n",
              "      <td>...</td>\n",
              "      <td>0</td>\n",
              "      <td>1</td>\n",
              "      <td>0</td>\n",
              "      <td>0</td>\n",
              "      <td>1</td>\n",
              "      <td>1</td>\n",
              "      <td>0</td>\n",
              "      <td>1</td>\n",
              "      <td>0</td>\n",
              "      <td>0</td>\n",
              "    </tr>\n",
              "    <tr>\n",
              "      <th>...</th>\n",
              "      <td>...</td>\n",
              "      <td>...</td>\n",
              "      <td>...</td>\n",
              "      <td>...</td>\n",
              "      <td>...</td>\n",
              "      <td>...</td>\n",
              "      <td>...</td>\n",
              "      <td>...</td>\n",
              "      <td>...</td>\n",
              "      <td>...</td>\n",
              "      <td>...</td>\n",
              "      <td>...</td>\n",
              "      <td>...</td>\n",
              "      <td>...</td>\n",
              "      <td>...</td>\n",
              "      <td>...</td>\n",
              "      <td>...</td>\n",
              "      <td>...</td>\n",
              "      <td>...</td>\n",
              "      <td>...</td>\n",
              "      <td>...</td>\n",
              "    </tr>\n",
              "    <tr>\n",
              "      <th>390</th>\n",
              "      <td>MS</td>\n",
              "      <td>M</td>\n",
              "      <td>20</td>\n",
              "      <td>U</td>\n",
              "      <td>LE3</td>\n",
              "      <td>A</td>\n",
              "      <td>2</td>\n",
              "      <td>2</td>\n",
              "      <td>services</td>\n",
              "      <td>services</td>\n",
              "      <td>...</td>\n",
              "      <td>1</td>\n",
              "      <td>0</td>\n",
              "      <td>0</td>\n",
              "      <td>0</td>\n",
              "      <td>1</td>\n",
              "      <td>1</td>\n",
              "      <td>1</td>\n",
              "      <td>0</td>\n",
              "      <td>0</td>\n",
              "      <td>0</td>\n",
              "    </tr>\n",
              "    <tr>\n",
              "      <th>391</th>\n",
              "      <td>MS</td>\n",
              "      <td>M</td>\n",
              "      <td>17</td>\n",
              "      <td>U</td>\n",
              "      <td>LE3</td>\n",
              "      <td>T</td>\n",
              "      <td>3</td>\n",
              "      <td>1</td>\n",
              "      <td>services</td>\n",
              "      <td>services</td>\n",
              "      <td>...</td>\n",
              "      <td>1</td>\n",
              "      <td>1</td>\n",
              "      <td>1</td>\n",
              "      <td>0</td>\n",
              "      <td>0</td>\n",
              "      <td>1</td>\n",
              "      <td>1</td>\n",
              "      <td>0</td>\n",
              "      <td>0</td>\n",
              "      <td>0</td>\n",
              "    </tr>\n",
              "    <tr>\n",
              "      <th>392</th>\n",
              "      <td>MS</td>\n",
              "      <td>M</td>\n",
              "      <td>21</td>\n",
              "      <td>R</td>\n",
              "      <td>GT3</td>\n",
              "      <td>T</td>\n",
              "      <td>1</td>\n",
              "      <td>1</td>\n",
              "      <td>other</td>\n",
              "      <td>other</td>\n",
              "      <td>...</td>\n",
              "      <td>0</td>\n",
              "      <td>1</td>\n",
              "      <td>1</td>\n",
              "      <td>0</td>\n",
              "      <td>1</td>\n",
              "      <td>1</td>\n",
              "      <td>1</td>\n",
              "      <td>0</td>\n",
              "      <td>0</td>\n",
              "      <td>0</td>\n",
              "    </tr>\n",
              "    <tr>\n",
              "      <th>393</th>\n",
              "      <td>MS</td>\n",
              "      <td>M</td>\n",
              "      <td>18</td>\n",
              "      <td>R</td>\n",
              "      <td>LE3</td>\n",
              "      <td>T</td>\n",
              "      <td>3</td>\n",
              "      <td>2</td>\n",
              "      <td>services</td>\n",
              "      <td>other</td>\n",
              "      <td>...</td>\n",
              "      <td>1</td>\n",
              "      <td>1</td>\n",
              "      <td>1</td>\n",
              "      <td>0</td>\n",
              "      <td>0</td>\n",
              "      <td>1</td>\n",
              "      <td>1</td>\n",
              "      <td>0</td>\n",
              "      <td>0</td>\n",
              "      <td>0</td>\n",
              "    </tr>\n",
              "    <tr>\n",
              "      <th>394</th>\n",
              "      <td>MS</td>\n",
              "      <td>M</td>\n",
              "      <td>19</td>\n",
              "      <td>U</td>\n",
              "      <td>LE3</td>\n",
              "      <td>T</td>\n",
              "      <td>1</td>\n",
              "      <td>1</td>\n",
              "      <td>other</td>\n",
              "      <td>at_home</td>\n",
              "      <td>...</td>\n",
              "      <td>1</td>\n",
              "      <td>1</td>\n",
              "      <td>0</td>\n",
              "      <td>0</td>\n",
              "      <td>0</td>\n",
              "      <td>1</td>\n",
              "      <td>1</td>\n",
              "      <td>0</td>\n",
              "      <td>0</td>\n",
              "      <td>0</td>\n",
              "    </tr>\n",
              "  </tbody>\n",
              "</table>\n",
              "<p>395 rows × 49 columns</p>\n",
              "</div>\n",
              "      <button class=\"colab-df-convert\" onclick=\"convertToInteractive('df-52e52a15-e099-4bd7-b77c-96fb476237ef')\"\n",
              "              title=\"Convert this dataframe to an interactive table.\"\n",
              "              style=\"display:none;\">\n",
              "        \n",
              "  <svg xmlns=\"http://www.w3.org/2000/svg\" height=\"24px\"viewBox=\"0 0 24 24\"\n",
              "       width=\"24px\">\n",
              "    <path d=\"M0 0h24v24H0V0z\" fill=\"none\"/>\n",
              "    <path d=\"M18.56 5.44l.94 2.06.94-2.06 2.06-.94-2.06-.94-.94-2.06-.94 2.06-2.06.94zm-11 1L8.5 8.5l.94-2.06 2.06-.94-2.06-.94L8.5 2.5l-.94 2.06-2.06.94zm10 10l.94 2.06.94-2.06 2.06-.94-2.06-.94-.94-2.06-.94 2.06-2.06.94z\"/><path d=\"M17.41 7.96l-1.37-1.37c-.4-.4-.92-.59-1.43-.59-.52 0-1.04.2-1.43.59L10.3 9.45l-7.72 7.72c-.78.78-.78 2.05 0 2.83L4 21.41c.39.39.9.59 1.41.59.51 0 1.02-.2 1.41-.59l7.78-7.78 2.81-2.81c.8-.78.8-2.07 0-2.86zM5.41 20L4 18.59l7.72-7.72 1.47 1.35L5.41 20z\"/>\n",
              "  </svg>\n",
              "      </button>\n",
              "      \n",
              "  <style>\n",
              "    .colab-df-container {\n",
              "      display:flex;\n",
              "      flex-wrap:wrap;\n",
              "      gap: 12px;\n",
              "    }\n",
              "\n",
              "    .colab-df-convert {\n",
              "      background-color: #E8F0FE;\n",
              "      border: none;\n",
              "      border-radius: 50%;\n",
              "      cursor: pointer;\n",
              "      display: none;\n",
              "      fill: #1967D2;\n",
              "      height: 32px;\n",
              "      padding: 0 0 0 0;\n",
              "      width: 32px;\n",
              "    }\n",
              "\n",
              "    .colab-df-convert:hover {\n",
              "      background-color: #E2EBFA;\n",
              "      box-shadow: 0px 1px 2px rgba(60, 64, 67, 0.3), 0px 1px 3px 1px rgba(60, 64, 67, 0.15);\n",
              "      fill: #174EA6;\n",
              "    }\n",
              "\n",
              "    [theme=dark] .colab-df-convert {\n",
              "      background-color: #3B4455;\n",
              "      fill: #D2E3FC;\n",
              "    }\n",
              "\n",
              "    [theme=dark] .colab-df-convert:hover {\n",
              "      background-color: #434B5C;\n",
              "      box-shadow: 0px 1px 3px 1px rgba(0, 0, 0, 0.15);\n",
              "      filter: drop-shadow(0px 1px 2px rgba(0, 0, 0, 0.3));\n",
              "      fill: #FFFFFF;\n",
              "    }\n",
              "  </style>\n",
              "\n",
              "      <script>\n",
              "        const buttonEl =\n",
              "          document.querySelector('#df-52e52a15-e099-4bd7-b77c-96fb476237ef button.colab-df-convert');\n",
              "        buttonEl.style.display =\n",
              "          google.colab.kernel.accessAllowed ? 'block' : 'none';\n",
              "\n",
              "        async function convertToInteractive(key) {\n",
              "          const element = document.querySelector('#df-52e52a15-e099-4bd7-b77c-96fb476237ef');\n",
              "          const dataTable =\n",
              "            await google.colab.kernel.invokeFunction('convertToInteractive',\n",
              "                                                     [key], {});\n",
              "          if (!dataTable) return;\n",
              "\n",
              "          const docLinkHtml = 'Like what you see? Visit the ' +\n",
              "            '<a target=\"_blank\" href=https://colab.research.google.com/notebooks/data_table.ipynb>data table notebook</a>'\n",
              "            + ' to learn more about interactive tables.';\n",
              "          element.innerHTML = '';\n",
              "          dataTable['output_type'] = 'display_data';\n",
              "          await google.colab.output.renderOutput(dataTable, element);\n",
              "          const docLink = document.createElement('div');\n",
              "          docLink.innerHTML = docLinkHtml;\n",
              "          element.appendChild(docLink);\n",
              "        }\n",
              "      </script>\n",
              "    </div>\n",
              "  </div>\n",
              "  "
            ]
          },
          "metadata": {},
          "execution_count": 8
        }
      ]
    },
    {
      "cell_type": "code",
      "source": [
        "nn_data = df[{\"Sch_int\",\"gender\",\"add_int\",\"reason_course\",\"reason_home\",\"reason_other\",\"studytime\",\"failures\",\"schoolsup_int\",\"paid_int\",\"act_int\",\"health\",\"absences\",\"G1\",\"G2\",\"G3\"}]"
      ],
      "metadata": {
        "id": "1J_KovTr6HVL",
        "colab": {
          "base_uri": "https://localhost:8080/",
          "height": 169
        },
        "outputId": "82410612-261f-4660-aaf7-a00148021556"
      },
      "execution_count": null,
      "outputs": [
        {
          "output_type": "error",
          "ename": "NameError",
          "evalue": "ignored",
          "traceback": [
            "\u001b[0;31m---------------------------------------------------------------------------\u001b[0m",
            "\u001b[0;31mNameError\u001b[0m                                 Traceback (most recent call last)",
            "\u001b[0;32m<ipython-input-9-932ce6b524ac>\u001b[0m in \u001b[0;36m<module>\u001b[0;34m\u001b[0m\n\u001b[0;32m----> 1\u001b[0;31m \u001b[0mnn_data\u001b[0m \u001b[0;34m=\u001b[0m \u001b[0mdf\u001b[0m\u001b[0;34m[\u001b[0m\u001b[0;34m{\u001b[0m\u001b[0;34m\"Sch_int\"\u001b[0m\u001b[0;34m,\u001b[0m\u001b[0;34m\"gender\"\u001b[0m\u001b[0;34m,\u001b[0m\u001b[0;34m\"add_int\"\u001b[0m\u001b[0;34m,\u001b[0m\u001b[0;34m\"reason_course\"\u001b[0m\u001b[0;34m,\u001b[0m\u001b[0;34m\"reason_home\"\u001b[0m\u001b[0;34m,\u001b[0m\u001b[0;34m\"reason_other\"\u001b[0m\u001b[0;34m,\u001b[0m\u001b[0;34m\"studytime\"\u001b[0m\u001b[0;34m,\u001b[0m\u001b[0;34m\"failures\"\u001b[0m\u001b[0;34m,\u001b[0m\u001b[0;34m\"schoolsup_int\"\u001b[0m\u001b[0;34m,\u001b[0m\u001b[0;34m\"paid_int\"\u001b[0m\u001b[0;34m,\u001b[0m\u001b[0;34m\"act_int\"\u001b[0m\u001b[0;34m,\u001b[0m\u001b[0;34m\"health\"\u001b[0m\u001b[0;34m,\u001b[0m\u001b[0;34m\"absences\"\u001b[0m\u001b[0;34m,\u001b[0m\u001b[0;34m\"G1\"\u001b[0m\u001b[0;34m,\u001b[0m\u001b[0;34m\"G2\"\u001b[0m\u001b[0;34m,\u001b[0m\u001b[0;34m\"G3\"\u001b[0m\u001b[0;34m}\u001b[0m\u001b[0;34m]\u001b[0m\u001b[0;34m\u001b[0m\u001b[0;34m\u001b[0m\u001b[0m\n\u001b[0m",
            "\u001b[0;31mNameError\u001b[0m: name 'df' is not defined"
          ]
        }
      ]
    },
    {
      "cell_type": "code",
      "source": [
        "x= nn_data.drop(\"G3\", axis=1)\n",
        "y=nn_data[\"G3\"]\n",
        "x.head"
      ],
      "metadata": {
        "colab": {
          "base_uri": "https://localhost:8080/"
        },
        "id": "i5turKNW7eoq",
        "outputId": "6c9b4045-1f31-4ed1-e762-6222c0f74127"
      },
      "execution_count": null,
      "outputs": [
        {
          "output_type": "execute_result",
          "data": {
            "text/plain": [
              "<bound method NDFrame.head of      health  reason_home  add_int  G2  absences  G1  reason_course  \\\n",
              "0         3            0        0   6         6   5              1   \n",
              "1         3            0        0   5         4   5              1   \n",
              "2         3            0        0   8        10   7              0   \n",
              "3         5            1        0  14         2  15              0   \n",
              "4         5            1        0  10         4   6              0   \n",
              "..      ...          ...      ...  ..       ...  ..            ...   \n",
              "390       4            0        0   9        11   9              1   \n",
              "391       2            0        0  16         3  14              1   \n",
              "392       3            0        1   8         3  10              1   \n",
              "393       5            0        1  12         0  11              1   \n",
              "394       5            0        0   9         5   8              1   \n",
              "\n",
              "     reason_other  studytime  failures  act_int  paid_int  schoolsup_int  \\\n",
              "0               0          2         0        1         1              0   \n",
              "1               0          2         0        1         1              1   \n",
              "2               1          2         3        1         0              0   \n",
              "3               0          3         0        0         0              1   \n",
              "4               0          2         0        1         0              1   \n",
              "..            ...        ...       ...      ...       ...            ...   \n",
              "390             0          2         2        1         0              1   \n",
              "391             0          1         0        1         1              1   \n",
              "392             0          1         3        1         1              1   \n",
              "393             0          1         0        1         1              1   \n",
              "394             0          1         0        1         1              1   \n",
              "\n",
              "     gender  Sch_int  \n",
              "0         0        0  \n",
              "1         0        0  \n",
              "2         0        0  \n",
              "3         0        0  \n",
              "4         0        0  \n",
              "..      ...      ...  \n",
              "390       1        1  \n",
              "391       1        1  \n",
              "392       1        1  \n",
              "393       1        1  \n",
              "394       1        1  \n",
              "\n",
              "[395 rows x 15 columns]>"
            ]
          },
          "metadata": {},
          "execution_count": 10
        }
      ]
    },
    {
      "cell_type": "code",
      "source": [
        "from sklearn.model_selection import train_test_split\n",
        "x_train, x_test, y_train, y_test= train_test_split(x, y, test_size=0.20, random_state=42)\n",
        "y_test"
      ],
      "metadata": {
        "id": "S-AwiZ6X770r"
      },
      "execution_count": null,
      "outputs": []
    },
    {
      "cell_type": "code",
      "source": [
        "tf.random.set_seed(42)\n",
        "\n",
        "model = tf.keras.Sequential([\n",
        "                        tf.keras.layers.Dense(13),\n",
        "                        tf.keras.layers.Dense(7),\n",
        "                        tf.keras.layers.Dense(6),\n",
        "                        tf.keras.layers.Dense(1)\n",
        "])\n",
        "\n",
        "model.compile(loss= tf.keras.losses.mae,\n",
        "              optimizer= tf.keras.optimizers.Adam(),\n",
        "              metrics= ['mae'])\n",
        "\n",
        "# STEP1: Fit the model\n",
        "\n",
        "history = model.fit(x_train, y_train, epochs=200, verbose=0)"
      ],
      "metadata": {
        "id": "VmdIaPRN8Jay"
      },
      "execution_count": null,
      "outputs": []
    },
    {
      "cell_type": "code",
      "source": [
        "model.evaluate(x_test, y_test)"
      ],
      "metadata": {
        "colab": {
          "base_uri": "https://localhost:8080/"
        },
        "id": "-sEWIq0DBToD",
        "outputId": "87278026-b1ec-4410-bf43-273cd31cba7f"
      },
      "execution_count": null,
      "outputs": [
        {
          "output_type": "stream",
          "name": "stdout",
          "text": [
            "3/3 [==============================] - 0s 4ms/step - loss: 1.0158 - mae: 1.0158\n"
          ]
        },
        {
          "output_type": "execute_result",
          "data": {
            "text/plain": [
              "[1.015805721282959, 1.015805721282959]"
            ]
          },
          "metadata": {},
          "execution_count": 23
        }
      ]
    },
    {
      "cell_type": "code",
      "source": [
        "pd.DataFrame(history.history).plot()"
      ],
      "metadata": {
        "colab": {
          "base_uri": "https://localhost:8080/",
          "height": 286
        },
        "id": "0uYivEcKsrYm",
        "outputId": "fa60d3c5-4545-4ddc-a363-cc7db496f73b"
      },
      "execution_count": null,
      "outputs": [
        {
          "output_type": "execute_result",
          "data": {
            "text/plain": [
              "<matplotlib.axes._subplots.AxesSubplot at 0x7fcb54a2ee10>"
            ]
          },
          "metadata": {},
          "execution_count": 24
        },
        {
          "output_type": "display_data",
          "data": {
            "text/plain": [
              "<Figure size 432x288 with 1 Axes>"
            ],
            "image/png": "[encoded data removed]"
          },
          "metadata": {
            "needs_background": "light"
          }
        }
      ]
    },
    {
      "cell_type": "code",
      "source": [
        "model.summary()"
      ],
      "metadata": {
        "colab": {
          "base_uri": "https://localhost:8080/"
        },
        "id": "vQRmhfxNa8Jj",
        "outputId": "2ea816d5-95af-41ea-a4af-fa264a1483e4"
      },
      "execution_count": null,
      "outputs": [
        {
          "output_type": "stream",
          "name": "stdout",
          "text": [
            "Model: \"sequential_3\"\n",
            "_________________________________________________________________\n",
            " Layer (type)                Output Shape              Param #   \n",
            "=================================================================\n",
            " dense_12 (Dense)            (None, 13)                208       \n",
            "                                                                 \n",
            " dense_13 (Dense)            (None, 7)                 98        \n",
            "                                                                 \n",
            " dense_14 (Dense)            (None, 6)                 48        \n",
            "                                                                 \n",
            " dense_15 (Dense)            (None, 1)                 7         \n",
            "                                                                 \n",
            "=================================================================\n",
            "Total params: 361\n",
            "Trainable params: 361\n",
            "Non-trainable params: 0\n",
            "_________________________________________________________________\n"
          ]
        }
      ]
    },
    {
      "cell_type": "code",
      "source": [
        "print(100-(1.96*1.0169))"
      ],
      "metadata": {
        "colab": {
          "base_uri": "https://localhost:8080/"
        },
        "id": "esFHBMifgGDF",
        "outputId": "229d4d18-5fbe-492a-a2da-3f680085fcca"
      },
      "execution_count": null,
      "outputs": [
        {
          "output_type": "stream",
          "name": "stdout",
          "text": [
            "98.006876\n"
          ]
        }
      ]
    },
    {
      "cell_type": "code",
      "source": [],
      "metadata": {
        "id": "BI8b5xwgzpQ3"
      },
      "execution_count": null,
      "outputs": []
    },
    {
      "cell_type": "code",
      "source": [
        "nn_data = data[{\"Sch_int\",\"gender\",\"add_int\",\"reason_int\",\"studytime\",\"failures\",\"schoolsup_int\",\"paid_int\",\"act_int\",\"health\",\"absences\",\"G1\",\"G2\",\"G3\"}]"
      ],
      "metadata": {
        "id": "9wpTHtOazW0O"
      },
      "execution_count": null,
      "outputs": []
    },
    {
      "cell_type": "code",
      "source": [
        "x= nn_data.drop(\"G3\", axis=1)\n",
        "y=nn_data[\"G3\"]\n",
        "x.head"
      ],
      "metadata": {
        "colab": {
          "base_uri": "https://localhost:8080/"
        },
        "id": "7tAA5NSCztAq",
        "outputId": "3b964330-7168-4e8c-c95d-4bdfadee9321"
      },
      "execution_count": null,
      "outputs": [
        {
          "output_type": "execute_result",
          "data": {
            "text/plain": [
              "<bound method NDFrame.head of      act_int  schoolsup_int  G1  health  Sch_int  add_int  G2  gender  \\\n",
              "0          1              0   5       3        0        0   6       0   \n",
              "1          1              1   5       3        0        0   5       0   \n",
              "2          1              0   7       3        0        0   8       0   \n",
              "3          0              1  15       5        0        0  14       0   \n",
              "4          1              1   6       5        0        0  10       0   \n",
              "..       ...            ...  ..     ...      ...      ...  ..     ...   \n",
              "390        1              1   9       4        1        0   9       1   \n",
              "391        1              1  14       2        1        0  16       1   \n",
              "392        1              1  10       3        1        1   8       1   \n",
              "393        1              1  11       5        1        1  12       1   \n",
              "394        1              1   8       5        1        0   9       1   \n",
              "\n",
              "     paid_int  absences  reason_int  studytime  failures  \n",
              "0           1         6           2          2         0  \n",
              "1           1         4           2          2         0  \n",
              "2           0        10           3          2         3  \n",
              "3           0         2           0          3         0  \n",
              "4           0         4           0          2         0  \n",
              "..        ...       ...         ...        ...       ...  \n",
              "390         0        11           2          2         2  \n",
              "391         1         3           2          1         0  \n",
              "392         1         3           2          1         3  \n",
              "393         1         0           2          1         0  \n",
              "394         1         5           2          1         0  \n",
              "\n",
              "[395 rows x 13 columns]>"
            ]
          },
          "metadata": {},
          "execution_count": 11
        }
      ]
    },
    {
      "cell_type": "markdown",
      "source": [
        "## Different models outputs in nn\n",
        "\n",
        "\n",
        "![nn.jpeg](data:image/jpeg;base64,/9j/4AAQSkZJRgABAQIAJQAlAAD/2wBDAAQDAwQDAwQEAwQFBAQFBgoHBgYGBg0JCggKDw0QEA8NDw4RExgUERIXEg4PFRwVFxkZGxsbEBQdHx0aHxgaGxr/2wBDAQQFBQYFBgwHBwwaEQ8RGhoaGhoaGhoaGhoaGhoaGhoaGhoaGhoaGhoaGhoaGhoaGhoaGhoaGhoaGhoaGhoaGhr/wgARCAIxAv4DASIAAhEBAxEB/8QAGwAAAgMBAQEAAAAAAAAAAAAAAAMEBQYCBwH/xAAbAQEBAQEBAQEBAAAAAAAAAAAAAQIEAwUGB//aAAwDAQACEAMQAAAB9ym4eiPR53lcmPSxbLABayzzGSj1Q8shr6+eZek6ywCUAAAAAU2olt+PL+j0t2d0W8AGdCm1MtseRvs9VhedSU9JPM9yWam02dXJ5znd59oPKPVY6AUU1Q0AAAABTVDQAAAAFNUNAAAAAU1Q0AAAABTaiW348v6PS3Z3RbwAZ0KbTZtyec53efaDyj1WOgFFNUQ5mTqz0AztEb8zmoRQ0WP3TVkuilVNHrOyMdby3RntMKGgoaChoK4kIjjvIKs2xjWS64jzdRXEhUqu3goaChtFLccYDdazIGkqhuZNCRMFL6Rx5/6HrINJVDQUNBXEhQDQUNBQ0FcSFANBQ0FDQVxIUA0FDQUNBXEiuh/eDkm1Mbt9RQ0lVxIUA0FGO1sMPPfp6DxgN9qUaLHjNn57U1VFvX2tihpLSw7NcSUWNNqfZn2VLQX8KyFDQUNBQ0FV9qozqrthnLi4CumNLFcSFSg0FDQVR6Gsio0FdbWA0VVBpK0qS6VFBpotjYDRVDQUNBXEhQDQUNBQ0FcSFANBQ0FDQVxIUA0FDQUNBUWfFijXZqI2gqbvUUNJVcSFANDM9WUmKXnp1lfooVmY2n30xc1lvTgzOrUI0ULR0m07lo42lNZwtzoSXI7NQNFA0UDRQNrJ3EefwvUCzyG99BJqruVGsNUcTUgUDRQNymmI819Bk8akgUStxmuDOZv0cjyb1bvjUkCiVooGigao4JAoGigaKBqjgkCgaKBooGqOCQKBooGigbWzeI86k78XD71RrDRRNNUcEgUHn2ynkefx/SCsVsWcJlqu3jb87Ci1Wess9RmLdLArxYNZMhZtvR3yN5qbePMliabIX5YFeFgV4WBXhYIjV8VKpKqGR7eW3m0czWbBURctoV4WBXhFprKrzaX0LKaPebUryWpkQOoTTz5pReiZLSWzxR5+rRQNFA1RwSBQNFA0UDVHBIFA0UDRQNUcEgUDRQNFA2umRZcXJtFkLb5rQbw0UZ01RwSBQZ6WiRGaXoI9UPoma0FnjFJLzf6v+e6aGiq6OPQS6q19uYA9PKOtUHm7L2F8TvE5tDOmpMqku9+QB6eIAAABGzTqhRzfQ1hi7BnSESX1cQBcgAACI32p5e21sMhq95YB78kVlX95+uSyn78/az9M8S9r5fo+gAfl/wB2AAACmqGgAAAAKaoaAAAAApqhoAAAAEWVWyqVjpJqbvBb3eADOhTVDQCnsckRcrxzDY23mPpmpiuZtX2fMeW9FrDi21FmBN8R5/1oKyWEaOj1EEi3igLjTLgTfCYE3wYE3wYHn0BC4gkKs4HsliGxm2YHn0BUYY3wYE3wYE1GSVvMD0KzHG+IwJcSFz5NrB11lPSseoNOP6ShoKGgriQoBoKGgoaCuJCgGgoaChoK4kKAaChoKGgriRXRMMDJNqY3b6ihpKriQoBoKM9ewwxcc3nGQ1epTIseM2fntTVUW9fa2KGktLDs1xJRY02p9mfZUtBfwrIUNBQ0FDQVX2qjOqu2GcuLgK6Y0sVxIVKDQUNCtpryJLW6KrudZBpLnep0iM1IlNqo0ddcWA0lUNBQ0FcSFANBQ0FDQVxIUA0FDQUNBXEhQDQUNBQ0FRZ8WKNdmojaCpu9RQ0lVxIUA0M78sZMUfEwrm2p7uzG0++mS5rLenBmdWoRooWjpNp3LRxtKazhbnQkuR2agaKBooGigbWTuI8/heoFnkN76CTVXcqNYao4mpAoGigpcr6IR5X6XJ4skChcn91ZGD+b0PN/RGcakgUStFA0UDVHBIFA0UDRQNUcEgUDRQNFA1RwSBQNFA0UDa2bxHnUnfi4feqNYaKJpqjgkCgydldEYKTtCvNPRXcWKm10yGihWigaKAbH7GigaKBooGigaKBooGqOCQKBooGigao4JAoGigaKBqjgkCgaKBooGqOCQKBooGigao4JAoGigaKBqjgkCgaKBooGqOCQKBooGigao4JAoGigaKBqjgkCgaKBooGqOCs4pqePSKqDlq31rlNXYAS1i4uel3keih2azvLXZLl5TVoAKAAACm1kdMwkKz1U8cvZr0YprnWBTVTTQAACss8xmybnzX0HeZwEtbKy15CjH/TYWnkPrGpLAlAAABTVDQAAAAFNUNAAAAAU1Q0AAAACLKrZVKx0k1N3gt7vABnQpqhoBWvzM2Jis5Fs2Vn5/u1RMydWegGdojfmc1CKGix+6aqjXGcj1qzMW5YFNfIoaKoaChoK4kIjoxyrNsY1kuuI83UVxIVKDQUNBQ3Lxo+MHt9SQNJVGekRcnn1gbHjF7fUBpKoaChoK4kKAaChoKGgriQoBoKGgoaCuJCgGgoaChoK4kV0TDAyTamN2+ooaSq4kKAaCjMzouDBvNrx536PqZ9Fjxmz89qaqi3r7WxQ0lpa+3XLJiWce5RJ+9rV26ZaKGiqGgoaCq+1UZ1V2wzlxcBXTGliuJCpQaChoKqpkaKvQ1dzqA0lzvU6RFAyTzS7iruUBoqhoKGgriQoBoKGgoaCuJCgGgoaChoK4kKAaChoKGgqLPixRrs1EbQVN3qKGkquJCgGhmpUmxjNqm9WRLpM1cbT76YZrLenBmdWoRooWjz267jMw9kVk7uxDM6tQjRQrRQNFA2sncR5/C9QLPIb30Emqu5Uaw1RxNSBQNFBT5rekeV+lyeLJAoXJ/dWRhYvogeVeoN4skChWigaKBqjgkCgaKBooGqOCQKBooGigao4JAoGigaKBtbN4jzqTvxcPvVGsNFE01RwSBQZORpCPP4vpRXnHonfBlqvQIhtFtc9UjUUdvY0US01Vc18dR9FEqstySVt9R29jRRK0UDRQNR1XxnlWirIjO7ialza6ZrDVHE1IFA0UETF6eLGX9CoNFqShRLnpC+orqW8kGe9Dyel1JgolaKBooGqOCQKBooGigao4JAoGigaKBqjgkCgaKBooG10yLLi5NoshbfNaDeGijOmqOCQKDM6Cl+xnOL/ALM76Jnb/UreKanzfSKqDlq31rlNXYAS1i4uel3keih2azvLXZLl5TVoAKAAACm1kdMwkKz1U8cvZr0YprnWBTVTTQAAIUBuIjYXPlfpepOAlrZGY+xac56Ma228z9H1JQEoAAAKaoaAAAAApqhoAAAACmqGgAAAARZVbKpWOkmpu8Fvd4AM6FNUNAK2VlryOIdR9XQ2nm/o2sRZmTq5r0AztEb8zmoRQ0WP3TVUa4zketWZi3LApr5FDRVDQUNBXEhEdGOVZtjGsl1xHm6iuJCpQaChoKKagjccecehWSBoqjPSIuTE/Ta8eb+jajRpKoaChoK4kKAaChoKGgriQoBoKGgoaCuJCgGgoaChoK4kV0TDAyTamN2+ooaSq4kKAaCjMyy7MbXR6Hx5h6hqUKL+bLAz2wCjt2iKGi0tfpWxBiXJVVJmBR27RFDRVDQUNBVfaqM6rWBj7i4CumNLFcSFSg0FDQq6nVEZPRSlWA0XO9aAMvzqiMvfyVWA0VQ0FDQVxIUA0FDQUNBXEhQDQUNBQ0FcSFANBQ0FDQVFnqM8vVEZrQNNRQ0lVxIUA0M0zQhm+NOGT0ExSR5tdMGihWigaKAbH7GigaKBooGigaKBooGqOCQKBooGigao4JAoGigaKBqjgkCgaKBooGqOCQKBooGigao4JAoGigaKBqjgkCgaKBooGqOCQKBooGigao4JAoGigaKBqjgkCgaKBooGqODLVegRDaLa56pGoo7exoolpqq5r47r9SjUz1syTLmJs58vES4qdY0gommigajqvjPKtFWRGd3E1Lm10zWGqOJqQKBooG0VxRy5ndUWg1mUKJW5nQ0BOyOmhy0W+zmh1mWKJWigaKBqjgkCgaKBooGqOCQKBooGigao4JAoGigaKBtdMiy4uTaLIW3zWg3hoozpqjgkCgzOio5cVdJaWZn9tAs9Ss4pqfN9IqoOWrfWuU1dgBLWLi56Xd1MP5c3crC20tn3k7BdZAgVusbMCaAAU2sjpmEhWeqnjl7NejFNc6wKaqaaAAAVlnlM2wtvNfQd5nAS1srLXkfE4OXWxt/MfTbHASgAAApqhoAAAACmqGgAAAAKaoaAAAABFlVsqlY6Sam7wW93gAzoU1Q0Ap7DJ3sfIdQF9ZZXYakOZk6uX0AztEb8zmoRQ0WP3TVUa4ztfZsjHWy3ZipsuoKmJrOhGkqhoK4kIjoxyrNsY1kuuI83UVxIVKDQUNBRVU0a7jzj0KyQNFUZ6+jswaa9C4ymtPo0FDQUNBXEhQDQUNBQ0FcSFANBQ0FDQVxIUA0FDQUNBXEiuiYYGSbUxu31FDSVXEhQDQUZ64iSZCmPSOPN/RtSkRY8Zs/Pamqot6+1sUNJaWvt1yyUTqnWfslkrNpX9djanQwNSaNJVDQVX2qjOqu2GcuLgK6Y0sVxIVKDQUNCpq72ulg6KrudZBpLnZEiRFBzP+VFvqu4QGiqGgoaCuJCgGgoaChoK4kKAaChoKGgriQoBoKGgoaCos+LFGuzURtBU3eooaSq4kKAaGddKkRmJMv4RNBX2mpjaffTJc1lvTgzOrUI0ULR57ddxm/mlKwttpAwthqiKOt1xqNFErRQNrJ3EefwvUCzyG99BJqruVGsNUcTUgUDRQVOR9EI8r9Lk8WSBQuT+6sjC1Xp4eZ+ldcakgUStFA0UDVHBIFA0UDRQNUcEgUDRQNFA1RwSBQNFA0UDa2bxHnUnfi4feqNYaKJpqjgkCgyfWqI8yd6OV5D6w7hMtV6BEraLa56pGoo7exoolpqq5r47r9SjUz1syTLmJs58vES4qdY0gommigajqvjPKtFWRGd3E1Lm10zWGqOJqQKBooK7JbGmjN+hUGi1JQolz0hfUVELQJKLfZzQ6ksUStFA0UDVHBIFA0UDRQNUcEgUDRQNFA1RwSBQNFA0UDa6ZFlxcm0WQtvmtBvDRRnTVHBIFBmdBS/YppknoptzmtFrNbxTU+dekVUHLVvrXKauwAlrFxc9Lu6mH8ubuVhbaWz7ydgusgQK3WNmBNAAKbWR0zCQrPVTxy9mvRimudYFNVNNAAAgRFZWXV3PlfpeszgJa2RmPsWnOeUayz8r9O1JYEoAAAKaoaAAAAApqhoAAAACmqGgAAAARZVbKpWOkmpu8Fvd4AM6FNUNAK2Tl7WAyEA9BtPJfVNRMyPNhQ0VQ0FDQj9jRQ0FDQUNBQ0FDQUNBXEhQDQUNBQ0FcSFANBQ0FDQVxIUA0FDQUNBXEhQDQUNBQ0FcSFANBQ0FDQVxIUA0FDQUNBXEhQDQUNBQ0FcSFANBQ0FDQVxIUA0FDQUNBXEhRDmVPBcnNUW5X2qKGix+4TxxxwOGgoaChoKGgoaCuJCgIbCQNBQ0FcSFANBQ0FDayJ3FTc2A0VRClnRVRS/wCKu3QGiqGgoaCuJCgGgoaChoK4kKAaChoKGgriQoBoKGgoaCuJEWGlaqrcqbtFDRVcSFANBRCkjCujlzxCsExtPvpi5rLenBmdWoRooXK86nsrqrTA0UDRQNFA0UDRQNrJ3EefwvUCzyG99BJqruVGsNUcTUgUDRQNzGiI819Bk8akgUS5P5rSMUrdFeX+ndcJIFCtFA0UDVHBIFA0UDRQNUcEgUDRQNFA1RwSBQNFA0UDa2bxHnUnfi4feqNYaKJpqjgkCgydldEeeI9KDyv1HvjUy1XoEZraLa56pGoo7exoolzi58gI1lXl4KBooGigaKBooGo6r4zyrRVkRndxNS5tdM1hqjiakCgaKBuX0dVLldvQ6HWZQolz17TfIgUmobLW63L6P0xKFGdNFA0UDVHBIFA0UDRQNUcEgUDRQNFA1RwSBQNFA0UDa6ZFlxcm0WQtvmtBvDRRnTVHBIFA3G62iLLFXvcUO+y2i1IHFNT5vpFVBy1b61ymrsAJa1+b5NTxEqjVgAAAAAAACm1kdMwkKz1U8cvZr0YprnWBTVTTQAAIMZOal0lz5X6XrM4CWtlZa8hX3GQTf23mfpWo8CUAAAFNUNAAAAAU1Q0AAAABTVDQAAAAIsqtlUrHSTU3eC3u8AGdCmqGgFbJy9rB3jnLr7Dyv1HWI0zJ1c16AZ2iN+ZzUIoaLH7zizTlfGLkaChoKGgoaChoK4kIjoxyrNsY1kuuI83UVxIVKDQUNBRExcb/AI849CskDRVGekRcmTjG14xe21Po0lUNBQ0FcSFANBQ0FDQVxIUA0FDQUNBXEhQDQUNBQ0FcSK6JhgZJtTG7fUUNJVcSFANBRnr2GGSzx6dx5/6HqZ9Fjxmz89qaqi3r7WxQ0lopHbz5X2nA4aChoKGgoaChoKr7VRnVXbDOXFwFdMaWK4kKlBoKGhRRbqBFfoqu51AaS53qdIjNdz21V6GtuEBoqhoKGgriQoBoKGgoaCuJCgGgoaChoK4kKAaChoKGgqLPixRrs1EbQVN3qKGkquJCgGhnfljJijcxlUmmjz0xtPvpi5rLenBmdWoRooXK86nsrqrTA0UDRQNFA0UDRQNrJ3EefwvUCzyG99BJqruVGsNUcTUgUDRQVuI9JI8r9Lk8WSBQuT+6sjB/N6Hm/ojONSQKJWigaKBqjgkCgaKBooGqOCQKBooGigao4JAoGigaKBtbN4jzqTvxcPvVGsNFE01RwSBQZO1tyPPXbwPLPUO+NTLVegRmtotrnqkaijt7GiiXOLnyAjWVeXgoGigaKBooGigajqvjPKtFWRGd3E1Lm10zWGqOJqQKBooKag1NTGa9CoNFqShRLnpC+orq6zmLA1uZ0OsShRNNFA0UDVHBIFA0UDRQNUcEgUDRQNFA1RwSBQNFA0UDa6ZFlxcm0WQtvmtBvDRRnTVHBIFBnrWubGU+X/Zm/QaS81FzQgAUAAAU0AAAAAAAAAAAUA0AAAABQDQAAAAFANAAAAAUA0AAAABQDQAAAAFANAAAAAUA0AAAABQDQAAAAFANAAAAAUB//8QALBAAAQMEAgEEAgIDAQEBAAAABAACAwEFEyISIEIQERQVFjAGISMxMiUzJP/aAAgBAQABBQIX/wCK+XFVvWYtgjf3eac6jGxSNmj6efrOS0evr59/Pv59/Pv59/NOdRjYpGzR9PPv53AX5kRw8n2UoDIhbiNSSdnvRnrc43yMZBLPeRISp2RA1oKfbhxxWf8AH6bgyaQR0ENIhgYSa2Nkcdr6HtmeLAJSIeIZ72/F5s+EGRHMBHGPb/f4KuLXPC+kHqSdGXNbriHLKc3/AF6+ffz7+ffz73Bk0gjoIaRDAwk1sbI47X0uLXPC+kHqSdGXNbriHLKc3/Xr5i8sOy2Wy2Wy2WyZy9tlCNQdbLZbLZbLZbLZbLZbLZbc5Ys0TWVY3ZbLZbLZbc5Ys0TWVY3ZbLZbLZbc9lstlstlstltz2Wy2Wy2Wy2W3PZbLZbLZbLZbc9lstlstlstltz2Wy2Wy2Wy2W3OWLNE1lWN2Wy2Wy2W3PZbLZbLZbLZbcziJRwxDCz62y7RFDlmmW2QJ5EJ/rcnTx244ialsGuMMrecw1zPujpZAboJPHbZiHGforWjXWq4zyzsuJJZLP5DR0v2xtZBCWmC+nn1ufNsFTLjPGPJmZ6zzEx3gtj3xuuRfwy7oX8Dz7+ffz7+fcqs1IY7pJEG8p4iimKEd08/S93AiKk7JJIqGHVi+wIltRN2IdWN1HpwsZcNLRAykEcIw49mhhiEEjFfkasjVkai4GmjfX/4B2QiwDDwivMEjLeNFAIOIBQUrI1ZGrI1ZGrI1ZGrI1ZGoqKMyFtntsU0NoHhdFZR42/FgyiRRBi5GrI1c288jVkasjVkasjUeCw+Sa1RTprmNrkasjVkaiAKEGFWuMuF1to50n8etMozMcayNWRqyNWRqyNWRqyNXNvPI1ZGrI1ZGrI1ZGrI1c288jVkasjVkasjVkasjVzbzyNWRqyNWRqyNWRqyNUvGWn1Y76UtUTnDW6KB+RqyNWRqyNXNvPI1ZGo+z224qe3RTQsCdHBW3RtgkswrmMrGxULiDFdeQ2xRTMmiiu4czhLiOd0nMgBgIuQw0bXtcyO7jSzkmRCNjfSRgp45tf0eY50Bb5iWwy9fPqUfCG4i7CCVp/b/X543yyzIAYpj4IIiLkMLB59/Pv59/PvJIyFQ3MaaKO7iyUGuopcnTz9DDxwGTztHj+8CTryCyAu6ChOp/3caOqODlCltQxgwhFX3pgTql3L1usnC2TT0ktNvjMbBFHOUfcR5aFWxlwoPbSKSXX9Bkzx4ABT7eUANRsw8E7n/SD1JtOX6v08+t3oO53EweMZlYo/U4ijbzcS+dtlbSVEh3eS3x8vfv59/Pv59y2sdDiKnGnnJMkiq46vTz9L8IfKml1TRpoGlc22e6nUKbHWlULyw7LZbLZbLZbJnL22Wy2Wy2Wy2Wy2Wy2Wy2Wy257LZbLZbLZbLbnstlstlstlstuey2Wy2Wy2Wy257LZbLZbLZbLbnstlstlstlstuey2Wy2Wy2Wy257LZbLZbLZbLbnstlstlstlstuey2Wy2Wy2Wy25nESjhiGFn1tl2iKHLNMtsgTyIT/W5OnjtxxE1LYNcYZW85hrmfdHSyA3QSeO2zEOM/RWtGutVxnlnZcSSyWfyGjpftjayCEtMF9PPpdXTxgOnJKmiuRxw48mZnpc5iYCLsRKOLDUl7mGnyD/AGBsg7a0c7v59/Pv59yqzUhjukkQbyniKKYoR3Tz9LnMTARdZCIgxzZZoBTDLgprkV9bT/uRopEdAgGUgmCGHHAChiEoIK/5wq+cKvnCotwxo2GDAPMCLAM4IV5lBC3jSgiDiRDilfOFXzhV84VfOFXzhV84VfOFXzhUVIIZC0GzRTQhAQuit9vjb/8AhyiShhi/OFXzhV80bn84VfOFXzhV84VHPGNH+KJweBbataYK2vzhV84VHxjHPliCnbMCFPA9sUkMooMrIp4XuyNWRqyNWRqyNWRqyNXNvPI1ZGrI1ZGrI1ZGrI1c288jVkasjVkasjVkasjVzbzyNWRqyNWRqyNWRqyNUvGWn1Y76UtUTnDW6KB+RqyNWRqyNXNvPI1ZGo8Fpz6jptvjjhpaB2MltMEkNHMo66zNhLqbDRjXUc1pkL1CRHP0mmjgZITHE33p7NLifJLMyFNrybERHP8Aqjnjmq6SjH/qllbDSpsNGPNgZ0eRHHJJI2FnzYKRyExxqQuKKv8AGv0effz7+feSRkKhuY00Ud3FkoNdRS5Onn6F3QUJ0szIIq3UZsFbyFSN92Fa/wA77SvzIOUDhI5oYZORrYa5SvU53sLLJzFgbNRrGvlnJjdlGoRSMWTkT+id7o4YIiB5R4/Z7I5KqoMeQXl8buVPWCOKlB3sikghZTi30Nf7SFOrI2StcElYpIpmze38Y/138+/n38+5bWOhxFTjTzkmSRVcdXp5+l6J5uu1XGhRsmYTSHEx4lRgGe/u6x/Ld+NL8aX40vxpfjS/Gl+NKn8b91+NL8aX40vxpfjS/Gl+NL8aX40vxpfjS/Gl+NL8aX43t+NL8aX40vxpfjS/Gl+NL8b2/Gl+NL8aX40vxpfjS/Gl+N7fjS/Gl+NL8aX40vxpfjSt1urb3bLZbLZbLZbLbnstlstlstlstuey2Wy2Wy2Wy257LZbLZbLZbLbnstlstlstlstuey2Wy2Wy2Wy25nESjhiGFn1tl2iKHLNMtsgTyIT/AFuTp47ccRNS2DXGGVvOYa5n3R0sgN0EnjtsxDjP0VrRrrVcZ5Z2XEksln8ho6X7Y2sghLTBfTz6XCrmjimGXBRXI44ceTMz0ucxMBF2IlHFhqS9whZxymvJc1t8+/n38+/n3KrNSGO6SRBvKeIopihHdPP0ucxMBE7JJIoCCJBKmkvsp0pH1o7Xsa4WMuGlogZSCOEYcezQwxCCRivyNWRqyNRcDTRvr/8AAOyEWAYeEV5gkZbxooBBxAKClZGrI1ZGrI1ZGrI1ZGrI1FRRmQts9timhtA8LorKPG34sGUSKIMXI1ZGrm3nkasjVkasjUTH8htLQOxj7MLVrXMbXI1ZGo8Fpz5QIp2zWaGeB9uo9T2C0zjsxxrI1ZGrI1ZGrI1ZGrI1c288jVkasjVkasjVkasjVzbzyNWRqyNWRqyNWRqyNXNvPI1ZGrI1ZGrI1ZGrI1S8ZafVjvpS1ROcNbooH5GrI1ZGrI1c288jVkajwWnPIAYTEwCrIaWyOOCgArVzbzoXEGK68htiimZNFFdw5nCXEc7pOZADARchho2va5kd3GlnJMiEbG+kjBTxza/o8xzoC3zEthl6+fQoyIJkt1GgjlvIMNKf2/0mPGHnIIjEh+4CoPPcxh2zXgOClP8Avv59/Pv595JGQqG5jTRR3cWSg11FLk6efpMeMPPPPGNFS7iOh+2GxUvQboqf2+40dUcHKFLahjBhCKvvTAnVLuXrdZOFsmnpJabfGY2CKOco+4jy0KtjLhQe2kUkuv6DJnjwACn28oAajZh4J3P+kHqTacv1fp59Lp8dzBfkiTQDEADjMrFH6XufjLdHvKilfWoz6x1FkyD26OtK/o8+/n38+5bWOhxFTjTzkmSRVcdXp5+l7n4ykXPBFEdUIOnKGzXAGok8PP2F5Ydlstlstlstkzl7bLZbLZbLZbLZbLZbLZbLZbc9lstlstlstltz2Wy2Wy2Wy2W3PZbLZbLZbLZbc9lstlstlstltz2Wy2Wy2Wy2W3PZbLZbLZbLZbc9lstlstlstltz2Wy2Wy2Wy2W3PZbLZbLZbLZbcxf/AI92f6/d59/Pv59/Pv59/Pv59/Pv59/MV7cORqyNWRqyNWRqyNWRqY9vtkasjVkasjVkasjVkasjVkasjVkasjVkasjVzbzyNWRqyNWRqyNWRqyNXNvPI1ZGrI1ZGrI1ZGrI1c288jVkasjVkasjVkasjVzbzyNWRqyNWRqyNWRqyNXNvPI1ZGrI1ZGrI1ZGrI1c288jVkasjVkasjVkasjVzbzyNWRqyNWRqyNWRqyNXNvPI1ZGrI1ZGrI1ZGrI1c288jVkasjVkasjVkasjVzbzoXEGK68htiimZNFFdw5nCXEc7pOZADBPcxhmRSsniJLiDYMTEXFNNGPGMTGZB+jzHOgLfMS2GXr59Sz4AlNeQoKU/t/pMeMPPNNGPHW6i0Fluo0Ecl0FY2n9v7+ffz7+feSRkKhuY00Ud3FkoNdRS5Onn6THjDzkkxiQ1ucFIXXkFo5N0FDkp/3caOqODlCltQxgwhFX3pgTql3L1usnC2RS4prUKaOJcoysVpjMoLznGb/AB13/l/oMmePAAKfbygBqNmHgnc/6QepNpy/V+nn1vBsgzKxUEYMysUfpe5+MtTm0QToHWcX5Ik3wSBY4eft38+/n38+5bWOhxFTjTzkmSRVcdXp5+l7n4ymEQkRRmEACFcIrDd46FNibjQvLDstlstlstlsmcvbZbLZbLZbLZbLZbLZbLZbLbnstlstlstlstuey2Wy2Wy2Wy257LZbLZbLZbLbnstlstlstlstuey2Wy2Wy2Wy257LZbLZbLZbLbnstlstlstlstuey2Wy2Wy2Wy257LZbLZbLZbLbmcRKOGIYWfW2XaIocs0y2yBPIhP9bk6eO3OnJKmtt3hIGuFzZINbbpFUWhcZjbLPITa/0VrRrrVcZ5Z2XEksln8ho6X7Y2sghLTBfTz63aptHSXCcug8mZnpc5iYCLsRKOLNcSxpaT1ktuS4jQ+ffz7+ffz7lVmpDHdJIg3lPEUUxQjunn6XpxI8F0lIiCGus0jYZ5pbGQdcILf5uFjLhpaIGUgjhGHHs0MMQgkYr8jVkasjUXA00b6tnAdkIsBg0ZiDHhCim/yx24RltHyNWRqyNWRqyNWRqyNWRqKijMhbZ7bFNDaB4XRWUeNvxYMokUQYuRqyNXNvPI1ZGrI1ZGrI1FjfJrJZxHUa5ja5GrI1HgtOfKBFO36qCrPrBvjHgtOe1zaVyNWRqyNWRqyNWRqyNXNvPI1ZGrI1ZGrI1ZGrI1c288jVkasjVkasjVkasjVzbzyNWRqyNWRqyNWRqyNUvGWn1Y76UtUTnDW6KB+RqyNWRqyNXNvPI1ZGoq3NJM+Mm2m344rOFCGfZ7bcUzHGqFxBiuvIbYopmTRRXcOZwlxHO6TmQAwT3MYZkUrJ4iS4g2DExFxTTRjxjExmQfo8xzoC3zEthl6+fQsyAGKe5jDMlvIMNKf2/wBJjxh5yCIxIaXcSsTryG2GS8gxqn/ffz7+ffz7ySMhUNzGmiju4slBrqKXJ08/SY8Yef8A0mXgOUZ93CjgMPHAZ53Gjqjg5QpbUMYMIRV96YE6pdy9brJwtkUuKa1CmjiXKMrFaYzKC85xm/x13/l/oMmePAAKfbygBqNmHgnc/wCkHqTacv1fp59LxJwtsUuKaAYgAcZlYo/S9z8Zbo95UVTZRUM1oM8lvfFbom4/0effz7+fctrHQ4ipxp5yTJIquOr08/S9z8ZT3EHxhVJGEl5xfxy8wmlsj5e4vLDstlstlstlsmcvbZbLZbLZbLZbLZbLZbLZbLbnstlstlstlstuey2Wy2Wy2Wy257LZbLZbLZbLbnstlstlstlstuey2Wy2Wy2Wy257LZbLZbLZbLbnstlstlstlstuey2Wy2Wy2Wy257LZbLZbLZbLbmcRKOGIYWfW2XaIocs0y2yBPIhP9bk6eO3OnJKmtt3hIGuFzZINbbpFUWhcZjbLPITa/wBFa0a61XGeWdlxJLJZ/IaOl+2NrIIS0wX08+hbHvjELOOUVyOOHHkzM9LnMTARdiJRxYakvc25nSQmXeWQHz7+ffz7+fcqs1IY7pJEG8p4iimKEd08/S9OJHgmZJLDU4qgzDjJYPsDZB21o5zhYy4aWiBlII4Rhx7NDDEIJGK/I1ZGrI1FwNNG+rZwHZCLAYNGYgx4Qopv8sduEZbR8jVkasjVkasjVkasjVkaioozIW2e2xTQ2geF0VlHjb8WDKJFEGLkasjVzbzyNWRqyNWRquQcdyhfbqPT7MLVrXMbXI1ZGo8Fpz5QIp2zWaGeCS3UkpL/AB60yjsxxrI1ZGrI1ZGrI1ZGrI1c288jVkasjVkasjVkasjVzbzyNWRqyNWRqyNWRqyNXNvPI1ZGrI1ZGrI1ZGrI1S8ZafVjvpS1ROcNbooH5GrI1ZGrI1c288jVkairc0kwi3tIh+rZw+sY2CW1wyso5lHULiDFdeQ2xRTMmiiu4czhLiOd0nMgBgnuYwzIpWTxElxBsGJiLimmjHjGJjMg/R5jnQFvmJbDL18+hJUYjH3cNkMt5BhpT+3+kx4w85BEYkNLuJWKt5Dxz3YQZ1P++/n38+/n3kkZCobmNNFHdxZKDXUUuTp5+kx4w8800Y8f2Y9RfvQscl0Gik87jR1RwcoUtqGMGEIq+9MCdUu5et1k4WyKXFNahTRxLlGVitMZlBec4zf467/y/wBBkzx4ABT7eUANRsw8E7n/AEg9SbTl+r9PPpcZcUALZAKwDEADjMrFH6XufjLdHvKiqbKKsYbRDBZ3BxNx/o8+/n38+5bWOhxFTjTzkmSRVcdXp5+l7n4y1ObRWsqQb+PkD/CthDK/EZ7+4vLDstlstlstlsmcvbZbLZbLZbLZbLZbLZbLZbLbnstlstlstlstuey2Wy2Wy2Wy257LZbLZbLZbLbnstlstlstlstuey2Wy2Wy2Wy257LZbLZbLZbLbnstlstlstlstuey2Wy2Wy2Wy257LZbLZbLZbLbmcRKOGIYWfW2XaIocs0y2yBPIhP9bk6eO3OnJKmtt3hIGuFzZINbbpFUWhcZjbLPITa/0VrRrrVcZ5Z2XEksln8ho6X7Y2sghLTBfTz6XX5eGMyY+WK5HHDjyZmelzmJgIuxEo4sk5sY5dwJrQq6kUgifk/R59/Pv59yqzUhjukkQbyniKKYoR3Tz9L04keC6kyjiUmIamnmzDTXkuQZn91cLGXDS0QMpBHCMOPZoYYhBIxX5GrI1ZGouBpo31bOA7IRYDBozEGPCFFN/ljtwjLaPkasjVkasjVkasjVkasjUVFGZC2z22KaG0Dwuiso8bfiwZRIogxcjVkaubeeRqyNWRqyNRUXyF9SO1j7MLVrXMbXI1ZGo8Fpz5QIp2utkbhvq2Y3WqB0FHt55GrI1ZGrI1ZGrI1ZGrm3nkasjVkasjVkasjVkaubeeRqyNWRqyNWRqyNWRq5t55GrI1ZGrI1ZGrI1ZGqXjLT6sd9KWqJzhrdFA/I1ZGrI1ZGrm3nkasjUVbmkmSgRTtbb2sZ9bG0aWzjPTMcaF/wDj3Z/r93n38+/n38+/n38+/n38+/n38xf/AI92f6/d59/Pv59/Pv59/Pv59/Pv59/MXlh2Wy2Wy2Wy2TOXtstlstlstlstlstlstlstltz2Wy2Wy2Wy2W3PZbLZbLZbLZbc9lstlstlstltz2Wy2Wy2Wy2W3PZbLZbLZbLZbc9lstlstlstltz2Wy2Wy2Wy2W3PZbLZbLZbLZbc9lstlstlstltzOIlHDEMLPrbLtEUOWaZbZAnkQn+tydPHbnTklTW26xFDc5hrmfdHSyBXQSeO3GzDPuZnMIW4wSNtsxDjOta0a61XGeWdlxJLJZ/IaOl+2NrIIS0wX08+tz5tgqZcZ4x5MzPWeYmO8XCrmj0JuJABN4fK6N1H/o8+/n38+5VZqQx3SSIN5TxFFMUI7p5+l6cSPBLSV0IMhBtmYafIPKUTNZh2vY1wsZcNLRAykEcIw49mhhiEEjFfkasjVkai4GmjfVs4DshFgGHhFeYJGW+CCAcUYJkM5cHykOyEWAQCgpWRqyNWRqyNWRqKijMhbZ7bFNDaB4XRWUeNvxYMokUQYuRqyNXNvPI1ZGrI1ZGrI1HgsPkmtUU6a5ja5GrI1ZGogChBjhPdtLWyOGWzivoysbFkasjVkasjVkasjVkaubeeRqyNWRqyNWRqyNWRq5t55GrI1ZGrI1ZGrI1ZGrm3nkasjVkasjVkasjVkapeMtPqx30paonOGt0UD8jVkasjVkaubeeRqyNRVuaSZ8dfRxfBeE6SGoQ1Xc286FxBiuvIbYopmTRRXcOZwlxHO6TmQAwT3MYZkczJoo7uNLOSZEI2N9JWCXGA5FnwA0a9r2injm16+Y50Bb5iWwy9fPqUfCG4i7CCVp/b/SY8YeeaaMeOlyGqHJdhYo5LuHHTz7+ffz7+feSRkKhuY00Ud3FkoNdRS5Onn6F3QUJ0s0cEf2Y9RfvQqslu4sLYJWENuNHVHByhS2oYwYQir70wJ1S7l63WThbIpcU1pGMHFijnKPuI8tCre24sEBjdQq5VloGBGY2C2kUkuvUyZ48AAp9vKAGo2YeCdz/pB6k2nL9X6efW70Hc7iYPGMysUfpe5+MtTm0UUbpbUHnEIIimjs7f8Arv59/Pv59y2sdDiKnGnnJMkiq46vTz9L0Tzd85jaWsqQb+PzuktIE8NJQKf08Xlh2Wy2Wy2Wy2TOXtstlstlstlstlstlstlstltz2Wy2Wy2Wy2W3PZbLZbLZbLZbc9lstlstlstltz2Wy2Wy2Wy2W3PZbLZbLZbLZbc9lstlstlstltz2Wy2Wy2Wy2W3PZbLZbLZbLZbc9lstlstlstltzOIlHDEMLPrbLtEUOWaZbZAnkQn+tydPHbnTklTW26xFDc5hrmfdHSyBXQSeO3GzDPuZnMIW4wSNtsxDjOta0a61XGeWdlxJLJZ/IaOl+2NrIIS0wX08+l1dPGA6ckqaK5HHDjyZmelzmJgImpI6NhpklpdcTH2a6zFDktrRzu/n38+/n3KrNSGO6SRBvKeIopihHdPP0ucxMBBfL4wMpBgbrkX8Mm5HxjxPyJwsZcNLRAykEcIw49mhhiEEjFfkasjVkai4GmjfVs4DshFgGHhFeYJGW+CCAcUYJkM5cHykOyEWAQCgpWRqyNWRqyNWRqKijMhbZ7bFNDaB4XRWUeNvxYMokUQYuRqyNXNvPI1ZGrI1ZGo6Bpo/1bOD7MLVrXMbXI1ZGo8Fpz/joe2/FEntMEoU1toQ2jmUdkasjVkasjVkasjVkaubeeRqyNWRqyNWRqyNWRq5t55GrI1ZGrI1ZGrI1ZGrm3nkasjVkasjVkasjVkapeMtPqx30paonOGt0UD8jVkasjVkaubeeRqyNR4LTnuFpVS2WCUd1to51bVBWCj286FxBiuvIbYopmTRRXcOZwlxHO6TmQAwT3MYZkczJoo7uNLOSZEI2N9JWCXGA5FnwA0a9r2injm16+Y50Bb5iWwy9fPoSVEIx15DbDLeQYaU/t/pMeMPOQRGJDS7iVireA8NbuJR3n38+/n38+8kjIVDcxpoo7uLJQa6ilydPP0mPGHnIIjFi+4DwuvIbYZLoKxtP7fcaOqODlCltQxgwhFX3pgTql3L1usnC2RS4prSMYOLFHOUfcR5aFW9txYIDG6hVyrLQMCMxsFtIpJdepkzx4ABT7eUANRsw8E7n/AEg9SbTl+r9PPpdDngjjNaDPAMQAOMysUfpe5+Mt0e8qKpsoqfDRscjK/CZ7+/fz7+ffz7ltY6HEVONPOSZJFVx1enn6XufjLdZqkiQsmjnGbIGb8EgWOHn7C8sOy2Wy2Wy2WyZy9tlstlstlstlstlstlstlstuey2Wy2Wy2Wy257LZbLZbLZbLbnstlstlstlstuey2Wy2Wy2Wy257LZbLZbLZbLbnstlstlstlstuey2Wy2Wy2Wy257LZbLZbLZbLbnstlstlstlstuZxEo4YhhZ9bZdoihyzTLbIE8iE/wBbk6eO3OnJKmtt1iKG5zDXM+6OlkCugk8duNmGfczOYQtxgkbbZiHGda1o11quM8s7LiSWSz+Q0dL9sbWQQlpgvp59LhVzRxTDLgorkccOPJmZ6XOYmAi7ESji0mIaqE3EgAm8PldG6j/0effz7+fcqs1IY7pJEG8p4iimKEd08/S9OJHgmZJLC0k11sOImpbCizG0bWjnOFjLhpaIGUgjhGHHs0MMQgkYr8jVkasjUXA00b6tnAdkIsAw8IrzBIy3wQQDijBMhnLg+Uh2QiwCAUFKyNWRqyNWRqyNRUUZkLbPbYpobQPC6Kyjxt+LBlEiiDFyNWRq5t55GrI1ZGrI1Ex/IbS0DsY+zC1a1zG1yNWRqPBac+UCKdrbe1jKWtkcMtnFfRlY2LI1ZGrI1ZGrI1ZGrI1c288jVkasjVkasjVkasjVzbzyNWRqyNWRqyNWRqyNXNvPI1ZGrI1ZGrI1ZGrI1S8ZafVjvpS1ROcNbooH5GrI1ZGrI1c288jVkairc0kwi3tIhrbvcP6//A60wOio5lHULiDFdeQ2xRTMmiiu4czhLiOd0nMgBgnuYwzI5mTRR3caWckyIRsb6SsEuMByLPgBo17XtFPHNr18xzoC3zEthl6+fQoyIJkt1GgjlvIMNKf2/wBJjxh5yCIxIaXcSsVbwHSCS6Cxtp/b+/n38+/n3kkZCobmNNFHdxZKDXUUuTp5+kx4w8887BovtxMDruI2J90FYyn9vuNHVHByhS2oYwYQir70wJ1S7l63WThbIpcU1pGMHFijnKPuI8tCre24sEBjdQq5VloGBGY2C2kUkuvUyZ48AAp9vKAGo2YeCdz/AKQepNpy/V+nn0unx3MF+SJNAMQAOMysUfpe5+Mt0e8qKpsoq+V8K3EC0hrDz9u/n38+/n3Lax0OIqcaeckySKrjq9PP0vc/GWY33jggbSD4pEMTxiGMh5+wvLDstlstlstlsmcvbZbLZbLZbLZbLZbLZbLZbLbnstlstlstlstuey2Wy2Wy2Wy257LZbLZbLZbLbnstlstlstlstuey2Wy2Wy2Wy257LZbLZbLZbLbnstlstlstlstuey2Wy2Wy2Wy257LZbLZbLZbLbmL/APHuz/X7vPv59/Pv59/Pv59/Pv59/Pv5ivbhyNWRqyNWRqyNWRqyNTHt9sjVkasjVkasjVkasjVkasjVkasjVkasjVkaubeeRqyNWRqyNWRqyNWRq5t55GrI1ZGrI1ZGrI1ZGrm3nkasjVkasjVkasjVkaubeeRqyNWRqyNWRqyNWRq5t55GrI1ZGrI1ZGrI1ZGrm3nkasjVkasjVkasjVkaubeeRqyNWRqyNWRqyNWRq5t55GrI1ZGrI1ZGrI1ZGrm3nkasjVkasjVkasjVkaubedC4gxXXkNsUUzJooruHM4S4jndJi4g4hiYi4ppox4xiYzIP1+Y50Bb5iWwy9fPqWfAEpryFBSn9v9Jjxh55ZWQR/aQYvvQeDruJR3n38+/n38+8kjIVDcxpoo7uLJQa6ilydPP0mPGHnnnjGiiuQ0o7rwG0cm4iiQ+dxo6o4OUKW1DGDCEVfemBOqXcvW8UdWO0xmUF5zjN/jrv/L/WZM8eAAU+3lADUbMPBO5/0g9SbTl+r9PPreDZBmVioIwZlYo/S9z8Zbu55oYs04orBq2cio9YQGe/v38+/n38+5bWOhxFTjTzkmSRVcdXp5+l7n4ykXPBFDAQSyDPHYTQrm8CPl7i8sOy2Wy2Wy2WyZy9tlstlstlstlstlstlstlstuey2Wy2Wy2Wy257LZbLZbLZbLbnstlstlstlstuey2Wy2Wy2Wy257LZbLZbLZbLbnstlstlstlstuey2Wy2Wy2Wy257LZbLZbLZbLbnstlstlstlstuZxEo4YhhZ9bZdoihyzTLbIE8iE/1upEo8FtukVRaFxmNss8hNr/AF1rRrrVcZ5Z2XEksln8ho6X7Y2sghLTBfTz63aptHSXCcug8mZnpc5iYCJ2SSRBVILgpcDvqpySmt8+/n38+/n3KrNSGO6SRBvKeIopihHdPP1PJmHuBbHvjoRc5grhd5HiebhYy4aWiBlII4Rhx7NDDEIJGK/I1ZGrI1Eixl0DHhCim/yx24RltHyNWRqyNWRqyNWRqyNWRqyNWRqyNRUUZkLbPbYpobQPC6Kyjxt+LBlEiiDFyNWRq5t55GrI1ZGrI1ZGosb5NZLOI6jXMbXI1ZGo8FpzyAGExfXMcCZbLeeyWzwOja5tK5GrI1ZGrI1ZGrI1ZGrm3nkasjVkasjVkasjVkaubeeRqyNWRqyNWRqyNWRq5t55GrI1ZGrI1ZGrI1ZGqXjLT6sd9KWqJzhrdFA/I1ZGrI1ZGrm3nkasjVkapwIyZirXGXC4Fz2z2C0kQMxxqhcQYrryG2KKZk0UV3DmcJcRzukxcQcQxMRcU00Y8YxMZkH6/Mc6At8xLYZevn0LMgBinuYwzJbyDDSn9v8ASY8YeeaaMeP7UT4tboLSB91Hjf59/Pv59/PvJIyFQ3MaaKO7iyUGuopcnTz9Jjxh5552DRfbiUglug8ERNxFEh87jR1RwcoUtqGMGEIq+9MCdUu5et4o6sdpjMoLznGb/HXf+X+syZ48AAp9vKAGo2YeCdz/AKQepNpy/V+nn0vEnC2xS4poBiABxmVij9L3Pxlqc2iDpHW0MBlgUjJahM9/fv59/Pv59y2sdDiKnGnnJMkiq46vTz9L3PxlmN94x2RfHq6elpNCubwI+XuLyw7LZbLZbLZbJnL22Wy2Wy2Wy2Wy2Wy2Wy2Wy257LZbLZbLZbLbnstlstlstlstuey2Wy2Wy2Wy257LZbLZbLZbLbnstlstlstlstuey2Wy2Wy2Wy257LZbLZbLZbLbnstlstlstlstuey2Wy2Wy2Wy25nESjhiGFn1tl2iKHLNMtsgTyIT/AFupEo8FtukVRaFxmNss8hNr/XWtGutVxnlnZcSSyWfyGjpftjayCEtMF9PPoWx74xCzjlFcjjhx5MzPS5zEwEXYiUcWGpL3RzEy2gyY9lqb78u/n38+/n3KrNSGO6SRBvKeIopihHdPP0ucxMBE7JJIgqkFwfONYKXdC/gebhYy4aWiBlII4Rhx7NDDEIJGK/I1ZGrI1Eixl0DHhCim/wAsduEZbR8jVkasjVkasjVkasjVkasjVkasjUVFGZC2z22KaG0Dwuiso8bfiwZRIogxcjVkaubeeRqyNWRqyNVyDjuUL7dR6fZhata5ja5GrI1HgtOfKBFO2azQzwT2v5ClteWdjqNrkasjVkasjVkasjVkaubeeRqyNWRqyNWRqyNWRq5t55GrI1ZGrI1ZGrI1ZGrm3nkasjVkasjVkasjVkapeMtPqx30paonOGt0UD8jVkasjVkaubeeRqyNR4LTnkAMJi+uY4EkGOeST+PWmUZmONULiDFdeQ2xRTMmiiu4czhLiOd0mLiDiGJiLimmjHjGJjMg/X5jnQFvmJbDL18+hJUYjH3cNkMt5BhpT+3+kx4w85BEYkP3AVB57mMO2a8BwUp/338+/n38+8kjIVDcxpoo7uLJQa6ilydPP0mPGHnnnYNFW7h0FnuY49CbiMHF53Gjqjg5QpbUMYMIRV96YE6pdy9bxR1Y7TGZQXnOM3+Ou/8AL/WZM8eAAU+3lADUbMPBO5/0g9SbTl+r9PPpcZcUALZAKwDEADjMrFH6XufjLdHvKilfWoz6x1FkyD26OtK/o8+/n38+5bWOhxFTjTzkmSRVcdXp5+l7n4yzG+8cdXQ2iR40wZwd3kCj5e4vLDstlstlstlsmcvbZbLZbLZbLZbLZbLZbLZbLbnstlstlstlstuey2Wy2Wy2Wy257LZbLZbLZbLbnstlstlstlstuey2Wy2Wy2Wy257LZbLZbLZbLbnstlstlstlstuey2Wy2Wy2Wy257LZbLZbLZbLbmcRKOGIYWfW2XaIocs0y2yBPIhP9bqRKPBbbpFUWhcZjbLPITa/11rRrrVcZ5Z2XEksln8ho6X7Y2sghLTBfTz6XX5eGMyY+WK5HHDjyZmelzmJgIuxEo4sNSXuqWW6zzlFcfPv59/Pv59yqzUhjukkQbyniKKYoR3Tz9LnMTAQaV8SCMy4fFaZcChTroRSOJ+ROFjLhpaIGUgjhGHHs0MMQgkYr8jVkasjUSLGXQMeEKKb/ACx24RltHyNWRqyNWRqyNWRqyNWRqyNWRqyNRUUZkLbPbYpobQPC6Kyjxt+LBlEiiDFyNWRq5t55GrI1ZGrI1FRfIX1I7WPswtWtcxtcjVkajwWnPlAinbNZoZ4HhOfHNaYZGNc2lcjVkasjVkasjVkasjVzbzyNWRqyNWRqyNWRqyNXNvPI1ZGrI1ZGrI1ZGrI1c288jVkasjVkasjVkasjVLxlp9WO+lLVE5w1uigfkasjVkasjVzbzyNWRqPBac9wAs1YLQMHH9ZGyGW2QSRUe3mL/wDHuz/X7vPv59/Pv59/Pv59/Pv59/Pv5//EADURAAEBAgwFBAEEAwEAAAAAAAEAESECAwQQIDAxQEFSkfATFWGh0RIyUbEFUGBxgSJC8cH/2gAIAQMBAT8BwWKE4D2IGiHlB7N/CglofMHlB+/4nAaWIP3/AB5uYeUHs38KCWh8wDSxB+/481DFaG1DEH0AG0GXEPQegW0WPYmzDpQwqbL0Om9uQoYqya2g1BwZUNegGBl6BYWoBlDFq39+ZjHRQd6hqPKEdFZhqPKEdFZhqPK40VmGo8rjxLv8hqPKEdFelnqGo8ox0VmGo8rjRTfcNR5XGisw1HlcaKzDUeVxorMNR5XGicw1HlcaKzDUeVx4lvuGo8oR0Wx8IajyuNFZhqPK40VmGo8rjRWYajyuPFZxqOnVcaKzDUeVxorMNR5XGisw1HXquPFZhqPKEZFwiwQhrcBagwEIUMZ5REQIUbDhG1p+1AiIBhEEu+f7UbBECEwTRUTBhgE/KEXAHqb9qFEwRFiECo6Bw4bBQA9RYjJ4tpILv+/+qFJoEAvhb1UIemERQiomDCgeo/8AVHxUCL9pmgxIPoPyuBA67HlfjoqDFyyKIPz9XAWoWhqD6GM8P8VI4cL1woNvUrk8hydyuUSHJ3K5RIcncrk8hydyuUSEhvo7lcokOTuVyeQ5O5XKJDk7lcokOTuVyiQ5O5XJ5Dk7lcokOTuVyeRZO5Q/ESE/6dyuUSHJ3K5RIcncrlEhydyuTyHJ3K5RIcncrlEhydyuTyHJ3K5PIcncqJ/HSWTxghwILD/dwD0HoFtHFibMOlDCpsvQ6b25ChirJraDUHBlQ16AYGVG96XIFhagGfrAQnFRigWigJ8bkLULQ1B9DG4MQfUYsuIeg9Ato4snHSgOiFRZeh03tyFDGe2ta9AMDL0CwtQDKgITioxQax9Pf3chagwEIUMVve9JwhOKjFAtFPf3chahaGoPoYoV7EH1G963EPQegW3Wz9phCfBYoWoe2jig1j6AnwuQtQYCEKGNAIT4LFB5Q9raOKBaKAnxuQtQtDUH0MZvioY9iwbRYg+o39+LiHoPQLagdKGEwWFKynjcx03tyFO2mLWrBlFr0AwMvQLC1AMpYtmCE+CxQtQ9tHFBrH09/dyFqDAQhQxQnCE+CxQeUPa2jigWinv7WNxFqFoag+hj+27ai2gX1LXoBgZegWFqAZUBCY1OKDWPoCfFC16FguAtQYCEKGFAITGpxQLRQ39T43IWoWhqD6GKFq+KNlSxB9R0uIeg9AtqB0rbL0Om9uQoYz20C+pa9AMDKje9LkCwtQDKgITGpxQax9Pf2sUMLgLUGAhChj+p/wD/xAAxEQABAgMFBQcFAQEAAAAAAAABABECIfAQIDFBsQMEQFJhExUwUZGh0RIUMnHhUCL/2gAIAQIBAT8BEzcxR80RjeMga8/hRBi1hkFWtpLB002WXBmQNefwogxawlg6abLK+6wLeCQxa4Syaq/Vr8CZI/8ALlENdydNYcZ2yWfgGaJed/Pgz1Re5ksbzYoly9mVwzsMxXX5URcvcIdVXrZmmqv3wRDhkS9zJlWnxZ2cfkjs43/E+i7OPy9l2cfKV2W0nIo7OP6nEPsuzj5SuzjbD2XZx8pXZx8pXZx8pR2e0yHsV2cfKadHZ7RpA+n7/ii2cTyhPoV2cfkV2cfKV2cfKV2W05TTrs4/L2XZx8pQ2cfKaZdntGw9ijBEMuAOCimDVV5Itlcyt2W1iEEI6BR7WIAeagJInZHtDCSyiiicModoTEQy2cX1wvcJ+kOhtYpOF20RDiGp/F2PaERMFso4o/yFnaH/AKXaxNXVb3GYt32j9NeAOCiwJCIa5lbDv28QhhFgvv8AeebRff7zzLvDeebRd47zzaI7/vILfVovv955l3hvPMu8N55tF3hvPNou8N55tF3hvPNovv8AeuZd4bzzaI7/AL0C31aLvDeebRd4bzzaLvDeebRd4bzzaL7/AHnmXeG882i7w3nm0XeG882ij3vb7WEwxRS4AyRkHRDXcnTY2HGdsln4BmiXnxR6ovcyvtiiXL2ZXDOwzFdflRFy98STVX7T8CQ4ZEvcy/1DjbWqKN0yVaoyFdfhRBi1w9FWtmXBHBRYEhENcyrov4srtV6WGXgEMWuO1x5PwJkjIOiG8A4ztkjjNHrfM0S87krmCw4E9UXuZX6r1sN0zsMxXX5URcvcqvW0S4MhwyJe7/PZYWHG2tUUbp6KtUcJVj/FEzyvivbgjgopg1VeSLZXMlVV62nG2tUUbpkq1RkK6/CiDFr4r2WXAnBRYEhENcyRkmu1XpYZeAQxbwKr04EyRkHRDcIZol58Xj/sHG2tVmskcEfytPRVqjhKsf4omeVwzVa2Zjgjgopg1VeSLZXMkV52HG2tVmskZBH8mtMlWqMhXX4UQYtcKrWzLgjgosCQiGuZIrzu1Xpbk6wLXiGLXKr0tydVp8rLgDJGQdENcyRkmsOM7ZLNZI9VndM0S87+XBnqi/h1XraZhkS8T2mdhmK6/KiLl74km4IhwyJfwDjbWqzWSOCP5Wnoq1RwlWP8UTPK+K9llwJwUUwaqvJFsrmSNpxtrVZrJGQR/JrTJVqjIV1+FEGLXxXsslLgDgosCQiGuZI/6eH+Ph4glfM7DMV1+VEXL3CHVV68KQ4ZEvcyTZJ8bDjaELx6KtUcJVj/ABRM8rhVa2ZKJ2LI5/vgDgopg1VeSLZXMxZ52HG0TQvGSrVGQrr8KIMWuVrblwRwUWBIRDXMkcF53RPwiGLeA8nTNwBkjIOiGuvacZ+IZol58UeqL3MkbwlfM7DMV1+VEXL3xJNVftPwJDhkS/gHG0IXj0Vao4SrH+KJnlfFeymyOfAHBRTBqq8kWyuZLL/S/8QAQRAAAQIFAgQDBgMGBQUBAQEBAQIDAAQRMZESIRMiMkEUUXEFICMwYYEQQqE0UqOxweEVJHKSkzNigtHw8UMlov/aAAgBAQAGPwL/AMlfz/B1SSpXCVpXpQSa+nvNcQKPFe4Yp5k/PPoPwKlbACphDjZqhY1JP090+g9xkLBPFc4aaef/AMPcPoPkH0HyD6D5B9B8g+g+QfQfgVK2AFTCHGzVCxqSfp7p9B8g+gj2c2pouteMq4KbaaLv9IQGJJLfBmGQ2pMopR4fLUhytEi40x7ZalpEofU7VOiXpqRy2NN++0e0BMSjr82ungnUtFWjl2ov8lFVPaE691U39yT4aFL0zqFGgsK3hpa5Th1edS9SVVXRpVTU6TRQO23baJtprUHvZzCpWXWTdZ7/AO3RkxO+HToWZJxBab9muMcQ02qSTqP/ALiV4MqFuJQTwFSSnkOKoOqllbdR+sJqnSaW8vlTaZM6ZgskNmvfeH3PZso5JtCRdD+pktalU5a16jfeB4aSW2gyikzPFaI4i9tO56zfff1iWSywZeiBrQWi3zU3292bTJmkwWTwz/3b0icW3RmkktK0J9nOS+va6lKNFEf1MFXsaXdlHvBLS6paCjW4aaeb8xvzb+sOH2DKOyavBrS5Vos6l7ab3VfmiVbkvZ7rLPHRxkllTYPKq4/me/1iYZLammETmplrwanmyNIugflqT94l9bCZY6B8JIoE/T8J1KAVKLCgAO+xhIVJgtqk/iVTUKc81eatzud4l0uSilTKZFBQtcqt1fEpvQ1+GR9b/aJkzO2vT4d3/D3H1Nin5VJPKa1gVNT7h9B8g+g+QfQfIPoPkTaZM6ZgskNmvfeH3PZso5JtCRdD+pktalU5a16jfeB4aSW2gyikzPFaI4i9tO56zfff1iWSywZeiBrQWi3zU3292dSgFSiwoADvsYSFSYLapP4lU1CnPNXmrc7neJdLkopUymRQULXKrdXxKb0NfhkfW/2iZMztr0+Hd/w9x9TYp+VSTymtYFTU+4fQQNxc9vrFxiLjEXGIuMRcYi4xFxiLi57RcYhfBonWsrVfcn7xcYi4xFxiLjEXGIuMRcYi4xFxiLjEXGIuMQdxYdoW25QoWNKhTtASkigFBtFxiLjEXGIuMRcYg7iw7QttyhQsaVCnaAlJFAKDaLjEXGIuMRcYi4xB3Fh2i4xFxiLjEXGIuMRcYi4xB3Fh2i4xFxiLjEXGIuMRcYi4xB3Fh2i4xFxiLjEXGIuMRcYi4xB3Fh2i4xFxiLjEXGIuMRcYi4xB3Fh2i4xFxiLjEXGIuMRcYi4xB3Fh2hbblChY0qFO0BKSKAUG0XGIuMRcYi4xFxiDuLDtFxiLjEXGIuMRcYi4xFxiDuLDtDHCWtsLf0rLYCnKb9IN/wBdqxKy6Zwtam3XFOpSgrICqJB2oDvvEsl+YYE64ivD1Cp+un7RNaZkzvDlS4sLQkBtdeW3Y77GtoXKTMyqaHAS6FKSkEGtDbt7kw5KuhlaErVq0arVhl9MxMNL4VfgMcQqVTvsQBj1iXadmZfxbrQVoQ6CTt2+kBDntJ1csw1xJgvBsJFdkioSPqftEq17LWt5LqFuFyVLajRNBtq5bmJdCZtK3nEakpcUkOH/AMYn2Zp4PcJSNNEaQKp+Ssq2ATvCvGLq3MN+Il+WmlFbY0n7x7Lc4PBlX1qUgperqToNNQp9+8TLZSwpTTC3gGpkOHl7K25TmOGmQRqUzxkVmfy/Xl2NvP1hmYbqEuoCxX6/ifQe8p0TqpJttJKilCST/uBh0qe8I7KyaHVoCEnU4QTQ17bdoQ5bW2lXuSjfGHh3Ur+GEeQHf/8AI5JkyoG6lpAJp99ok1vPvJSvinWw2kurAPIdJFiL0HcWhkyzzfFbQ2uZdbopO5HKPW//AOwfQfIPoPkH0HyD6D5EwZQAzHD+GFW1b0hdJh16bKmm+HNMhCmlKNKkACqf/V4m2v8AEJh6YRLLWEvSwSKj8ySEgH9Y9nLem1zTc2QhaXEJBSSkmo0geXun0H4qTIL0FkpU8ulbmgT/APf1gpZd4Kj+cJqRB0vvOy3iijxTbIW5oCfICnVtWn/uC94mZQttbqAWpWqnCDy6gU8v1t9oSAXg21Koffck+Gq9f3+23asaknUkoBB84ZVx1MOtOKUhxsiouO9R3hBZmnmn0lZL6VJ1K1dVainl2hDDKglCE6U7w6yuefmGHdXEQ5w+evckJr+sLcVMuTLqkhOt0pqEjtsBHUMx1DMdQzC2PErYC6hRb01I8twYbaT7TmU6ElOoFupH+2kNsMkJbbSEpFe0PrS5qW+5rWVK/T0htxMwuXebqEuNFNaG43BhthggNtig5odmPHvPKd60r4dD5WSI6hmOoZjqGY6hmOoZjqGY6hmOoZh5hbhQh1GklCqGGXpVlmVcaN2UpTqFKUPmIZ/zTzjbFeC2pY0oBBFLb37xpM084kS6pdAUpPIg0tt9IS5xDVLPBuLQzLtLqhpAQnUd6COoZjqGYPMLDvHUMx1DMdQzHUMx1DMMLM26xwTqSGyilfMhQMVXOvalt8N4goHGT5Hb6m1IoCkCgAjqGY6hmOoZhua8e+2W+hCeHpFb3TWFNLnZgJU9xTzpP/juDy/SEOf4jMB9AKeKOHXSabdNO3lAZVLs7ADi6Ule3/cY0t6EoCQABYR1DMdQzHUMx1DMdQzHUMx1DMHmFh3jqGY6hmOoZjqGY6hmOoZjqGYPMLDvHUMx1DMdQzHUMx1DMdQzHUMweYWHeOoZjqGY6hmOoZjqGY6hmOoZhxHEKNSaakqoRD3i33JtTqQkrcUAQBuKaaU3hapmdfmVKZUyCso5Um9kjy7wyt2bdmiwKNcUpojan5QP1jqGY6hmOoZjqGYPMLDvHUMx1DML8SwwXFUq7oTr2+sTDKZt5ht4JTpbWAEAdk+UcJHtN9IFNJCWdh5dFIbZlZx6VSgEHhqSdVbk6gd/rCUMvuS6AyGFJbWOdHkaj+XnGlJSEhIAhK3yd1lICUFRJqbAbw25xFEOVCUpaUpW1+UCu0JdaWFtqGpKhYiFhLpTpRxKrQpAKf3gSNx9RChLqVVIBKVtqQaGxoe3uF2acDaKn7/bvDbjil6Vp1J0NKXt50AgLQdSSKgjesNsDjoccroDks4itPqRCS8TzGiUpQVqPoBvCVpqAoV5klJwYcEq6HeGaKItnv8AJPoIeRLua1MK0uCljDDagavqKU09Cf6e8fQe82l7ianK6UttKcJp/pBhIfcUkqRr/wCmo6U+atuUesGnkPcEpxQZgjoG/wD+QXZpwNo/n9u8NuLUSHegJQVKV6JG8NPTKy0h0gJ1INan6Xg+g+QfQfIPoPkH0HyHHHVBCEpqpR7CHHQstobGpRdbU3QefMBtCzqcQEoLnxGFoqkXIqN/tAbaWsLUnUkONKb1D6agK+6fQfilc25wwtWlOxNTBccCyB+42VnA3hdVOpUgpSUql3AqpsAmlT9obeU+Ahw0Tsa1rS140zK1J2qSG1KCR5kgbfeD6CJSiXQkTBKnWUFS2urcAYsbxLzUxLvFkNvNgpZUVmqwQpSb1VSJVLq20NJb52uESuv+rV/SJxXAmG3zLral2XJdaNrmqiKVNBC5pDTrbIl0t/FbKCVVJsfcmRocWpxC0JDbalmpr5Qw1/8A6DFWtJ4UqqtQKaSNNR67esSnE4DDYZSFsBo1BpYK1f0ibmacEtDgS/FRUealU2uf5RJvT5eebS24hSpJDiSFGhGySVdolfFuo2bHEQpurlf9Wqn6R7QPCmEpdKCgrlloBonfcj5Mw602p1xLfKhIqSYlOKw3pW0WXVtOFyq+oKUNIpvq/wB0ezFIkHkTjWrxbhaKdS9Bur82/ff9YmFplODxZB0OJRKLb+JtQFRPxDfeEhUmC2qT+JVNQpzzV5q3O53iS8Tq43ARr13rTv8AifQe8jxDU6XEpPDXLBzFUf1iZ8cy69MTcihsFtsq+IAoEEjYXvaEIVuUtpB9yR+FMKDQWFqTLLUkVApuBSJ0cCZCudlI4KlFRpcU7fWPZr7rc9wG5dTSg026haV8vYc1Nj9IC5lhEw4G20oq6dadwTsEnfzNe0fEACtIqAa/IPoPkH0HyD6D5Ewl5pTzZbopCbqG8Osy/iZmVZUy434lvhrVpVUo3pXYXOYmxL+MXLLk3Ktuy2jSvagHKCe/nHspDLL6PCqC3VuMqbpyEU5qVv290+g/F9xthqYRRCWfiK1J5gTy6f62EP8AFYdSplIKqJqFbV5f3okJ6YaWpwzCnplKUlSkakEDYbmmwiYBYmNc1Ml1tCWFqITrB3oNtt94TKBmbTLvoq66JRw8v7tALn9IqmoGkUqKQNxc9vrFxiLjEXGIuMRcYi4xFxiLi57RcYi4xFxiLjEXGIuMRcYi4xFxiLjEXGIuMRcYi4xB3Fh2i4xFxiLjEXGIuMRcYi4xB3Fh2i4xFxiLjEXGIuMRcYi4xB3Fh2i4xFxiLjEXGIuMRcYi4xB3Fh2i4xFxiLjEXGIuMRcYi4xB3Fh2i4xFxiLjEXGIuMRcYi4xB3Fh2i4xFxiLjEXGIuMRcYi4xB3Fh2i4xFxiLjEXGIuMRcYi4xB3Fh2i4xFxiLjEXGIuMRcYi4xB3Fh2i4xFxiLjEXGIuMRcYi4xB3Fh2hjhLW2Fv6VlsBTlN+kG/wCu1YlZdM4WtTbrinUpQVkBVEg7UB33iWS/MMCdcRXh6hU/XT9omtMyZ3hypcWFoSA2uvLbsd9jW0LlJmZVNDgJdClJSCDWht29yYclXQytCVq1aNVqwy+mYmGl8KvwGOIVKp32IAx6xLtOzMv4t1oK0IdBJ27fSAhz2k6uWYa4kwXg2EiuyRUJH1P2iVa9lrW8l1C3C5KltRomg21ctzEuhM2lbziNSUuKSHD/AOMT7M08HuEpGmiNIFU/JWVbAJ3hXjF1bmG/ES/LTSitsaT949lucHgyr61KQUvV1J0GmoU+/eJlspYUpphbwDUyHDy9lbcpzHDTII1KZ4yKzP5fry7G3n6wzMN1CXUBYr9fxPoPdfclXQytCFK1aNVhElLNTCpfXKl5xxCUkk7Cm4p3h51Ex4cysoHDpQkhxfNevbl7ecIctrbSr8ZEtPBLK30tqRo3N+8J8OrQ666hoKpXTqNKxOSzk+tIl1g8fQjXpKa+Wn9IlC87MNsrS4eOxLcRa+bkqNJpVO9sRKzzqpluUMslbqpZLRAV+YkKqaekVG4KR8g+g+QfQfIPoPkTBlADMcP4YVbVvSF0mHXpsqab4c0yEKaUo0qQAKp/9Xiba/xCYemESy1hL0sEio/MkhIB/WPZy3ptc03NkIWlxCQUkpJqNIHl7p9B+MiWngllb6W1I0bm/eCqU1atSQooRrUlNdyB3NIm0mamwmXeA4olPjFJSDTRp8z+7bMSTHiSwtTK3HHEBBUaK0gdwPrErNiYWh0oHIlkcInVuVqI5R9xB9BDOuc8M8y4pSFpWnUL+dexhBZ9olp9JWS+l1GpWrqrUU8u0IYZmGkoQnSn4gh1lftRUww7q4iHFt89e5ITX9YW4r2h4l1SQnW64ioSO21I/aWf+QR+0s/8gj9pZ/5BC2PHhgLqFFtaKkeW9YbaT7ZdToSU6g41Uj/bSG2GX2UttpCUjiC0PrTNIUt9zWsqcGPSG3Ez4l3m6hLjTiK0NxvWG2GJhoNtig+IIdmP8VU8p3rStbVD5WSI/aWf+QR+0s/8gj9pZ/5BH7Sz/wAgj9pZ/wCQR+0s/wDII/aWf+QR+0s/8gh5hc2hCHUaSUOgGGXpXwsq40bs6U6hSlD5iGf/APQU42xXgtqeTpQCCKfW/eNJ9oqcSJdUugKdRyINLbfSEueKRVLPB/6gtDMu1NNlDSAhOpwVoI/aWf8AkEftLP8AyCD/AJhmw/8A6CP2ln/kEftLP/II/aWf+QR+0s/8ghTP+IBhK9lFtaKkeW9YYp7VWl1lJQl4Lb1aT+W1Ow7QEszvARwgytLbyfiIHY19TuN94oJhkCgA5xH7Sz/yCP2ln/kENK/xQscJQUlLa26avPcGHg9P6+JoI+MnkUmxT5b7wptftRepbgccc4jdXKWBFKU+lI4S/bTlN9RC2gVDy6f5RwR7RLcppCDLodRoKR2tUfYweE62oADpVHUMx1DMdQzHUMx1DMdQzHUMweYWHeOoZjqGY6hmOoZjqGY6hmOoZg8wsO8dQzHUMx1DMdQzHUMx1DMdQzB5hYd46hmOoZjqGY6hmOoZjqGY6hmHEcQo1JpqSqhEPeLfcm1OpCStxQBAG4pppTeFqmZ1+ZUplTIKyjlSb2SPLvDK3Zt2aLAo1xSmiNqflA/WOoZjqGY6hmOoZg8wsO8dQzHUMw0rxzzHCUFJS3opq890mHimeeSp3TvqSdNPIEU3jSzOPNOFziLeCk6ln61FP0hoMTTrLrer4yVJ1K1Gqq1FNz9ITLpmnmpXhhtTKViik/cVwY2IpQd4dK67qoKCpMJVqJ1VpRJJ2vtAUk1Sd6wqiqUTq5kkbee8Hhk1HYpI/n7mt1WkQCsmhFdkk7RUbiEo5wpVtTSk/wAxA113sAKnEAjv5ikK4StWm/ylhtVdBoqG0G67fLBXXe1EkmEL1EhdqJJOIFV3GqoFdvP3EtqVzqsIK3DRIguFdEg0NQQcQjVqOvcaUFX8o5yRtXpOw+vlEz/4/wBfkH0HyD6D5B9B8hxx1QQhKaqUewhx0LLaGxqUXW1N0HnzAbQs6nEBKC58RhaKpFyKjf7QG2lrC1J1JDjSm9Q+moCvun0H46Zlak7VJDalBI8yQNvvCnXVBDaRUqMcZfGQnVoAVLrClH6JpU/aG3A4pYcrRKGlKVtflAqKQ2kKcdLiAtPCZW5ynvyiD6CLLADtStAqpO0NuONL06FJ2QSb3I+sNBakhKUbp075rDyuG4lwoKW0KbI29bbwt0JUlGgJ5klO+/uOiilFSSAEpJ7QlP8AmEVTTlaOLQ1r0IToFUBNjTzrDzvQR8NvUnJ/+8oaXMcRYCFAlkKG+3lvDXGWnp5hp5q+tYmeVwBZBGptQ7fJWpCStQGwHnDepCaKRoUUq1b3qdvXMSxRLrS6kHiq00qqnn39YeKWtOuWVUJZKeby/wC4/WD8GqSzvtdX/uGeJXXoGqvnT5FUIUtRNBRJNPqaQ24EurRw1JJ4RrqrW0OtrbUpTrCUp0iu++30hIPYfjL8ritLmo6WydqGOVtfwnEKPLcfSJ1ehyj2yBwzU8vlDetEzrSjlKErSf8A71j4qV8XgpHIgkOHyVExXbo/r8g+g+QfQfIPoPkTCXmlPNluikJuobw6zL+JmZVlTLjfiW+GtWlVSjeldhc5ibEv4xcsuTcq27LaNK9qAcoJ7+ceykMsvo8KoLdW4ypunIRTmpW/b3T6D8fAFqYDLqfjPIl1uDT+6NIuYdaYYmAGVsrPIU601Cjp71oIbmgibckGZmqA6la3AC3Qmh56aoM2fHMTDjjxaDDGpRQTZVUkJsL0hllLc4ParUulDa2eJor2qRy0B/ejn6tIrCni/p1E7aP7x+0/w/7x+0/w/wC8ftP8P+8ftP8AD/vH7T/D/vH7T/D/ALx+0/w/7x+0/wAP+8ftP8P+8ftP8P8AvH7T/D/vH7T/AA/7x+0/w/7x+0/w/wC8ftP8P+8ftP8AD/vH7T/D/vH7T/D/ALx+0/w/7x+0/wAP+8ftP8P+8ftP8P8AvFPE/wAP+8ftP8P+8ftP8P8AvH7T/D/vH7T/AA/7x+0/w/7x+0/w/wC8ftP8P+8U8T/D/vH7T/D/ALx+0/w/7x+0/wAP+8ftP8P+8ftP8P8AvH7T/D/vH7T/AA/7xTxP8P8AvH7T/D/vH7T/AA/7x+0/w/7x+0/w/wC8ftP8P+8ftP8AD/vH7T/D/vDoDoXrp+T1i4xFxiLjEXGIuMRcYi4xB3Fh2i4xFxiLjEXGIuMRcYi4xB3Fh2i4xFxiLjEXGIuMRcYi4xB3Fh2i4xFxiLjEXGIuMRcYi4xB3Fh2i4xFxiLjEXGIuMRcYi4xB3Fh2i4xFxiLjEXGIuMRcYi4xB3Fh2hjhLW2Fv6VlsBTlN+kG/67ViVl0zha1NuuKdSlBWQFUSDtQHfeJZL8wwJ1xFeHqFT9dP2ia0zJneHKlxYWhIDa68tux32NbQuUmZlU0OAl0KUlIINaG3b3JhyVdDK0JWrVo1WrDL6ZiYaXwq/AY4hUqnfYgDHrEu07My/i3WgrQh0Enbt9ICHPaTq5ZhriTBeDYSK7JFQkfU/aJVr2WtbyXULcLkqW1GiaDbVy3MS6EzaVvOI1JS4pIcP/AIxPszTwe4SkaaI0gVT8lZVsAneFeMXVuYb8RL8tNKK2xpP3j2W5weDKvrUpBS9XUnQaahT794mWylhSmmFvANTIcPL2VtynMcNMgjUpnjIrM/l+vLsbefrDMw3UJdQFiv1/E+g92qXnmADuplniL+wof5RJMeJLC1MrcccQEFRorSB3A+sPOomPDmVlA4dKEkOL5r17cvbzhDltbaVfjIlp4JZW+ltSNG5v3hPh1aHXXUNBVK6dRpWJyWcn1pEusHj6Ea9JTXy0/pEpL+JUxqbcd4yUJ1LSFURsRQVBrDLkssIdbCFTKwkU3VTSPW//AOwfQfIPoPkH0HyD6D5EwZQAzHD+GFW1b0hdJh16bKmm+HNMhCmlKNKkACqf/V4m2v8AEJh6YRLLWEvSwSKj8ySEgH9Y9nLem1zTc2QhaXEJBSSkmo0geXun0H4yJaeCWVvpbUjRub94KWXeCo/nCakRMlc4+Wm5jS3MNMBbi0+gTTq707QzMKmXkO6Vfs7AcKldtWxCbb238obm251xt1baAltjhqQpw2oSk9zCUvL4rgQkKXSmo+cMq46mHWnFKQ42RUXHeo7wgszTzT6Ssl9Kk6lauqtRTy7QhhlQShCdKd4dZXPPzDDuriIc4fPXuSE1/WFuKmXJl1SQnW6U1CR22AjqGY6hmOoZhbHiVsBdQot6akeW4MNtJ9pzKdCSnUC3Uj/bSG2GSEttpCUivaH1pc1Lfc1rKlfp6Q24mYXLvN1CXGimtDcbgw2wwQG2xQc0OzHj3nlO9aV8Oh8rJEdQzHUMx1DMdQzHUMx1DMdQzHUMw8wtwoQ6jSShVDDL0qyzKuNG7KUp1ClKHzEM/wCaecbYrwW1LGlAIIpbe/eNJmnnEiXVLoClJ5EGltvpCXOIapZ4NxaGZdpdUNICE6jvQR1DMdQzB5hYd46hmOoZjqGY6hmEhE0uWUk11NlP9QRDQYmnWXW9XxkqTqVqNVVqKbn6QEsvuMI4QZWltY+IgdjX1O433igKQKACOoZjqGYaV455jhKCkpb0U1ee6TDwemXV8TQRzjkUmxT5b7wptc6/qW4HHHKoq5SwI00p9KQ2o+0H/EIqA8OHq0m6emnbygNKl2NgkcTSkr2/7jGlvQlASAALCOoZjqGY6hmOoZjqGY6hmOoZg8wsO8dQzHUMx1DMdQzHUMx1DMdQzB5hYd46hmOoZjqGY6hmOoZjqGY6hmDzCw7x1DMdQzHUMx1DMdQzHUMx1DMOI4hRqTTUlVCIe8W+5NqdSElbigCANxTTSm8LVMzr8ypTKmQVlHKk3skeXeGVuzbs0WBRrilNEbU/KB+sdQzHUMx1DMdQzB5hYd46hmOoZhpXjnmOEoKSlvRTV57pMTDap6YTxwkEpcHLTy22r3hLafaUwNJGgjhDSKWpppT7QhmXnphimrUpKkkrKjUk1BiSCVENyf8A0katrUqYPMLDvCVvk7rKQEoKiTU2A3htziKIcqEpS0pStr8oFdoS60sLbUNSVCxELCXSnSjiVWhSAU/vAkbj6iFCXUqqQCUrbUg0NjQ9vcLs04G0VP3+3eG3HFL0rTqToaUvbzoBAWg6kkVBG9YbYHHQ45XQHJZxFafUiEl4nmNEpSgrUfQDeErTUBQrzJKTgw4JV0O8M0URbPf5J9BDyJdzWphWlwUsYYbUDV9RSmnoT/T3j6D3UqfKqKVpTpbKyT6CGlul0cWuhPAXr2vy0rDZU/VK0cQFCCoBH7xpYfUwaeQ/Fph10B500Sm5/tCnphWhtNzC31PaEIOlQWgpUDemk72horWo8VOpAQ2paiPOgFaQlS3SUKSF60IUpISbEkCgHrB9B8g+g+QfQfIPoPkOOOqCEJTVSj2EOOhZbQ2NSi62pug8+YDaFnU4gJQXPiMLRVIuRUb/AGgNtLWFqTqSHGlN6h9NQFfdPoPxaYddAedNEpuf7QXHjRI8hU4jipWsjXw9PBXr1eWimr9IbdRxnUOVoW5dxdvOg2+8NOIU4sO10hDC1K2NDygVg+giUol0JEwSp1lBUtrq3AGLG8S81MS7xZDbzYKWVFZqsEKUm9VUiVS6ttDSW+drhErr/q1f0icVwJht8y62pdlyXWja5qoilTQQuaQ062yJdLfxWyglVSbH3JkaHFqcQtCQ22pZqa+UMNf/AOgxVrSeFKqrUCmkjTUeu3rEpxOAw2GUhbAaNQaWCtX9Im5mnBLQ4EvxUVHmpVNrn+USb0+Xnm0tuIUqSQ4khRoRsklXaJXxbqNmxxEKbq5X/Vqp+ke0DwphKXSgoK5ZaAaJ33I+TMOtNqdcS3yoSKkmJTisN6VtFl1bThcqvqClDSKb6v8AdHsxSJB5E41q8W4WinUvQbq/Nv33/WJhaZTg8WQdDiUSi2/ibUBUT8Q33hIVJgtqk/iVTUKc81eatzud4kvE6uNwEa9d607/AIn0HutCcbmVo11SpgLJSf8Aw3iVm51uYcb4TrafhlxxIKwUagN7D/3Ew2/LPLXNSSUNhCCqiublJFuoX2hCFblLaQfxkU8J9zRMJcVw5dawE79wIIal3z4Z5l01b601qdPnSPa8xwZjRNDQyngL1HkpXTSo+8Sb6P8AEGZpDPDHClTU25TqQQNxc0iU9kTDT+ksATDrbC3AB3QNIO8VTUDSKVFPkH0HyD6D5B9B8iYS80p5st0UhN1DeHWZfxMzKsqZcb8S3w1q0qqUb0rsLnMTYl/GLllyblW3ZbRpXtQDlBPfzj2Uhll9HhVBbq3GVN05CKc1K37e6fQfjIp4T7miYS4rhy61gJ37gRMLTKTTvBCaBLR+JXy/rDzzbEzMTkw7Vf8AlHQkKI/010gCOD7PD63nl6OIphSCFKPMuhsNyYcDKJyng0NShltey06tjp27jq2hPG/6mhOr1gbi57fWLjEXGIuMRcYi4xFxiLjEXFz2i4xFxiLjEXGIuMRcYi4xFxiLjEXGIuMRcYi4xFxiDuLDtFxiLjEXGIuMRcYi4xFxiDuLDtFxiLjEXGIuMRcYi4xFxiDuLDtFxiLjEXGIuMRcYi4xFxiDuLDtFxiLjEXGIuMRcYi4xFxiDuLDtFxiLjEXGIuMRcYi4xFxiDuLDtFxiLjEXGIuMRcYi4xFxiDuLDtFxiLjEXGIuMRcYi4xFxiDuLDtFxiLjEXGIuMRcYi4xFxiDuLDtFxiLjEXGIuMRcYi4xFxiDuLDtH/AJK/n8j7n+fzz6D5B9B8g+g+QfQfIPoPkH0HyD6D5B9B8g+g+QfQQOYXPf6x1DMdQzHUMx1DMdQzHUMx1DMdQue8dQzHUMx1DMdQzHUMx1DMdQzHUMx1DMdQzHUMx1DMdQzHUMweYWHeOoZjqGY6hmOoZjqGY6hmOoZg8wsO8dQzHUMx1DMdQzHUMx1DMdQzB5hYd46hmOoZjqGY6hmOoZjqGY6hmDzCw7x1DMdQzHUMx1DMdQzHUMx1DMHmFh3jqGY6hmOoZjqGY6hmOoZjqGYPMLDvHUMx1DMdQzHUMx1DMdQzHUMweYWHeOoZjqGY6hmOoZjqGY6hmOoZg8wsO8dQzHUMx1DMdQzHUMx1DMdQzB5hYd46hmOoZjqGY6hmOoZjqGY6hmDzCw7wlb5O6ykBKCok1NgN4bc4iiHKhKUtKUra/KBXaEutLC21DUlQsRCwl0p0o4lVoUgFP7wJG4+ohQl1KqkAlK21INDY0Pb3C7NOBtFT9/t3hpbi1fFFUBDalkjzoBWEOsqC21iqVDuIC3ydzpASgqJP0A3gOsK1IO1qfpBcfWG0C5MIfl1am1iqTSnyT6CHkS7mtTCtLgpYww2oGr6ilNPQn+nvH0HvDjle9TRDSlmnnRIhsreqFo4gKUFQCP3jSw+pg08h+LTDroDzpolNz/aC4+sNoFyYamda1NPGjelpRJP+mlYaW6XRxa6E8Beva/LSsNK1qd4qdSOE2pwkedEg7QfQfIPoPkH0HyD6D5DjjqghCU1Uo9hDjoWW0NjUoutqboPPmA2hZ1OICUFz4jC0VSLkVG/2gNtLWFqTqSHGlN6h9NQFfdPoPxaYddAedNEpuf7Qp58lLab0ST+ggOq4wSVaQky69ZP+mlYbfU+OG4aJ2NTvS17xw33CFU1KohStI81EdI9YPoIlKJdCRMEqdZQVLa6twBixvEvNTEu8WQ282CllRWarBClJvVVIlUurbQ0lvna4RK6/6tX9InFcCYbfMutqXZcl1o2uaqIpU0ELmkNOtsiXS38VsoJVUmx9yZGhxanELQkNtqWamvlEhNqYmS0mUUwqkuvUlXL+Wle14lULcabQG+ZstEqB/wBWr+kS3ilcSj9S9KMK1NDSbJqr08t7Q1pKGWw4qvFYVrcTq6urYn6w65OuJdb/AChiXVqH6qrDLam3W1tiig40pH8x8mYdabU64lvlQkVJMSnFYb0raLLq2nC5VfUFKGkU31f7o9mKRIPInGtXi3C0U6l6DdX5t++/6xMLTKcHiyDocSiUW38TagKifiG+8JCpMFtUn8SqahTnmrzVudzvEl4nVxuAjXrvWnf8T6D3kMsNPFb1RxUMKcDQ8zpGImkS0vMuMzEkhmX+CqtRqFFbctxekIQrcpbSD+MinhPuaJhLiuHLrWAnfuBD2pmYCWtPNwVHVXyA3MSjM/LTw4avyMPJUlW/7u8Ss3OtzDjfCdbT8MuOJBWCjUBvYf8AuPionA8uSSljwxXyuVVyq07fmHVtCeN/1NCdXr8g+g+QfQfIPoPkTCXmlPNluikJuobw6zL+JmZVlTLjfiW+GtWlVSjeldhc5ibEv4xcsuTcq27LaNK9qAcoJ7+ceykMsvo8KoLdW4ypunIRTmpW/b3T6D8ZFPCfc0TCXFcOXWsBO/cCHmpmWm1MjRUpbVvXeopzbQ+tDE2+2t/TKhxC1qSml1fmpWt944DCJt5xa6n/ACjgKlawpRpTaHjImeTMzbHD0JlyELvTUVJ5bnuDASTXSgCsDcXPb6xcYi4xFxiLjEXGIuMRcYi4ue0XGIuMRcYi4xFxiLjEXGIuMRcYi4xFxiLjEXGIuMQdxYdouMRcYi4xFxiLjEXGIuMQdxYdouMRcYi4xFxiLjEXGIuMQdxYdouMRcYi4xFxiLjEXGIuMQdxYdouMRcYi4xFxiLjEXGIuMQdxYdouMRcYi4xFxiLjEXGIuMQdxYdouMRcYi4xFxiLjEXGIuMQdxYdouMRcYi4xFxiLjEXGIuMQdxYdouMRcYi4xFxiLjEXGIuMQdxYdouMRcYi4xFxiLjEXGIuMQdxYdoY4S1thb+lZbAU5TfpBv+u1YlZdM4WtTbrinUpQVkBVEg7UB33iWS/MMCdcRXh6hU/XT9omtMyZ3hypcWFoSA2uvLbsd9jW0LlJmZVNDgJdClJSCDWht29yYclXQytCVq1aNVqxJSzUwqX1ypeccQlJJOwpuKd4lhMzLCZtaKlvWAT9afaGnPZ02Ftl4IcXLFLi7flG9TbbyrDHjZxnjOqUG9a0pWrm22/e86d4dR7Pm2FOo2VpIc0eorEs7ML4jik8yqUrv8lZVsAneFeMXVuYb8RL8tNKK2xpP3j2W5weDKvrUpBS9XUnQaahT794mWylhSmmFvANTIcPL2VtynMcNMgjUpnjIrM/l+vLsbefrDMw3UJdQFiv1/E+g95gyfieENXF8PwtX06/vEw5ITikMy0ol5J0J+KTU81R9O1IQ5bW2lX4yJaeCWVvpbUjRub94T4dWh111DQVSunUaVhcilxyZdMwlCHAlHE0lGr6JrtC5kz86x4fXxaoa11HY8tMR7KMzNVU66lLyeGKmtTSuLAQfQfIPoPkH0HyD6D5EwZQAzHD+GFW1b0hdJh16bKmm+HNMhCmlKNKkACqf/V4m2v8AEJh6YRLLWEvSwSKj8ySEgH9Y9nLem1zTc2QhaXEJBSSkmo0geXun0H4rflptTSgAGmUoSeIvyNfP6UjVKhXE1JCihGspTXcgdzExKtOOPTHF4bC3mtCqaQSpSaC3oO3nDU7Mz77JQ0pThbS3z5SYaSH/APMtBC5pwoTtqVsi1K7/AKfWD6CGVcdTDrTilIcbIqLjvUd4QWZp5p9JWS+lSdStXVWop5doQwyoJQhOlO8Osrnn5hh3VxEOcPnr3JCa/rC3FTLky6pITrdKahI7bAR1DMdQzHUMwtjxK2AuoUW9NSPLcGGKTz6XWUlCXgUatJ/L007DtDbLJAbbTpHNDSuOph1pWpDjZFRtTvURw0OFdVFalrVupRuYKUPlkn86NNRmogMJmlvIHTxNO2AI6hmOoZjqGY6hmOoZjqGY6hmOoZh5hbhQh1GklCqGGXpVlmVcaN2UpTqFKUPmIZ/zTzjbFeC2pY0oBBFLb37xpM084kS6pdAUpPIg0tt9IS5xDVLPBuLQzLtLqhpAQnUd6COoZjqGYPMLDvHUMx1DMdQzHUMx1DMVRPPS3LpIaUnfIP6QEsvLlm+EGVpbUOdAsDX1Nt94oCkCgAjqGY6hmGleOeY4SgpKW9FNXnukw8Hpl1fE0Ec45FJsU+W+8bzTpmOLxfEVTr1Up5UttaEMF5akh7jLJUKuKrXm+8NK8c8xwlBSUt6KavPdJjddeUbnvHUMx1DMdQzHUMx1DMdQzHUMweYWHeOoZjqGY6hmOoZjqGY6hmOoZg8wsO8dQzHUMx1DMdQzHUMx1DMdQzB5hYd46hmOoZjqGY6hmOoZjqGY6hmHEcQo1JpqSqhEPeLfcm1OpCStxQBAG4pppTeFqmZ1+ZUplTIKyjlSb2SPLvDK3Zt2aLAo1xSmiNqflA/WOoZjqGY6hmOoZg8wsO8dQzHUMwiaE88yttOlIRoIH15kneHtM8+lTmnm1JOmnkCKbxpmW2pxRUVqXMJSslR7/oMQzKNHQy24HCBQayDXm/TEL8SwwXFUq7oTr2+saW9CUBIAAsISt8ndZSAlBUSamwG8NucRRDlQlKWlKVtflArtCXWlhbahqSoWIhYS6U6UcSq0KQCn94EjcfUQoS6lVSASlbakGhsaHt7hdmnA2ip+/wBu8NLcWr4oqgIbUskedAKwh1lQW2sVSodxAW+TudICUFRJ+gG8B1hWpB2tT9ILj6w2gXJhD8urU2sVSaU+SfQQ8iXc1qYVpcFLGGG1A1fUUpp6E/094+g90uzTgbR/P7d4aW4tXxRVAQ2pZI86AVhsqfqlaOIChBUAj940sPqYNPIfi0w66A86aJTc/wBoU9MK0NpuY4gWs0Xo0cFevV5aKav0hp3iKUl2ugIaUpRpflArtCCXtQUgL1IQVAJPckdI9YPoPkH0HyD6D5B9B8hxx1QQhKaqUewhx0LLaGxqUXW1N0HnzAbQs6nEBKC58RhaKpFyKjf7QG2lrC1J1JDjSm9Q+moCvun0H4tMOugPOmiU3P8AaN48Q04pxor0DQ0pRJ+gpWGn1vgNu9GxqfteErm3OGFq0p2JqYPoIlKJdCRMEqdZQVLa6twBixvEvNTEu8WQ282CllRWarBClJvVVIlUurbQ0lvna4RK6/6tX9InFcCYbfMutqXZcl1o2uaqIpU0ELmkNOtsiXS38VsoJVUmx9yZGhxanELQkNtqWamvlEhNqYmS0mUUwqkuvUlXL+Wle14lULcabQG+ZstEqB/1av6RLeKVxKP1L0owrU0NJsmqvTy3tDWkoZbDiq8VhWtxOrq6tifrDrk64l1v8oYl1ah+qqwy2pt1tbYooONKR/MfJmHWm1OuJb5UJFSTEpxWG9K2iy6tpwuVX1BShpFN9X+6PZikSDyJxrV4twtFOpeg3V+bfvv+sTC0ynB4sg6HEolFt/E2oCon4hvvCQqTBbVJ/EqmoU55q81bnc7xJeJ1cbgI1671p3/E+g92ZGhxanG1ISG21LNSPpEhNqYmS0mUUwqkuvUlXL+Wle14mG35Z5a5qSShsIQVUVzcpIt1C+0IQrcpbSD+MinhPuaJhLiuHLrWAnfuBBDUu+fDPMumrfWmtTp86ROzjMrML8Q6lLKeAvsnqUmlQPtErMpbmnmeE6hxXhV6uIpQVXRStDvAZb8Yieflg2pttqrar0ClFJApXzEBJNdKAK/IPoPkH0HyD6D5Ewl5pTzZbopCbqG8Osy/iZmVZUy434lvhrVpVUo3pXYXOYmxL+MXLLk3Ktuy2jSvagHKCe/nHspDLL6PCqC3VuMqbpyEU5qVv290+g/GRTwn3NEwlxXDl1rATv3AhyXk2iKFPE41Ww4gjcA0PodomxNNPSYXNq0qlUF0j7aLfWmIQwqWf4il8iUsLUopDlaqvQkb7w7MMS6H2iEBkKUtC0jUK8mj/wCAj4gAVpFQDWBuLnt9YuMRcYi4xFxiLjEXGIuMRcXPaLjEXGIuMRcYi4xFxiLjEXGIuMRcYi4xFxiLjEXGIO4sO0XGIuMRcYi4xFxiLjEXGIO4sO0XGIuMRcYi4xFxiLjEXGIO4sO0XGIuMRcYi4xFxiLjEXGIO4sO0XGIuMRcYi4xFxiLjEXGIO4sO0XGIuMRcYi4xFxiLjEXGIO4sO0XGIuMRcYi4xFxiLjEXGIO4sO0XGIuMRcYi4xFxiLjEXGIO4sO0XGIuMRcYi4xFxiLjEXGIO4sO0XGIuMRcYi4xFxiLjEXGIO4sO0McJa2wt/SstgKcpv0g3/XasSsumcLWpt1xTqUoKyAqiQdqA77xLJfmGBOuIrw9Qqfrp+0TWmZM7w5UuLC0JAbXXlt2O+xraFykzMqmhwEuhSkpBBrQ27e5MOSroZWhK1atGq1YkpZqYVL65UvOOISkknYU3FO8SwmZlhM2tFS3rAJ+tPtDTns6bC2y8EOLlilxdvyjeptt5Vhjxs4zxnVKDetaUrVzbbfvedO8Oo9nzbCnUbK0kOaPUViWdmF8RxSeZVKV3+Ssq2ATvCvGLq3MN+Il+WmlFbY0n7x7Lc4PBlX1qUgperqToNNQp9+8TLZSwpTTC3gGpkOHl7K25TmOGmQRqUzxkVmfy/Xl2NvP1hmYbqEuoCxX6/ifQe7yTJlQN1LSATT77RKS/iVMam3HeMlCdS0hVEbEUFQaw86iY8OZWUDh0oSQ4vmvXty9vOEOW1tpV+MiWngllb6W1I0bm/eE+HVodddQ0FUrp1GlYnJZyfWkS6wePoRr0lNfLT+kSTKeOtx1LjnEZS3rU2lVEnm5d6iGl+y31UQELedWgV3IGm1K/8A3eD6D5B9B8g+g+QfQfImDKAGY4fwwq2rekLpMOvTZU03w5pkIU0pRpUgAVT/AOrxNtf4hMPTCJZawl6WCRUfmSQkA/rHs5b02uabmyELS4hIKSUk1GkDy90+g/Fb8tNqaUAA0ylCTxF+Rr5/SkaW3OAs/mArT0rCv8y44z4zhJfQhBdWin5U0ormrYWBiWK5h9LCg5V6Xlw6uoVypUAkgbX2uIlZ51Uy3KGWSt1UslogK/MSFVNPSKjcFIhlXHUw604pSHGyKi471HeEFmaeafSVkvpUnUrV1VqKeXaEMMqCUITpTvDrK55+YYd1cRDnD569yQmv6wtxUy5MuqSE63SmoSO2wEdQzHUMx1DMLY8StgLqFFvTUjy3Bhik8+l1lJQl4FGrSfy9NOw7Q2yyQG206RzQ0rjqYdaVqQ42RUbU71EcNDhXVRWpa1bqUbmClD5ZJ/OjTUZqIDCZpbyB08TTtgCOoZjqGY6hmOoZjqGY6hmOoZjqGYeYW4UIdRpJQqhhl6VZZlXGjdlKU6hSlD5iGf8ANPONsV4LaljSgEEUtvfvGkzTziRLql0BSk8iDS230hLnENUs8G4tDMu0uqGkBCdR3oI6hmOoZg8wsO8dQzHUMx1DMdQzCWlzK2UhWo8Mp5voag1ENqPtB/xCKgPDh6tJunpp28oCWX3GEcIMrS2sfEQOxr6ncb7xQFIFABHUMx1DMNK8c8xwlBSUt6KavPdJh4PTLq+JoI5xyKTYp8t94U2udf1LcDjjlUVcpYEaaU+lIbKvaD/HbrpeHD1UNx00/SAyqXZ2AHE0pK9v+4xpb0JQEgACwjqGY6hmOoZjqGY6hmOoZjqGYPMLDvHUMx1DMdQzHUMx1DMdQzHUMweYWHeOoZjqGY6hmOoZjqGY6hmOoZg8wsO8dQzHUMx1DMdQzHUMx1DMdQzDiOIUak01JVQiHvFvuTanUhJW4oAgDcU00pvC1TM6/MqUypkFZRypN7JHl3hlbs27NFgUa4pTRG1PygfrHUMx1DMdQzHUMweYWHeOoZjqGYRNCeeZW2nSkI0ED68yTvEw2uemRxwkEpcG1PLbaveGh49/UyasrAaHD2pQAJpb6RwWp59tKioulKkVcKr1NNvtSOCJp1uU0hBl0KToKR2tUfYwaEUoISt8ndZSAlBUSamwG8NucRRDlQlKWlKVtflArtCXWlhbahqSoWIhYS6U6UcSq0KQCn94EjcfUQoS6lVSASlbakGhsaHt7hdmnA2ip+/27w0txaviiqAhtSyR50ArCHWVBbaxVKh3EBb5O50gJQVEn6AbwHWFakHa1P0guPrDaBcmEPy6tTaxVJpT5J9BDyJdzWphWlwUsYYbUDV9RSmnoT/T3j6D3Qp7VuaAIQVkn0G8Mu8RSkvboCG1KUfPlArDZU/VK0cQFCCoBH7xpYfUwaeQ/Fph10B500Sm5/tCnphWhtNzHEC1mi9Gjgr16vLRTV+kMuJW44Hq6A2ytZ2vsBUQEvLUklOo/DUdA81bcv3pB9B8g+g+QfQfIPoPkOOOqCEJTVSj2EOOhZbQ2NSi62pug8+YDaFnU4gJQXPiMLRVIuRUb/aA20tYWpOpIcaU3qH01AV90+g/Fph10B500Sm5/tBcfWG0C5MNzKOK4y50lthajgCsFep6iVFJHhnKil9qV7whurjiloCxwmVucp78og+giUol0JEwSp1lBUtrq3AGLG8S81MS7xZDbzYKWVFZqsEKUm9VUiVS6ttDSW+drhErr/q1f0icVwJht8y62pdlyXWja5qoilTQQuaQ062yJdLfxWyglVSbH3JkaHFqcQtCQ22pZqa+USE2piZLSZRTCqS69SVcv5aV7XiVQtxptAb5my0SoH/Vq/pEt4pXEo/UvSjCtTQ0myaq9PLe0NaShlsOKrxWFa3E6urq2J+sOuTriXW/yhiXVqH6qrDLam3W1tiig40pH8x8mYdabU64lvlQkVJMSnFYb0raLLq2nC5VfUFKGkU31f7o9mKRIPInGtXi3C0U6l6DdX5t++/6xMLTKcHiyDocSiUW38TagKifiG+8JCpMFtUn8SqahTnmrzVudzvEl4nVxuAjXrvWnf8AE+g93qmW9Rprl2uIpP2of5RJTD8s9wQy63yNKUvdYKSU7mpAiYbflnlrmpJKGwhBVRXNyki3UL7QhCtyltIP4yKeE+5omEuK4cutYCd+4EENS758M8y6at9aa1OnzpE7OMyswvxDqUsp4C+yepSaVA+0MpW37RW4nWoOtMvNqK1bqtbfz2jQpU3/AInMSqW3UtNVbWd+pWkgXNiP5QEk10oAr8g+g+QfQfIPoPkTCXmlPNluikJuobw6zL+JmZVlTLjfiW+GtWlVSjeldhc5ibEv4xcsuTcq27LaNK9qAcoJ7+ceykMsvo8KoLdW4ypunIRTmpW/b3T6D8ZFPCfc0TCXFcOXWsBO/cCHtTMwEtaebgqOqvkBuY5JaYVMMppwlMqSSqu1xDcopycClJUVuSzPE1qN67GlSfp6w0BLTcv7VTLIQ34ficMHsKjloD+9HP1aRWBuLnt9YuMRcYi4xFxiLjEXGIuMRcXPaLjEXGIuMRcYi4xFxiLjEXGIuMRcYi4xFxiLjEXGIO4sO0XGIuMRcYi4xFxiLjEXGIO4sO0XGIuMRcYi4xFxiLjEXGIO4sO0XGIuMRcYi4xFxiLjEXGIO4sO0XGIuMRcYi4xFxiLjEXGIO4sO0XGIuMRcYi4xFxiLjEXGIO4sO0XGIuMRcYi4xFxiLjEXGIO4sO0XGIuMRcYi4xFxiLjEXGIO4sO0XGIuMRcYi4xFxiLjEXGIO4sO0XGIuMRcYi4xFxiLjEXGIO4sO0McJa2wt/SstgKcpv0g3/XasSsumcLWpt1xTqUoKyAqiQdqA77xLJfmGBOuIrw9Qqfrp+0TWmZM7w5UuLC0JAbXXlt2O+xraFykzMqmhwEuhSkpBBrQ27e5MOSroZWhK1atGq1YkpZqYVL65UvOOISkknYU3FO8SwmZlhM2tFS3rAJ+tPtDTns6bC2y8EOLlilxdvyjeptt5Vhjxs4zxnVKDetaUrVzbbfvedO8Oo9nzbCnUbK0kOaPUViWdmF8RxSeZVKV3+Ssq2ATvCvGLq3MN+Il+WmlFbY0n7x7Lc4PBlX1qUgperqToNNQp9+8TLZSwpTTC3gGpkOHl7K25TmOGmQRqUzxkVmfy/Xl2NvP1hmYbqEuoCxX6/ifQe634Di6uIOJwtGrT9Ne3lEtLSs2+z8NxbrikI4mpKtOk7ab/TtDzqJjw5lZQOHShJDi+a9e3L284Q5bW2lX4yJaeCWVvpbUjRub94T4dWh111DQVSunUaVj2o0mbq5KcyXVNpKiNFabbVr9IkGJfjFx5guuKYCNe1La+XvBmGX5oMJlQ4yrw2riq3qHCE8th+7eAv95APyD6D5B9B8g+g+RMGUAMxw/hhVtW9IXSYdemyppvhzTIQppSjSpAAqn/1eJtr/ABCYemESy1hL0sEio/MkhIB/WPZy3ptc03NkIWlxCQUkpJqNIHl7p9B+K35abU0oABplKEniL8jXz+lIRwCG3nXUNBVK6dRpWJxh2cf/AMu4n4rbAW4UlNqBNL/9sSSnHnmm1Nr1uyzAdVrBoAQAqn12vDD3HUwVSiXBwkpKddf/AOla6U/XbvvG9OkWhlXHUw604pSHGyKi471HeEFmaeafSVkvpUnUrV1VqKeXaEMMqCUITpTvDrK55+YYd1cRDnD569yQmv6wtxUy5MuqSE63SmoSO2wEdQzHUMx1DMLY8StgLqFFvTUjy3Bhik8+l1lJQl4FGrSfy9NOw7Q2yyQG206RzQ0rjqYdaVqQ42RUbU71EcNDhXVRWpa1bqUbmClD5ZJ/OjTUZqIDCZpbyB08TTtgCOoZjqGY6hmOoZjqGY6hmOoZjqGYeYW4UIdRpJQqhhl6VZZlXGjdlKU6hSlD5iGf80842xXgtqWNKAQRS29+8aTNPOJEuqXQFKTyINLbfSEucQ1Szwbi0My7S6oaQEJ1HegjqGY6hmDzCw7x1DMdQzHUMx1DMJ4c45LKT3aKd/8AcCIZ8PMuy7rer4qFJ1K1bqrUEbneAll9xhHCDK0trHxEDsa+p3G+8UBSBQAR1DMdQzDSvHPMcJQUlLeimrz3SYeD0y6viaCOccik2KfLfeHmfGvanzV52qNS9qU6aW8hDAE++HWAUoeGjVpP5emnYdoblvEuJk0JCSwFJ0r9TTV+sHmFh3jqGY6hmOoZjqGY6hmOoZjqGYPMLDvHUMx1DMdQzHUMx1DMdQzHUMweYWHeOoZjqGY6hmOoZjqGY6hmOoZg8wsO8dQzHUMx1DMdQzHUMx1DMdQzDiOIUak01JVQiHvFvuTanUhJW4oAgDcU00pvC1TM6/MqUypkFZRypN7JHl3hlbs27NFgUa4pTRG1PygfrHUMx1DMdQzHUMweYWHeOoZjqGYRNCeeZW2nSkI0ED68yTvDqXpl1fE0EVWORSbKT5b7wrRPPpeUvWt7UjUralqaafaEy7M6+0jm16VJq5W9TT+VIIZmHJVtbQZWhopopAsNwfPtGlBASEgDeP8AyV/P5H3P8/nn0HyD6D5B9B8g+g+QfQfIPoPkH0HyD6D5B9B8g+gj/wAlfz+R9z/P559B8g+g+QfQfIPoPkH0HyD6D5B9B8g+g+QfQfIPoIG4ue31i4xFxiLjEXGIuMRcYi4xFxc9ouMRcYi4xFxiLjEXGIuMRcYi4xFxiLjEXGIuMRcYg7iw7RcYi4xFxiLjEXGIuMRcYg7iw7RcYi4xFxiLjEXGIuMRcYg7iw7RcYi4xFxiLjEXGIuMRcYg7iw7RcYi4xFxiLjEXGIuMRcYg7iw7RcYi4xFxiLjEXGIuMRcYg7iw7RcYi4xFxiLjEXGIuMRcYg7iw7RcYi4xFxiLjEXGIuMRcYg7iw7RcYi4xFxiLjEXGIuMRcYg7iw7RcYi4xFxiLjEXGIuMRcYg7iw7QxwlrbC39Ky2Apym/SDf8AXasSsumcLWpt1xTqUoKyAqiQdqA77xLJfmGBOuIrw9Qqfrp+0TWmZM7w5UuLC0JAbXXlt2O+xraFykzMqmhwEuhSkpBBrQ27e5MOSroZWhK1atGq1YkpZqYVL65UvOOISkknYU3FO8SyH5hlM64j/phY1H6gfaAhz2k6uWYa4kwXg2EiuyRUJH1P2iVa9lrW8l1C3C5KltRomg21ctzEuhM2lbziNSUOKSHD/wCMafbb0w07wyv4/CDdAdyCn7XgTEjOOaKK0mVaD2s+tCAP/qxLtuzMv4t1sK4aXQa7dvpE+zNPB7hKRpojSBVPvLKtgE7wrxi6tzDfiJflppRW2NJ+8ey3ODwZV9alIKXq6k6DTUKffvEy2UsKU0wt4BqZDh5eytuU5jhpkEalM8ZFZn8v15djbz9YZmG6hLqAsV+v4n0HvKdE6qSbbSSopQkk/wC4GHSp7wjsrJodWgISdThBNDXtt2hDltbaVe5KN8YeHdSv4YR5Ad//AMiqXnmADuplniL+wof5RIvNqfUKL45luDr2tXVtXzA7wPCOTRlWpZL63WEN6zWt9fp2EaknUkoBB8/kH0HyD6D5B9B8iYMoAZjh/DCrat6Qukw69NlTTfDmmQhTSlGlSABVP/q8TbX+ITD0wiWWsJelgkVH5kkJAP6x7OW9Nrmm5shC0uISCklJNRpA8vdPoPxW/LTamlAANMpQk8Rfka+f0pFGlJbc8ynVSJZ1ycUyulXHQlNab+YoMRKF52YbZWlw8diW4i183JUaTSqd7YhmfTOPMvONJCWmkt6VOHbukm8JS8viuBCQpdKaj5wyrjqYdacUpDjZFRcd6jvCCzNPNPpKyX0qTqVq6q1FPLtCGGVBKEJ0p3h1lc8/MMO6uIhzh89e5ITX9YW4qZcmXVJCdbpTUJHbYCOoZjqGY6hmFseJWwF1Ci3pqR5bgwxSefS6ykoS8CjVpP5emnYdobZZIDbadI5ofWlzUt9zWsqV+npDbiZhcu83UJcaKa0NxuDCZZlWltKdI5t8xx3pt2adCNCVOlPKO/SBA0TrstsQeEU75BhthghLbaQlIr2h2Y8e88p3rSvh0PlZIjqGY6hmOoZjqGY6hmHmFuFCHUaSUKoYZelWWZVxo3ZSlOoUpQ+Yhn/NPONsV4LaljSgEEUtvfvGkzTziRLql0BSk8iDS230hLnENUs8G4tDMu0uqGkBCdR3oI6hmOoZg8wsO8dQzHUMx1DMdQzHUMwwszbrHBOpIbKKV8yFAxVc69qW3w3iCgcZPkdvqbUigKQKACOoZjqGY6hmG5rx77Zb6EJ4ekVvdNYUET8w2oulzUFpNP8At3BFIS1Lz8wwN9elSeck1JNRf0pCUsvOSyODwVJaUOdHka/0840pKQkJAEdQzHUMx1DMdQzHUMx1DMdQzB5hYd46hmOoZjqGY6hmOoZjqGY6hmDzCw7x1DMdQzHUMx1DMdQzHUMx1DMHmFh3jqGY6hmOoZjqGY6hmOoZjqGYcRxCjUmmpKqEQ94t9ybU6kJK3FAEAbimmlN4WqZnX5lSmVMgrKOVJvZI8u8Mrdm3ZosCjXFKaI2p+UD9Y6hmOoZjqGY6hmDzCw7x1DMdQzCJoTzzK206UhGggfXmSd4e0zzwU6E82pJ008gRTeESf+ITPBQrUN28Hl3HrHCX7Tmab6iOGCoeXT/KJOitKJT/AKbYPLan6QeYWHeErfJ3WUgJQVEmpsBvDbnEUQ5UJSlpSlbX5QK7Ql1pYW2oakqFiIWEulOlHEqtCkAp/eBI3H1EKEupVUgEpW2pBobGh7e4XZpwNoqfv9u8NLcWr4oqgIbUskedAKwl1pQW2oakqTvUQ2wOOhxyugOSziK0+pEJLxPMaJSlBWo+gG8JWnUAoV5klJwY/wAtxSKV1KYWlJ9CRQwDMFe9TyNqXsO+wgKQQpKhUEQ4JV0O8M0URbPf3j6CHkS7mtTCtLgpYww2oGr6ilNPQn+nvH0HvNpe4mpyulLbSnCaf6QYSH3FJKka/wDpqOlPmrblHrBp5D8WmHXQHnTRKbn+0Fx9YbQLkwmbDnwF9J0mp+lL1htbhdTxK6U+HXrNL8tKw2S6SlxIUFpQpSaGxJAoPvB9B8g+g+QfQfIPoPkOOOqCEJTVSj2EOOhZbQ2NSi62pug8+YDaFnU4gJQXPiMLRVIuRUb/AGgNtLWFqTqSHGlN6h9NQFfdPoPx0zK1J2qSG1KCR5kgbfeC48sIQO5MNzKOK4y50lthajgCsFQU8aKKSPDOahS/LSveErPGW2pGsLbl3Fp0+oFIS60aoWhKkmlNolKJdCRMEqdZQVLa6twBixvEvNTEu8WQ282CllRWarBClJvVVIlUurbQ0lvna4RK6/6tX9InFcCYbfMutqXZcl1o2uaqIpU0ELmkNOtsiXS38VsoJVUmx9yZGhxanELQkNtqWamvlEhNqYmS0mUUwqkuvUlXL+Wle14lEOraQ2lHO0WiVg/6tVP0ibmacEtDgS/FRUealU2uf5RJvT5eebS24hSpJDiSFGhGySVdollTbiVaWviNlqrhP+rVSv2insfxLEtwTrE0hzSF15aJXQ+dtoDM09M61pVVclLEhX0pzEf/AG8SnF4DDYZSFsBo1BpYK1f0j2geFMJS6UFBXLLQDRO+5HvTDrTanXEt8qEipJiU4rDelbRZdW04XKr6gpQ0im+r/dHsxSJB5E41q8W4WinUvQbq/Nv33/WJhaZTg8WQdDiUSi2/ibUBUT8Q33hIVJgtqk/iVTUKc81eatzud4kvE6uNwEa9d607/ifQe8jxDU6XEpPDXLBzFUf1iZ8cy69MTcihsFtsq+IAoEEjYXvaEIVuUtpB/GRTwn3NEwlxXDl1rATv3Ah7UzMBLWnm4Kjqr5AbmPZgcam0plXvjpS04hdCFCo7m4tDM3NNzTkvoebbqhTjiUlQKajqsO/3hiTUib44aBDKGdTbhr0qUBt/uEb30j5B9B8g+g+QfQfImEvNKebLdFITdQ3h1mX8TMyrKmXG/Et8NatKqlG9K7C5zE2Jfxi5Zcm5Vt2W0aV7UA5QT3849lIZZfR4VQW6txlTdOQinNSt+3un0H4+ALUwGXU/GeRLrcGn90aRcw78GYShoJ34Cjqr5AbxyS0wqYZTThKZUklVdriJeTZQ8486DxH0sKcCT+ZR0i++0SPs+SbeEs7RC1KbKdLSb1r52+8GnkIG4ue31i4xFxiLjEXGIuMRcYi4xFxc9ouMRcYi4xFxiLjEXGIuMRcYi4xFxiLjEXGIuMRcYg7iw7RcYi4xFxiLjEXGIuMRcYg7iw7RcYi4xFxiLjEXGIuMRcYg7iw7RcYi4xFxiLjEXGIuMRcYg7iw7RcYi4xFxiLjEXGIuMRcYg7iw7RcYi4xFxiLjEXGIuMRcYg7iw7RcYi4xFxiLjEXGIuMRcYg7iw7RcYi4xFxiLjEXGIuMRcYg7iw7RcYi4xFxiLjEXGIuMRcYg7iw7RcYi4xFxiLjEXGIuMRcYg7iw7QxwlrbC39Ky2Apym/SDf9dqxKy6Zwtam3XFOpSgrICqJB2oDvvEsl+YYE64ivD1Cp+un7RNaZkzvDlS4sLQkBtdeW3Y77GtoXKTMyqaHAS6FKSkEGtDbt7kw5KuhlaErVq0arViSlmphUvrlS844hKSSdhTcU7xLIfmGUzriP+mFjUfqB9oCHPaTq5ZhriTBeDYSK7JFQkfU/aJVr2WtbyXULcLkqW1GiaDbVy3MS6EzaVvOI1JQ4pIcP/jGn229MNO8Mr+Pwg3QHcgp+14ExIzjmiitJlWg9rPrQgD/6sS7bszL+LdbCuGl0Gu3b6RPszTwe4SkaaI0gVT7yyrYBO8K8Yurcw34iX5aaUVtjSfvHstzg8GVfWpSCl6upOg01Cn37xMtlLClNMLeAamQ4eXsrblOY4aZBGpTPGRWZ/L9eXY28/WGZhuoS6gLFfr+J9B7r7kq6GVoQpWrRqsIkpZqYVL65UvOOISkknYU3FO8POomPDmVlA4dKEkOL5r17cvbzhDltbaVfjIlp4JZW+ltSNG5v3ghhYbX2UU6o9nu8R74iv8w80zrWBvZIB707QZhqY0qZfLalKZopY4lBe219sRxdU0iQQ1VapcNGhruTq3pTyio3BSPkH0HyD6D5B9B8iYMoAZjh/DCrat6Qukw69NlTTfDmmQhTSlGlSABVP/q8TbX+ITD0wiWWsJelgkVH5kkJAP6x7OW9Nrmm5shC0uISCklJNRpA8vdPoPxkS08EsrfS2pGjc37w5ocW0adSG9ah6Dzh3VOrZDT6hxShIc0D94EUSftaJNbz7yUr4p1sNpLqwDyHSRYi9B3Fo4zjy06JRLqFS7HFbdXvXUqhoLeV7wF/vIBhlXHUw604pSHGyKi471HeEFmaeafSVkvpUnUrV1VqKeXaEMMqCUITpTvDrK55+YYd1cRDnD569yQmv6wtxUy5MuqSE63SmoSO2wEdQzHUMx1DMLY8StgLqFFvTUjy3Bhik8+l1lJQl4FGrSfy9NOw7Q2yyQG206RzQ+tLmpb7mtZUr9PSG3EzC5d5uoS40U1objcGEyzKtLaU6Rzb5jjvTbs06EaEqdKeUd+kCBonXZbYg8Ip3yDDbDBCW20hKRXtDsx4955TvWlfDofKyRHUMx1DMdQzHUMx1DMPMLcKEOo0koVQwy9KssyrjRuylKdQpSh8xDP+aecbYrwW1LGlAIIpbe/eNJmnnEiXVLoClJ5EGltvpCXOIapZ4NxaGZdpdUNICE6jvQR1DMdQzB5hYd46hmOoZjqGY6hmFM+JWwleyi3pqR5bgwxSefS6ykoS8CjVpP5emnYdoCWX3GEcIMrS2sfEQOxr6ncb7xQFIFABHUMx1DMNK8c8xwlBSUt6KavPdJh4pnXkqd076knRTyBFN4TLMe0phKUnlV8Ko+nTCJNuadYZTudBSSs1rUlQPeCh/wBoTC2lCjjepFF//wDO32pBoRSgjqGY6hmOoZjqGY6hmOoZjqGYPMLDvHUMx1DMdQzHUMx1DMdQzHUMweYWHeOoZjqGY6hmOoZjqGY6hmOoZg8wsO8dQzHUMx1DMdQzHUMx1DMdQzDiOIUak01JVQiHvFvuTanUhJW4oAgDcU00pvC1TM6/MqUypkFZRypN7JHl3hlbs27NFgUa4pTRG1PygfrHUMx1DMdQzHUMweYWHeOoZjqGYaV455jhKCkpb0U1ee6TD1J19KnNO4WOSnkKU37wppU6/Vx3iur1Iq4fqKUpbakIc/xGYD6AU8UcOuk026advKG5bxLolEJCSxqTRfqaav1g8wsO8JW+TuspASgqJNTYDeG3OIohyoSlLSlK2vygV2hLrSwttQ1JULEQsJdKdKOJVaFIBT+8CRuPqIUJdSqpAJSttSDQ2ND29wuzTgbRU/f7d4aW4tXxRVAQ2pZI86AVhLrSgttQ1JUneohtgcdDjldAclnEVp9SISXieY0SlKCtR9AN4StOoBQrzJKTgx/luKRSupTC0pPoSKGAZgr3qeRtS9h32EBSCFJUKgiHBKuh3hmiiLZ7+8fQQ8iXc1qYVpcFLGGG1A1fUUpp6E/094+g90Ke1bmgCEFZP2G8NO8RSku10BDSlKNL8oFdobKn6pWjiAoQVAI/eNLD6mDTyH4tMOugPOmiU3P9oU9MK0NpuY4gWs0Xo0cFevV5aKav0hp0LWtLtdIQ0pStr8oFdobCVOOlxAcTwmVucp77CD6D5B9B8g+g+QfQfIccdUEISmqlHsIcdCy2hsalF1tTdB58wG0LOpxASgufEYWiqRcio3+0BtpawtSdSQ40pvUPpqAr7p9B+LTDroDzpolNz/aFOvq0oT9KwXdawAvh6S0rXq8tFNX6Q27xFKDldIQ0pStr8oFdoaVrU7xU6kcJtThI86JB2g+giUol0JEwSp1lBUtrq3AGLG8S81MS7xZDbzYKWVFZqsEKUm9VUiVS6ttDSW+drhErr/q1f0icVwJht8y62pdlyXWja5qoilTQQuaQ062yJdLfxWyglVSbH3JkaHFqcQtCQ22pZqa+USE2piZLSZRTCqS69SVcv5aV7XiUQ6tpDaUc7RaJWD/q1U/SJuZpwS0OBL8VFR5qVTa5/lEm9Pl55tLbiFKkkOJIUaEbJJV2iWVNuJVpa+I2WquE/wCrVSv2insfxLEtwTrE0hzSF15aJXQ+dtoDM09M61pVVclLEhX0pzEf/bxKcXgMNhlIWwGjUGlgrV/SPaB4UwlLpQUFcstANE77ke9MOtNqdcS3yoSKkmJTisN6VtFl1bThcqvqClDSKb6v90ezFIkHkTjWrxbhaKdS9Bur82/ff9YmFplODxZB0OJRKLb+JtQFRPxDfeEhUmC2qT+JVNQpzzV5q3O53iS8Tq43ARr13rTv+J9B7uplhx9xR0pCG1Kp9TTekSsyluaeZ4TqHFeFXq4ilBVdFK0O8TDb8s8tc1JJQ2EIKqK5uUkW6hfaEIVuUtpB/GRTwn3NEwlxXDl1rATv3AghqXfPhnmXTVvrTWp0+dInZxmVmF+IdSllPAX2T1KTSoH2iVDfjW0BLuqZblXA4XFEVGmljUm3a4hrTKzct7VTLpS1wA4EV7Vpy0r+9HP1aRX5B9B8g+g+QfQfImEvNKebLdFITdQ3h1mX8TMyrKmXG/Et8NatKqlG9K7C5zE2Jfxi5Zcm5Vt2W0aV7UA5QT3849lIZZfR4VQW6txlTdOQinNSt+3un0H4yKeE+5omEuK4cutYCd+4EPtNyz5CVNVVwzYmupFNyRDc0pqYel2psqLq2VcVYLdNRRSux22FoE++w/wHePQJaUpSdSgRVI3FaR8VE4HlySUseGK+VyquVWnb8w6toTxv+poTq9YG4ue31i4xFxiLjEXGIuMRcYi4xFxc9ouMRcYi4xFxiLjEXGIuMRcYi4xFxiLjEXGIuMRcYg7iw7RcYi4xFxiLjEXGIuMRcYg7iw7RcYi4xFxiLjEXGIuMRcYg7iw7RcYi4xFxiLjEXGIuMRcYg7iw7RcYi4xFxiLjEXGIuMRcYg7iw7RcYi4xFxiLjEXGIuMRcYg7iw7RcYi4xFxiLjEXGIuMRcYg7iw7RcYi4xFxiLjEXGIuMRcYg7iw7RcYi4xFxiLjEXGIuMRcYg7iw7RcYi4xFxiLjEXGIuMRcYg7iw7QxwlrbC39Ky2Apym/SDf9dqxKy6Zwtam3XFOpSgrICqJB2oDvvEsl+YYE64ivD1Cp+un7RNaZkzvDlS4sLQkBtdeW3Y77GtoXKTMyqaHAS6FKSkEGtDbt7kw5KuhlaErVq0arViSlmphUvrlS844hKSSdhTcU7xLIfmGUzriP+mFjUfqB9oCHPaTq5ZhriTBeDYSK7JFQkfU/aJVr2WtbyXULcLkqW1GiaDbVy3MS6EzaVvOI1JQ4pIcP/jGn229MNO8Mr+Pwg3QHcgp+14ExIzjmiitJlWg9rPrQgD/6sS7bszL+LdbCuGl0Gu3b6RPszTwe4SkaaI0gVT7yyrYBO8K8Yurcw34iX5aaUVtjSfvHstzg8GVfWpSCl6upOg01Cn37xMtlLClNMLeAamQ4eXsrblOY4aZBGpTPGRWZ/L9eXY28/WGZhuoS6gLFfr+J9B7tUvPMAHdTLPEX9hQ/yiSY8SWFqZW444gIKjRWkDuB9YedRMeHMrKBw6UJIcXzXr25e3nCHLa20q/GRLTwSyt9LakaNzfvCfDq0OuuoaCqV06jSsTjDs4//l3E/FbYC3CkptQJpf8A7YkXm1PqFF8cy3B17Wrq2r5gd4HhHJoyrUsl9brCG9ZrW+v07CNSTqSUAg+fyD6D5B9B8g+g+RMGUAMxw/hhVtW9IXSYdemyppvhzTIQppSjSpAAqn/1eJtr/EJh6YRLLWEvSwSKj8ySEgH9Y9nLem1zTc2QhaXEJBSSkmo0geXun0H4rflptTSgAGmUoSeIvyNfP6UjS25wFn8wFaelY9oLam9QZWvhTCm0krSE/TbqqK07Qy+mYmGl8KvwGOIVKp32IAx6wxNLW+mT8Mlbq5ThKSFdzzbkU8oqNwUiGVcdTDrTilIcbIqLjvUd4QWZp5p9JWS+lSdStXVWop5doQwyoJQhOlO8Osrnn5hh3VxEOcPnr3JCa/rC3FTLky6pITrdKahI7bAR1DMdQzHUMwtjxK2AuoUW9NSPLcGGKTz6XWUlCXgUatJ/L007DtDbLJAbbTpHND60ualvua1lSv09IbcTMLl3m6hLjRTWhuNwYTLMq0tpTpHNvmOO9NuzToRoSp0p5R36QIGiddltiDwinfIMNsMEJbbSEpFe0OzHj3nlO9aV8Oh8rJEdQzHUMx1DMdQzHUMw8wtwoQ6jSShVDDL0qyzKuNG7KUp1ClKHzEM/5p5xtivBbUsaUAgilt7940maecSJdUugKUnkQaW2+kJc4hqlng3FoZl2l1Q0gITqO9BHUMx1DMHmFh3jqGY6hmOoZjqGYSETS5ZSTXU2U/1BENBiadZdb1fGSpOpWo1VWopufpASy+4wjhBlaW1j4iB2NfU7jfeKApAoAI6hmOoZhpXjnmOEoKSlvRTV57pMPB6ZdXxNBHOORSbFPlvvCtE8+l5S9a3tSNStqWppp9oS1Lz8wwN9elSeck1JNRf0pCUsvOSyODwVJaUOdHka/wBPONKSkJCQBHUMx1DMdQzHUMx1DMdQzHUMweYWHeOoZjqGY6hmOoZjqGY6hmOoZg8wsO8dQzHUMx1DMdQzHUMx1DMdQzB5hYd46hmOoZjqGY6hmOoZjqGY6hmHEcQo1JpqSqhEPeLfcm1OpCStxQBAG4pppTeFqmZ1+ZUplTIKyjlSb2SPLvDK3Zt2aLAo1xSmiNqflA/WOoZjqGY6hmOoZg8wsO8dQzHUMwiaE88yttOlIRoIH15kneJhtc9MjjhIJS4NqeW21e8KlT7Rf4ahp2DQomlNPRDbSfacynQkp1At1I/20gS6Zt5EpoCCwFp0qA+tK4MGhFKCErfJ3WUgJQVEmpsBvDbnEUQ5UJSlpSlbX5QK7Ql1pYW2oakqFiIWEulOlHEqtCkAp/eBI3H1EKEupVUgEpW2pBobGh7e4XZpwNoqfv8AbvDS3Fq+KKoCG1LJHnQCsJdaUFtqGpKk71ENsDjoccroDks4itPqRCS8TzGiUpQVqPoBvCVp1AKFeZJScGP8txSKV1KYWlJ9CRQwDMFe9TyNqXsO+wgKQQpKhUEQ4JV0O8M0URbPf3j6CHkS7mtTCtLgpYww2oGr6ilNPQn+nvH0HupU+VUUrSnS2Vkn0ENLdLo4tdCeAvXtflpWGyp+qVo4gKEFQCP3jSw+pg08h+LTDroDzpolNz/aFPTCtDabmOIFrNF6NHBXr1eWimr9IbeC1rQupGhlajteoAqIaVrU5xU6kBptThKfOiQdoPoPkH0HyD6D5B9B8hxx1QQhKaqUewhx0LLaGxqUXW1N0HnzAbQs6nEBKC58RhaKpFyKjf7QG2lrC1J1JDjSm9Q+moCvun0H4tMOugPOmiU3P9oLjpISPIVOBAe4iqFegJ4Stery0U1fpDbmtaw5XSENKUra/KBUUhpWtTnFTqQGm1OEjzokQfQRKUS6EiYJU6ygqW11bgDFjeJeamJd4sht5sFLKis1WCFKTeqqRKpdW2hpLfO1wiV1/wBWr+kTiuBMNvmXW1LsuS60bXNVEUqaCFzSGnW2RLpb+K2UEqqTY+5MjQ4tTiFoSG21LNTXyiQm1MTJaTKKYVSXXqSrl/LSva8SiHVtIbSjnaLRKwf9Wqn6RNzNOCWhwJfioqPNSqbXP8ok3p8vPNpbcQpUkhxJCjQjZJKu0SyptxKtLXxGy1Vwn/VqpX7RT2P4liW4J1iaQ5pC68tErofO20Bmaemda0qquSliQr6U5iP/ALeJTi8BhsMpC2A0ag0sFav6R7QPCmEpdKCgrlloBonfcj3ph1ptTriW+VCRUkxKcVhvStosuracLlV9QUoaRTfV/uj2YpEg8ica1eLcLRTqXoN1fm377/rEwtMpweLIOhxKJRbfxNqAqJ+Ib7wkKkwW1SfxKpqFOeavNW53O8SXidXG4CNeu9ad/wAT6D3WhONzK0a6pUwFkpP/AIbxKzc63MON8J1tPwy44kFYKNQG9h/7iYbflnlrmpJKGwhBVRXNyki3UL7QhCtyltIP4yKeE+5omEuK4cutYCd+4EENS758M8y6at9aa1OnzpE7OMyswvxDqUsp4C+yepSaVA+0NS8m3NrW8Va3zJuchO6laaV77CFGVRP6DJIblOEHEkLTq6sjq2hPG/6mhOr1+QfQfIPoPkH0HyJhLzSnmy3RSE3UN4dZl/EzMqyplxvxLfDWrSqpRvSuwucxNiX8YuWXJuVbdltGle1AOUE9/OPZSGWX0eFUFurcZU3TkIpzUrft7p9B+MinhPuaJhLiuHLrWAnfuBEwA3Nt6An4iGanm7pHenpC3X/GtaZtS2H0y6i8uqdypGk/UdIsIl/E+LZ18dzjMtlbqSpWySEjuNztfyjiOsTTLy5FCGEymsBDg1bHT6jq2hPG/wCpoTq9YG4ue31i4xFxiLjEXGIuMRcYi4xFxc9ouMRcYi4xFxiLjEXGIuMRcYi4xFxiLjEXGIuMRcYg7iw7RcYi4xFxiLjEXGIuMRcYg7iw7RcYi4xFxiLjEXGIuMRcYg7iw7RcYi4xFxiLjEXGIuMRcYg7iw7RcYi4xFxiLjEXGIuMRcYg7iw7RcYi4xFxiLjEXGIuMRcYg7iw7RcYi4xFxiLjEXGIuMRcYg7iw7RcYi4xFxiLjEXGIuMRcYg7iw7RcYi4xFxiLjEXGIuMRcYg7iw7RcYi4xFxiLjEXGIuMRcYg7iw7R/5K/n8j7n+fzz6D5B9B8g+g+QfQfIPoPkH0HyD6D5B9B8g+g+QfQQOYXPf6x1DMdQzHUMx1DMdQzHUMx1DMdQue8dQzHUMx1DMdQzHUMx1DMdQzHUMx1DMdQzHUMx1DMdQzHUMweYWHeOoZjqGY6hmOoZjqGY6hmOoZg8wsO8dQzHUMx1DMdQzHUMx1DMdQzB5hYd46hmOoZjqGY6hmOoZjqGY6hmDzCw7x1DMdQzHUMx1DMdQzHUMx1DMHmFh3jqGY6hmOoZjqGY6hmOoZjqGYPMLDvHUMx1DMdQzHUMx1DMdQzHUMweYWHeOoZjqGY6hmOoZjqGY6hmOoZg8wsO8dQzHUMx1DMdQzHUMx1DMdQzB5hYd46hmOoZjqGY6hmOoZjqGY6hmDzCw7wlb5O6ykBKCok1NgN4bc4iiHKhKUtKUra/KBXaEutLC21DUlQsRCwl0p0o4lVoUgFP7wJG4+ohQl1KqkAlK21INDY0Pb3Nb5O69ICUFRJ+gG8B1hWpB2tT9ILj6w2gXJhD8urU2sVSaU+YfQQ8iXc1qYVpcFLGGG1A1fUUpp6E/094+g94ccr3qaIaUs086JENlb1QtHEBSgqAR+8aWH1MGnkPxaYddAedNEpuf7Qpx5QQhIqSY4uia06tP7I7XGmsatbvWUafDua6i/LSsNpSpx0uIC08JlbnKe/KIPoPkH0HyD6D5B9B8hxx1QQhKaqUewhx0LLaGxqUXW1N0HnzAbQs6nEBKC58RhaKpFyKjf7QG2lrC1J1JDjSm9Q+moCvun0H4tMOugPOmiU3P9oLjxokeQqcQ6+lyjbVeJrSUlNPMHeGpjWtTToKk6WVqNBc0AqIbdfdCW3SAgjfVX0g+giUol0JEwSp1lBUtrq3AGLG8S81MS7xZDbzYKWVFZqsEKUm9VUiVS6ttDSW+drhErr/q1f0icVwJht8y62pdlyXWja5qoilTQQuaQ062yJdLfxWyglVSbH3JWiXQkPkqdZQVLavuAMWN4a0lDLYcVXisK1uJ1dXVsT9YdcnXEut/lDEurUP1VWGW1NutrbFFBxpSP5j5kw602p1xLfKhIqSYlOKw3pW0WXVtOFyq+oKUNIpvq/3R7MUiQeRONavFuFop1L0G6vzb99/1iYWmU4PFkHQ4lEotv4m1AVE/EN94SFSYLapP4lU1CnPNXmrc7neJLxOrjcBGvXetO/4n0HvIZYaeK3qjioYU4Gh5nSMRNIlpeZcZmJJDMv8ABVWo1CituW4vSEIVuUtpB/GRTwn3NEwlxXDl1rATv3Ah5ppmY+EtpZ5SNadQUdPese0HmGpt5oK/yrb2srJoP3ualfOJN1xDr6BLrQ4ttsrPEKgqtB57w02GZ1v2qlgBota9NbgEjk2J/NHP1aRX5B9B8g+g+QfQfImEvNKebLdFITdQ3h1mX8TMyrKmXG/Et8NatKqlG9K7C5zE2Jfxi5Zcm5Vt2W0aV7UA5QT3849lIZZfR4VQW6txlTdOQinNSt+3un0H4yKeE+5omEuK4cutYCd+4ETC0yk07wQmgS0fiV8v6wFMIDqlvcaaS+lyXClUGkCqNwKfpDEvOJm5VRSv9maLhP0Vy1Tf+8JUqTYNGWkIbS6qrW6dXLpPf62EfEACtIqAawNxc9vrFxiLjEXGIuMRcYi4xFxiLi57RcYi4xFxiLjEXGIuMRcYi4xFxiLjEXGIuMRcYi4xB3Fh2i4xFxiLjEXGIuMRcYi4xB3Fh2i4xFxiLjEXGIuMRcYi4xB3Fh2i4xFxiLjEXGIuMRcYi4xB3Fh2i4xFxiLjEXGIuMRcYi4xB3Fh2i4xFxiLjEXGIuMRcYi4xB3Fh2i4xFxiLjEXGIuMRcYi4xB3Fh2i4xFxiLjEXGIuMRcYi4xB3Fh2i4xFxiLjEXGIuMRcYi4xB3Fh2i4xFxiLjEXGIuMRcYi4xB3Fh2hjhLW2Fv6VlsBTlN+kG/67ViVl0zha1NuuKdSlBWQFUSDtQHfeJZL8wwJ1xFeHqFT9dP2ia0zJneHKlxYWhIDa68tux32NbQuUmZlU0OAl0KUlIINaG3b3GeEtbYW/pWWwFOU36Qb/AK7Vhjxs4zxnVKDetaUrVzbbfvedO8Oo9nzbCnUbK0kOaPUViWdmF8RxSeZVKV3+Ysq2ATvCvGLq3MN+Il+WmlFbY0n7x7Lc4PBlX1qUgperqToNNQp9+8TLZSwpTTC3gGpkOHl7K25TmOGmQRqUzxkVmfy/Xl2NvP1hmYbqEuoCxX6/ifQe8wZPxPCGri+H4Wr6df3iYckJxSGZaUS8k6E/FJqeao+nakIctrbSr8ZEtPBLK30tqRo3N+8FLLvBUfzhNSImNU+6GmnyG5hKW6rSBvXlpevbtCy1MLXMOJW+ha0Jq2yLVoKVP9fpHspxL4CHltpcToFVVBrvB9B8g+g+QfQfIPoPkTBlADMcP4YVbVvSF0mHXpsqab4c0yEKaUo0qQAKp/8AV4m2v8QmHphEstYS9LBIqPzJISAf1j2ct6bXNNzZCFpcQkFJKSajSB5e6fQe5LhEw7RbqUlstANaT/306vv5bRyTJlQN1LSATT77RKOoMytHxNa5dLWtaa8iqL23HlDa/ZT9UoS2t14pG4URRPqbwfQQyrjqYdacUpDjZFRcd6jvCCzNPNPpKyX0qTqVq6q1FPLtCGGVBKEJ0p3h1lc8/MMO6uIhzh89e5ITX9YW4qZcmXVJCdbpTUJHbYCOoZjqGY6hmGjx1MOtLKkONkVFx3qO8cNDhXVRWpa1bqUbmClD5ZJ/OjTUZqIDCZpbyB08TTtgCOoZjqGY6hmOoZjqGY6hmOoZjqGY6hmOoZjqGYeYW4UIdRpJQqhhl6VZZlXGjdlKU6hSlD5iGf8ANPONsV4LaljSgEEUtvfvGkzTziRLql0BSk8iDS230hLnENUs8G4tDMu0uqGkBCdR3oI6hmOoZg8wsO8dQzHUMx1DMdQzHUMxVE89LcukhpSd8g/pASy8uWb4QZWltQ50CwNfU233igKQKACOoZjqGYaV455jhKCkpb0U1ee6TEw2qemE8cJBKXBy08ttq94ck3Z11xpadP8A/NOlPkNKRBTMsMLOjQFlCSpI+hiWbYm3JVqWoW0NcOmod90/WN115Rue8dQzHUMx1DMdQzHUMx1DMdQzB5hYd46hmOoZjqGY6hmOoZjqGY6hmDzCw7x1DMdQzHUMx1DMdQzHUMx1DMHmFh3jqGY6hmOoZjqGY6hmOoZjqGYcRxCjUmmpKqEQ94t9ybU6kJK3FAEAbimmlN4WqZnX5lSmVMgrKOVJvZI8u8Mrdm3ZosCjXFKaI2p+UD9Y6hmOoZjqGY6hmDzCw7x1DMdQzHUMxrdm3i1rS5wNSdFRbtXt5wppc7MBKnuKedJ/8dweX6RQ+1Zq1CQW9x/t/lAaVLMCgSAsJTroPqfSNLehKAkAAWEJW+TuspASgqJNTYDeG3OIohyoSlLSlK2vygV2hLrSwttQ1JULEQsJdKdKOJVaFIBT+8CRuPqIUJdSqpAJSttSDQ2ND29zW+TuvSAlBUSfoBvAdYVqQdrU/SC4+sNoFyYQ/Lq1NrFUmlPmH0EPIl3NamFaXBSxhhtQNX1FKaehP9PePoPdLs04G0fz+3eGluLV8UVQENqWSPOgFYbKn6pWjiAoQVAI/eNLD6mDTyH4tMOugPOmiU3P9oLj6w2gXJhqZ4hLb3/To2oqV6JpWG3uIVIcNEhLalKJ7jSBWEIPHK1oCwlMs4SB9dtvvB9B8g+g+QfQfIPoPkOOOqCEJTVSj2EOOhZbQ2NSi62pug8+YDaFnU4gJQXPiMLRVIuRUb/aA20tYWpOpIcaU3qH01AV90+g/Fph10B500Sm5/tBcdJCR5CpwID2pzSXOHQMr1avLTSsIdd4wSsEgeHXqoLkppUQ26+6EtukBBG+qvpB9BEpRLoSJglTrKCpbXVuAMWN4l5qYl3iyG3mwUsqKzVYIUpN6qpEql1baGkt87XCJXX/AFav6ROK4Ew2+ZdbUuy5LrRtc1URSpoIXNIadbZEulv4rZQSqpNj7krRLoSHyVOsoKltX3AGLG8NaShlsOKrxWFa3E6urq2J+sOuTriXW/yhiXVqH6qrDLam3W1tiig40pH8x8yYdabU64lvlQkVJMSnFYb0raLLq2nC5VfUFKGkU31f7o9mKRIPInGtXi3C0U6l6DdX5t++/wCsTC0ynB4sg6HEolFt/E2oCon4hvvCQqTBbVJ/EqmoU55q81bnc7xJeJ1cbgI1671p3/E+g92ZGhxanG1ISG21LNSPpEhNqYmS0mUUwqkuvUlXL+Wle14mG35Z5a5qSShsIQVUVzcpIt1C+0IQrcpbSD+MinhPuaJhLiuHLrWAnfuBD2pmYCWtPNwVHVXyA3MSXHE9LPyyti3KL1JJr2KTUU+kSr8+mcLauOTwdXESVqBFeH6elYa4rc+PbIYCW1o10J7aiOT11Rz9WkV+QfQfIPoPkH0HyJhLzSnmy3RSE3UN4dZl/EzMqyplxvxLfDWrSqpRvSuwucxNiX8YuWXJuVbdltGle1AOUE9/OPZSGWX0eFUFurcZU3TkIpzUrft7p9B+MinhPuaJhLiuHLrWAnfuBEwA3Nt6An4iGanm7pHenpDonmJ1bKpouNPJbcDqjTqUE8w7iwG0Jam1+0G9fE0lpniL0flSvYmtD9PWEqVJsGjLSENpdVVrdOrl0nv9bCPiABWkVANYG4ue31i4xFxiLjEXGIuMRcYi4xFxc9ouMRcYi4xFxiLjEXGIuMRcYi4xFxiLjEXGIuMRcYg7iw7RcYi4xFxiLjEXGIuMRcYg7iw7RcYi4xFxiLjEXGIuMRcYg7iw7RcYi4xFxiLjEXGIuMRcYg7iw7RcYi4xFxiLjEXGIuMRcYg7iw7RcYi4xFxiLjEXGIuMRcYg7iw7RcYi4xFxiLjEXGIuMRcYg7iw7RcYi4xFxiLjEXGIuMRcYg7iw7RcYi4xFxiLjEXGIuMRcYg7iw7RcYi4xFxiLjEXGIuMRcYg7iw7QxwlrbC39Ky2Apym/SDf9dqxKy6Zwtam3XFOpSgrICqJB2oDvvEsl+YYE64ivD1Cp+un7RNaZkzvDlS4sLQkBtdeW3Y77GtoXKTMyqaHAS6FKSkEGtDbt7jPCWtsLf0rLYCnKb9IN/12rDHjZxnjOqUG9a0pWrm22/e86d4dR7Pm2FOo2VpIc0eorEs7ML4jik8yqUrv8xZVsAneFeMXVuYb8RL8tNKK2xpP3j2W5weDKvrUpBS9XUnQaahT794mWylhSmmFvANTIcPL2VtynMcNMgjUpnjIrM/l+vLsbefrDMw3UJdQFiv1/E+g93kmTKgbqWkAmn32iUl/EqY1NuO8ZKE6lpCqI2IoKg1h51Ex4cysoHDpQkhxfNevbl7ecIctrbSr8ZEtPBLK30tqRo3N+8J8OrQ666hoKpXTqNKxOSzk+tIl1g8fQjXpKa+Wn9ITNTE+uVSgLPES2mq015TuKW+neGppUyZea4SKMJbTzun8pr/Skb30j5B9B8g+g+QfQfImDKAGY4fwwq2rekLpMOvTZU03w5pkIU0pRpUgAVT/AOrxNtf4hMPTCJZawl6WCRUfmSQkA/rHs5b02uabmyELS4hIKSUk1GkDy90+g/GRLTwSyt9LakaNzfvBSy7wVH84TUiJjVPuhpp8huYSluq0gb15aXr27RLuPTcyWn+I4kttNl7Ttp5dNvM07iGTLPN8VtDa5l1uik7kco9b/wD7B9BDKuOph1pxSkONkVFx3qO8ILM080+krJfSpOpWrqrUU8u0IYZUEoQnSneHWVzz8ww7q4iHOHz17khNf1hbiplyZdUkJ1ulNQkdtgI6hmOoZjqGYaPHUw60sqQ42RUXHeo7xw0OFdVFalrVupRuYKUPlkn86NNRmogMJmlvIHTxNO2AI6hmOoZjqGY6hmOoZjqGY6hmOoZjqGY6hmOoZh5hbhQh1GklCqGGXpVlmVcaN2UpTqFKUPmIZ/zTzjbFeC2pY0oBBFLb37xpM084kS6pdAUpPIg0tt9IS5xDVLPBuLQzLtLqhpAQnUd6COoZjqGYPMLDvHUMx1DMdQzHUMwlpcytlIVqPDKeb6GoNRDaj7Qf8QioDw4erSbp6advKAll9xhHCDK0trHxEDsa+p3G+8UBSBQAR1DMdQzDSvHPMcJQUlLeimrz3SYeD0y6viaCOccik2KfLfeFNrnX9S3A445VFXKWBGmlPpSGOL7TmSplWpJ+Ff6jRTaGnz7TmeK0jSk/CzTRSsULmrlHMe8dQzHUMx1DMdQzHUMx1DMdQzB5hYd46hmOoZjqGY6hmOoZjqGY6hmDzCw7x1DMdQzHUMx1DMdQzHUMx1DMHmFh3jqGY6hmOoZjqGY6hmOoZjqGYcRxCjUmmpKqEQ94t9ybU6kJK3FAEAbimmlN4WqZnX5lSmVMgrKOVJvZI8u8Mrdm3ZosCjXFKaI2p+UD9Y6hmOoZjqGY6hmDzCw7x1DMdQzDSvHPMcJQUlLeimrz3SYmG1T0wnjhIJS4OWnlttXvDkm7OuuNLTp//mnSnyGlIht1qZXKutoKApop6T23B8oDKpdnYAcXSkr2/wC4xpb0JQEgACwhK3yd1lICUFRJqbAbw25xFEOVCUpaUpW1+UCu0JdaWFtqGpKhYiFhLpTpRxKrQpAKf3gSNx9RChLqVVIBKVtqQaGxoe3ua3yd16QEoKiT9AN4DrCtSDtan6QXH1htAuTCH5dWptYqk0p8w+gh5Eu5rUwrS4KWMMNqBq+opTT0J/p7x9B7oU9q3NAEIKyT6DeGXeIpSXt0BDalKPnygVhsqfqlaOIChBUAj940sPqYNPIfi0w66A86aJTc/wBoU9MK0NpuYW+p7QhB0qC0FKgb00ne0NFa1Hip1ICG1LUR50ArSEqW6ShSQvWhClJCTYkgUA9YPoPkH0HyD6D5B9B8hxx1QQhKaqUewhx0LLaGxqUXW1N0HnzAbQs6nEBKC58RhaKpFyKjf7QG2lrC1J1JDjSm9Q+moCvun0H4tMOugPOmiU3P9oLjpISPIVOBBmVPaGgSk6kkKqO2m9YZKy4rjCrYbZUskegENuzTnDS4QE1Sa1P0g+giUol0JEwSp1lBUtrq3AGLG8S81MS7xZDbzYKWVFZqsEKUm9VUiVS6ttDSW+drhErr/q1f0icVwJht8y62pdlyXWja5qoilTQQuaQ062yJdLfxWyglVSbH3JWiXQkPkqdZQVLavuAMWN4a0lDLYcVXisK1uJ1dXVsT9YdcnXEut/lDEurUP1VWGW1NutrbFFBxpSP5j5kw602p1xLfKhIqSYlOKw3pW0WXVtOFyq+oKUNIpvq/3R7MUiQeRONavFuFop1L0G6vzb99/wBYmFplODxZB0OJRKLb+JtQFRPxDfeEhUmC2qT+JVNQpzzV5q3O53iS8Tq43ARr13rTv+J9B7vVMt6jTXLtcRSftQ/yiSmH5Z7ghl1vkaUpe6wUkp3NSBEw2/LPLXNSSUNhCCqiublJFuoX2hCFblLaQfxkU8J9zRMJcVw5dawE79wIIal3z4Z5l01b601qdPnSPa8xwZjRNDQyngL1HkpXTSo+8Sb6P8QZmkM8McKVNTblOpBA3FzSJT2RMNP6SwBMOtsLcAHdA0g7xVNQNIpUU+QfQfIPoPkH0HyJhLzSnmy3RSE3UN4dZl/EzMqyplxvxLfDWrSqpRvSuwucxNiX8YuWXJuVbdltGle1AOUE9/OPZSGWX0eFUFurcZU3TkIpzUrft7p9B+MinhPuaJhLiuHLrWAnfuBEwA3Nt6An4iGanm7pHenpHtPU1MrDy3A0osL4jtU3UkDbfaw7RKeIY9ohxtmiFNNPIUDTcbf12gLmWWpl0NNJHxTqSagq5Qm9e9e0fEACtIqAawNxc9vrFxiLjEXGIuMRcYi4xFxiLi57RcYi4xFxiLjEXGIuMRcYi4xFxiLjEXGIuMRcYi4xB3Fh2i4xFxiLjEXGIuMRcYi4xB3Fh2i4xFxiLjEXGIuMRcYi4xB3Fh2i4xFxiLjEXGIuMRcYi4xB3Fh2i4xFxiLjEXGIuMRcYi4xB3Fh2i4xFxiLjEXGIuMRcYi4xB3Fh2i4xFxiLjEXGIuMRcYi4xB3Fh2i4xFxiLjEXGIuMRcYi4xB3Fh2i4xFxiLjEXGIuMRcYi4xB3Fh2i4xFxiLjEXGIuMRcYi4xB3Fh2hjhLW2Fv6VlsBTlN+kG/67ViVl0zha1NuuKdSlBWQFUSDtQHfeJZL8wwJ1xFeHqFT9dP2ia0zJneHKlxYWhIDa68tux32NbQuUmZlU0OAl0KUlIINaG3b3GeEtbYW/pWWwFOU36Qb/AK7Vhjxs4zxnVKDetaUrVzbbfvedO8Oo9nzbCnUbK0kOaPUViWdmF8RxSeZVKV3+Ysq2ATvCvGLq3MN+Il+WmlFbY0n7x7Lc4PBlX1qUgperqToNNQp9+8TLZSwpTTC3gGpkOHl7K25TmOGmQRqUzxkVmfy/Xl2NvP1hmYbqEuoCxX6/ifQe634Di6uIOJwtGrT9Ne3lEtLSs2+z8NxbrikI4mpKtOk7ab/TtDzqJjw5lZQOHShJDi+a9e3L284Q5bW2lX4yJaeCWVvpbUjRub94T4dWh111DQVSunUaViclnJ9aRLrB4+hGvSU18tP6Q3MLmZhC+fQpmWClO/uE7EDb0+0eynkvthD620uJbSFBVQa83l6QfQfIPoPkH0HyD6D5EwZQAzHD+GFW1b0hdJh16bKmm+HNMhCmlKNKkACqf/V4m2v8QmHphEstYS9LBIqPzJISAf1j2ct6bXNNzZCFpcQkFJKSajSB5e6fQfjIlp4JZW+ltSNG5v3jUBrcUdLaP3ldhADzzitM2tp55hjUpKRaiaHv9DDK2DNLQ246h1TKG0uKoeUkLhUxLvzAl0yodYWiW1h1W9eIdPLYfu3gL/eQDDKuOph1pxSkONkVFx3qO8ILM080+krJfSpOpWrqrUU8u0IYZUEoQnSneHWVzz8ww7q4iHOHz17khNf1hbiplyZdUkJ1ulNQkdtgI6hmOoZjqGYaPHUw60sqQ42RUXHeo7xw0OFdVFalrVupRuYKUPlkn86NNRmogMJmlvIHTxNO2AI6hmOoZjqGY6hmOoZjqGY6hmOoZjqGY6hmOoZh5hbhQh1GklCqGGXpVlmVcaN2UpTqFKUPmIZ/zTzjbFeC2pY0oBBFLb37xpM084kS6pdAUpPIg0tt9IS5xDVLPBuLQzLtLqhpAQnUd6COoZjqGYPMLDvHUMx1DMdQzHUMwnhzjkspPdop3/3AiGfDzLsu63q+KhSdStW6q1BG53gJZfcYRwgytLax8RA7GvqdxvvFAUgUAEdQzHUMw0rxzzHCUFJS3opq890mHg9Mur4mgjnHIpNiny33hTa51/UtwOOOVRVylgRppT6UgJ/xSaBFQVDh1IP/AI0iVbZnHpZqW08NDZRcd+ZJjddeUbnvHUMx1DMdQzHUMx1DMdQzHUMweYWHeOoZjqGY6hmOoZjqGY6hmOoZg8wsO8dQzHUMx1DMdQzHUMx1DMdQzB5hYd46hmOoZjqGY6hmOoZjqGY6hmHEcQo1JpqSqhEPeLfcm1OpCStxQBAG4pppTeFqmZ1+ZUplTIKyjlSb2SPLvDK3Zt2aLAo1xSmiNqflA/WOoZjqGY6hmOoZg8wsO8dQzHUMw0rxzzHCUFJS3opq890mHPGETiV6TofopKSBSoHaHEeznjJcRzWpTKW6+m6bQhqVnX5ZASQQhaTrr3OoHf6w3L+IcRJpSEeHSU6VAeZpq/WDzCw7x/5K/n8j7n+fzz6D5B9B8g+g+QfQfIPoPkH0HyD6D5B9B8g+g+QfQR//xAAoEAEAAQQCAgIDAQEBAQEBAAABEQAhMfBBwVFhMHEQIIGRsaHR4fH/2gAIAQEAAT8hx6X/AIDYXIMYsAlyY/ZggGOWVE+vnN73+H/lk8BUPaYESiR/U3vf6P8AIoGELf1+g3vfwG97+A3vfwG97+A3vfwG97/D/wAsngKh7TAiUSP6m97+A3vdQhZhT6D7AzZmOakKYmrYHZ1CcLzNBcUzylAMLsDa9qs2jTCBGEQorkN6BCgEjl/TOoBmByvVAdmsLYYIiARYtF4PjQWkk/MLvNGa4TpuHDZiJWV2rqokLkULqCXmU1LgJJZ+nxJVCCCRhfirlOz4EACGOfLe9ARhpjTlYBHFy8qj6NTLU1BN+ef1hoUJiIZPurTAXCwQXK5fkp1QVoLKsaODl5Uz40sbkNpF7onN6WYcYoSSBOQgiQThTExmTpgd5HgPpFN5B2AcDj64/BpzmlTCBQpK0OGkSf1C5p0yoHJAAKCW6Rmyo/nhCDc6Ka57uUEKALsRP6G97+A3vfwG97+A3vfwJVCCCRhfirlOz4EACGOfLe9ARhpjTlYBHFy8qj6NTLU1BN+ef1NOc0qYQKFJWhw0iT+oXNOmVA5IABQS3SM2VH88IQbnRTXPdyghQBdiJ/Q3vdHd9+6jf7qN/uo3+6jf7qN/uo3+6jf7oTx/9y+6jf7osjFNcpvSN/uo3+6jf7qN/uo3+6jf7qN/uo3+6jf7qN/uo3+6jf7oOb9n3Us3sgSiEzRWpgnj/ajf7qN/uo3+6jf7qN/ug5v2fdSzeyBKITNFamCeP9qN/uo3+6jf7qN/uo3+6Dm/Z91G/wB1G/3Ub/dRv91G/wB1G/3Ub/dBzfs+6jf7qN/uo3+6jf7qN/uo3+6jf7oOb9n3Ub/dRv8AdRv91G/3Ub/dRv8AdRv90HN+z7qN/uo3+6jf7qN/uo3+6jf7qN/ug5v2fdRv91G/3Ub/AHUb/dRv91G/3Ub/AHQc37PupZvZAlEJmitTBPH+1G/3Ub/dRv8AdRv91G/3Qc37Puo3+6jf7qN/uo3+6jf7qN/uo3+6Dm/Z90hum55dsjkJAWAmoOULky1RLIZItepDgxJyZEpi5rCCdDUSI+SKMvKcHI9gLQwEtObv6SgjIKArTYZi6P1TahPGnMuzKZBcsoKK85ElM3yhvQ2MTWcAWMnDzUnTxToG/YziI8AruEeMoi9mYIs1gtAd4IF2J8r9/CqQIp4L1cKcUQGfe695UlhNAZsQomwBw4tJUcDghJnIORm9q9Qco8yKy2ELvCiOD3IBPf5N73+02l9g4wI9BLJfypk/IaITAthDdvire4B4mX9OBwpMyVSrK4/hzV/327I4Sj7Rt/tBISufuYZqsMkJp8cCSEgtzJswB4Ub3v4De9/Ab3v4De9/AELNzHI/tWvwiL8xSSJmV3D1gvAJYsFueZ4ZKY5CarZYIzn1f9De9/m0XqsAwzaWVfAHhTrI1gSbwNpjyP00JDZ70yR6tYnbikEiaTkJAsMi9zhQcshv8TISNtT/AC8f65SZvVzSTEVLFBORS0UAZ43G9FYRBEUCp2Sge3LQNjD1IwhG+/ArO3MkEAJlXEvLj9HOcpEzCRkbJDPF/dTM+5AxZOKLIDm9X/VkwCC9MKYLLMAD0AChk79QkSGDjiiQpNk/15aXENzUEK8IPD8LnOc5znRiwcgZmH6/7TqAJIRKM5J+wpzYSs8ggIixSkZzI6PZXhoG5C7L5mgrgoLU0Z+7VJtuCoIJ9/lzids9j9nOc5z4R0B8QJTjxSDCh+CqQ24JmhzSUZIG3P6Oc67YeCAAuXRy/UU19kH+WSHpTKJeK0SzHIZu91OcSRGRkFZi9N8SngE2D4HOc5znE7Z7HwOc5znOJ2z2Pgc5znOcTtnsfA5znOc4PCgJYvcfNEq3U5QQmF0hM82KECFMwbLxsvLFQksI8ohKYtMnxl/VznOJ2z2Py5wKQ4GQOYvEfVHyiDniFECZ80adMAJERCx/OKX5WKTzchMuDdq3s4V8Mjy3Q3XpGE4jYCbUACY6vA1YWxgak+1jrzsPlJbmg/XQlHNThDQw5BH2Bcp9N4gBBFUMOLfoR432VV2AXUDY8UrY6YogqUhcu+aFrhpDyeaOy1h4pbMxU2PMKc2arXsULUUH9AAn01H6IFyJIwEck/Cb3uiuXWD/AEzhueGl/WgWEvf4v2N73+z4riTCbI5KnFIn81f0Rw+GmIUjEn9/RKcAwMIBullCMNAWPLKqJgF1A2PFQ36veE2CrXxaocMW3gLYf0tzRve/gN738Bve/gN738AhR2YAmVocN5UuI8A3xZouqZ6EDgScsnmp7zP3ntD6nP6m97/IKBb0TiAWoOHSf5Zf/FDk2YrlkJjC2NiaYOQr0SFsIUGS3MVIwAdiYFAc3hhq6PaaV4LbdYMrLdIQpEoNmCvgzJBKvOYkKmwyUJSxCFpOWKjj0TChCLWibH21lsaXEARsReIvZf0CfYlRQsVD22qdEk7mFIc02HC1JJuinrxAfbGeaENw68FySQGST3phU6EGwghmYmJpfjibSHJuYm7mjANHVFYwv5+GQErNHBH3SwbLDixBK69H9JHVBVLSnBgTksW1pCDlay2S988CkrQ4aRJ/ULmsUNhCW83Xmfyb3v8AaSZOai2eA2PH/wBqICyBeQNSyS5valnl95QT9HOVoozFX8bc0M/ATMeAKz8rVEciVEZImCn0oTmdz/SlweB9pSkjt0G8wwT/AIfAb3v4De9/Ab3v4IGC2lFwH1THXJVQiizBAZcuFCS3zCHrEef/ABUI8CmMXBJfIQX4n9De9/lc+iBHKwcql3ge5hiUansg4mGMF6hTyXSQTBbZ781PtwJSSk4WQb+bVaGmZthMk90QZzFNgpcIgvw3Pqju+/dRv91G/wB1G/3Ub/dRv91G/wB1G/3Qnj/7l91G/wB1G/3Ub/dRv91G/wB1G/3Ub/dRv91G/wB1G/3Ub/dRv91G/wB1G/3Qc37Puo3+6jf7qN/uo3+6jf7qN/uo3+6Dm/Z91G/3Ub/dRv8AdRv91G/3Ub/dRv8AdBzfs+6jf7qN/uo3+6jf7qN/uo3+6jf7oOb9n3Ub/dRv91G/3Ub/AHUb/dRv91G/3Qc37Puo3+6jf7qN/uo3+6jf7qN/uo3+6Dm/Z91G/wB1G/3Ub/dRv91G/wB1G/3Ub/dBzfs+6jf7qN/uo3+6jf7qN/uo3+6jf7oOb9n3Ub/dRv8AdRv91G/3Ub/dRv8AdRv90HN+z7qN/uo3+6jf7qN/uo3+6jf7qN/ug5v2fdIbpueXbI5CQFgJqDlC5MtUSyGSLXqQ4MScmRKYuawgnQ1EiPkijLynByPYC0MBLTm7+koIyCgK02GYuj9U2oTxpzLsymQXLKCivORJTN8ob0NjE1nAFjJw81J08U6Bv2M4iPAK7hHjKIvZmCLNYLQHeCBdifK/fwqkCKeC9XCnFEBn3uveVJYTQGbEKJsAcOLSVHA4ISZyDkZvavUHKPMisthC7wojg9yAT3+Te9/rOaOgoVtNhmLo/VLpSVNEBgS1twYo0Ymcd1hjxIbr4q3uAeJl/IFlkWUlKm1jAPvijUk7wVQbKExPMUtxdfLQ4IeeP+1hC0OIIRHgPvCmbBhQngKvnThxAJyX+A3vfwG97+A3vfwBCzcxyP7Vr8Ii/MUkiZldw9YLwCWLBbnmeGSmOQmq2WCM59X/AEN73+QLLIspKVNrGAffFGjliCCPYJIQ/Tijzp5EoGF5OKhhtf6EgRV5IWSLU7BfWcGQh+sm7V2tmoyBEqsGxCPIUpHAGeNwvRWEQRFBr9ckD2t2gb2H8jCEb78Cj7ZZIIARlXEvLitA7rQO60DulI2mEZGyIZ4v7qDP2QMWTgiyA5vU7syUAgvNNLw3swAPQAKCSv1AREMHHFEgyaz/AFm7SYjt6QQrwg8NaB3Wgd1oHdaB3Wgd1oHdaB3Wgd1blA5GZh+v+1MpBEnEo/JP2FPbEVnkEAiLFKRnMioxlWGgLkLsvmaA3HQW5oz92pNm4tBBPutA7rQO6J21/wBD3Wgd1oHdaB3Wgd1B9DIREbIi/F6gLEYnpWc+xbNeZbyAhQvsC5ekoqQRc+60DutA7pHmsNSYv038x6pkssrmosKArQvEWrLWNqEJTkDgt90aRtIY5II+4N84ohZLYCLlElmChshrDGfgc5znOcTtnsfA5znOc4nbPY+BznOc5xO2ex8DnOc5zg8KAli9x80SrdTlBCYXSEzzYoQIUzBsvGy8sVCSwjyiEpi0yfGX9XOc4nbPY/LnK8GBsmL5N/Meqwl1my4vA8rf5SJ9mVpDFWRFrCCIisjr6c0DAcIi0UTPJKbyoFmFBadAwR/qkhwRWRwF2oty0+sAkjnxQ9QQDZKvxvqD6oEnsrhYZUw4YAx7/RUL/eebHNT7KH91YsXqadYkS80Yb9GQjNwoBOThNvoXoZEAm4v8cVa3NCC2Js8/z4pgXHJDR0MqQ9E/GsFyAyfovUXLKXEZsJtz4rI8MLA8JCx7f0CWPGV5/wAw/wCVzwY5pkboBCExImYvjFXUQIpJbgPkosPRcN7oH/qMfD5ve/gN738Bve/gEKOzAEytDhvKlxHgG+LNF1TPQgcCTlk81PeZ+89ofU5/U3vf5kYAOxMCgObww1JLklgqWCSqzgb/ADnD4rnYhj4miZZkIbNQZyKHBJAH3Rve6ZMkQd6iAnOMJfFTzYtYt5cIi778UMyl+ljH/wCFKwkReUsougc00XTzDJNnxP6QO78sq8FFZhVfMESLj7t91JQgOzwD2eqhjzWSC8Fsv/FAeS5g1Fk4HmKebQztsfR/5RKnmioEbp8NoETSvCjUSW1mRaReg5oMnec+Rnl/7RCMTxFhK8j7XppxkZTJcvm9u3vX/Xm2Jn4C1m4n6CYrk9EDFNsk39WqVjYJtEk4SXbUqqUBfyZLQcMgZD/yg0096QvtHVIyQnuBNklzmKURIJEclsYPCnq9oLj5gsE/WW8MVK2lEjx8A3vfwG97+A3vfwQMFtKLgPqmOuSqhFFmCAy5cKElvmEPWI8/+KhHgUxi4JL5CC/E/ob3v8uU+97mGc/tgvmKhOUSDI8TBZG2aRTNJVLOpMJN1xV0HlANCmknBPF6gS9aWYuqGfD014Zw2JvSTj5zEMf8fB3d3d0Wbbp/r53d3d3d3d3cXOEH/wBdPg7u7u4ucIP/AK6fB3d3dxc4Qf8A10+Du7u7o5ad4RH2qN/uo3+6jf7qN/uo3+6jf7qN/ug5v2fdRv8AdRv91G/3Ub/dRv8AdRv91G/3Qc37Puo3+6jf7qN/uo3+6jf7qN/uo3+6Dm/Z91G/3Ub/AHUb/dRv91G/3Ub/AHUb/dBzfs+6jf7qN/uo3+6jf7qN/uo3+6jf7oOb9n3Ub/dRv91G/wB1G/3Ub/dRv91G/wB0HN+z7pDdNzy7ZHISAsBNQcoXJlqiWQyRa9SHBiTkyJTFzWEE6GokR8kUZeU4OR7AWhgJac3f0lBGQUBWmwzF0fqm1CeNOZdmUyC5ZQUV5yJKZvlDehsYms4AsZOHmpOninQN+xnER4BXcI8ZRF7MwRZrBaA7wQLsT5X7+FUgRTwXq4U4ogM+917ypLCaAzYhRNgDhxaSo4HBCTOQcjN7V6g5R5kVlsIXeFEcHuQCe/yb3v8AWMUN6jx5OLytOMhhtf6EgRV5IWSLUaMTOO6wx4kN18Vb3APEy/kCyyLKSlTaxgH3xRqSd4KoNlCYnmKW4uvlocEPPH/aRRz0XlpEAVvERS88jpAQZJu9CPCje9/Ab3v4De9/Ab3v4AhZuY5H9q1+ERfmKSRMyu4esF4BLFgtzzPDJTHITVbLBGc+r/ob3v8AIFlkWUlKm1jAPvinWRrAk3gbTHkfppinQOwGHWSIY/1UW37BaYf+ORZMIrFrUwpIqPA4Ks+XJkTAsS1c0kxFSxQTkUtFAGeNxvRWEQRFAqdkoHty0DYw9SMIRvvwKztzJBACZVxLy4/RznKRMwkZGyQzxf3UzPuQMWTiiyA5vV/1ZMAgvTCmCyzAA9AAoZO/UJEhg44okKTZP9eWlxDc1BCvCDw/C5znOc50YsHIGZh+v+06gCSESjOSfsKc2ErPIICIsUpGcyOj2V4aBuQuy+ZoK4KC1NGfu1SbbgqCCff5c4nbPY/VznOKE4p5skIwX5KyOvpzQMBwiLRXNs8gIUL7AuXpKMkDbn8ucrwYGyYvk38x6qbIZXNRRCgK0LxFqyV7ahCUpA4LfdQ7RfC1sYZDytmhTkWyYxYVxDNN8SngE2D4HOc5znE7Z7HwOc5znOJ2z2Pgc5znOcTtnsfA5znOc4PCgJYvcfNEq3U5QQmF0hM82KECFMwbLxsvLFQksI8ohKYtMnxl/VznOJ2z2Py5yvBgbJi+TfzHqjFZE0CHi+herDdjhERBd3KwRFASeO5A6ZlkCJtaoz1w2duS6gsX5aJ2z2KABMdXgasLYwNSfax152HyktzQfroSjmpwhoYcgj7AuU+m8QAgiqGHFv0I8b7Kq7ALqBseKVsdMUQVKQuXfNC1w0h5PNHZaw8UtmYqbHmFObNVr2KFqKD+gAT6aj9EC5EkYCOSfhN73RXLrB/pnDc8NL+tAsJe/wAX7G97/U40RNGWAV4eK5qiIjJGEOVOTzUaa0mMKE+oM+KYhSMSf38miQMUmYmMGG7BajshlBfQAXVbAZpmWcBUwV+URi9Ya2HDN2FxeIuVy+whQeV5Rhq6PafgN738Bve/gN738AhR2YAmVocN5UuI8A3xZouqZ6EDgScsnmp7zP3ntD6nP6m97/JokDFJmJjBhuwWp1sYusrAAlVeCnAI0UMJ8hF/S+Kn4+lkoQOsbRBom/J2kgwZNpSKcg5zH3SvBbbrBlZbpCFIlBswV8GZIJV5zEhU2GShKWIQtJyxUceiYUIRa0TY+2stjS4gCNiLxF7L+gT7EqKFioe21TokncwpDmmw4WpJN0U9eID7YzzQhuHXguSSAySe9MKnQg2EEMzExNL8cTaQ5NzE3c0YBo6orGF/PwyAlZo4I+6WDZYcWIJXXo/pI6oKpaU4MCcli2tIQcrWWyXvngUlaHDSJP6hc1ihsIS3m68z+Te9/qSqITuWeOy3xXBX8RABk3l5OVA0Zm5c4RyIyvalnl95QT8gUpuSArKJ9ZoWRLwiMTKBciZIzXPJEnLywLaQY9lOm7PF5AQgjyLxNRQeZf03DE8F8wU2ClwiC/Dc+vgN738Bve/gN738EDBbSi4D6pjrkqoRRZggMuXChJb5hD1iPP8A4qEeBTGLgkvkIL8T+hve/wAgUpuSArKJ9ZqcqQ6UbRzb0tRVQwwUDDZUkFY8tRjbtWZcRCBxYKE0TCJEPtL7KitHC4yn/wBo7vv3Ub/dRv8AdRv91G/3Ub/dRv8AdRv90J4/+5fdRv8AdRv91G/3Ub/dRv8AdRv91G/3Ub/dRv8AdRv91G/3Ub/dRv8AdRv90HN+z7qN/uo3+6jf7qN/uo3+6jf7qN/ug5v2fdRv91G/3Ub/AHUb/dRv91G/3Ub/AHQc37Puo3+6jf7qN/uo3+6jf7qN/uo3+6Dm/Z91G/3Ub/dRv91G/wB1G/3Ub/dRv90HN+z7qN/uo3+6jf7qN/uo3+6jf7qN/ug5v2fdRv8AdRv91G/3Ub/dRv8AdRv91G/3Qc37Puo3+6jf7qN/uo3+6jf7qN/uo3+6Dm/Z91G/3Ub/AHUb/dRv91G/3Ub/AHUb/dBzfs+6jf7qN/uo3+6jf7qN/uo3+6jf7oOb9n3WPS/4M+13zm97+A3vfwG97+A3vfwG97+A3vfwG97+A3vfwG97+A3vdH//ALO/A5znOc4bkew/O5znOc5znOc5xO2ex8DnOc5zids9j4HOc5znE7Z7HwOc5znOJ2z2Pgc5znOcTtnsfA5znOc4nbPY+BznOc5xO2ex8DnOc5zids9j4HOc5znE7Z7HwOc5znOJ2z2KABMdXgasLYwNSfax152HyktzQfroSjmpwhoYcgj7AuU+m8QAgiqGHFv0I8b7Kq7ALqBseKa0LXDSy0AiWLTR4UsyJhojEPwrw1YWxgaRkhubEYRUIiYahMXLguwf+2ppE8HI+m58Jve6K5dYP9M4bnhpf1oFhL3+L9je9/sLfCEJMpCBJfF6ghumxhQn1hnxTEKRiT+/k0SBikzExgw3YLVCYuXBdg/9tR3BGX02h4HiuaoiIyRhDlTk80LiRfuXDIvinIOcx9/Ab3v4De9/Ab3v4BCjswBMrQ4bypcR4BvizRdUz0IHAk5ZPNT3mfvPaH1Of1N73+TRIGKTMTGDDdgtUXMJI3YIBW6YoPo1nCm1/a9jhoFLlNEmMIUMluYqKpGDHYAEyXgWfDV0e00rwW26wZWW6QhSJQbMFfBmSCVecxIVNhkoSliELScsVHHomFCEWtE2PtrLY0uIAjYi8Rey/oE+xKihYqHttSkjguavRZYRbNXKEnbLEI2ktLGeaJP2fZIEEVbm8INBqHG6cRSE0rBuzBigPMltk8gnHAc/xZ95OzK2in+fDICVmjgj7pYNlhxYgldej+kjqgqlpTgwJyWLa0hBytZbJe+eBSVocNIk/qFzWKGwhLebrzP5N73+0tIXkcBFb2cuYK4Aojm7ByJiu0s8vvKCfkClNyQFZRPrNS0mXC/EYObWprGy8CjYYrct5rgr+IgAyby8nKr3joBNIsORg1FaOFxlP/vwG97+A3vfwG97+CBgtpRcB9Ux1yVUIoswQGXLhQkt8wh6xHn/AMVCPApjFwSXyEF+J/Q3vf5ApTckBWUT6zTXzu/ieWBMEjU/rT6CbaY3ZZB4pxGtr6Avi6k/RMUMREIlnC1zC9xTicpeUTR3ffuo3+6jf7qN/uo3+6jf7qN/uo3+6E8f/cvuo3+6jf7qN/uo3+6jf7qN/uo3+6jf7qN/uo3+6jf7qN/uo3+6jf7oOb9n3Ub/AHUb/dRv91G/3Ub/AHUb/dRv90HN+z7qN/uo3+6jf7qN/uo3+6jf7qN/ug5v2fdRv91G/wB1G/3Ub/dRv91G/wB1G/3Qc37Puo3+6jf7qN/uo3+6jf7qN/uo3+6Dm/Z91G/3Ub/dRv8AdRv91G/3Ub/dRv8AdBzfs+6jf7qN/uo3+6jf7qN/uo3+6jf7oOb9n3Ub/dRv91G/3Ub/AHUb/dRv91G/3Qc37Puo3+6jf7qN/uo3+6jf7qN/uo3+6Dm/Z91G/wB1G/3Ub/dRv91G/wB1G/3Ub/dBzfs+6Q3Tc8u2RyEgLATUHKFyZaolkMkWvUhwYk5MiUxc1hBOhqJEfJFGXlODkewFoYCWnN39JQRkFAVpsMxdH6pdKSpogMCWtuDFYaU9KZE5i5oTF1cSYSGQwXAUTRGAmQEwcAC1lJOMXIOCxsxPPmIpcikgkkYAPhVIEU8F6uFOKIDPvde8qSwmgM2IUTYA4cWkqOBwQkzkHIze1eoOUeZFZbCF3hRHB7kAnv8AJve/2tMpxrExtj0vUmJNyfxQg2lu4tVvcA8TL+QLLIspKVNrGAffFGpJ3gqg2UJieYotFF8q7NlIFAuSPIkaMTT3CcyIOU81dA3DvZAiAhcWmbxRve/gN738Bve/gN738AQs3Mcj+1a/CIvzFJImZXcPWC8AliwW55nhkpjkJqtlgjOfV/0N73+TKuZHbRFcC6F2fEEBSoYEewEoQ/TioJZwHdiDe+S3yZlEl0F4NNuIzT1GcogWeBcxgYhRve6uaSYipYoJyKWigDPG43orCIIigVOyUD25aBsYepGEI334FZ25kggBMq4l5cfo5zlImYSMjZIZ4v7qMsdiOlZT7Fs0MbAsrHvmnps5RVKxQRclM1p0LEpEH+AVHD7Ivqj/AKFc8L2Z8H/ZPwuc5znOdGLByBmYfr/tOoAkhEozkn7CnNhKzyCAiLFKRnMjo9leGgbkLsvmaCuCgtTRn7tUm24Kggn3+XOJ2z2P2c5znQYKUMn/ADPuD/5UYCd5OlBfYi5ekoyQNufy5yvBgbJi+TfzHqpshlc1FEKArQvEWpRmAmjCC2Pisj3eiNxoCfhYsYIwGLUrwYGyYvk38x6qNjEJicvFvgc5znOcTtnsfA5znOc4nbPY+BznOc5xO2ex8DnOc5zg8KAli9x80SrdTlBCYXSEzzYoQIUzBsvGy8sVCSwjyiEpi0yfGX9XOc4nbPY/LnNr6tN5BAWJ8WqyQmOC4lkeVv8AKUoZRDJwgsEAEDxUvdc2oWFyTwwoFIcDIHMXiPqm+JTwCbBQAJjq8DVhbGBqT7WOvOw+UluaD9dCUc1OENDDkEfYFyn03iAEEVQw4t+hHjfZVXYBdQNjxTWha4aWWgESxaaPClmRMNEYh+FeGrC2MDSMkNzYjCKhETDUJi5cF2D/ANtTSJ4OR9Nz4Te90Vy6wf6Zw3PDS/rQLCXv8X7G97/UCx5ZVRMAuoGx4prQtcNLLQCJYtNRprSYwoT6gz4piFIxJ/fyaJAxSZiYwYbsFqOyGUF9ABdVsBmld1EQYT5CL+l8UF/7eGYPlJbmhfBsj4xE8wLPhq6PafgN738Bve/gN738AhR2YAmVocN5UuI8A3xZouqZ6EDgScsnmp7zP3ntD6nP6m97/JokDFJmJjBhuwWpQKgDK0QdiIvkGSxNjF687mZcDjgoNrcxQKBb0TiAWje90rwW26wZWW6QhSJQbMFfBmSCVecxIVNhkoSliELScsVHHomFCEWtE2PtrLY0uIAjYi8Rey/oE+xKihYqHttSkjguavRZYRbNXKEnbLEI2ktLGeaJP2fZIEEVbm8INBqHG6cRSE0rBuzBigPMltk8gnHAc/xZ95OzK2in+fDICVmjgj7pYNlhxYgldej+kjqgqlpTgwJyWLa0hBytZbJe+eBSVocNIk/qFzWKGwhLebrzP5N73+pTLAqbFioe21KSOC5q9FlhFs0DRmblzhHIjK9qWeX3lBPyBSm5ICson1mhZEvCIxMoFyJkjNIE7ZIQCS6z5MWLjRIBFWd8CmUQQE1ljcZHMwsw0fynE5S8on4De9/Ab3v4De9/BAwW0ouA+qY65KqEUWYIDLlwoSW+YQ9Yjz/4qEeBTGLgkvkIL8T+hve/yBSm5ICson1mgKksp6DpOOBLzTpgRnWZmuMAWaR6ZR2AEGWLLr9Evo/BlzlKl1bBbMpSR26DeYYJ/wAKO7791G/3Ub/dRv8AdRv91G/3Ub/dRv8AdCeP/uX3Ub/dRv8AdRv91G/3Ub/dRv8AdRv91G/3Ub/dRv8AdRv91G/3Ub/dRv8AdBzfs+6jf7qN/uo3+6jf7qN/uo3+6jf7oOb9n3Ub/dRv91G/3Ub/AHUb/dRv91G/3Qc37Puo3+6jf7qN/uo3+6jf7qN/uo3+6Dm/Z91G/wB1G/3Ub/dRv91G/wB1G/3Ub/dBzfs+6jf7qN/uo3+6jf7qN/uo3+6jf7oOb9n3Ub/dRv8AdRv91G/3Ub/dRv8AdRv90HN+z7qN/uo3+6jf7qN/uo3+6jf7qN/ug5v2fdRv91G/3Ub/AHUb/dRv91G/3Ub/AHQc37Puo3+6jf7qN/uo3+6jf7qN/uo3+6Dm/Z90hum55dsjkJAWAmoOULky1RLIZItepDgxJyZEpi5rCCdDUSI+SKMvKcHI9gLQwEtObv6SgjIKArTYZi6P1S6UlTRAYEtbcGKw0p6UyJzFzQmLq4kwkMhguAomiMBMgJg4AFrKScYuQcFjZiefMRS5FJBJIwAfCqQIp4L1cKcUQGfe695UlhNAZsQomwBw4tJUcDghJnIORm9q9Qco8yKy2ELvCiOD3IBPf5N73+t/327I4Sj7Rt/tIo56Ly0iAK3iIo0Ymcd1hjxIbr4q3uAeJl/IFlkWUlKm1jAPvijUk7wVQbKExPMUtxdfLQ4IeeP+1IwqKIBIiDNvoJsvTLm4xlhyrBYPSje9/Ab3v4De9/Ab3v4AhZuY5H9q1+ERfmKSRMyu4esF4BLFgtzzPDJTHITVbLBGc+r/AKG97/JlXMjtoiuBdC7PhKuHJ358E+JH6aXy0GBvbiALqwBaWZJZDEy3WDBJhZsGFCeAq+dOHEAnJermkmIqWKCcilooAzxuN6KwiCIoFTslA9uWgbGHqRhCN9+BWduZIIATKuJeXH6Oc5SJmEjI2SGeL+6jLHYjpWU+xbNDGwLKx75p6bOUVSsUEXJTNadCxKRB/gFRw+yL6o/6Fc8L2Z8H/ZPwuc5znOdGLByBmYfr/tOoAkhEozkn7CnNhKzyCAiLFKRnMjo9leGgbkLsvmaCuCgtTRn7tUm24Kggn3+XOJ2z2P1c5zh7V4E4SeiOKh2i+FrYwyHlbNc2zyAhQvsC5ekoyQNufy5yvBgbJi+TfzHqpshlc1FEKArQvEWrJXtqEJSkDgt91Y2fCRyzjsPK2aJrQrZhkFcQ03xKeATYPgc5znOcTtnsfA5znOc4nbPY+BznOc5xO2ex8DnOc5zg8KAli9x80SrdTlBCYXSEzzYoQIUzBsvGy8sVCSwjyiEpi0yfGX9XOc4nbPY/LnNr6tN5BAWJ8WoMqBlIhjZ9C/qr3i6BusDFWFcRFF3uVGSk6rjiilntgIuUSWYKNhgi/wB0ACY6vA1YWxgak+1jrzsPlJbmg/XQlHNThDQw5BH2Bcp9N4gBBFUMOLfoR432VV2AXUDY8U1oWuGlloBEsWmjwpZkTDRGIfhXhqwtjA0jJDc2IwioREw1CYuXBdg/9tTSJ4OR9Nz4Te90Vy6wf6Zw3PDS/rQLCXv8X7G97/VIo8+aQGqwuOKdJdEqeQEcyW5qNNaTGFCfUGfFMQpGJP7+TRIGKTMTGDDdgtR2QygvoALqtgM0ruoiDCfIRf0vigXwWTOJPgbMhQiYxznENn3xPhq6PafgN738Bve/gN738AhR2YAmVocN5UuI8A3xZouqZ6EDgScsnmp7zP3ntD6nP6m97/JokDFJmJjBhuwWqExcuC7B/wC2r/6F2c0Y5KFO1xRkZWwQlSL09IkKSQSQD7o3vdK8FtusGVlukIUiUGzBXwZkglXnMSFTYZKEpYhC0nLFRx6JhQhFrRNj7ay2NLiAI2IvEXsv6BPsSooWKh7bUpI4Lmr0WWEWzVyhJ2yxCNpLSxnmiT9n2SBBFW5vCDQahxunEUhNKwbswYoDzJbZPIJxwHP8WfeTsytop/nwyAlZo4I+6WDZYcWIJXXo/pI6oKpaU4MCcli2tIQcrWWyXvngUlaHDSJP6hc1ihsIS3m68z+Te9/rAYr7ceuxGWeM0VYLB0C0Mo+HMYoGjM3LnCORGV7Us8vvKCfkClNyQFZRPrNCyJeERiZQLkTJGaQJ2yQgEl1nyYsXGoZ/bdMBGSt/ow1DmOxBC/B3JEYo4nKXlE/Ab3v4De9/Ab3v4IGC2lFwH1THXJVQiizBAZcuFCS3zCHrEef/ABUI8CmMXBJfIQX4n9De9/kClNyQFZRPrNS0mXC/EYObWoEscJ0oEElyUsVN7klXxi0iycMKst0IQZRG8SLE5rwzhsTeju+/dRv91G/3Ub/dRv8AdRv91G/3Ub/dCeP/ALl91G/3Ub/dRv8AdRv91G/3Ub/dRv8AdRv91G/3Ub/dRv8AdRv91G/3Ub/dBzfs+6jf7qN/uo3+6jf7qN/uo3+6jf7oOb9n3Ub/AHUb/dRv91G/3Ub/AHUb/dRv90HN+z7qN/uo3+6jf7qN/uo3+6jf7qN/ug5v2fdRv91G/wB1G/3Ub/dRv91G/wB1G/3Qc37Puo3+6jf7qN/uo3+6jf7qN/uo3+6Dm/Z91G/3Ub/dRv8AdRv91G/3Ub/dRv8AdBzfs+6jf7qN/uo3+6jf7qN/uo3+6jf7oOb9n3Ub/dRv91G/3Ub/AHUb/dRv91G/3Qc37Puo3+6jf7qN/uo3+6jf7qN/uo3+6Dm/Z90hum55dsjkJAWAmoOULky1RLIZItepDgxJyZEpi5rCCdDUSI+SKMvKcHI9gLQwEtObv6SgjIKArTYZi6P1S6UlTRAYEtbcGKw0p6UyJzFzQmLq4kwkMhguAomiMBMgJg4AFrKScYuQcFjZiefMRS5FJBJIwAfCqQIp4L1cKcUQGfe695UlhNAZsQomwBw4tJUcDghJnIORm9q9Qco8yKy2ELvCiOD3IBPf5N73+vXyez9mhjDEvEKYhMxdCHmjRiZx3WGPEhuvire4B4mX8gWWRZSUqbWMA++KNSTvBVBsoTE8xUKaTcuFCLlw45oJHSOA8QS35xYvIFdHk5VBCBjkZ8RYosX3PwG97+A3vfwG97+AIWbmOR/atfhEX5ikkTMruHrBeASxYLc8zwyUxyE1WywRnPq/6G97/JlXMjtoiuBdC7PjwSikqA5QWJ5ipX5Hn+rtLy4f7TGpLay5WywwJJihFcYPoWFWyJCDNBSZUllcOcVc0kxFSxQTkUtFAGeNxvRWEQRFAqdkoHty0DYw9SMIRvvwKztzJBACZVxLy4/RznKRMwkZGyQzxf3UZY7EdKyn2LZoY2BZWPfNPTZyiqVigi5KZrToWJSIP8AqOH2RfVH/AEK54Xsz4P8Asn4XOc5znOjFg5AzMP1/2nUASQiUZyT9hTmwlZ5BARFilIzmR0eyvDQNyF2XzNBXBQWpoz92qTbcFQQT7/LnE7Z7H6uc50CdjeIPCIf5NRwBM0SyIgMLJaK5tnkBChfYFy9JRkgbc/lzleDA2TF8m/mPVTZDK5qKIUBWheItUJt8lLKmEsLGPuWXmAGMCsp9i2aKUIuAZvSTzAn+tBwPc+BznOc5xO2ex8DnOc5zids9j4HOc5znE7Z7HwOc5znODwoCWL3HzRKt1OUEJhdITPNihAhTMGy8bLyxUJLCPKISmLTJ8Zf1c5zids9j8uc2vq03kEBYnxartvDCsCIUBWheItVmv9ksCsSLeE5vRe1ZzZy0aKr4ptxER0b06JILIlDTQJ/8Am1Y9L/gz7XfOb3v4De9/Ab3v4De9/Ab3v4De9/Ab3v4De9/Ab3v4De91j0v+DPtd85ve/gN738Bve/gN738Bve/gN738Bve/gN738Bve/gN73R3ffuo3+6jf7qN/uo3+6jf7qN/uo3+6E8f/cvuo3+6jf7qN/uo3+6jf7qN/uo3+6jf7qN/uo3+6jf7qN/uo3+6jf7oOb9n3Ub/AHUb/dRv91G/3Ub/AHUb/dRv90HN+z7qN/uo3+6jf7qN/uo3+6jf7qN/ug5v2fdRv91G/wB1G/3Ub/dRv91G/wB1G/3Qc37Puo3+6jf7qN/uo3+6jf7qN/uo3+6Dm/Z91G/3Ub/dRv8AdRv91G/3Ub/dRv8AdBzfs+6jf7qN/uo3+6jf7qN/uo3+6jf7oOb9n3Ub/dRv91G/3Ub/AHUb/dRv91G/3Qc37Puo3+6jf7qN/uo3+6jf7qN/uo3+6Dm/Z91G/wB1G/3Ub/dRv91G/wB1G/3Ub/dBzfs+6Q3Tc8u2RyEgLATUHKFyZaolkMkWvUhwYk5MiUxc1hBOhqJEfJFGXlODkewFoYCWnN39JQRkFAVpsMxdH6pdKSpogMCWtuDFT4ZoKEzJWLmhsYms4AsZOHmpOninQN+xnER4J2cA8ZRF7MwRZpC1Zygg8kTl5oOFu4Sw3IGVj6VdWTqnJTMuV/FYLQHeCBdifK/f7KkCKeC9XCnFEBn3uveVJYTQGbEKJsAcOLSVHA4ISZyDkZvavUHKPMisthC7wojg9yAT3+Te9/tNpfYOMCPQSyX8qZPyGiEwLYQ3b4q3uAeJl/TgcKTMlUqyuP4c1GKG9R48nF5WnGRYWvElRFaseBIqQDN0MxsiGpNPiIY/1ykzf4De9/Ab3v4De9/AELNzHI/tWvwiL8xSSJmV3D1gvAJYsFueZ4ZKY5CarZYIzn1f9De9/kyrmR20RXAuhdnwqSwxHlaT3/8AuKZElP8AD/giX/xmsIWhxBCI8B94VK+toGHml5xVny5MiYFiWrmkmIqWKCcilooAzxuN6KwiCIoFTslA9uWgbGHqRhCN9+BWduZIIATKuJeXH6Oc5SJmEjI2SGeL+6jLHYjpWU+xbNDGwLKx75phTBZZgAegAUMnfqEiQwccVgdf2jzyn3Q9Drr6IAV4JWW1HdswTsZCcZIav+LtgEF6XENzUEK8IPD+znOc6MWDkDMw/X/adQBJCJRnJP2FObCVnkEBEWKUjOZHR7K8NA3IXZfM0FcFBamjP3apNtwVBBPv8ucTtnsfs5znOfCOgPiBKceKQYUPwVSG3BM0OaSjJA25/RznXbDwQAFy6OX6igGhDWZED1ES1RwLM9akmErfk9EH1IMwcMF5bobr0jCcRsBNvgc5znOcTtnsfA5znOc4nbPY+BznOc5xO2ex8DnOc5zg8KAli9x80SrdTlBCYXSEzzYoQIUzBsvGy8sVCSwjyiEpi0yfGX9XOc4nbPY/LnNr6tN5BAWJ8Wq0QccFxLJ8rf5UjWCHCTatkZgNEkrUjHJDH3BvnFPF7RZK2plgsX5onbPYoAEx1eBqwtjA1J9rHXnYfKS3NB+uhKOanCGhhyCPsC5T6bxACCKoYcW/QjxvsqrsAuoGx4prQtcNLLQCJYtNF/fYCclHZaw8UtmYqbHmFObNVr2KEiCD+gAT6afbHABPTfwaIQiAryIZAku2vRPSLSI4aj9EC5EkYCOSf2N73RXLrB/pnDc8NL+tAsJe/wAX7G97/Z8VxJhNkclTikT+av6I4fDTEKRiT+/k0SBikzExgw3YLVCYuXBdg/8AbUmhgzasAjKXETUryy/KHHPMRc80K9lYeEQV5RzRve/gN738Bve/gN738AhR2YAmVocN5UuI8A3xZouqZ6EDgScsnmp7zP3ntD6nP6m97/MjAB2JgUBzeGGo+3TGL2P9a/8AoXZzRjkojfK0QjKyCF4i9MSAm7EzPw90oR8FJSlm5SvBbbrBlZbpCFIlBswV8GZIJV5zEhU2GShKWIQtJyxUceiYUIRa0TY+2stjS4gCNiLxF7L+gT7EqKFioe21KSOC5q9FlhFs1fwlAEseJJyxmhDcOvBckkBkk96YVOhBsIIZmJiaJJDLQz/5H2m/NCyGaVwuljOZh6o1DxGpOE0cyYbKmk6OevEB9sZ5owDR1RWML+f2kBKzRwR90sGyw4sQSuvR/SR1QVS0pwYE5LFtaQg5WstkvfPApK0OGkSf1C5rFDYQlvN15n8m97/aSZOai2eA2PH/ANqICyBeQNSyS5valnl95QT8gUpuSArKJ9ZqWky4X4jBza1MZ6mcNCETNfSxfyNHw3JfCDKpYAqOzHEBAbMOUqcohcB/fgN738Bve/gN738EDBbSi4D6pjrkqoRRZggMuXChJb5hD1iPP/ioR4FMYuCS+QgvxP6G97/LlPve5hnP7YL5iiVu8tA2iLjki1AljhOlAgkuSlipewrSuJFSof6xUhUAolkQjEi5k8UQAgIg/tHd9+6jf7qN/uo3+6jf7qN/uo3+6jf7oTx/9y+6jf7qN/uo3+6jf7qN/uo3+6jf7qN/uo3+6jf7qN/uo3+6jf7qN/ug5v2fdRv91G/3Ub/dRv8AdRv91G/3Ub/dBzfs+6jf7qN/uo3+6jf7qN/uo3+6jf7oOb9n3Ub/AHUb/dRv91G/3Ub/AHUb/dRv90HN+z7qN/uo3+6jf7qN/uo3+6jf7qN/ug5v2fdRv91G/wB1G/3Ub/dRv91G/wB1G/3Qc37Puo3+6jf7qN/uo3+6jf7qN/uo3+6Dm/Z91G/3Ub/dRv8AdRv91G/3Ub/dRv8AdBzfs+6jf7qN/uo3+6jf7qN/uo3+6jf7oOb9n3Ub/dRv91G/3Ub/AHUb/dRv91G/3Qc37PukN03PLtkchICwE1ByhcmWqJZDJFr1IcGJOTIlMXNYQToaiRHyRRl5Tg5HsBaGAlpzd/SUEZBQFabDMXR+qXSkqaIDAlrbgxU+GaChMyVi5obGJrOALGTh5qTp4p0DfsZxEeCdnAPGURezMEWaQtWcoIPJE5eaDhbuEsNyBlY+lXVk6pyUzLlfxWC0B3ggXYnyv3+ypAingvVwpxRAZ97r3lSWE0BmxCibAHDi0lRwOCEmcg5Gb2r1ByjzIrLYQu8KI4PcgE9/k3vf6zmjoKFbTYZi6P1S6UlTRAYEtbcGKNGJnHdYY8SG6+Kt7gHiZfyBZZFlJSptYwD74pzF4IebSca4p9XoHOIoK4CzicckCyABgyWPg54pb3qOsoJYoY+acOIBOS/wG97+A3vfwG97+AIWbmOR/atfhEX5ikkTMruHrBeASxYLc8zwyUxyE1WywRnPq/6G97/IFlkWUlKm1jAPvimEBStpzZZhMWfpxU78KHSTlBN52WFmgkJXP3MM1WGSE1G62DnRArODan0ixRYvuauaSYipYoJyKWigDPG43orCIIigVOyUD25aBsYepGEI334FZ25kggBMq4l5cfo5zlImYSMjZIZ4v7qMsdiOlZT7Fs0MbAsrHvmmFMFlmAB6ABQyd+oSJDBxxWB1/aPPKfdD0OuvogBXglZbUd2zBOxkJxkhq/4u2AQXpcQ3NQQrwg8P7Oc5zoxYOQMzD9f9p1AEkIlGck/YU5sJWeQQERYpSM5kdHsrw0Dchdl8zQVwUFqaM/dqk23BUEE+/wAucTtnsfq5znQPAoSIjZIvxeoyx2I6VlPsWzXNs8gIUL7AuXpKMkDbn8ucrwYGyYvk38x6pxuhxBEsDyt/lXo+XBX5RiWcT7pbXQ54KU5WiZaDL9wjzMSkWZ/9UbDBF/v4HOc5znE7Z7HwOc5znOJ2z2Pgc5znOcTtnsfA5znOc4PCgJYvcfNEq3U5QQmF0hM82KECFMwbLxsvLFQksI8ohKYtMnxl/VznOJ2z2Py5yvBgbJi+TfzHqpFLMvbm0HghHxUCjbUgANPA4FqZRLxWiWY5DN3uj+WtBDPuOYA/7QcD3KABMdXgasLYwNSfax152HyktzQfroSjmpwhoYcgj7AuU+m8QAgiqGHFv0I8b7Kq7ALqBseKa0LXDSy0AiWLTRf32AnJR2WsPFLZmKmx5hTmzVa9ihIgg/oAE+mn2xwAT038GiEIgK8iGQJLtr0T0i0iOGo/RAuRJGAjkn9je90Vy6wf6Zw3PDS/rQLCXv8AF+xve/1dXL7eYDVYWxxQX/t4Zg+UluajTWkxhQn1BnxTEKRiT+/k0SBikzExgw3YLUdkMoL6AC6rYDNK7qIgwnyEX9L4oFzpvYTQJWZLNmoxoymAS0H3Rve/gN738Bve/gN738AhR2YAmVocN5UuI8A3xZouqZ6EDgScsnmp7zP3ntD6nP6m97/JokDFJmJjBhuwWqwQUoldgALqrAF2rgIUXOScxF/S+KklcuV50HyktzQuJF+5cMi+Kcg5zH3SvBbbrBlZbpCFIlBswV8GZIJV5zEhU2GShKWIQtJyxUceiYUIRa0TY+2stjS4gCNiLxF7L+gT7EqKFioe21KSOC5q9FlhFs1fwlAEseJJyxmhDcOvBckkBkk96YVOhBsIIZmJiaJJDLQz/wCR9pvzQshmlcLpYzmYeqNQ8RqThNHMmGyppOjnrxAfbGeaMA0dUVjC/n9pASs0cEfdLBssOLEErr0f0kdUFUtKcGBOSxbWkIOVrLZL3zwKStDhpEn9QuaxQ2EJbzdeZ/Jve/1Bk+QW+OweiaJAIqzvgUyiCAmgaMzcucI5EZXtSzy+8oJ+QKU3JAVlE+s0LIl4RGJlAuRMkZpAnbJCASXWfJixcabVneIEvjXCLIQmmGOWbyKTFkO1814Zw2Jv8Bve/gN738Bve/ggYLaUXAfVMdclVCKLMEBly4UJLfMIesR5/wDFQjwKYxcEl8hBfif0N73+QKU3JAVlE+s0+VaFYiCy7wXE5xRiBYnWYJAw+BBNNJcLXeGA3FrDFXvHQCaRYcjBqK0cLjKf/aO7791G/wB1G/3Ub/dRv91G/wB1G/3Ub/dCeP8A7l91G/3Ub/dRv91G/wB1G/3Ub/dRv91G/wB1G/3Ub/dRv91G/wB1G/3Ub/dBzfs+6jf7qN/uo3+6jf7qN/uo3+6jf7oOb9n3Ub/dRv8AdRv91G/3Ub/dRv8AdRv90HN+z7qN/uo3+6jf7qN/uo3+6jf7qN/ug5v2fdRv91G/3Ub/AHUb/dRv91G/3Ub/AHQc37Puo3+6jf7qN/uo3+6jf7qN/uo3+6Dm/Z91G/3Ub/dRv91G/wB1G/3Ub/dRv90HN+z7qN/uo3+6jf7qN/uo3+6jf7qN/ug5v2fdRv8AdRv91G/3Ub/dRv8AdRv91G/3Qc37Puo3+6jf7qN/uo3+6jf7qN/uo3+6Dm/Z90hum55dsjkJAWAmoOULky1RLIZItepDgxJyZEpi5rCCdDUSI+SKMvKcHI9gLQwEtObv6SgjIKArTYZi6P1S6UlTRAYEtbcGKnwzQUJmSsXNDYxNZwBYycPNSdPFOgb9jOIjwTs4B4yiL2ZgizSFqzlBB5InLzQcLdwlhuQMrH0q6snVOSmZcr+KwWgO8EC7E+V+/wBlSBFPBerhTiiAz73XvKksJoDNiFE2AOHFpKjgcEJM5ByM3tXqDlHmRWWwhd4URwe5AJ7/ACb3v9YxQ3qPHk4vK04yGG1/oSBFXkhZItRoxM47rDHiQ3XxVvcA8TL+QLLIspKVNrGAffFGpJ3gqg2UJieYqV+R5/q7S8uH+0sLXiSoitWPAkVIBm6GY2RDUmnxEMf65SZv8Bve/gN738Bve/gCFm5jkf2rX4RF+YpJEzK7h6wXgEsWC3PM8MlMchNVssEZz6v+hve/yZVzI7aIrgXQuz4Srhyd+fBPiR+msw6slmLJmQEYc02oTxpzLsymQXLKCn+ScNdYudqcOIBOS9XNJMRUsUE5FLRQBnjcb0VhEERQKnZKB7ctA2MPUjCEb78Cs7cyQQAmVcS8uP0c5ykTMJGRskM8X91GWOxHSsp9i2aGNgWVj3zTCmCyzAA9AAoZO/UJEhg44rA6/tHnlPuh6HXX0QArwSstqO7ZgnYyE4yQ1f8AF2wCC9LiG5qCFeEHh/ZznOdGLByBmYfr/tOoAkhEozkn7CnNhKzyCAiLFKRnMjo9leGgbkLsvmaCuCgtTRn7tUm24Kggn3+XOJ2z2P1c5zihOKebJCMF+Ssjr6c0DAcIi0VzbPICFC+wLl6SjJA25/LnK8GBsmL5N/MeqmyGVzUUQoCtC8RarNf7JYFYkW8Jzeo4FmetSTCVvyeiD6kGYOGC8t0N16RhOI2Am3wOc5znOJ2z2Pgc5znOcTtnsfA5znOc4nbPY+BznOc5weFASxe4+aJVupyghMLpCZ5sUIEKZg2XjZeWKhJYR5RCUxaZPjL+rnOcTtnsflzm19Wm8ggLE+LUGVAykQxs+hf1Q59wtIgCAQ+JsQlTM+5AxZOKLIDm9Ga6+FRCkZMwT/tGwwRf7oAEx1eBqwtjA1J9rHXnYfKS3NB+uhKOanCGhhyCPsC5T6bxACCKoYcW/QjxvsqrsAuoGx4prQtcNLLQCJYtNF/fYCclHZaw8UtmYqbHmFObNVr2KEiCD+gAT6afbHABPTfwaIQiAryIZAku2vRPSLSI4aj9EC5EkYCOSf2N73RXLrB/pnDc8NL+tAsJe/xfsb3v9TjRE0ZYBXh4rmqIiMkYQ5U5PNRprSYwoT6gz4piFIxJ/fyaJAxSZiYwYbsFqOyGUF9ABdVsBmld1EQYT5CL+l8UaEbWbhKQNmQhtUTj921QyL4vTkHOY+/gN738Bve/gN738AhR2YAmVocN5UuI8A3xZouqZ6EDgScsnmp7zP3ntD6nP6m97/JokDFJmJjBhuwWqCccysrAEiqsQVyp16znmOY4XxQH9T/k0SLMhDZvRrP92wghculOQc5j7pXgtt1gyst0hCkSg2YK+DMkEq85iQqbDJQlLEIWk5YqOPRMKEItaJsfbWWxpcQBGxF4i9l/QJ9iVFCxUPbalJHBc1eiywi2av4SgCWPEk5YzQhuHXguSSAySe9MKnQg2EEMzExNEkhloZ/8j7TfmhZDNK4XSxnMw9Uah4jUnCaOZMNlTSdHPXiA+2M80YBo6orGF/P7SAlZo4I+6WDZYcWIJXXo/pI6oKpaU4MCcli2tIQcrWWyXvngUlaHDSJP6hc1ihsIS3m68z+Te9/qSqITuWeOy3xXBX8RABk3l5OVA0Zm5c4RyIyvalnl95QT8gUpuSArKJ9ZoWRLwiMTKBciZIzSBO2SEAkus+TFi40vJx/1JzldiPcFGUqb8CCRGTHKorRwuMp/9+A3vfwG97+A3vfwQMFtKLgPqmOuSqhFFmCAy5cKElvmEPWI8/8AioR4FMYuCS+QgvxP6G97/IFKbkgKyifWaiDCXB5AfYSjw0xzWh0LJF7gRAFqGEuwqJWgk4ELSBolL1aHLQZ7uV81FaOFxlP/ALR3ffuo3+6jf7qN/uo3+6jf7qN/uo3+6E8f/cvuo3+6jf7qN/uo3+6jf7qN/uo3+6jf7qN/uo3+6jf7qN/uo3+6jf7oOb9n3Ub/AHUb/dRv91G/3Ub/AHUb/dRv90HN+z7qN/uo3+6jf7qN/uo3+6jf7qN/ug5v2fdRv91G/wB1G/3Ub/dRv91G/wB1G/3Qc37Puo3+6jf7qN/uo3+6jf7qN/uo3+6Dm/Z91G/3Ub/dRv8AdRv91G/3Ub/dRv8AdBzfs+6jf7qN/uo3+6jf7qN/uo3+6jf7oOb9n3Ub/dRv91G/3Ub/AHUb/dRv91G/3Qc37Puo3+6jf7qN/uo3+6jf7qN/uo3+6Dm/Z91G/wB1G/3Ub/dRv91G/wB1G/3Ub/dBzfs+6x6X/Bn2u+c3vfwG97+A3vfwG97+A3vfwG97+A3vfwG97+A3vfwG97o//wDZ34HOc5znDcj2H53Oc5znOc5znOJ2z2Pgc5znOcTtnsfA5znOc4nbPY+BznOc5xO2ex8DnOc5zids9j4HOc5znE7Z7HwOc5znOJ2z2Pgc5znOcTtnsfA5znOc4nbPY+BznOc5xO2exQAJjq8DVhbGBqT7WOvOw+UluaD9dCUc1OENDDkEfYFyn03iAEEVQw4t+gAEaVebDVhbGBpGSG5sRhFQiJhqExcuC7B/7amkTwcj6bnyG97orl1g/wBM4bnhpf1oFhL3+L9je9/sLfCEJMpCBJfF6ghumxhQn1hnxTEKRiT+/k0SBikzExgw3YLVP9c8AV/ChmxPqe4ihoGfChHw4JLEE1ArU8UgkgH3Rve/gN738Bve/gN738AhR2YAmVocN5UuI8A3xZouqZ6EDgScsnmp7zP3ntD6nP6m97/JokDFJmJjBhuwWp1sYusrAAlVeCk6PEnRKCAxHHNSkRPMIYByoUa8LmbCLv8AaN73SvBbbrBlZbpCFIlBswV8GZIJV5zEhU2GShKWIQtJyxUceiYUIRa0TY+2stjS4gCNiLxF7L+ipBdbiIyst0hCkShqHG6cRSE0rBuzBigPMltk8gnHAc/xZ95OzK2in+fJICVmjgj7pYNlhxYgldej+kjqgqlpTgwJyWLa0hBytZbJe+eBSVocNIk/qFzWKGwhLebrzP5N73+0tIXkcBFb2cuYK4Aojm7ByJiu0s8vvKCfkClNyQFZRPrNErD8aQHMAbZm2aMQyLBpOD/NdxS2DZ90hW4uxYnijR2WZlV1FweDxFeGcNib/Ab3v4De9/Ab3v4IGC2lFwH1THXJVQiizBAZcuFCS3zCHrEef/FQjwKYxcEl8hBfif0N73+QKU3JAVlE+s1OVIdKNo5t6WqzFzyBPmE4uicpUVv1rPFOTwjGNIEyuXAAksicQ9ylJHboN5hgn/Cju+/dRv8AdRv91G/3Ub/dRv8AdRv91G/3Qnj/AO5fdRv91G/3Ub/dRv8AdRv91G/3Ub/dRv8AdRv91G/3Ub/dRv8AdRv91G/3Qc37Puo3+6jf7qN/uo3+6jf7qN/uo3+6Dm/Z91G/3Ub/AHUb/dRv91G/3Ub/AHUb/dBzfs+6jf7qN/uo3+6jf7qN/uo3+6jf7oOb9n3Ub/dRv91G/wB1G/3Ub/dRv91G/wB0HN+z7qN/uo3+6jf7qN/uo3+6jf7qN/ug5v2fdRv91G/3Ub/dRv8AdRv91G/3Ub/dBzfs+6jf7qN/uo3+6jf7qN/uo3+6jf7oOb9n3Ub/AHUb/dRv91G/3Ub/AHUb/dRv90HN+z7qN/uo3+6jf7qN/uo3+6jf7qN/ug5v2fdIbpueXbI5CQFgJqDlC5MtUSyGSLXqQ4MScmRKYuawgnQ1EiPkijLynByPYC0MBLTm7+jFzoPK2RyEgLATRNEYCZATBwALWUk4xcg4LGzE8+YilyKSCSRgA+RUgRTwXq4U4ogM+917ypLCaAzYhRNgDhxaSo4HBCTOQcjN7V6g5R5kVlsIXeFEcHuQCe/yb3v9rTKcaxMbY9L1JiTcn8UINpbuLVb3APEy/kCyyLKSlTaxgH3xTrI1gSbwNpjyP01G7iwcyKJHIO1gFT/rwKgtJyoWRqzCpLBYsB98Ub3v4De9/Ab3v4De9/AELNzHI/tWvwiL8xSSJmV3D1gvAJYsFueZ4ZKY5CarZYIzn1f9De9/pDzad2mXyYCcopf99uyOEo+0bf7TPbMiT/UCBzik7KJkBAkEirWDiSje91c0kxFSxQTkUtFAGeNxvRWEQRFAqdkoHty0DYw9SMIRvvwKztzJBACZVxLy4/RznXkp8dksUE5FM1p0LEpEH+AVHD7Ivqj/AKFc8L2Z8H/ZPyOc5znOc5zoxYOQMzD9f9p1AEkIlGck/YU5sJWeQQERYpSM5kdHsrw0Dchdl8zQVwUFqaM/dqk23BUEE+/y5xO2ex+znOc6DBShk/5n3B/8qMBO8nSgvsRcvSUZIG3P5c5XgwNkxfJv5j1RisiaBDxfQvUZFubyRAEtjGIqbF/vAgYibUi7AIuL5L3evVRsYhMTl4t8DnOc5zids9j4HOc5znE7Z7HwOc5znOJ2z2Pgc5znOcHhQEsXuPmiVbqcoITC6QmebFCBCmYNl42XlioSWEeUQlMWmT4y/q5znE7Z7H6Oc4yN+In9GQxZPFNfZB/lkh6UdLZGM3EWkXuBvnETANVCGCJcQ+qb4lPAJsFAAmOrwNWFsYGpPtY687D5SW5oP10JRzU4Q0MOQR9gXKfTeIAQRVDDi36AARpV5sNWFsYGkZIbmxGEVCImGoTFy4LsH/tqaRPByPpufIb3uiuXWD/TOG54aX9aBYS9/i/Y3vf6gWPLKqJgF1A2PFNaFrhpZaARLFpqNNaTGFCfUGfFMQpGJP7+TRIGKTMTGDDdgtUJi5cF2D/21JCXQGHwMrZ44aOqwaJNyTIZItDMUN6YBLAg5zwo3vfwG97+A3vfwG97+AQo7MATK0OG8qXEeAb4s0XVM9CBwJOWTzU95n7z2h9Tn9Te9/k0SBikzExgw3YLVBOOZWVgCRVWIKZHo1jPeYW3JV+xCIwBELXQyUa8LmbCLv8AaN73SvBbbrBlZbpCFIlBswV8GZIJV5zEhU2GShKWIQtJyxUceiYUIRa0TY+2stjS4gCNiLxF7L+ipBdbiIyst0hCkShqHG6cRSE0rBuzBigPMltk8gnHAc/xZ95OzK2in+fJICVmjgj7pYNlhxYgldej+kjqgqlpTgwJyWLa0hBytZbJe+eBSVocNIk/qFzWKGwhLebrzP5N73+pTLAqbFioe21KSOC5q9FlhFs0DRmblzhHIjK9qWeX3lBPyBSm5ICson1mpaTLhfiMHNrVPx+cFTtSLMjHNWSu/h65lFMQFFREj2c/NoX/AErwzhsTf4De9/Ab3v4De9/BAwW0ouA+qY65KqEUWYIDLlwoSW+YQ9Yjz/4qEeBTGLgkvkIL8T+hve/yBSm5ICson1mogwlweQH2Eo8NCiUYccDdSiALFpYcXsabIDIr3WuGkCZXLgASWROIe5Skjt0G8wwT/hR3ffuo3+6jf7qN/uo3+6jf7qN/uo3+6E8f/cvuo3+6jf7qN/uo3+6jf7qN/uo3+6jf7qN/uo3+6jf7qN/uo3+6jf7oOb9n3Ub/AHUb/dRv91G/3Ub/AHUb/dRv90HN+z7qN/uo3+6jf7qN/uo3+6jf7qN/ug5v2fdRv91G/wB1G/3Ub/dRv91G/wB1G/3Qc37Puo3+6jf7qN/uo3+6jf7qN/uo3+6Dm/Z91G/3Ub/dRv8AdRv91G/3Ub/dRv8AdBzfs+6jf7qN/uo3+6jf7qN/uo3+6jf7oOb9n3Ub/dRv91G/3Ub/AHUb/dRv91G/3Qc37Puo3+6jf7qN/uo3+6jf7qN/uo3+6Dm/Z91G/wB1G/3Ub/dRv91G/wB1G/3Ub/dBzfs+6Q3Tc8u2RyEgLATUHKFyZaolkMkWvUhwYk5MiUxc1hBOhqJEfJFGXlODkewFoYCWnN39GLnQeVsjkJAWAmiaIwEyAmDgAWspJxi5BwWNmJ58xFLkUkEkjAB8ipAingvVwpxRAZ97r3lSWE0BmxCibAHDi0lRwOCEmcg5Gb2r1ByjzIrLYQu8KI4PcgE9/k3vf63/AH27I4Sj7Rt/tIo56Ly0iAK3iIo0Ymcd1hjxIbr4q3uAeJl/IFlkWUlKm1jAPvijUk7wVQbKExPMUtxdfLQ4IeeP+1b4B7ynEEwYBKIjFQbvPDxgt2CFC9/EjjFwH9+A3vfwG97+A3vfwBCzcxyP7Vr8Ii/MUkiZldw9YLwCWLBbnmeGSmOQmq2WCM59X/Q3vf5AssiykpU2sYB98U6yNYEm8DaY8j9NRu4sHMiiRyDsM7BciXbCiULGZCWnxwJISC3MmzAHhRve6uaSYipYoJyKWigDPG43orCIIigVOyUD25aBsYepGEI334FZ25kggBMq4l5cfo5zryU+OyWKCcima06FiUiD/AKjh9kX1R/0K54Xsz4P+yfkc5znOc5znRiwcgZmH6/7TqAJIRKM5J+wpzYSs8ggIixSkZzI6PZXhoG5C7L5mgrgoLU0Z+7VJtuCoIJ9/lzids9j9XOc4e1eBOEnojiodovha2MMh5WzXNs8gIUL7AuXpKMkDbn8ucrwYGyYvk38x6qbIZXNRRCgK0LxFqyV7ahCUpA4LfdDM2+Y4Nw8LWmhHqL0XbzILEgWtUETAUJV72t/nwOc5znOJ2z2Pgc5znOcTtnsfA5znOc4nbPY+BznOc5weFASxe4+aJVupyghMLpCZ5sUIEKZg2XjZeWKhJYR5RCUxaZPjL+rnOcTtnsflzleDA2TF8m/mPVGKyJoEPF9C9RkW5vJEAS2MYirlvCWBkEyOJqc4kiMjIKzF6b4lPAJsFAAmOrwNWFsYGpPtY687D5SW5oP10JRzU4Q0MOQR9gXKfTeIAQRVDDi36AARpV5sNWFsYGkZIbmxGEVCImGoTFy4LsH/tqaRPByPpufIb3uiuXWD/TOG54aX9aBYS9/i/Y3vf6pFHnzSA1WFxxTpLolTyAjmS3NRprSYwoT6gz4piFIxJ/fyaJAxSZiYwYbsFqOyGUF9ABdVsBmmZZwFTBX5RGL1hrYcM3YXF4i5XL7CFB5XlGGro9p+A3vfwG97+A3vfwCFHZgCZWhw3lS4jwDfFmi6pnoQOBJyyeanvM/ee0Pqc/qb3v8miQMUmYmMGG7BaoJxzKysASKqxBVjcY9NMxiFiJi9SWDIaBWUmTNMwv7bAWSf0tzRve6V4LbdYMrLdIQpEoNmCvgzJBKvOYkKmwyUJSxCFpOWKjj0TChCLWibH21lsaXEARsReIvZf0VILrcRGVlukIUiUNQ43TiKQmlYN2YMUB5ktsnkE44Dn+LPvJ2ZW0U/wA+SQErNHBH3SwbLDixBK69H9JHVBVLSnBgTksW1pCDlay2S988CkrQ4aRJ/ULmsUNhCW83Xmfyb3v9YDFfbj12IyzxmirBYOgWhlHw5jFA0Zm5c4RyIyvalnl95QT8gUpuSArKJ9ZoWRLwiMTKBciZIzXPJEnLywLaQY9lOm7PF5AQgjyLxNRQeZf03DE8F8wU2ClwiC/Dc+vgN738Bve/gN738EDBbSi4D6pjrkqoRRZggMuXChJb5hD1iPP/AIqEeBTGLgkvkIL8T+hve/yBSm5ICson1mogwlweQH2Eo8NDDKHNzwyCzBYc4eTbSLETB5v9qEvBjMWSKFxhZzKUkdug3mGCf8KO7791G/3Ub/dRv91G/wB1G/3Ub/dRv90J4/8AuX3Ub/dRv91G/wB1G/3Ub/dRv91G/wB1G/3Ub/dRv91G/wB1G/3Ub/dRv90HN+z7qN/uo3+6jf7qN/uo3+6jf7qN/ug5v2fdRv8AdRv91G/3Ub/dRv8AdRv91G/3Qc37Puo3+6jf7qN/uo3+6jf7qN/uo3+6Dm/Z91G/3Ub/AHUb/dRv91G/3Ub/AHUb/dBzfs+6jf7qN/uo3+6jf7qN/uo3+6jf7oOb9n3Ub/dRv91G/wB1G/3Ub/dRv91G/wB0HN+z7qN/uo3+6jf7qN/uo3+6jf7qN/ug5v2fdRv91G/3Ub/dRv8AdRv91G/3Ub/dBzfs+6jf7qN/uo3+6jf7qN/uo3+6jf7oOb9n3SG6bnl2yOQkBYCag5QuTLVEshki16kODEnJkSmLmsIJ0NRIj5Ioy8pwcj2AtDAS05u/oxc6DytkchICwE0TRGAmQEwcAC1lJOMXIOCxsxPPmIpcikgkkYAPkVIEU8F6uFOKIDPvde8qSwmgM2IUTYA4cWkqOBwQkzkHIze1eoOUeZFZbCF3hRHB7kAnv8m97/Xr5PZ+zQxhiXiFMQmYuhDzRoxM47rDHiQ3XxVvcA8TL+QLLIspKVNrGAffFGpJ3gqg2UJieYpbi6+WhwQ88f8AawkpJBYcSgWwuXwoaBIgOhJ4Ef8Apo3vfwG97+A3vfwG97+AIWbmOR/atfhEX5ikkTMruHrBeASxYLc8zwyUxyE1WywRnPq/6G97/IFlkWUlKm1jAPvipCOhsvovALxU2uNphsrUAnA/2jSw7iMHAwMgDPBirLFlDIAofwSv4ixRYvuauaSYipYoJyKWigDPG43orCIIigVOyUD25aBsYepGEI334FZ25kggBMq4l5cfo5zryU+OyWKCcima06FiUiD/AACo4fZF9Uf9CueF7M+D/sn5HOc5znOc50YsHIGZh+v+06gCSESjOSfsKc2ErPIICIsUpGcyOj2V4aBuQuy+ZoK4KC1NGfu1SbbgqCCff5c4nbPY/VznOgTsbxB4RD/JqOAJmiWREBhZLRXNs8gIUL7AuXpKMkDbn8ucrwYGyYvk38x6qbIZXNRRCgK0LxFqyV7ahCUpA4LfdKskyMJZOKLIDdvV4qKICglCw+Y9VGxiExOXi3wOc5znOJ2z2Pgc5znOcTtnsfA5znOc4nbPY+BznOc5weFASxe4+aJVupyghMLpCZ5sUIEKZg2XjZeWKhJYR5RCUxaZPjL+rnOcTtnsflzleDA2TF8m/mPVTMlyXIyEyzSeFyBT7hCbWt5rKJ5oFUuirCG/1Qca7xVJ/Syf9oOB7lY9L/gz7XfOb3v4De9/Ab3v4De9/Ab3v4De9/Ab3v4De9/Ab3v4De91/9oADAMBAAIAAwAAABA4osAI4YAAABIiABA1MdccsBQAABQAABQAABQAABIiABccsBRzzPBDTrjDDCYvfiQDDSTDTiTDDCTDDCTDDCTDDCcvrCTDL+QvhHC1DjDDDCTgBGTDCMPDAbfDDCTDDCTDDCTDDDcPjCTCkMdQy4wSzywwwwu+w9gwx1gww3kwwxgwwxgwwxgwwwsy8xgw0xvnkYw9Cywwwxm5SZwwyZkzOEgwwxgwwxgwwxgwwxyC0xgymAx1uMBRvSkAAAfwEIAABq0D3ywAABQAABQAABQAABACkBQBd9o44AMMYsoMMMQkUocMMgUMwhzDDCTDDCTDDCTDDCfvrCTDrOgvhHC1DjDDDCTgBGTDAYHCNRTDDCTDDCTDDCTDDDcPjCTDHAlQy4wSzywwwwu+w9gwx/sx51kwwxgwwxgwwxgwwwsy8xgx/wAZHMMMkMMMMMMYMMMYMMMYMMMYMMMYMMMYMMMYMMMYMMMYMMMYnhIAkeUDAAATrIDUAAWmARXtAAAUAAAUAAAUAAAQApAUABDec8zwT84zwwwm734kww1tw+zswwwkwwwkwwwkwwwn76wkw37kL4Rw43ETwwwk4ARkwwhBwjwnwwwkwwwkwwwkwww3D4wkwST8UMuMX8cPMMMLvsPYMMf7MeebMMMYMMMYMMMYMMMLMvMYMfMYz8EMN+gFMMMbvQnYMMlQM7n8MMMYMMMYMMMYMMMcgtMYMXXKnhIAkeUDAAATrIDUAAlNAHFeAAAUAAAUAAAUAAAQApAUARybc8zwT84zwwwm734kwwznw+/twwwkwwwkwwwkwwwn76wkw0ypAwTw7yATwwwkwARkwwTHwgSXwwwkwwwkwwwkwww0DxwkwQQXHMMMkMMMMMMYMMMYMMMYMMMYMMMYMMMYMMMYMMMYMMMYMMMYz8EMNd8g3MMbvQnYMMYSMc8aMMMYMMMYMMMYMMMcgtMYMBrinhIAkDv8HAATrIDUAAGEAR94AAAUAAAUAAAUAAAQApAUAR3ic8zwT3868wwm734kww7nw/2owwwkwwwkwwwkwwwn76wkw/7lL4Rw4x7PQwwk4ARkwwwBwzwPwwwkwwwkwwwkwww3D4wkw3iYUMuMXO8/cMMLvsPYMMe7MedoMMMYMMMYMMMYMMMLMvMYMPc7z8EMNd8g3MMbvQnYMMjQM7VaMMMYMMMYMMMYMMMcgtMYMXBLnhIAkDv8HAATrIDUAAUNAHVGAAAUAAAUAAAUAAAQApAUARzOTwwwYwwwwwwkwwwkwwwkwwwkwwwkwwwkwwwkwwwkwwwkwwwkY4zwY4wwwwwk4wwkww3rw0wnwwwkwwwkwwwkwwwnw7wkww8vUMuMksMMMMMLvsPYMMdYMPsLMMMYMMMYMMMYMMMLMvMYMfdYz8EM4AMMMMMbvQnYMMYyMtGwMMMYMMMYMMMYMMMcgtMYMch8nhIAooAAAAATrIDUAAENAR/wAAAUAAAUAAAUAAAQApAUARO3c8zwcwwwwwwm734kww7nw+9qwwwkwwwkwwwkwwwn76wkw63kL4RwoIwwwwwk4ARkwwbBwjEmwwwkwwwkwwwkwww3D4wkw1A3UMuMksMMMMMLvsPYMMe7MedZMMMYMMMYMMMYMMMLMvMYMPfZz8EM4AMMMMMbvQnYMMFQM7gTMMMYMMMYMMMYMMMcgtMYM5TWDAAAgAAAAAAcAAAcAAAcAAAcAAAcAAAcAAAcAAAcAAAcAAAc/8QAKhEAAQIDBgcBAQEBAAAAAAAAAREhADHwQVFhocHRECBxgZGx4UDxUDD/2gAIAQMBAT8QIRWC+2yzF8CYYn2inBHKLOCUA8CzmSD2VyHnrCgFeh6qAfbdIUAN4XlBAQIJTKnx1C9GMECZk4AgFSAYrLTu/Rp3AsuB7MqdcsbILFOuRhLVMiDSDfsWzsYVSOm2+R/ECAgQSmVPjqF6MYIEzJwS1TIg0g37Fs7GFUjptvkeJCAE2/yAFm2lm/gpAK1gDrwCiBf83gFh1S1039wWMWkXcgClBBKAm7OUsJGFKlqp63HmCAAjkUJAIKVduOFhN3zeApIVUxC1Vv4AUBAEwLTkpAe5/XRQACLQD2PIWKGq1gFke9j0tgKTEL6OoWArVVJEg8OtlY4uEsqm7JwCqE7ZfMoCSyrfOC5CwZm/kBIcRJcNE+ZQGIIs+bCAACDkd4tFNSZYcDI3Q61evvOGam/v4ApLQRKG9mo1GCWEIsq7KXIpQbar+QJEsX74yEIhAqpZQSgA1bWjqCRrjS+rnASrgBpwCCCLPm0B4GVDwILlarWC5JvrTkBQrFiGpbe74BBWK5jZO5hKucgKQleNhwsIv+bQuuZB0HV74RwfwAoVhACxMiDpmWkiAC4AdhyEqBROffwGrK5y5BggCERfeO3hskBgX14mqwYveICn8gL5KaThwACRtl7HdbuIAArLUfozMFkJUe2UFdfejkcOHALOlAJgVe0JdQPZMYEwkvYUL4LlCc65Bw4cJKWnk9AI7w/UMgvI728OBXaV3LXQo6w7ZPkNm8oogYKFJAD4Ckyn0X8BIBh4SBHsKvZRo5QSAFmgXqjmurch9N9x3jo0/DbHzOLR01bJlwtWCbEyagKhIBjn2IhfwJRBDSBQQFZSTIB1siXRgUJVCQ4XDgA4uQLiSAqLb6WDAGqBiLSoBJ7yjIGLiBeVM36sGwtAmIChFEBdDMA2YqOQ4RmSnmAlChkILpMVCBFxLgG+CgeMA9dkOiqEjwSNORBpV0QiQSweRtdBbA8PPNQVCTCSQtwCkUBSuLCgS5WnesoC4KIVChBsHCREE4XgwriJe6iaWGPlCo/AggsoFQXgvkBuxV9DBkATaAehIcV3fkYIw/nlOyiAHT+Y+PZuhXHSvNnyDZWSJJtCcDfdAJNORZf18FIBKkgb8Yq7kAxAtaGOMBAXWcdEtxyMERqZw4RZonFXciruRV3IBCgqdYIwTZ7kpPJ1h9J1TwY4jzAIEUOsVdyKu5FXcghQmgMcYeT7AiiePSKu5BAXsL5McIIJ4PBjiPLwjHVdSSYIckfgBQECTAtOpAfuaZQACLQD2PJIp397QAodQ8V7ugKAN4WqsMBWqqSJB4dbKxxcJZVN2TgFUJ2y+ZQEllW+cFyFgzN/ICQ4iS4aJ8ygMQRZ82EAAEHI6gQzdMqTg5OOj/c4Cr59vmndLUhmpvwBSWgiUN7NRqMEsIRZV2UuR+r+/YEiWVV1kBA1W/YJQAatrR1BI1xpfVzgJVwA04BBBFnzaA8DKh4EFytVrBck31pyAoVixDUtvd8AgrFcxsncwlXOQuENW0ILlevkovqXAv4T3vCuvXNNm4hHFYnyab8AKFYQAsTIg6ZlpIgAuAHYciuDVu8AkEFXCnubeo8NKECgipDTM3wP9AhER/7oH92Q4Bb/ADs18lEETOmByJIo8El39jQk9ocL56/PMBzWNeoG/s8gClIMiR2yRcx1BugAFGKeSBrkYSDyACXlAJZak/dT44SAYDXaM5+0Xoj9cILFK697O934EEFlAqC8F8gN2KvoYMgCbQD0JDiu78jBBu32EYWvkCmaBLXwUzCS/n3xBCAE2/yAFm2lm/gpAK1gDrwRHNOBqIDzb4uxgY1PaK9jTkAUoIJQE3Zylg6wpUtVPW48wQAEcgCwteGzFDgWL3L72hCi1XufTugKpiF97fgBQECTAtOpAfuaZQACLQD2PIjpgT4pr4AJC0azgFUxesj3FrAK1VSRIPDrZWOLhLKpuycApQVZ8ywhwuRM0DDkBIcRJcNE+ZQGIIs+bCAACDkCq1U0M3TKky4OTjo/3OEJbrqvs+WhQSDhlRz/AABSWgiUN7NRqMEsIRZV2UuRzib5Bk+Oq6r3guXnpBKADVtaOoJGuNL6ucBKuAGnAoQAacHQQMcc13MDGp7xWZOvIChWLENS293wCCsVzGydzCVc5ChABpwdBBcr18lF9S4F/Ce94LzqWwHm9ipKmlnXv8AKFYQAsTIg6ZlpIgAuAHYciuouT3v2hveYI1oNBcqYJklPQ2SEADr1TewYveIUJ0wXNTScFkmPsaAjvDB51+PhAnWPz7A39nROQIryguCtvyXcHsmMAiaS5KFyXKGlrkJklSbwvdJPFtYIMUd7eBm12drso6wy+dPp6kWAxaOmv4CQDDwkCPYVeyjRygkALNAvVHNdW5LFUlnmAZWf1fmIW5Fo6V9vghER/wC6B/dkOAW/zs18lEETOmByJIo8El39jQk9ocL56/PMBzWNeoG/s8gClIMiR2yRcx1BugAFGKeSBrkYSDyESq77CulWP3UthwLHsvex3QeekMqddH8+iYWXTb2/ZPwIILKBUF4L5AbsVfQwZAE2gHoSHFd35JAMBrtAAkDE+AU2w7QCSi3ZsvzCCEAJt/kALNtLN/BSAVrAHXgiOacDUQHm3xdjAxqe0V7GnIApQQSgJuzlLB1hSpaqetx5ggAI5CEQmnSsItSlCKM+nAsXuX3tCa5Js8wrirt/dx/ACgIEmBadSA/c0ygAEWgHseQsXuJ8Tq2EdDUt/d0FilVXUEwGQCyq+lQElwUtVSHgQGCCA3KCQ4iUoDEEWfNhAABByKYThMrVu58wprH+DwLhCfglAJBWrDoPAgACXJasKQ9VQhBVYDxA/wBAmSU9DZIQAOvVN7Bi94hQnTBc1NJwWSY+xoCO8CxXnog8wXCq2gg8yqrGunAEADNvr8QivKC4K2/JdweyYwCJpLkoXJcoaWuQgCsAEJV2xfHgZquhQ3fxvd7i0dNvq5fgJAMPCQI9hV7KNHKCQAs0C9Uc11bkJYaobwCGHX2w8bKJwkuleAg8mCERH/ugf3ZDgFv87NfJRBEzpgciSKPBJd/Y0JPaA9KkF8QQwC2vnWEI2aVnNoIkCm2c+IClIMiR2yRcx1BugAFGKeSBrkYSDyADOFLVc/dT44SAYDXaJIj/ANIyAU9RZCuOmuof8CCCygVBeC+QG7FX0MGQBNoB6EhxXd+QsArCrGgIy4r0BRfSC2ASQq567GCEAJt/kALNtLN/BSAVrAHXgiOacDUQ6Y3d09+oLGAqitoBUOjPiApQQSgJuzlLB1hSpaqetx5ggAI5ERzTgaiLUpQijPpwR0q3aCwfHL6ZXwWKfgBQECTAtOpAfuaZQACLQD2PIjpVu0ALLHKFlj83gK1VSRIPDrZWOLhLKpuycApQVZ8ywgJJKt84UqDbAEFp7bQESkm+cQSHESXDRPmUBiCLPmwgAAg5HaqkMoZumVJwc4v6msDf77PmGX8AUloIlDezUajBLCEWVdlLkcnH+/YQk1fvUoYpVazglABq2tHUEjXGl9XOAlXADTgUIANODoIsenJ9+oLkE1tu8EReVVnaAE7WXEFCsWIalt7vgEFYrmNk7mEq5yFwhl/NvC3rBcr18lF9S4F/Ce94UqtWaBPNpUJLCv57P4AUKwgBYmRB0zLSRABcAOw5FdRcnvenhjOklVsF1Kq6xTBMkp6GyQgAdeqb2DF7xChOmC5qaTgskx9jQEd4FivPRB5guFVtBB5lVWNdOAIAGbfX4hFeUFwVt+S7g9kxgETSXJQuS5Q0tchsSpV3nFtYIMUd7eBm12drso6wy4P4KZzTrOyLR02+rl+AkAw8JAj2FXso0coJACzQL1RzXVuSxVJZ5ggCCcfYTrb8VgCE6J6o4wQiI/8AdA/uyHALf52a+SiCJnTA5EkUeCS7+xoSe0B6VIL4ghgFtfOsIRs0rObQRIFNs58QFKQZEjtki5jqDdAAKMU8kDXIwkHkIklP6AzhXSrH7qWw4Fj2XvY7oPPSAiAZP4v62JakKVC3bb5Hv/3QQWUCoLwXyA3Yq+hgyAJtAPQkOK7vySAYDXaANa9Z3QpUdNt26GB/oAFoDgEWwq8JRLnLLhzAEyhZcEKpAeUKD+AAkoIEiW1qPMAgy5LUgPKkhQUTrBKADVtaOoJGuNL6ucBKuAGnCRh932R1Lp1XJOYFCsWIalt7vgEFYrmNk7mEq5yAoVEIiVdsM7+CuuCe94ZEMvo9Jmb2Kkqaqy78AKFYQAsTIg6ZlpIgAuAHYciuDVu8AkEEzFUidkEAImASvEEySnobJCAB16pvYMXvEKE6YLmppODkSp/PiObEvPhOYIryguCtvyXcHsmMAiaS5KFyXKGlrkICcO1XbF8fEMg4DX5Qgwg3lzDdEXumCAQAzQL1FT/ASAYeEgR7Cr2UaOUEgBZoF6o5rq3IZhhVe5FQo71r1a+Lulf2CERH/ugf3ZDgFv8AOzXyUQRM6YHIkijwYiVOvcxBZOp9cwClIMiR2yRcx1BugAFGKeSBrkYSDyJLv70EntCulWP3UthwkAwGu0Jdj7I8SzhXHSvNmH4EEFlAqC8F8gN2KvoYMgCbQD0JDiu78kgGA12gAQBx9zuROy4QCZrRnBCAE2/yAFm2lm/gpAK1gDrwMi2wWzy5gFKCCUBN2cpYOsKVLVT1uPMEABHIWCmqWLUpQijPpwLF7l97QASRiSvM7LYBUA3hap/wAoCBJgWnUgP3NMoABFoB7HkkU7+9oAJKdR4hVTELVWwFaqpIkHh1srHFwllU3ZOBsWqfODYvMCQ4iS4aJ8ygMQRZ82EAAEHI6iq/mEM3TKk4OTjo/wBzhFz9vnDErSfgCktBEob2ajUYJYQiyrspcj9X9TWAwQY+wuYHRoYpTQSgA1bWjqCRrjS+rnASrgBpwkYfd9kdS6dVyTmBQrFiGpbe74BBWK5jZO5hKuchQhDUtoLlevkovqXAv4T3vCuvXNNm4hHFYnyab8AKFYQAsTIg6ZlpIgAuAHYciuDVu8AoV65kHSrEkYJklPQ2SEADr1TewYveIUJ0wXNTScHIlT+fEc2JefCcwRXlBcFbfku4PZMYBE0lyULkuUNLXITJKf3Z0i2sEGKO9vAza7O12UdYBAA2Kf57PcBQ8AQANw8v8f8AASAYeEgR7Cr2UaOUEgBZoF6o5rq3IoCsM3+LfAQHz4fN+jWSi7ptt5JmIH+h/8QAKhEAAgADBwQDAQEBAQAAAAAAAREAITFBUWFxgaHwkbHB0RAg4fFAUDD/2gAIAQIBAT8QkBeV2nvsdAWBkOzK1vVDBCK+AyIFZ9ge8EACFExiJrYTuJhBB0JHOZ/UlBwZQqATtsNFsxAChQH4JhgyJFw4yliZ0MEFrEd08sawJh5bhw7RoQUmWrch7PJQJt/iJQcGUKgE7bDRbMQAoUB+HaNCCky1bkPZ5KBNvltqz+waoTdMeSyc4x5Ujx8EACblu/UETGIwk9gu0Bkc5YYqAb+ePoSAGYALAv8A2RxCIWcEgBmiek/R0HUhCqPogSYKEi79D3fFoF/76ggAcP31BCJwK5h/gJCYMBYAPNAmV8raTzRCINhI1FfoCwxzniGGyHQr2M4JB4Fd/RUFB85jvFS1bzlMAi7ecnv8JDvv4ejgkk3Xj7bQEAbuc3iwD6EAhGKrHy/3e+cggzf77PUwQiVT9CmImucv3x+BRfZEkRyi7Sy1ic8916/wFAFwAAIuTyR8PGuMEVce89641+iDCznP6WanNrW7q95wyQTjvP2d4SJx8y5uDFrFlMKdaATsd8pUHJk+fgsANq2fv8NCxzb8I1gSB5efMCQC799/QEIhzfLdp0pIXQDBSS46hkMwzvEnr9EFzTGCWzf+ru+LBu/fcWtOxHllK6HXEvnv/AQwodFaDuCHjZ0E6tkm8k6kv6AEEB4l+/yJWWUwDJbJ53wJAjnOWwCglyDgdLNezgttwHtK04EigEG99V5wuQj+YfUEoSyUjccMr70aFgQp2sVJYvQQFkHoHHC5awFp2r2OGUfzD6j+YfUfzD6hItfCyFEKRgcjlWY6GVIaTSvVosvm1zhvKMq4ssj+cfUfzD6j+YfUVH0DcF15B06yTP1Ys0tlKyP5h9QnOo6GlimB4YMs7luTpiOjRagQSTAdoIrfJZTkJWT/APcGQhkKkHsUrpo61kZkTiKyJkNPyz6AGTF9vR0gzE8OqM+pHSkWHPx7msbFAuyFREqQ/nahgiAIg0RheLjJVKNIe8Ws5HUfA5SQBEjWcth1vIiQGYVg1yAxyglZByf45QQJ1nsSPX0GUrITBBc5G+wI2Y91A8wPDgiBMfQ+MFKwyr18MWw2kUlcZyxvePwRJaChI0QfRnpBeowAaG8DqQAQMcoHgJSS45cR/gIglBK4CQMgTPMhS8iBEQLyMwDI68l9BNsdpM6PVGyCZMDkkNa5UggBq880occCIoHSJCgGVwgvQd0lNtlk5xbdovIuwjiHpBACbCstPDCGRfmkk3Zh2gHHoPWBhoBt4D1hHEPSOIekcQ9IIAzt9IDgLWAlWRlWRCgiDMqdKJ4YHQdSAphh6RxD0jiHpHEPSGtUYXCbsIlMXbBQtGlqzvjiHpAKJWlSqWGMMDFh0xYYGHsCVgnQg0a/wEhMG4qAE5oMrS2k80QiDYSNRX6AsPFdvcEgFkPXlIJAgbCu/NRBQfOY7xUtW85TAIu3nJ7/AAkO+/h6OCSTdePttAQBu5zeLAPoQCEYqsfL/d75yCDN/vs9TBCJVP0kjzmXWC5u/ef7uvgIBij3lvTaJLl3p6OxxOee/wDgKALgAARcnkj4eNcYIq49571xr9EMn8fiDNu2vMd7YJJZN+5mYSJx8y5uDFrFlMKdaATsd8pUHJk+fgsANq2fv8NCxzb8I1gSB5efMCQC799/QEIhzfLdp0pIXQDBSS46hkMwzvEnr9AE8fS6o17xIBDDoGu9bfjuPt6hERls+7eryzdpfMhL9J/wEMKHRWg7gh42dBOrZJvJOpL+gCIYvt6ggEEESKGgsy3nWGSC58Puel0Gv/QbfOP+RIlPHtG6oBMoIXMT3CPwyXh6LuANcokN3OnjqBEoYu8D37ghHlw+hITCRD10mWEhjMXwTDg+78ZjVmzRI+hEC9zmTggTVOFoh1+GXNrOwHuDbyxrNyyxhBE8tlop6WH/AAEQSglcBIGQJnmQpeRAiIF5GYBkdeS+jJa17f0ddYk+KkMaAvDqhaNX77S6w21Z/YNUJumPJZOcY8qR4+HXD0T5QZUnyvMqyiQ+WdnO7uZcy9/QkAMwAWBftWRxkQoJADNE9J+joOpCFUfQ2kJPD99H4BYletZe4TB52Ms9GQngSOi9/wCAkJg3FQAnNBlaW0nmiEQbCRqK/RyeK55ugkAE2AA9fVM5ThJ4Fc36GyZKD5zHeKlq3nKYBF285Pf4kZ5Q+Ho7HDYj3hFxyyC7foQCEYqsfL/d75yCDN/vs9TBCJVP0LCfK+HpBc3fvP8Ad8fgIBij3lvTaHVl7HZ6M0hECMd+dsP8BQBcAACLk8kfDxrjBFXHvPeuNfpIYJ/sCssPBHhaQKECnleoSJx8y5uDFrFlMKdaATsd8pUHJk+fgBEm/wBEdi21M6cUTBadvWlkoM+YAePoCEQ5vlu06UkLoBgpJcdQyGYZ3iT1+gCJN/ojsW2sgEMOga71t+O4+3qAEEMtEfZOasCgSBA4pAf4CGFDorQdwQ8bOgnVsk3knUl/QCSN77etYEhxYPjhnAkIHJQjN8u9+DEzfj9WnAkUAg86nwh8IzfJB3IOnWY87ePSicaeB+3PCkGZ5cP36MjaiQIVn8PGY6GVIZrS3o3m1ziZssrKz6AGfLDPqRoLShFh5ezrKVnxRO96WNjwxNdPM+qGIBNTEp5+OIef8AMhDIVIPYpXTR1rIzInEVkTIafln0m4x51qekEFEDkk/OalNBImrzz1cJWQ2+cf8iRKePaN1QCZQQuYnuEfhkvD0XcAa5RIbudPHUCJQxd4Hv3BCPLh9CQmEiHrpMsJDGYvgmHB934zGrNmiR9BN8sMth1hSJ5axohO15fBMarS1uemBgkzK7O1jotSqwQA8Cu/51/wEQSglcBIGQJnmQpeRAiIF5GYBkdeS+jLm1nYD3BECRgsyGu+NAJwQDFxI0mu08cFDbVn9g1Qm6Y8lk5xjypHj4dcPRPlBlSfK8yrKJD5Z2c7u5lzL39CQAzABYF+1ZHGRCgkAM0T0n6Og6kIVR9AW8PTfLZRYxh0LR1Wd/wCxK9ay9wwQxhuCdmeUKRw/fXa8f4CQmDcVACc0GVpbSeaIRBsJGor9BMSvA680hhPLd+iF7ghPArnPwgM85jfa4MySbec0uCJdfhCfOVPU3wZlmDMIwS/oQCEY5zqepvMSCDN/vs9TBCJVP0Q5z8hnnOWL4AVOU9DpCB5y89TeYZP+BOCAQQbZdx2J61gk1fQSCiRC5/MKYQzPl/s9TBr/wBBGb5d78GJm/H6tOBIoBB51PhD4Rm+SDuQdOpt56nKy09BFof23Si1gSRAr/fy+bKNIQmRSfeUvlkbUSBCs/h4zHQypDNaW9G82ucTNllZWfQCCH8x5aoJBZv47iWHwKln4fyEUb5LOdcL8pC2CRNX+/xa/wCAGQhkKkHsUrpo61kZkTiKyJkNPyz6IuOcNYYtYdq9faNIJDS07fszhIWQ2+cf8iRKePaN1QCZQQuYnuEfhkvD0XcAa5QZYZ6cJA0Ji0bulvp0oYMhNv8Abss0lMwABhSexlhP5JCYSIeukywkMZi+CYcH3fjMas2aJH0IiY5WmMEJ8yaIdfhlzazsB7g28sB3JlkbYUicfHgy0xH+AiCUErgJAyBM8yFLyIERAvIzAMjryX0c55xyxhgCsFmQ1lVmzOUEAFKOWXFvDbVn9g1Qm6Y8lk5xjypHj4dcPRPlEmnK+y/marE0eG30YJXDl2coIJSx2kfkkAMwAWBftWRxkQoJADNE9J+joOpCFUfR1w9E+UWMYdC0dVnf8ObNsvcCZWW5B7IE25w2f4CQmDcVACc0GVpbSeaIRBsJGor9HViu3uCmeB68pwFHgV39QUHzmO8VLVvOUwCLt5ye/wASM8ofD0djgtwa89bQgwst5y+sIQLHv3PzBJJk1n+/JAIRiqx8v93vnIIM3++z1MEIlU/SQZ5b+74wXN37z/d18Syfx+IOOH522cTAXH/gKALgAARcnkj4eNcYIq49571xr9AgJU8y/NoKRfJettYLm79+SwphCROPmXNwYtYsphTrQCdjvlKg5Mnz8AIk3+iOxbayb5YO0tTFhHLbNekALh/eW0ALEMDx3+QQiHN8t2nSkhdAMFJLjqGQzDO8Sev0AT5JELcnNXKJAIYdA13rb8dx9vUIlppPySc02AiS3iXzzeZy/wABDCh0VoO4IeNnQTq2SbyTqS/oAgsX29R+jrXllxgFBDifCbUIRm+Xe/BiZvx+rTgSKAQedT4Q+EZvkg7kHTqbeepystPQRaH9t0otYEkQK/38vmyjSEJkUn3lL5ZG1EgQrP4eMx0MqQzWlvRvNrnEzZZWVn0Aq+SPsdKGLDy9nWUrPiid70sbHhgg5pZMOuEw7ZUtgkTV/v8AFr/gBkIZCpB7FK6aOtZGZE4isiZDT8s+k3GPOtT0gCQQMFoCDlZfeiplTV5WU/xYQ2+cf8iRKePaN1QCZQQuYnuEfhkvD0XcAa5QZYZ6cJA0Ji0bulvp0oYMhNv9uyzSUzAAGFJ7GWE/kkJhIh66TLCQxmL4Jhwfd+MxqzZokfQEl8sMsydsYUieWsaITteXwTGq0tbnpgYJLECcus5ZULsarBExF/veQeY/wEQSglcBIGQJnmQpeRAiIF5GYBkdeS+gLI4nx7gkDp2pyepEECav97ynmINf+gSJmDMQbIIIr8VpFfuJrH7EgVhEfDCcGVYRH+AkAMwanZzwehuggiv0YTinL6RfhCROPmXNwYtYsphTrQCdjvlKg5Mnz8VMec3ZRAkTkB0n9gQiHN8t2nSkhdAMFJLjqGQzDO8Sev0ACNIJbJqf322+AENX29R/NER5egsE6BDln9vM/wDAQwodFaDuCHjZ0E6tkm8k6kv6AIhi+3qCBBsGXTkm9WWWOIvv7hGb5d78GJm/H6tOBIoBB51PhD4kb5z8m2Ki7h1c/syNqJAhWfw8ZjoZUhmtLejebXOJmyysrPoBNOVrhBU1z9MSsXWA2GJ8fvDAEArANq9Vo74IEkKMRkaf4AZCGQqQexSumjrWRmROIrImQ0/LPoKxpznqoRRVZc6ylYHdEup7fyUNvnH/ACJEp49o3VAJlBC5ie4R+Kj5z+ScTE5A7/YkJhIh66TLCQxmL4Jhwfd+MxqzZokfRkvD0XcAa5QpE8tY0Qna8vhlzazsB7glPljWddoSBz50ocf8BEEoJXASBkCZ5kKXkQIiBeRmAZHXkvoCyOJ8e4Igjl2pe3qqTlBABwFaT9ZThtqz+waoTdMeSyc4x5Ujx8VFZAm9D1+xIAZgAsC/asjjIhQSAGaJ6T9HQdSEKo+jrh++jFjGHQtHVZ3/AACxK9ay9wQBWAHpPyDK2yCwi4rnLv8AASEwbioATmgytLaTzRCINhI1FfoCw8V29wQAeAPWn8/sEInArmEFB85jvFS1bzlMAi7ecnv8C1c5LaBatfH2IBCMVWPl/u985BBm/wB9nqYIRKp+kgDyz1s8YLm795/u6+AgGKPeW9Nopt2ltt1iYCx35y7/ANygC4AAEXJ5I+HjXGCKuPee9ca/RDJ/H4iZvhR8PMOJzz3/AJCROPmXNwYtYsphTrQCdjvlKg5Mnz8VMec3ZRAkTkB0n9gQiHN8t2nSkhdAMFJLjqGQzDO8Sev0ATx/R5/DEgEMOga71t+O4+3qERGWz7t6vLN2l8yEv0n/AAEMKHRWg7gh42dBOrZJvJOpL+gCBGL7eoIbGWwI6z/L3XEuEZvl3vwYmb8fq04EigEHnU+EPiRvnPybYqLuHVz+zI2okCFZ/DxmOhlSGa0t6N5tc4mbLKys+gFXyRHShvd8WHl7OspWfFE73pY2PDBDBbLrOfYUsaJQhCUvKyNP5/gBkIZCpB7FK6aOtZGZE4isiZDT8s+gBKG89JfquidFZdV23namSRNXyyn72sg1/wCh/8QAKBABAAICAgICAwEBAQEBAQEAAQARIfEx0UFRMPAQIGFxoYGRQLHB/9oACAEBAAE/EPxRB/59RLPG2KZ/jQ2X+oU2zylKyUKylv8AH5/vPf443bItC1oy4JlN/ClUEEsRpB/X7z3+lqU4SA7ZKosltpj9PvPfwfvPfwfvPfwfvPfwfvPfwfvPf443bItC1oy4JlN/ClUEEsRpB/X7z38H7z3JnCOUBfBdAwLLKLKWIIEAFSHCjMEO+ZVEdAShVkcwB2usFnlHEECqO6K41Jaf+/oEseC6kGB5XBEEzKSMhzSMtpIEI/mWB2opbVXAMogjDAKUGoWawGPqZzW73WJiFArTbk1SB0WEw1xZ6+K6cMiRZYtdU2U5gJQm7mhLqjGi9b9A8xi5vdJ/DdUeUWAR6Q3VOQvP6t1JRaGhYHDLxKlSqKNQYBEVZYYrGLmilSgIjPhvmIzckWyDFW2+eOh4HU7ZrYUTSEJP+FFcJgIkiN2NbnPxpwSp4oPByfhCGwzUBlVQAh0+p0ZLBFPIF8y7er+I/eYlAqhOacHwaYsWgrSUAT0SLkVlrxf6fee/g/ee/g/ee/g/ee/g3ThkSLLFrqmynMBKE3c0JdUY0XrfoHmMXN7pP4bqjyiwCPSG6pyF5/VCGwzUBlVQAh0+p0ZLBFPIF8y7er+I/eYlAqhOacHwaYsWgrSUAT0SLkVlrxf6fee5wgOe1zljf53+d/nf53+d/nf5wgHmTnNG/wAnQni1Vuo5wBwAAABN/nf53+d/nf53+d/nf53+d/nf53+ca5E2qr7o+btxqsBSxciMtWeAoFBbfgm/zv8AO/zv87/ONcibVV90fN241WApYuRGWrPAUCgtvwTf53+d/nf53+ca5E2qr7pv87/O/wA7/O/zv87/ADjXIm1VfdN/nf53+d/nf53+d/nGuRNqq+6b/O/zv87/ADv87/O/zjXIm1VfdN/nf53+d/nf53+d/nGuRNqq+6b/ADv87/O/zv8AO/zv841yJtVX3R83bjVYCli5EZas8BQKC2/BN/nf53+d/nf5xrkTaqvum/zv87/O/wA7/O/zv841yJtVX3Q2ZPwnZeRSpKCqYpJQDTbAUrSxY2J6WVvgXgc4gsI+cxoeCsBXncO5GHs+XygUMHBX5QzqoEQViMBoS1iU/TQ0TyZLLDAlN3HRoz3OJABC7SNPR3AqdaoU4wVDNzaHhxbSm2Ys3Fnxc4i8PcLGDBKJdWEkSch5/wDx8Kx16oBav/kGchUaKQFF5ZvPQEXIK/COlioIq1EFiioJB0XlRaKrlVh+FzaegUA34BZDW5dFSNeQ/L7z3+015E9kqvkBVQAVUWdAtnaylyF48Ild/nGj/v6Il3V0Iy1gDBSChAEdAmoJkrS4IhS0zOPy5EsgCCKelvtkfTAqGNsIls+89/B+89/B+89/B+89/BZnsGEUZGGnk/0iosSrjQCbhCEJmrv2aoxikRtyEHOw9NEfJhugiKP1fee/zHlVXwYFptVfCKRgfgqSYVvsCAUWiljV/HKO2xCpdOCHLtWUJ3jIzCRhzqxdqgU2RlIUjiKqqyBwORvgmFVVPUsgil8JSDKb9CSUKCmeAqxKEVVMUKi+RW7ctwS27xKlupWQo4AjwgTyKMEFmyOSqaX3NL7ml9xCTLNrFYFrBgUM3RtgHjAcsBBW8lxfQSvCBTa0cuWcE3akWAA45Ayqq4nqUFBRFH8hKJm8D6LUeUbRtV5VZcpikC8xAUUD5GaX3NL7ml9zS+5pfc0vuaX3NL7gR42AxKCCqlq6wppiMx6DIbEMDmwJWV+6wlKRJUFiAEQfFVQoJXAqvvLCh3zRoyWLzObrnErYMpBZADQLoD+E0vuaX3CMuENKW+5NL7ml9zS+5pfc0vuLLoIqsITt1kqZpBvagrGKVCDe+iEyfCAHA/wqaX3NL7ml9zES9jygmCbtS20A1mgm+E1YEaLM2YnheVleBggBb4NRY0+FmFiMFuRTEKJh9EgTABRRwVNL7ml9zS+5pfc0vuaX3NL7hGXCGlLfcml9zS+5pfc0vuaX3NL7ml9wjLhDSlvuTS+5pfc0vuaX3NL7ml9zS+4RlwhpS33Jpfc0vuaX3NL7ml9zS+5pfcGCMa+/lDDmz2I1DV7Jm7VCJJifA9ghv2/j2k3lph5CBlXhEKIyaX3NL7ml9zS+4RlwhpS33Jpfc0vuN1lZqwGGUXfsQYBo1FKnUaaYxC/8LLgNGY+ZSkLFeeNfsgeBBZmpqDJugLdHdA/+TFExh1KAD/Cokvxj2GFpAlIaBYxX2ihBYkVVuhRSw1DHAWB9VEx7dt0FfZaAJdJZG/MIlHDgIqwOH9BQ6ADFhG4KFpNYYpPQckEPLgAoKKQNDcsJZRdEyVzGzWEwWvDwuX17IW7V0MUUtCrKBWiHygLAl5B+wE8k5N2U1wwIytH9+H7z3LfmEr6iWAFhkLC7EB+cYVwtRCgUOU/39vvPf7bs2gaCdQDkQMwK1AsVoFs1mCNjwCMdosRcx/Q2m2uLoRoIgoiCS1joAMSEbgoWk1hgRKXrpZrJWAVoIKUnyaI79c0YcJ957+D957+D957+D957+CKX4NsoeABZRai05UUUUEtRdjExbbQhG0lnB/BaqPBcVZVqxXEBas/X7z3+beybwTHhCrVBlQjCSC1top9zmlRlolbKTk0RmVkCKguKxiVcHZqsS6SsdiR0RzpRBkuhpiEIoJ/sjbPQ3JlAxDHFDFYmQTChQAFKjgfQXYWmwUc4FsRGv1cQXrgtAC1AuEZrNAQGFbFlBr8iYQbEwvhxQCy0sjmGJOkKqaC16fNMRpdAbKgFK0i10cK5SYPA4mlBRqDCz8zw8WG9WAQh39wfakAf7pMm7Cmrmk5gAUCF8X8N7OvcVMe0W+C1wRIz/Cx0OiISILCldhENxiC3GArhQfhzIqy4GkJmxskHT6nRksEU8gXzCDLgAcSMGa7zd3+fvPf7arxfqu35rao8ZaokN744YeVlWgtRvTlbsB/+n6UU18h8QFEVCjhUJFAvgFaRoI9kxL838dQt9xFnJpJXYyArhwphjYEByeEb+pUA3S2ejj4PvPfwfvPfwfvPfwcXAw9AxFVOBt8ZqPmuCG+vH5OhysJr1EtFXKwZ6ycq/Hbzxal2gIosfq+89/nU4YqERoc4VAMIK8tn2hwiFZrBVtRmlM2CwDARAaUQqQtKTla3sQKAi08HMoiThGvkiEQC+VGAkJXkCcITCA57XOWN/nf53+d/nf53+d/nCAeZOc0b/O/zv87/ADv87/O/zv8AO/zv87/O/wA7/O/zjXIm1VfdN/nf53+d/nf53+d/nGuRNqq+6b/O/wA7/O/zv87/ADv841yJtVX3Tf53+d/nf53+d/nf5xrkTaqvum/zv87/ADv87/O/zv8AONcibVV903+d/nf53+d/nf53+ca5E2qr7pv87/O/zv8AO/zv87/ONcibVV903+d/nf53+d/nf53+ca5E2qr7pv8AO/zv87/O/wA7/O/zjXIm1VfdN/nf53+d/nf53+d/nGuRNqq+6GzJ+E7LyKVJQVTFJKAabYClaWLGxPSyt8C8DnEFhHzmNDwVgK87h3Iw9ny+UChg4K/KGdVAiCsRgNCWsSn6aGieTJZYYEpu46NGe5xIAIXaRp6O4FTrVCnGCoZubQ8OLaU2zFm4s+LnEXh7hYwYJRLqwkiTkPP/AOPhWOvVALV/8gzkKjRSAovLN56Ai5BX4R0sVBFWogsUVBIOi8qLRVcqsPwubT0CgG/ALIa3LoqRryH5fee/1oR0UCIKxGA0JaxL3vGOKCeTcAi5ajZ8Qy2khkxxoiV3+caP+/kFerJbd0pSEIqxoYDDuBnMBAJyCWRWasEPfblt+LVCzQ1dxBK466EoVyB41UmwRSSgQXyxHZPWIsT4PvPfwfvPfwfvPfwWZ7BhFGRhp5P9IqLEq40Am4QhCZq79mqMYpEbchBzsPTRHyYboIij9X3nv8wV6slt3SlIQirGlqv5wlkhcgnjsqwF4eWNDGIQazGSyHcxdjsCjikdlsqDnZ+XIDFoHaERbDZzNiXqxTXkGF5EpBlB6hJKFBTPAVYmCKq8UKh8it25bgVt3yVLNSshRwBGBAnkUYoLNkclU/OrVqWlyzaxWBawYFDN0b4B4wHPAQVvJcR2EmhAqy0cuWcI3asWUA45Ayqq4/iUVBRVH8hKJm6fwW0eUsjaryqy/SEILzABRQPkfh1atWrVq1ahDxsBiUUFVLV1hTTF5R6zIRaGBzYErKPdYSlI0qCxACIJiqqUErgVX3lhQL5o2ZLzmc3XOIXEykFkINAugP4fnVqOy4Q4Vv8A/wBj9dWrVqWKS9UhWI5AwKTNpLlv0iDzMOFKZN2BKnF1NNw2LJwo+T4YBwP4K/OrUvLyMU0XKMrgDlmE9klSoOPNABnJD5AScK0CDUqqiqUEyrbws4gNU9nIQzDlGIxBEC2D5VadDIfOphxNL7ml9zS+5pfc0vuaX3NL7hGXCGlLfcml9zS+5pfc0vuaX3NL7ml9wjLhDSlvuTS+5pfc0vuaX3NL7ml9zS+4RlwhpS33Jpfc0vuaX3NL7ml9zS+5pfcGCMa+/lDDmz2I1DV7Jm7VCJJifA9ghv2/j2k3lph5CBlXhEKIyaX3NL7ml9zS+4RlwhpS33Jpfc0vuIychimixRlcAcszIfjmuwv/ACc4rYYVeGPevsAAAhXogmkNXwz/AKcNgYsSyuGu2w7KGTlsGVWesUU4H+YgbxzmgoalC4MAvBFxlTfarMuYsFsNMHV+2ILEfVRgCMqR5YB/0MmckojwRDC8kFNUppzh/QUdulFIFAWqhaBaF8TMvFlQFYyFLWgsgEBfCSrsrn/yGGSwqq6AYP75PctMgtkLaKqMtGPMHIoQAJ5AV/EEjFdNlkgKFBERSf34jeOkVPCZC8iWWWJ4Y4K3goVd59H9+PwkrRS0GrArRgJTCCrOdURYsFsNMwWXA8pKH8IGHOGCII2P5G7oQpYhaGjiWhtXEE9XwKtQAC1VQAFVAmZtCRQyYjTLlxmUYKngybIDyVzFDChdFB0Dhz5npjEY2PwX3nv4P3nv4P3nv4Ipfg2yh4AFlFqLTlRRRQS1F2MTFttCEbSWcH8Fqo8FxVlWrFcQFqz9fvPf52OxI6I50ogyXQ00MtSP5WGBL36sWRLfCTyozMKrlgeMjeihQirB9WkdsBpRxc+89zcgCixcOm2V0EOVhu4cdCZpJR8M5BBNAH44DTDRQ+KHNyosrUAI+0VYABbbL4/wxVRjQBdUq0tP6XYhSVQIyH9aP7Cmkw1RTmbeBnTRjCmrJANmAeFsFW8wpVdhBjJpMZSWJ5mPwxbCeCplWC6sItKDWHIpyXV5+c+YdcQOKIwbEppfHwq/K3ZYFerS3wWywy8fqK1lG85Bjyf2MtYm6hjQUL5KDchQjcqchhAZIvNOKkBBlV+KuSzZyy6occE8QObu7v4Bk6JRfAlP8FcBzZQF6xTEwzUNUoXxCzQYwNvgLMFFpwz+hDEQq/yJ1Z49K2XacrzdVMiKAipI8sNpV3QLqGjGgqDcEKhY4HssQoXIwMMVfEFhFLoWYHAynYzDnHMQJqeEGxVc+D7z38H7z38H7z38HFwMPQMRVTgbfGaj5rghvrx+TocrCa9RLRVysGesnKvx288WpdoCKLH6vvPf51aCQCSGOCLQZyoiFmWmLKkoIBQEBKi2OxAUCAGOcoI+bV+OYc9otCEJ7/J2lKgqUcUWRREsmle9Hq4K25GlJzpzl/75+BVVVVb3gVP5R/8Az86qqqqqqqqrb7bPO0fBKqqqrb7bPO0fBKqqqrb7bPO0fBKqqqremGWzB4fub/O/zv8AO/zv87/O/wA41yJtVX3Tf53+d/nf53+d/nf5xrkTaqvum/zv87/O/wA7/O/zv841yJtVX3Tf53+d/nf53+d/nf5xrkTaqvum/wA7/O/zv87/ADv87/ONcibVV903+d/nf53+d/nf53+ca5E2qr7obMn4TsvIpUlBVMUkoBptgKVpYsbE9LK3wLwOcQWEfOY0PBWArzuHcjD2fL5QKGDgr8oZ1UCIKxGA0JaxKfpoaJ5MllhgSm7jo0Z7nEgAhdpGno7gVOtUKcYKhm5tDw4tpTbMWbiz4ucReHuFjBglEurCSJOQ8/8A4+FY69UAtX/yDOQqNFICi8s3noCLkFfhHSxUEVaiCxRUEg6LyotFVyqw/C5tPQKAb8AshrcuipGvIfl957/XdtndzYYpaThjyQyWQ7mLsdgUcUlqNnxDLaSGTHGiJXf5xo/7+QV6slt3SlIQirGhgMO4GcwEAnIJZFZqwQ99uW34tULOAXPs43qDK+CpMa6AigmsSrTyLJ957+D957+D957+D957+CzPYMIoyMNPJ/pFRYlXGgE3CEITNXfs1RjFIjbkIOdh6aI+TDdBEUfq+89/mCvVktu6UpCEVY0YH4KkmFb7AgFFopBKbFaGay+iuCSPZVuzUoBApBpJCCebi0CoypmPKoWRCggqDINABcwqqp6lkEUvhKQZTfoSShQUzwFWJQiqpihUXyK3bluCW3eJUt1KyFHAEeECeRRggs2RyVTS+5pfc0vuISZZtYrAtYMChm6NsA8YDlgIK3kuL6CV4QKbWjlyzgm7UiwAHHIGVVXE9SgoKIo/kJRM3gfRajyjaNqvKrLlMUgXmICigfIzS+5pfc0vuaX3NL7ml9zS+5pfcCPGwGJQQVUtXWFNMRmPQZDYhgc2BKyv3WEpSJKgsQAiD4qqFBK4FV95YUO+aNGSxeZzdc4lbBlILIAaBdAfwml9zS+4RlwhpS33Jpfc0vuaX3NL7nmxQ0g0AtS0glJBNIavhn/ThsDFiLEVObqa7hsWThRMnwgBwP8ACppfc0vuIychimixRlcAcsw/skrVB3lQAZyQyQEnCtAg1KqoqnzfSk1BdVnC4DNiOMNhVNlBRKinmFEw+iQJgAoo4Kml9zS+5pfc0vuaX3NL7ml9wjLhDSlvuTS+5pfc0vuaX3NL7ml9zS+4RlwhpS33Jpfc0vuaX3NL7ml9zS+5pfcIy4Q0pb7k0vuaX3NL7ml9zS+5pfc0vuDBGNffyhhzZ7Eahq9kzdqhEkxPgewQ37fx7Sby0w8hAyrwiFEZNL7ml9zS+5pfcIy4Q0pb7k0vuaX3EZOQxTRYoyuAOWYbmnQICr1RSzVGICfYjWCcAYqKKktMgp6CWNgrYUwgqJKELqQ2tUyzbSEZcIaUt9yJL8Y9hhaQJSGgWMV9ooQWJFVboUUsNQxwFgfVRMe3bdBX2WgCXSWRvzCJRw4CKsDh/QUOgAxYRuChaTWGKT0HJBDy4AKCikDQ3LCWUXRMlcxs1hMFrw8Ll9eyFu1dDFFLQqygVoh8oCwJeQfsBPJOTdlNcMCMrR/fh+89y35hK+olgBYZCwuxAfnGFcLUQoFDlP8Af2+89/rL9EbwG+0mPCUCShHlo0ikEMjhdpIFOARxfJgyyoRjtFiLmP5c/P2M0FsGXigbxAnuWGUAFAAKkAVCLruXYJhxq53AJmJmEKZCqoLGAgooQpD9L1UABohEuhpiEIoJ/vwfvPfwfvPfwfvPfwRS/BtlDwALKLUWnKiiiglqLsYmLbaEI2ks4P4LVR4LirKtWK4gLVn6/ee/zc/P2M0FsGXigbxHBWlEgNXAAVUAYFDQ4bWKhnP/AOhL8FptVGERRWCVhpIePAyUGcLZC8ljZgWWDzzHJBtnobkygYhjihisTIJhQoAClRwPoLsLTYKOcC2IjX6uIL1wWgBagXCM1mgIDCtiyg1+RMINiYXw4oBZaWRzDEnSFVNBa9PmmI0ugNlQClaRa6OFcpMHgcTSgo1BhZ+Z4eLDerAIQ7+4PtSAP90mTdhTVzScwAKBC+L+G9nXuKmPaLfBa4IkZ/hY6HREJEFhSuwiG4xBbjAVwoPw5kVZcDSEzY2SDp9ToyWCKeQL5hBlwAOJGDNd5u7/AD957/XeXROMI8sIDyFFLYSiwvGVlArBEK0nBnc0pB9qiMjDenK3YD/9Py3KoEkKcU54I1TcpLKBWEMtNKgBRDQVI475R1AeK4RQEneYrYVEDkSLiTs0Fmqm6jzlBAL5UYCQleQJwh8H3nv4P3nv4P3nv4OLgYegYiqnA2+M1HzXBDfXj8nQ5WE16iWirlYM9ZOVfjt54tS7QEUWP1fee/zblUCSFOKc8EapuMOsrhIIXnSQ52KVC+NY6K2TUsDBSZmmcO10KPIatQ1VAY4lgFtUfPhgKRbHNXD/ADKYQHPa5yxv87/O/wA7/O/zv87/ADhAPMnOaN/nf53+d/nf53+d/nf53+d/nf53+d/nf5xrkTaqvum/zv8AO/zv87/O/wA7/ONcibVV903+d/nf53+d/nf53+ca5E2qr7pv87/O/wA7/O/zv87/ADjXIm1VfdN/nf53+d/nf53+d/nGuRNqq+6b/O/zv87/ADv87/O/zjXIm1VfdN/nf53+d/nf53+d/nGuRNqq+6b/ADv87/O/zv8AO/zv841yJtVX3Tf53+d/nf53+d/nf5xrkTaqvum/zv8AO/zv87/O/wA7/ONcibVV93/6KIT7z38H7z38H7z38H7z38H7z38H7z38H7z38H7z38H7z38H7z3NoFbljhUZpfc0vuaX3NL7ml9zS+5pfcAFLsjhqml9zS+5pfc0vuaX3NL7ml9zS+5pfc0vuaX3NL7ml9zS+4RlwhpS33Jpfc0vuaX3NL7ml9zS+5pfcIy4Q0pb7k0vuaX3NL7ml9zS+5pfc0vuEZcIaUt9yaX3NL7ml9zS+5pfc0vuaX3CMuENKW+5NL7ml9zS+5pfc0vuaX3NL7hGXCGlLfcml9zS+5pfc0vuaX3NL7ml9wjLhDSlvuTS+5pfc0vuaX3NL7ml9zS+4RlwhpS33Jpfc0vuaX3NL7ml9zS+5pfcIy4Q0pb7k0vuaX3NL7ml9zS+5pfc0vuEZcIaUt9yaX3NL7ml9zS+5pfc0vuaX3CMuENKW+5El+MewwtIEpDQLGK+0UILEiqt0KKWGoY4CwPqomPbtugr7LQBLpLI35hEo4cBFWBw/oKHQAYsI3BQtJrDHRfF2JLlEgKBRSUApMMsHyIxofzHijC0gSkNAstPNmvHq4EBEpJiywMEA/qoAZVAtSW0iE7EyYljhB+H7z3LfmEr6iWAFhkLC7EB+cYVwtRCgUOU/wB/b7z3+24Wcz04gkLAILtIoRXLAFcLwmDLKhGO0WIuY/lz8/YzQWwZeKBvExZYGCAf1UAMqgWpLHhQvAF38aapuUCShHlo0ikEMjhfB3LfuAnAuFkLtqDZgWWDzzHJ8H3nv4P3nv4P3nv4Ipfg2yh4AFlFqLTlRRRQS1F2MTFttCEbSWcH8Fqo8FxVlWrFcQFqz9fvPf5ufn7GaC2DLxQN4lP4dszJBIAC5j9dispD0wNlKS6GnW6y4A3ipSXahnDsJwk0Sj5i6oYhCKCf7I2z0NyZQMQxxQxWJkEwoUABSo4H0F2FpsFHOBbERr9XEF64LQAtQLhGazQEBhWxZQa/ImEGxML4cUAstLJXuIaNjxs6ZzeRMHX/AEhUFWDwEGQCVEOauHvILtIqP62cNYbdYXAsVMqM1IpdZyrUkqHkmPRG4HSZsHF38N7OvcVMe0W+C1wRIz/Cx0OiISILCldhENxiC3GArhQfhzIqy4GkJmxskHT6nRksEU8gXzCDLgAcSMGa7zd3+fvPf7TGaDlDCk0pDkAsDSPDt8eQ5uDXhhvTlbsB/wDp+W5VAkhTinPBGqblrk8UFhcK4Eu+TCiZDAxqJpU1bzEKCwlFheMrKBWCIVrVLH5bYgLP7KgwFItjmrh/mXwfee/g/ee/g/ee/g4uBh6BiKqcDb4zUfNcEN9ePydDlYTXqJaKuVgz1k5V+O3ni1LtARRY/V957/NuVQJIU4pzwRqm4F9oOADHakzkWUKYzxSceToAlwFNOSwL4zLpxgQssi1hSZt7Qlq+BuP9yi5ov/2phAc9rnLG/wA7/O/zv87/ADv87/OEA8yc5o3+d/nf53+d/nf53+d/nf53+d/nf53+d/nGuRNqq+6b/O/zv87/ADv87/O/zjXIm1VfdN/nf53+d/nf53+d/nGuRNqq+6b/ADv87/O/zv8AO/zv841yJtVX3Tf53+d/nf53+d/nf5xrkTaqvum/zv8AO/zv87/O/wA7/ONcibVV903+d/nf53+d/nf53+ca5E2qr7pv87/O/wA7/O/zv87/ADjXIm1VfdN/nf53+d/nf53+d/nGuRNqq+6b/O/zv87/ADv87/O/zjXIm1VfdDZk/Cdl5FKkoKpiklANNsBStLFjYnpZW+BeBziCwj5zGh4KwFedw7kYez5fKBQwcFflDOqgRBWIwGhLWJe94xxQTybgEXM2JuYbc7faAHNEQFtIazh0Az5UJWLR8Ke0CpMlBxE69FEoQZQGwoWgSTEYpBYRDQcAfCsdeqAWr/5BnIVGikBReWbz0BFyCvwjpYqCKtRBYoqCQdF5UWiq5VYfhc2noFAN+AWQ1uXRUjXkPy+89/t87yjYtBV5A+EZiqsMo4dNY56ARK7/ADjR/wB/IK9WS27pSkIRVjQwGHcDOYCATkEshz/Mih7KrECJKihqTVCDOTgwDKRlTzAMgCCIcg0ij7z38H7z38H7z38H7z38FmewYRRkYaeT/SKixKuNAJuEIQmau/ZqjGKRG3IQc7D00R8mG6CIo/V957/Nwkyc40+kxouXMJ2JOyuQXkGv7sxgrw4ql+0jgUQv+uPlRQFKgQvBxEk4DIUwPBhRGTT7z3OFVVPUsgil8JSDKb9CSUKCmeAqxKEVVMUKi+RW7ctwS27xKlupWQo4AjwgTyKMEFmyOSqaX3NL7ml9xCTLNrFYFrBgUM2iuW7SIPMw4Upk3cpRZCotKryrlbWDJCbkDRBkXwlIMY2YiXQgVeAAAAJX74UwotMoFZcLVNIgL6OclUtCq8n9rE0vuaX3NL7ml9zS+5pfc0vuaX3AjxsBiUEFVLV1hTTEZj0GQ2IYHNgSsr91hKUiSoLEAIg+KqhQSuBVfeWFDvmjRksXmc3XOJWwZSCyAGgXQH8Jpfc0vuEZcIaUt9yaX3NL7ml9zS+5pfcBxNiHeUYVpdmytUV/MDzzPQGJWcKJk+EAOB/hU0vuaX3EZOQxTRYoyuAOWYf2SVqg7yoAM5INhjZq0YIt5YtWYMq32ykgCronEoQjJyGKaLFGVwByzEC9MNBstCzy0Bngml9zS+5pfc0vuaX3NL7ml9wjLhDSlvuTS+5pfc0vuaX3NL7ml9zS+4RlwhpS33Jpfc0vuaX3NL7ml9zS+5pfcIy4Q0pb7k0vuaX3NL7ml9zS+5pfc0vuDBGNffyhhzZ7Eahq9kzdqhEkxPgewQ37fx7Sby0w8hAyrwiFEZNL7ml9zS+5pfcIy4Q0pb7k0vuaX3LnGG+OLIbFGnhYtFOeXVhI8nOK2GFHg3rQGUo0CAAAJe58/rmiXRoTStCLdZWasBhlF37EKJh9EgTABRRwVEl+MewwtIEpDQLGK+0UILEiqt0KKWGoY4CwPqomPbtugr7LQBLpLI35hEo4cBFWBw/oKHQAYsI3BQtJrDHRfF2JLlEgKBRSUApMMsHyIxofzHijC0gSkNAstPNmvHq4EBEpJiywMEA/qoAZVAtSW0iE7EyYljhB+H7z3LfmEr6iWAFhkLC7EB+cYVwtRCgUOU/39vvPf67WOgAxIRuChaTWGOi+LsSXKJAUCiktJApwCOL5MGWVCMdosRcx/Ln5+xmgtgy8UDeIE9ywygAoABUgCoQJla1yMavrRixcGcIWvAJVvRRQlaFBWnH6mnqS6oYhCKCf78H7z38H7z38H7z38EUvwbZQ8ACyi1FpyooooJai7GJi22hCNpLOD+C1UeC4qyrViuIC1Z+v3nv83Pz9jNBbBl4oG8Q2zKigDlWLZCRCVHrSyFG1Fyisdi5twQyyLtSb2TeCY8IVaoMqE+89yNs9DcmUDEMcUMViZBMKFAAUqOB9BdhabBRzgWxEa/VxBeuC0ALUC4Rms0BAYVsWUGvyJhBsTC+HFALLSyV7iGjY8bOmc3kTB1/0hUFWDwEGQCVEOauHvILtIqP62cNYbdYXAsVMqM1IpdZyrUkqHkmPRG4HSZsHF38N7OvcVMe0W+C1wRIz/Cx0OiISILCldhENxiC3GArhQfhzIqy4GkJmxskHT6nRksEU8gXzCDLgAcSMGa7zd3+fvPf6xMI9iIXw4oBZaWSvcQ0bHjZ0zm8iE4M7mlIPtURkYb05W7Af/p+W5VAkhTinPBGqblJZQKwhlppUAKJnvrzy4GA4VbBBRFSuglUVRlDhG/HvAICYm61hWf7lFzRf/tfB957+D957+D957+Di4GHoGIqpwNvjNR81wQ314/J0OVhNeoloq5WDPWTlX47eeLUu0BFFj9X3nv8ANuVQJIU4pzwRqm5Y5/8AdE3VWAgbKImXFBBi+dbjzqlxWeINQNqE0kACMrcqDLGQDwFQBhA5PCN/UqAbpbPRxMIDntc5Y3+d/nf53+d/nf53+cIB5k5zRv8AO/zv87/O/wA7/O/zv87/ADv87/O/zv8AO/zjXIm1VfdN/nf53+d/nf53+d/nGuRNqq+6b/O/zv8AO/zv87/O/wA41yJtVX3Tf53+d/nf53+d/nf5xrkTaqvum/zv87/O/wA7/O/zv841yJtVX3Tf53+d/nf53+d/nf5xrkTaqvum/wA7/O/zv87/ADv87/ONcibVV903+d/nf53+d/nf53+ca5E2qr7pv87/ADv87/O/zv8AO/zjXIm1VfdN/nf53+d/nf53+d/nGuRNqq+6GzJ+E7LyKVJQVTFJKAabYClaWLGxPSyt8C8DnEFhHzmNDwVgK87h3Iw9ny+UChg4K/KGdVAiCsRgNCWsS97xjignk3AIuZsTcw252+0AOaIgLaQ1nDoBnyoSsWj4U9oFSZKDiJ16KJQgygNhQtAkmIxSCwiGg4A+FY69UAtX/wAgzkKjRSAovLN56Ai5BX4R0sVBFWogsUVBIOi8qLRVcqsPwubT0CgG/ALIa3LoqRryH5fee/1gR0CagmStLgiFLTALn2cb1BlfBUlqNnxDLaSGTHGiJXf5xo/7+QV6slt3SlIQirGhgMO4GcwEAnIJZFZqwQ99uW34tULLpLu3lNbtbGFQSx+GVBbEu1aq2fee/g/ee/g/ee/g/ee/gsz2DCKMjDTyf6RUWJVxoBNwhCEzV37NUYxSI25CDnYemiPkw3QRFH6vvPf5uEmTnGn0mNFy5g4rEXrMQcViAKLRSPHO3gCLmNgwgqfU0EF6po0ksjAeNVJsEUkoEF8sR2T1iLEmFVVPUsgil8JSDKb9CSUKCmeAqxKEVVMUKi+RW7ctwS27xKlupWQo4AjwgTyKMEFmyOSqaX3NL7ml9xCTLNrFYFrBgUM2iuW7SIPMw4Upk3cpRZCotKryrlbWDJCbkDRBkXwlIMY2YiXQgVeAAAAJX74UwotMoFZcLVNIgL6OclUtCq8n9rE0vuaX3NL7ml9zS+5pfc0vuaX3AjxsBiUEFVLV1hTTEZj0GQ2IYHNgSsr91hKUiSoLEAIg+KqhQSuBVfeWFDvmjRksXmc3XOJWwZSCyAGgXQH8Jpfc0vuEZcIaUt9yaX3NL7ml9zS+4AHWaZ6siUroouzE830pNQXVZwuAzaxFTm6mu4bFk4UTJ8IAcD/Cppfc0vuIychimixRlcAcsw/skrVB3lQAZyQyQEnCtAg1KqoqkZ9HRiFFjb2BCRZ4ngKixCXG7FPMKJh9EgTABRRwVNL7ml9zS+5pfc0vuaX3NL7hGXCGlLfcml9zS+5pfc0vuaX3NL7ml9wjLhDSlvuTS+5pfc0vuaX3NL7ml9zS+4RlwhpS33Jpfc0vuaX3NL7ml9zS+5pfcGCMa+/lDDmz2I1DV7Jm7VCJJifA9ghv2/j2k3lph5CBlXhEKIyaX3NL7ml9zS+4RlwhpS33Jpfc0vuXOMN8cWQ2KNPCxHSvn1kGK0KWaBiDNw0CtAjI0lKwnPRLhxyptDjPCqPwZRiMRRAtg+VUgPCECnE/zESX4x7DC0gSkNAsYr7RQgsSKq3QopYahjgLA+qiY9u26CvstAEuksjfmESjhwEVYHD+godABiwjcFC0msMdF8XYkuUSAoFFJQCkwywfIjGh/MeKMLSBKQ0Cy082a8ergQESkmLLAwQD+qgBlUC1JbSITsTJiWOEH4fvPct+YSvqJYAWGQsLsQH5xhXC1EKBQ5T/AH9vvPf63fCJJDZMsKVCWgWA6DVjapLjUvRRalpIFOARxfJgyyoRjtFiLmP5c/P2M0FsGXigbxAnuWGUAFAAKkAVCBMrWuRjV9aMzIBjICgGoYOHJUKWTWjpSC08L/xGIQign+/B+89/B+89/B+89/BFL8G2UPAAsotRacqKKKCWouxiYttoQjaSzg/gtVHguKsq1YriAtWfr957/Nz8/YzQWwZeKBvExZYGCAf1UAMqgWpB7cyC5yEciyLxykEcS1aXHelAgW8QhsmyQtsI0o4vifee5G2ehuTKBiGOKGKxMgmFCgAKVHA+guwtNgo5wLYiNfq4gvXBaAFqBcIzWaAgMK2LKDX5Ewg2JhfDigFlpZK9xDRseNnTObyJg6/6QqCrB4CDIBKiHNXD3kF2kVH9bOGsNusLgWKmVGakUus5VqSVDyTHojcDpM2Di7+G9nXuKmPaLfBa4IkZ/hY6HREJEFhSuwiG4xBbjAVwoPw5kVZcDSEzY2SDp9ToyWCKeQL5hBlwAOJGDNd5u7/P3nv9ajDOgx2zZ5FKkfwernhBCpR0DDlATgzuaUg+1RGRhvTlbsB/+n5blUCSFOKc8EapuUllArCGWmlQAome+vPLgYDhVsEHjSmTVR4g40GAC07evPlRq1smP7lFzRf/ALXwfee/g/ee/g/ee/g4uBh6BiKqcDb4zUfNcEN9ePydDlYTXqJaKuVgz1k5V+O3ni1LtARRY/V957/NuVQJIU4pzwRqm5a5PFBYXCuBLvkwpSPT/WZiuZBapTCOF3kOE9KxlSBaSbzSmnFoSoWoikURLJpXvR6uYQHPa5yxv87/ADv87/O/zv8AO/zhAPMnOaN/nf53+d/nf53+d/nf53+d/nf53+d/nf5xrkTaqvum/wA7/O/zv87/ADv87/ONcibVV903+d/nf53+d/nf53+ca5E2qr7pv87/ADv87/O/zv8AO/zjXIm1VfdN/nf53+d/nf53+d/nGuRNqq+6b/O/zv8AO/zv87/O/wA41yJtVX3Tf53+d/nf53+d/nf5xrkTaqvum/zv87/O/wA7/O/zv841yJtVX3Tf53+d/nf53+d/nf5xrkTaqvum/wA7/O/zv87/ADv87/ONcibVV90NmT8J2XkUqSgqmKSUA02wFK0sWNiellb4F4HOILCPnMaHgrAV53DuRh7Pl8oFDBwV+UM6qBEFYjAaEtYl73jHFBPJuARczYm5htzt9oAc0RAW0hrOHQDPlQlYtHwp7QKkyUHETr0UShBlAbChaBJMRikFhENBwB8Kx16oBav/AJBnIVGikBReWbz0BFyCvwjpYqCKtRBYoqCQdF5UWiq5VYfhc2noFAN+AWQ1uXRUjXkPy+89/r+zh+cvZmrqXL1lG5HIn9RFVqNnxDLaSGTHGiJXf5xo/wC/kFerJbd0pSEIqxoYDDuBnMBAJyCWRRdy8OEBAw2Yi1gEvHKagQBqRVSyAaTmvjAUgEAEwuTFp/nslf8Afg+89/B+89/B+89/BZnsGEUZGGnk/wBIqLEq40Am4QhCZq79mqMYpEbchBzsPTRHyYboIij9X3nv83CTJzjT6TGi5cwVILAWNikABKWEsgy2IpY4iLJ4cg4pWtYTI9NaAYVtcY92OZYKBQKjJwxpNtXNevUwqqp6lkEUvhKQZTfoSShQUzwFWJQiqpihUXyK3bluCW3eJUt1KyFHAEeECeRRggs2RyVTS+5pfc0vuISZZtYrAtYMChm0Vy3aRB5mHClMm7lKLIVFpVeVcrawZITcgaIMi+EpBjGzES6ECrwAAABK/fCmFFplArLhappEBfRzkqloVXk/tYml9zS+5pfc0vuaX3NL7ml9zS+4EeNgMSggqpausKaYjMegyGxDA5sCVlfusJSkSVBYgBEHxVUKCVwKr7ywod80aMli8zm65xK2DKQWQA0C6A/hNL7ml9wjLhDSlvuTS+5pfc0vuaX3ASglmJSNmBHBWEFFBYaZnbUIEKDFiLEVObqa7hsWThRMnwgBwP8ACppfc0vuIychimixRlcAcsw/skrVB3lQAZyQ2hoEbFIMAJMrtUOBN/oAeZLwpcrvPnwFctbPEQsSrFkGoYVhx/6TS+5pfc0vuaX3NL7ml9zS+4RlwhpS33Jpfc0vuaX3NL7ml9zS+5pfcIy4Q0pb7k0vuaX3NL7ml9zS+5pfc0vuEZcIaUt9yaX3NL7ml9zS+5pfc0vuaX3BgjGvv5Qw5s9iNQ1eyZu1QiSYnwPYIb9v49pN5aYeQgZV4RCiMml9zS+5pfc0vuEZcIaUt9yaX3NL7lzjDfHFkNijTwsbvJ52gCWgLAzkgEM6YOtzQQEggckfrr7Xt4htZuFQr7JLAwreKU82CFhsAqgAr4K//RRCfee/g/ee/g/ee/g/ee/g/ee/g/ee/g/ee/g/ee/g/ee/g/ee/wD9GiE+89/B+89/B+89/B+89/B+89/B+89/B+89/B+89/B+89/B+89zhAc9rnLG/wA7/O/zv87/ADv87/OEA8yc5o3+d/nf53+d/nf53+d/nf53+d/nf53+d/nGuRNqq+6b/O/zv87/ADv87/O/zjXIm1VfdN/nf53+d/nf53+d/nGuRNqq+6b/ADv87/O/zv8AO/zv841yJtVX3Tf53+d/nf53+d/nf5xrkTaqvum/zv8AO/zv87/O/wA7/ONcibVV903+d/nf53+d/nf53+ca5E2qr7pv87/O/wA7/O/zv87/ADjXIm1VfdN/nf53+d/nf53+d/nGuRNqq+6b/O/zv87/ADv87/O/zjXIm1VfdDZk/Cdl5FKkoKpiklANNsBStLFjYnpZW+BeBziCwj5zGh4KwFedw7kYez5fKBQwcFflDOqgRBWIwGhLWJe94xxQTybgEXMSsXliNhQwlDyEaejuBU61QpxgqGbm0PDi2lNsxZuLsm4xFHoOFjBginXBXkqgNwbV6aUEfa28lyRHQ2l0o2It3BTV4SBYi7TMol1YSRJyHn/8fssdeqAWr/5BnIVGikBReWbz0BFyCvwjpYqCKtRBYoqCQdF5UWiq5VYfhc2noFAN+AWQ1uXRUjXkPy+89/tNeRPZKr5AVUAFVFnQLZ2spchePCJXf5xo/wC/oiXdXQjLWAMFIKEXbZ3c2GKWk4Y8kKtkcGOR1KbeAKo48u2JSgh5WqAQcRVVWQOByN8Hwfee/g/ee/g/ee/gsz2DCKMjDTyf6RUWJVxoBNwhCEzV37NUYxSI25CDnYemiPkw3QRFH6vvPf5uEmTnGn0mNFy5igW4/PMc1qgrQ0oBVEV/pRqzmEZQgJpQ1dxBK466EoVyF9crDBKwDYMBZwqhZEKCCoMg0AFzCqqnqWQRS+EpBlN+hJKFBTPAVYlCKqmKFRfIrduW4Jbd4lS3UrIUcAR4QJ5FGCCzZHJVNL7ml9zS+4hJlm1isC1gwKGbRXLdpEHmYcKUybuUoshUWlV5VytrOCbtSLAAccgZVVcT1KCgoij+QlEzeTrI+JXJ5Vyu24O9jBQCJdYwSwscpNxxlgOTgAW5zFqgC8IFKrRy5ZcpikC8xAUUD5GaX3NL7ml9zS+5pfcCPGwGJQQVUtXWFNMRmPQZDYhgc2BKyv3WEpSJKgsQAiD4qqFBK4FV95YUO+aNGSxeZzdc4lbBlILIAaBdAfwml9zS+4RlwhpS33Jpfc0vuaX3NL7ml9xZdBFVhCduslTNIN7UFYxSoQb30QmT4QA4H+FTS+5pfc0vuYiXseUEwTdqW2i+vnopUkjatqREgY6db4L2emmBQEPxZqO130DifoUTGHUoAP8ACppfc0vuaX3NL7ml9zS+5pfcIy4Q0pb7k0vuaX3NL7ml9zS+5pfc0vuEZcIaUt9yaX3NL7ml9zS+5pfc0vuaX3CMuENKW+5NL7ml9zS+5pfc0vuaX3NL7gwRjX38oYc2exGoavZM3aoRJMT4HsEN+38e0m8tMPIQMq8IhRGTS+5pfc0vuaX3CMuENKW+5NL7ml9y5xhvjiyGxRp4WPvbTQCWHJzithhS4faRUXIexcIXgqJJl2Lws4gNU9nIRkIsbbFQoLgC6i0hGXCGlLfciS/GPYYWkCUhoFjFfaKEFiRVW6FFLDUMcBYH1UTHt23QV9loAl0lkb8wiUcOAirA4f0FDoAMWEbgoWk1hjovi7ElyiQFAopHrLBRLKObPUbNYTBa8PC5fXshbtXQxRS0KsoFaIdcAsCXkH7ATyTzDgbVXkZ7sZ4gs4R6A5mkECluSE/AgOsEwiIjOTdlNcMCMrR/f2+89y35hK+olgBYZCwuxAfnGFcLUQoFDlP9/b7z3+27NoGgnUA5EDMCtQLFaBbNZgjY8AjHaLEXMfy5+fsZoLYMvFA3iYssDBAP6qAGVQLUgHao+bA8wC04CVAo1mN06SpWRyYXklGRcPDAExlhr7z38H7z38H7z38H7z38EUvwbZQ8ACyi1FpyooooJai7GJi22hCNpLOD+C1UeC4qyrViuIC1Z+v3nv8AOx2JHRHOlEGS6Gsb22AoC/KgAZVAtSD25kFzkI5FkXjlISSYe5SrVrAQXeItWvKQK+KWjYKULigjNl0IlgmEE8kG2ehuTKBiGOKGKxMgmFCgAKVHA+guwtNgo5wLYiNfq4gvXBaAFqBcIzWaAgMK2LKDX5Ewg2JhfDigFlpZK9xDRseNnTObyIPHPDAEVWCvMBWI4VykweBxNKCjUGFn5nh4sN6sAhEZiGNqKG7mLseSjwdRcJxox0CFvA2guNimORourGEleBqdAbKgFK0i10KauaTmABQIXxf7Xs69xUx7Rb4LXBEjP8LHQ6IhIgsKV2EQ3GILcYCuFB+HMirLgaQmbGyQdPqdGSwRTyBfMIMuABxIwZrvN3f5+89/tqvF+q7fmtqjxlqiQ3vjhh5WVaC1G9OVuwH/AOn5blUCSFOKc8EapuWuTxQWFwrgS75MKGLoqIIeQVwL6ZZhBnpBlUUXRQgjmjBVz8c0ILtVbziRYN3D4PvPfwfvPfwfvPfwcXAw9AxFVOBt8ZqPmuCG+vH5OhysJr1EtFXKwZ6ycq/Hbzxal2gIosfq+89/nVoJAJIY4ItBnKiOZMChKHDcKq+TDVI9P9ZmK5kFqlMJzgu/eyEppeALCiSOQklZoIggigjDYKAHEJhAc9rnLG/zv87/ADv87/O/zv8AOEA8yc5o3+d/nf53+d/nf53+d/nf53+d/nf53+d/nGuRNqq+6b/O/wA7/O/zv87/ADv841yJtVX3Tf53+d/nf53+d/nf5xrkTaqvum/zv87/ADv87/O/zv8AONcibVV903+d/nf53+d/nf53+ca5E2qr7pv87/O/zv8AO/zv87/ONcibVV903+d/nf53+d/nf53+ca5E2qr7pv8AO/zv87/O/wA7/O/zjXIm1VfdN/nf53+d/nf53+d/nGuRNqq+6b/O/wA7/O/zv87/ADv841yJtVX3Q2ZPwnZeRSpKCqYpJQDTbAUrSxY2J6WVvgXgc4gsI+cxoeCsBXncO5GHs+XygUMHBX5QzqoEQViMBoS1iXveMcUE8m4BFzErF5YjYUMJQ8hGno7gVOtUKcYKhm5tDw4tpTbMWbi7JuMRR6DhYwYIp1wV5KoDcG1emlBH2tvJckR0NpdKNiLdwU1eEgWIu0zKJdWEkSch5/8Ax+yx16oBav8A5BnIVGikBReWbz0BFyCvwjpYqCKtRBYoqCQdF5UWiq5VYfhc2noFAN+AWQ1uXRUjXkPy+89/rQjooEQViMBoS1iXveMcUE8m4BFy1Gz4hltJDJjjRErv840f9/IK9WS27pSkIRVjSnbgmGy3OcgVoUUAr0UllMaBQQmkHjiQgswpuE2aVqYPsRnbY2WRooXEdk9YixPg+89/B+89/B+89/BZnsGEUZGGnk/0iosSrjQCbhCEJmrv2aoxikRtyEHOw9NEfJhugiKP1fee/wAwV6slt3SlIQirGhZzNgKPP4Ac6OC3DYJbx4HEHSmsZnH5ciWQBBFPQGOtNJKKSsdAguTFp/nslf8AZhVVT1LIIpfCUgym/QklCgpngKsShFVTFCovkVu3LcEtu8SpbqVkKOAI8IE8ijBBZsjkqml9zS+5pfcQkyzaxWBawYFDNorlu0iDzMOFKZN3KUWQqLSq8q5W1nBN2pFgAOOQMqquJ6lBQURR/ISiZvJ1kfErk8q5XbcHexgoBEusYJYWOUm44ywHJwALc5i1QBeEClVo5csuUxSBeYgKKB8jNL7ml9zS+5pfc0vuBHjYDEoIKqWrrCmmIzHoMhsQwObAlZX7rCUpElQWIARB8VVCglcCq+8sKHfNGjJYvM5uucStgykFkANAugP4TS+5pfcIy4Q0pb7k0vuaX3NL7ml9xItL9SFYjkDApM2iuW7SIPMw4Upk2sRU5upruGxZOFEyfCAHA/wqaX3NL7iMnIYposUZXAHLMISVxvri15N2K2GFFeEwcrFVLIVYKBiIhQpuUgmVqsssoCp4qdgMiqAKeBUkB4QgU4n+Yml9zS+5pfc0vuaX3NL7ml9wjLhDSlvuTS+5pfc0vuaX3NL7ml9zS+4RlwhpS33Jpfc0vuaX3NL7ml9zS+5pfcIy4Q0pb7k0vuaX3NL7ml9zS+5pfc0vuDBGNffyhhzZ7Eahq9kzdqhEkxPgewQ37fx7Sby0w8hAyrwiFEZNL7ml9zS+5pfcIy4Q0pb7k0vuaX3EZOQxTRYoyuAOWYfwrQmZBYLS4cDEEcAKrXkoqlVsc34XlZXgYIAW+DUzk6D+LWr8RFiUhWQahhWHH/pEl+MewwtIEpDQLGK+0UILEiqt0KKWGoY4CwPqomPbtugr7LQBLpLI35hEo4cBFWBw/oKHQAYsI3BQtJrDHRfF2JLlEgKBRSPWWCiWUc2eo2awmC14eFy+vZC3auhiiloVZQK0Q64BYEvIP2AnknmHA2qvIz3YzxBZwj0BzNIIFLckJ+BAdYJhERGcm7Ka4YEZWj+/t957lvzCV9RLACwyFhdiA/OMK4WohQKHKf7+33nv9dIWVIK4JqFlCWgWLFwZwha8AlW9FFCWkgU4BHF8mDLKhGO0WIuY/lz8/YzQWwZeKBvECe5YZQAUAAqQBUIEyta5GNX1ozndmvNng2PcUKEuXSnGRHZEyOGfee/g/ee/g/ee/g/ee/gil+DbKHgAWUWotOVFFFBLUXYxMW20IRtJZwfwWqjwXFWVasVxAWrP1+89/m5+fsZoLYMvFA3iJcJaYgBowAogCoSqvjVwAimwgltwLD1eyiFLQiqt6KKE4O5b9wE4FwshdtQbMCyweeY5INs9DcmUDEMcUMViZBMKFAAUqOB9BdhabBRzgWxEa/VxBeuC0ALUC4Rms0BAYVsWUGvyJhBsTC+HFALLSyV7iGjY8bOmc3kQeOeGAIqsFeYCsRwrlJg8DiaUFGoMLPzPDxYb1YBCIzEMbUUN3MXY8lHg6i4TjRjoELeBtBcbFMcjRdWMJK8DU6A2VAKVpFroU1c0nMACgQvi/wBr2de4qY9ot8FrgiRn+FjodEQkQWFK7CIbjEFuMBXCg/DmRVlwNITNjZIOn1OjJYIp5AvmEGXAA4kYM13m7v8AP3nv9YT9nuOE6q2xYAtwURUroJVFUZQ4QnBnc0pB9qiMjDenK3YD/wDT8tyqBJCnFOeCNU3KSygVhDLTSoAUTPfXnlwMBwq2CGH4egOq/ABMms3EHVgoKVylGiKRREsmle9Hq/g+89/B+89/B+89/BxcDD0DEVU4G3xmo+a4Ib68fk6HKwmvUS0VcrBnrJyr8dvPFqXaAiix+r7z3+bcqgSQpxTngjVNxLEjFbYAWABYparNsFPAYoDgiiPTJ5e0psWL5JoapY/LbEBZ/ZUGApFsc1cP8ymEBz2ucsb/ADv87/O/zv8AO/zv84QDzJzmjf53+d/nf53+d/nf53+d/nf53+d/nf53+ca5E2qr7pv87/O/zv8AO/zv87/ONcibVV903+d/nf53+d/nf53+ca5E2qr7pv8AO/zv87/O/wA7/O/zjXIm1VfdN/nf53+d/nf53+d/nGuRNqq+6b/O/wA7/O/zv87/ADv841yJtVX3Tf53+d/nf53+d/nf5xrkTaqvum/zv87/ADv87/O/zv8AONcibVV903+d/nf53+d/nf53+ca5E2qr7pv87/O/zv8AO/zv87/ONcibVV90NmT8J2XkUqSgqmKSUA02wFK0sWNiellb4F4HOILCPnMaHgrAV53DuRh7Pl8oFDBwV+UM6qBEFYjAaEtYl73jHFBPJuARcxKxeWI2FDCUPIRp6O4FTrVCnGCoZubQ8OLaU2zFm4uybjEUeg4WMGCKdcFeSqA3BtXppQR9rbyXJEdDaXSjYi3cFNXhIFiLtMyiXVhJEnIef/x+yx16oBav/kGchUaKQFF5ZvPQEXIK/COlioIq1EFiioJB0XlRaKrlVh+FzaegUA34BZDW5dFSNeQ/L7z3+u7bO7mwxS0nDHkhksh3MXY7Ao4pLUbPiGW0kMmONESu/wA40f8AfyCvVktu6UpCEVY0MBh3AzmAgE5BLIMtiKWOIiyeHIONWyODHI6lNvAFUceXbEpQQ8rVAIOIqqrIHA5G+D4PvPfwfvPfwfvPfwWZ7BhFGRhp5P8ASKixKuNAJuEIQmau/ZqjGKRG3IQc7D00R8mG6CIo/V957/Nwkyc40+kxouXMHFYi9ZiDisQBRaKfA15RkCsBYJmsU/TQ0TyZLLDAlIrySXLTTbBKQpbEdk9YixJhVVT1LIIpfCUgym/QklCgpngKsShFVTFCovkVu3LcEtu8SpbqVkKOAI8IE8ijBBZsjkqml9zS+5pfcQkyzaxWBawYFDNorlu0iDzMOFKZN3KUWQqLSq8q5W1nBN2pFgAOOQMqquJ6lBQURR/ISiZvJ1kfErk8q5XbcHexgoBEusYJYWOUm44ywHJwALc5i1QBeEClVo5csuUxSBeYgKKB8jNL7ml9zS+5pfc0vuBHjYDEoIKqWrrCmmIzHoMhsQwObAlZX7rCUpElQWIARB8VVCglcCq+8sKHfNGjJYvM5uucStgykFkANAugP4TS+5pfcIy4Q0pb7k0vuaX3NL7ml9zzYoaQaAWpaQSkgmkNXwz/AKcNgYsRYipzdTXcNiycKJk+EAOB/hU0vuaX3EZOQxTRYoyuAOWYf2SVqg7yoAM5IBDOmDrc0EBIIHJBjp1vgvZ6aYFAQ/Fmo7XfQOJ+hRMYdSgA/wAKml9zS+5pfc0vuaX3NL7ml9wjLhDSlvuTS+5pfc0vuaX3NL7ml9zS+4RlwhpS33Jpfc0vuaX3NL7ml9zS+5pfcIy4Q0pb7k0vuaX3NL7ml9zS+5pfc0vuDBGNffyhhzZ7Eahq9kzdqhEkxPgewQ37fx7Sby0w8hAyrwiFEZNL7ml9zS+5pfcIy4Q0pb7k0vuaX3LnGG+OLIbFGnhYjpXz6yDFaFLNAxD1AmwsCmh6MAsaNsA8YDlgIK3kuHY3MEpNEHmzypIDwhApxP8AMRJfjHsMLSBKQ0CxivtFCCxIqrdCilhqGOAsD6qJj27boK+y0AS6SyN+YRKOHARVgcP6Ch0AGLCNwULSawx0XxdiS5RICgUUj1lgollHNnqNmsJgteHhcvr2Qt2roYopaFWUCtEOuAWBLyD9gJ5J5hwNqryM92M8QWcI9AczSCBS3JCfgQHWCYRERnJuymuGBGVo/v7fee5b8wlfUSwAsMhYXYgPzjCuFqIUChyn+/t957/WX6I3gN9pMeEoElCPLRpFIIZHC7SQKcAji+TBllQjHaLEXMfy5+fsZoLYMvFA3iBPcsMoAKAAVIAqECZWtcjGr60YcX4BUE7zHMFOIADFhQEAHAuFgXaEGzAssHnmOT4PvPfwfvPfwfvPfwRS/BtlDwALKLUWnKiiiglqLsYmLbaEI2ks4P4LVR4LirKtWK4gLVn6/ee/zc/P2M0FsGXigbxKxxKeAEGABVQBYlcC4lhQMEFZAf0mbc4vf/Q0OihBBhPqPz1mlAFC7ag2YFlg88xyQbZ6G5MoGIY4oYrEyCYUKAApUcD6C7C02CjnAtiI1+riC9cFoAWoFwjNZoCAwrYsoNfkTCDYmF8OKAWWlkr3ENGx42dM5vIg8c8MARVYK8wFYjhXKTB4HE0oKNQYWfmeHiw3qwCERmIY2oobuYux5KPB1FwnGjHQIW8DaC42KY5Gi6sYSV4Gp0BsqAUrSLXQpq5pOYAFAhfF/tezr3FTHtFvgtcESM/wsdDoiEiCwpXYRDcYgtxgK4UH4cyKsuBpCZsbJB0+p0ZLBFPIF8wgy4AHEjBmu83d/n7z3+u8uicYR5YQHkKKWwlFheMrKBWCIVpODO5pSD7VEZGG9OVuwH/6fluVQJIU4pzwRqm5SWUCsIZaaVACiZ7688uBgOFWwRiQJjRNe8kOEIwUfX9YXnb4Qu4uApFsc1cP8y+D7z38H7z38H7z38HFwMPQMRVTgbfGaj5rghvrx+TocrCa9RLRVysGesnKvx288WpdoCKLH6vvPf5tyqBJCnFOeCNU3DDKSzAb7d7ZkJ4ohEjQG4FkdDyASXXYUIKSOCG7RAPW0iAp3UYYqpQFItjmrh/mUwgOe1zljf53+d/nf53+d/nf5wgHmTnNG/zv87/O/wA7/O/zv87/ADv87/O/zv8AO/zv841yJtVX3Tf53+d/nf53+d/nf5xrkTaqvum/zv8AO/zv87/O/wA7/ONcibVV903+d/nf53+d/nf53+ca5E2qr7pv87/O/wA7/O/zv87/ADjXIm1VfdN/nf53+d/nf53+d/nGuRNqq+6b/O/zv87/ADv87/O/zjXIm1VfdN/nf53+d/nf53+d/nGuRNqq+6b/ADv87/O/zv8AO/zv841yJtVX3Tf53+d/nf53+d/nf5xrkTaqvu//AEUQn3nv4P3nv4P3nv4P3nv4P3nv4P3nv4P3nv4P3nv4P3nv4P3nubQK3LHCozS+5pfc0vuaX3NL7ml9zS+4AKXZHDVNL7ml9zS+5pfc0vuaX3NL7ml9zS+5pfc0vuaX3NL7ml9wjLhDSlvuTS+5pfc0vuaX3NL7ml9zS+4RlwhpS33Jpfc0vuaX3NL7ml9zS+5pfcIy4Q0pb7k0vuaX3NL7ml9zS+5pfc0vuEZcIaUt9yaX3NL7ml9zS+5pfc0vuaX3CMuENKW+5NL7ml9zS+5pfc0vuaX3NL7hGXCGlLfcml9zS+5pfc0vuaX3NL7ml9wjLhDSlvuTS+5pfc0vuaX3NL7ml9zS+4RlwhpS33Jpfc0vuaX3NL7ml9zS+5pfcIy4Q0pb7k0vuaX3NL7ml9zS+5pfc0vuEZcIaUt9yJL8Y9hhaQJSGgWMV9ooQWJFVboUUsNQxwFgfVRMe3bdBX2WgCXSWRvzCJRw4CKsDh/Rrf7HuMLSBKQ0Cy082a8ergQESkmLLAwQD+qgBlUC1JbSITsTJiWOEH5PvPct+YSvqJYAWGQsLsQH5xhXC1EKBQ5T/f2+89/tuFnM9OIJCwCC7SKEVywBXC8JgyyoRjtFiLmP5c/P2M0FsGXigbxELWrhcqy4BXR/eHof9mLvE4VqbUr/APEtgUWopEKRottI5Rwz7z38H7z38H7z38H7z38EUvwbZQ8ACyi1FpyooooJai7GJi22hCNpLOD+C1UeC4qyrViuIC1Z+v3nv83Pz9jNBbBl4oG8RwVpRIDVwAFVAGKvlxcWLIgQoEuyAV9HVGSRAEFBckFPSHBdYSJnCgyoT7z3I2z0NyZQMQxxQxWJkEwoUABSo4H0F2FpsFHOBbERr9XEF64LQAtQLhGazQEBhWxZQa/JyzkNl5QMQxxR/WzhrDbrC4FiplRmpFLrOVaklQ8kx6I3A6TNg4u/kvZ17ipj2i3wWuCJGf4WOh0RCRBYUrsIhuMQW4wFcKD8OZFWXA0hM2Nkg6fU6MlginkC+YQZcADiRgzXebu/z957/aYzQcoYUmlIcgFgaR4dvjyHNwa8MN6crdgP/wBPy3KoEkKcU54I1TcZdP1ZQwGQBIDCNofVdRLsfNacVWVhN0kiX4nRBFwNLDkeoDBlVyJJFESyaV70er+D7z38H7z38H7z38HFwMPQMRVTgbfGaj5rghvrx+TocrCa9RLRVysGesnKvx288WpdoCKLH6vvPf5tyqBJCnFOeCNU3GHWVwkELzpIc7FKiZOByoJ3uKWaLGMDTa9CxFyIxuI1Kd67iC5SKu8lURyeEb+pUA3S2ejiYQHPa5yxv87/ADv87/O/zv8AO/zhAPMnOaN/nf53+d/nf53+d/nf53+d/nf53+d/nf5xrkTaqvum/wA7/O/zv87/ADv87/ONcibVV903+d/nf53+d/nf53+ca5E2qr7pv87/ADv87/O/zv8AO/zjXIm1VfdN/nf53+d/nf53+d/nGuRNqq+6b/O/zv8AO/zv87/O/wA41yJtVX3Tf53+d/nf53+d/nf5xrkTaqvum/zv87/O/wA7/O/zv841yJtVX3Tf53+d/nf53+d/nf5xrkTaqvum/wA7/O/zv87/ADv87/ONcibVV90NmT8J2XkUqSgqmKSUA02wFK0sWNiellb4F4HOILCPnMaHgrAV53DuRh7Pl8oFDBwV+aWZfhXZeRSpKCqxaPhT2gVJkoOInXoolCDKA2FC0CSYjFILCIaDgD5Fjr1QC1f/ACDOQqNFICi8s3noCLkFfhHSxUEVaiCxRUEg6LyotFVyqw/C5tPQKAb8AshrcuipGvIfl957/b53lGxaCryB8IzFVYZRw6axz0AiV3+caP8Av5BXqyW3dKUhCKsaMD8FSTCt9gQCi0UhJ4zmsmqy7X+sAuppimlM6cr0jjz5UlSUiYFxFsNPvPfwfvPfwfvPfwfvPfwWZ7BhFGRhp5P9IqLEq40Am4QhCZq79mqMYpEbchBzsPTRHyYboIij9X3nv9J+B4xlc2i16sIqgR0CagmStLgiFLRpq0ClQ6U3AqKFgJ6sDQarRIUmIvvPc4VVU9SyCKXwlIMpv0JJQoKZ4CrEoRVUxQqL5Fbty3BLbvEqW6lZCjgCPCBPIowQWbI5Kppfc0vuaX3FjRZMQWQQi+EpBjGzES6ECrwAAABK/fCmFFplArLhappEBfRzkqloVXk/tYml9zS+5pfc0vuaX3NL7ml9zS+5pfc0vuaX3AjxsBiUEFVLV1hTTEZj0GQ2IYHNgSsr91hKUiSoLEAIg+KqhQSuBVfeWFDvmjRksXmc3XOJWwZSCyAGgXQH8Jpfc0vuEZcIaUt9yaX3NL7ml9zS+5pfcBxNiHeUYVpdmytUV/MDzzPQGJWcKJk+EAOB/hU0vuaX3EZOQxTRYoyuAOWYbmnQICr1RSzVGJyH+6LRy2faRNuUW3Ue0QGlyaYHNQDtN/gkteQsS3lbEC9MNBstCzy0Bngml9zS+5pfc0vuaX3NL7ml9wjLhDSlvuTS+5pfc0vuaX3NL7ml9zS+4RlwhpS33Jpfc0vuaX3NL7ml9zS+5pfcIy4Q0pb7k0vuaX3NL7ml9zS+5pfc0vuDBGNffyhhzZ7Eahq9kzdqhEkxPgewQ37fx7Sby0w8hAyrwiFEZNL7ml9zS+5pfcIy4Q0pb7k0vuaX3NL7ie2jt3FeMVcsZoog1mgm+E1YEaLM2YjgqrPiIX+DzMqhib9ijuqUO1WxCiYfRIEwAUUcFRJfjHsMLSBKQ0CxivtFCCxIqrdCilhqGOAsD6qJj27boK+y0AS6SyN+YRKOHARVgcP6Nb/Y9xhaQJSGgWWnmzXj1cCAiUkxZYGCAf1UAMqgWpLaRCdiZMSxwg/J957lvzCV9RLACwyFhdiA/OMK4WohQKHKf7+33nv9drHQAYkI3BQtJrDHRfF2JLlEgKBRSWkgU4BHF8mDLKhGO0WIuY/lz8/YzQWwZeKBvExZYGCAf1UAMqgWpCAVztuQAEQuCNAsRtM4cBYPmuIoxpkFeSPcgoIpsJ957+D957+D957+D957+CKX4NsoeABZRai05UUUUEtRdjExbbQhG0lnB/BaqPBcVZVqxXEBas/X7z3+bn5+xmgtgy8UDeJWOJTwAgwAKqALLz2AWbKWqmhxTwityLuiVgX1hjkyWKekOC6wkTOFBlQn3nuRtnobkygYhjihisTIJhQoAClRwPoLsLTYKOcC2IjX6uIL1wWgBagXCM1mgIDCtiyg1+TlnIbLygYhjij+tnDWG3WFwLFTKjNSKXWcq1JKh5Jj0RuB0mbBxd/Jezr3FTHtFvgtcESM/wALHQ6IhIgsKV2EQ3GILcYCuFB+HMirLgaQmbGyQdPqdGSwRTyBfMIMuABxIwZrvN3f5+89/rEwj2IhfDigFlpZK9xDRseNnTObyITgzuaUg+1RGRhvTlbsB/8Ap+W5VAkhTinPBGqblrk8UFhcK4Eu+TCjJVjnABMEUBcikfKBvcnBGjTYAFQIbswFFjwaqxcRFIoiWTSvej1fwfee/g/ee/g/ee/g4uBh6BiKqcDb4zUfNcEN9ePydDlYTXqJaKuVgz1k5V+O3ni1LtARRY/V957/ADblUCSFOKc8EapuGGUlmA3272zITxTJTQD1LQoaaVKh8Lug9Xgw810LdO9dxBcpFXeSqI5PCN/UqAbpbPRxMIDntc5Y3+d/nf53+d/nf53+cIB5k5zRv87/ADv87/O/zv8AO/zv87/O/wA7/O/zv87/ADjXIm1VfdN/nf53+d/nf53+d/nGuRNqq+6b/O/zv87/ADv87/O/zjXIm1VfdN/nf53+d/nf53+d/nGuRNqq+6b/ADv87/O/zv8AO/zv841yJtVX3Tf53+d/nf53+d/nf5xrkTaqvum/zv8AO/zv87/O/wA7/ONcibVV903+d/nf53+d/nf53+ca5E2qr7pv87/O/wA7/O/zv87/ADjXIm1VfdN/nf53+d/nf53+d/nGuRNqq+6GzJ+E7LyKVJQVTFJKAabYClaWLGxPSyt8C8DnEFhHzmNDwVgK87h3Iw9ny+UChg4K/NLMvwrsvIpUlBVYtHwp7QKkyUHETr0UShBlAbChaBJMRikFhENBwB8ix16oBav/AJBnIVGikBReWbz0BFyCvwjpYqCKtRBYoqCQdF5UWiq5VYfhc2noFAN+AWQ1uXRUjXkPy+89/rAjoE1BMlaXBEKWmAXPs43qDK+CpLUbPiGW0kMmONESu/zjR/38gr1ZLbulKQhFWNDAYdwM5gIBOQSyKzVgh77ctvxaoWU9kSRI7ho5YOZA8IvByeOLhurmGiS2ywbuD8H3nv4P3nv4P3nv4LM9gwijIw08n+kVFiVcaATcIQhM1d+zVGMUiNuQg52Hpoj5MN0ERR+r7z3+YK9WS27pSkIRVjRgfgqSYVvsCAUWikJPGc1k1WXa/wBYpTXBzPk1RJhlvtkfTAqGNsIls+89zhVVT1LIIpfCUgym/QklCgpngKsShFVTFCovkVu3LcEtu8SpbqVkKOAI8IE8ijBBZsjkqml9zS+5pfcWNFkxBZBCL4SkGMbMRLoQKvAAAAEr98KYUWmUCsuFqmkQF9HOSqWhVeT+1iaX3NL7ml9zS+5pfc0vuaX3NL7ml9zS+5pfcCPGwGJQQVUtXWFNMRmPQZDYhgc2BKyv3WEpSJKgsQAiD4qqFBK4FV95YUO+aNGSxeZzdc4lbBlILIAaBdAfwml9zS+4RlwhpS33Jpfc0vuaX3NL7gAdZpnqyJSuii7MTzfSk1BdVnC4DNrEVObqa7hsWThRMnwgBwP8Kml9zS+4jJyGKaLFGVwByzD+yStUHeVABnJDJAScK0CDUqqiqS+NBdwMyqK80kbpA8sCkokIzdyhwW6oR5xZKhZ5aBnAE0vuaX3NL7ml9zS+5pfc0vuEZcIaUt9yaX3NL7ml9zS+5pfc0vuaX3CMuENKW+5NL7ml9zS+5pfc0vuaX3NL7hGXCGlLfcml9zS+5pfc0vuaX3NL7ml9wYIxr7+UMObPYjUNXsmbtUIkmJ8D2CG/b+PaTeWmHkIGVeEQojJpfc0vuaX3NL7hGXCGlLfcml9zS+4jJyGKaLFGVwByzDc06BAVeqKWaoxOQ/3RaOWz7SJtyjfo+FTVfEiAU00pFjT4WYWIwW5FMQomH0SBMAFFHBUSX4x7DC0gSkNAsYr7RQgsSKq3QopYahjgLA+qiY9u26CvstAEuksjfmESjhwEVYHD+jW/2PcYWkCUhoFlp5s149XAgIlJMWWBggH9VADKoFqS2kQnYmTEscIPyfee5b8wlfUSwAsMhYXYgPzjCuFqIUChyn+/t957/W74RJIbJlhSoS0CwHQasbVJcal6KLUtJApwCOL5MGWVCMdosRcx/Ln5+xmgtgy8UDeIE9ywygAoABUgCoRddy7BMONXO4BMxMwhTIVVBYwEFFCFIfpeqgANEIl0NMQhFBP9+D957+D957+D957+CKX4NsoeABZRai05UUUUEtRdjExbbQhG0lnB/BaqPBcVZVqxXEBas/X7z3+bn5+xmgtgy8UDeJWOJTwAgwAKqALKWT4ekx6OQwoJmYI8I8AeDMDmEo5q2WhbVzRg4VPvPcjbPQ3JlAxDHFDFYmQTChQAFKjgfQXYWmwUc4FsRGv1cQXrgtAC1AuEZrNAQGFbFlBr8nLOQ2XlAxDHFH9bOGsNusLgWKmVGakUus5VqSVDyTHojcDpM2Di7+S9nXuKmPaLfBa4IkZ/hY6HREJEFhSuwiG4xBbjAVwoPw5kVZcDSEzY2SDp9ToyWCKeQL5hBlwAOJGDNd5u7/P3nv8AWowzoMds2eRSpH8Hq54QQqUdAw5QE4M7mlIPtURkYb05W7Af/p+W5VAkhTinPBGqblJZQKwhlppUAKIaCpHHfKOoDxXCKAk7zFbCogciRcSdmgs1U3UecoIBfKjASEryBOEPg+89/B+89/B+89/BxcDD0DEVU4G3xmo+a4Ib68fk6HKwmvUS0VcrBnrJyr8dvPFqXaAiix+r7z3+bcqgSQpxTngjVNwwykswG+3e2ZCeKFNCS0PBWxLWBGElWWKT1utaDAihQsnBiFhdQgCQYQOTwjf1KgG6Wz0cTCA57XOWN/nf53+d/nf53+d/nCAeZOc0b/O/zv8AO/zv87/O/wA7/O/zv87/ADv87/O/zjXIm1VfdN/nf53+d/nf53+d/nGuRNqq+6b/ADv87/O/zv8AO/zv841yJtVX3Tf53+d/nf53+d/nf5xrkTaqvum/zv8AO/zv87/O/wA7/ONcibVV903+d/nf53+d/nf53+ca5E2qr7pv87/O/wA7/O/zv87/ADjXIm1VfdN/nf53+d/nf53+d/nGuRNqq+6b/O/zv87/ADv87/O/zjXIm1VfdN/nf53+d/nf53+d/nGuRNqq+6GzJ+E7LyKVJQVTFJKAabYClaWLGxPSyt8C8DnEFhHzmNDwVgK87h3Iw9ny+UChg4K/NLMvwrsvIpUlBVYtHwp7QKkyUHETr0UShBlAbChaBJMRikFhENBwB8ix16oBav8A5BnIVGikBReWbz0BFyCvwjpYqCKtRBYoqCQdF5UWiq5VYfhc2noFAN+AWQ1uXRUjXkPy+89/r+zh+cvZmrqXL1lG5HIn9RFVqNnxDLaSGTHGiJXf5xo/7+QV6slt3SlIQirGhgMO4GcwEAnIJZFZqwQ99uW34tULNV0uyy4b9Npqsnk1aEJRfEhxdTR957+D957+D957+D957+CzPYMIoyMNPJ/pFRYlXGgE3CEITNXfs1RjFIjbkIOdh6aI+TDdBEUfq+89/mCvVktu6UpCEVY0JNYFWBD0XngQYUQxmZ/UYplMZM41TSTUsy2HlzxMbYnHACFCDUvCTFp/nslf9mFVVPUsgil8JSDKb9CSUKCmeAqxKEVVMUKi+RW7ctwS27xKlupWQo4AjwgTyKMEFmyOSqaX3NL7ml9xY0WTEFkEIvhKQYxsxEuhAq8AAAASv3wphRaZQKy4WqaRAX0c5KpaFV5P7WJpfc0vuaX3NL7ml9zS+5pfc0vuaX3NL7ml9wI8bAYlBBVS1dYU0xGY9BkNiGBzYErK/dYSlIkqCxACIPiqoUErgVX3lhQ75o0ZLF5nN1ziVsGUgsgBoF0B/CaX3NL7hGXCGlLfcml9zS+5pfc0vuAlBLMSkbMCOCsIKKCw0zO2oQIUGLEWIqc3U13DYsnCiZPhADgf4VNL7ml9xGTkMU0WKMrgDlmH9klaoO8qADOSGSAk4VoEGpVVFU8Vpg6C1+BXwGoLj1dODDARs5bWxAvTDQbLQs8tAZ4Jpfc0vuaX3NL7ml9zS+5pfcIy4Q0pb7k0vuaX3NL7ml9zS+5pfc0vuEZcIaUt9yaX3NL7ml9zS+5pfc0vuaX3CMuENKW+5NL7ml9zS+5pfc0vuaX3NL7gwRjX38oYc2exGoavZM3aoRJMT4HsEN+38e0m8tMPIQMq8IhRGTS+5pfc0vuaX3CMuENKW+5NL7ml9xGTkMU0WKMrgDlmMJ2r8GAYRBlWqMQBBLQtVQ7lMvCi2oS5qSvEZlZduKAkOVUw5QgACBSI2WQahhWHH/p/+iiE+89/B+89/B+89/B+89/B+89/B+89/B+89/B+89/B+89/B+89z//Z)"
      ],
      "metadata": {
        "id": "CdSJPisKC98v"
      }
    },
    {
      "cell_type": "code",
      "source": [],
      "metadata": {
        "id": "3kpEV-btC9il"
      },
      "execution_count": null,
      "outputs": []
    },
    {
      "cell_type": "markdown",
      "source": [
        "# ADABoosting"
      ],
      "metadata": {
        "id": "ZpSS1eG1CjSf"
      }
    },
    {
      "cell_type": "code",
      "source": [
        "from sklearn.model_selection import train_test_split\n",
        "x_train, x_test, y_train, y_test= train_test_split(x, y, random_state=1)\n",
        "y_test"
      ],
      "metadata": {
        "colab": {
          "base_uri": "https://localhost:8080/"
        },
        "id": "Hk2340AzzpvN",
        "outputId": "2001604b-1b56-451f-d7ee-c252ce563dba"
      },
      "execution_count": null,
      "outputs": [
        {
          "output_type": "execute_result",
          "data": {
            "text/plain": [
              "146     0\n",
              "379    10\n",
              "247     8\n",
              "197    10\n",
              "368    10\n",
              "       ..\n",
              "242     0\n",
              "106     8\n",
              "191     9\n",
              "82      6\n",
              "364    12\n",
              "Name: G3, Length: 99, dtype: int64"
            ]
          },
          "metadata": {},
          "execution_count": 12
        }
      ]
    },
    {
      "cell_type": "code",
      "source": [
        "from sklearn.ensemble import AdaBoostRegressor\n",
        "from sklearn.datasets import make_regression\n",
        "X, y = make_regression(n_features=4, n_informative=2,\n",
        "                        random_state=0, shuffle=False)\n",
        "regr = AdaBoostRegressor(random_state=0, n_estimators=100)\n",
        "regr.fit(X, y)"
      ],
      "metadata": {
        "colab": {
          "base_uri": "https://localhost:8080/"
        },
        "id": "lMxcxZoB1Azs",
        "outputId": "523fbb33-e3a1-4f1b-b7a2-e72f335c6870"
      },
      "execution_count": null,
      "outputs": [
        {
          "output_type": "execute_result",
          "data": {
            "text/plain": [
              "AdaBoostRegressor(n_estimators=100, random_state=0)"
            ]
          },
          "metadata": {},
          "execution_count": 14
        }
      ]
    },
    {
      "cell_type": "code",
      "source": [
        "regr.score(X,y)"
      ],
      "metadata": {
        "colab": {
          "base_uri": "https://localhost:8080/"
        },
        "id": "2Gak8CoM1YRe",
        "outputId": "da8a3c43-c75f-4d20-884f-40b91173ea4c"
      },
      "execution_count": null,
      "outputs": [
        {
          "output_type": "execute_result",
          "data": {
            "text/plain": [
              "0.9771376939813695"
            ]
          },
          "metadata": {},
          "execution_count": 18
        }
      ]
    },
    {
      "cell_type": "code",
      "source": [
        "from tensorflow.python.ops.stateless_random_ops import Algorithm\n",
        "from sklearn.ensemble import AdaBoostClassifier\n",
        "from sklearn.tree import plot_tree\n",
        "from sklearn.tree import DecisionTreeClassifier\n",
        "\n",
        "base_est = DecisionTreeClassifier()\n",
        "adaboost = AdaBoostClassifier(base_estimator = base_est,\n",
        "                           algorithm=\"SAMME\",\n",
        "                            random_state=0)"
      ],
      "metadata": {
        "id": "lbx3cIm6z2nM"
      },
      "execution_count": null,
      "outputs": []
    },
    {
      "cell_type": "code",
      "source": [
        "from os import pipe\n",
        "adaboost.fit(x_train,y_train)\n",
        "y_pred = adaboost.predict(x_test)"
      ],
      "metadata": {
        "id": "tf3Ft9P22twz"
      },
      "execution_count": null,
      "outputs": []
    },
    {
      "cell_type": "code",
      "source": [
        "y_pred"
      ],
      "metadata": {
        "colab": {
          "base_uri": "https://localhost:8080/"
        },
        "id": "8yE7EJsn4P6S",
        "outputId": "354c9eb0-2ad3-404a-be5e-bcd6facbcbcd"
      },
      "execution_count": null,
      "outputs": [
        {
          "output_type": "execute_result",
          "data": {
            "text/plain": [
              "array([ 0,  9,  8, 10, 10, 13,  7, 11, 14,  8, 12, 14,  8,  8,  9, 12, 15,\n",
              "       18,  0, 10, 12, 18, 10, 10, 15,  8, 12,  8, 10, 15, 12, 12,  8, 10,\n",
              "       12,  8, 12, 11,  8, 12, 10, 11, 16, 10, 11, 12, 18, 11, 11,  9,  4,\n",
              "       12, 11,  6,  8, 10,  6, 15, 10,  0,  0,  0, 13, 16, 15, 10, 12, 16,\n",
              "       10, 11, 15, 14, 11, 13, 13, 10, 12, 12, 11, 11,  0, 10, 15,  6, 12,\n",
              "       10, 10, 11,  0, 11, 12,  0, 19, 10,  0,  6,  0,  6, 12])"
            ]
          },
          "metadata": {},
          "execution_count": 30
        }
      ]
    },
    {
      "cell_type": "code",
      "source": [
        "adaboost.estimator_errors_"
      ],
      "metadata": {
        "colab": {
          "base_uri": "https://localhost:8080/"
        },
        "id": "mj1Dhzjt4Wwg",
        "outputId": "faa7a6b7-642b-4b4c-de97-fe9c5cfcd89a"
      },
      "execution_count": null,
      "outputs": [
        {
          "output_type": "execute_result",
          "data": {
            "text/plain": [
              "array([0., 1., 1., 1., 1., 1., 1., 1., 1., 1., 1., 1., 1., 1., 1., 1., 1.,\n",
              "       1., 1., 1., 1., 1., 1., 1., 1., 1., 1., 1., 1., 1., 1., 1., 1., 1.,\n",
              "       1., 1., 1., 1., 1., 1., 1., 1., 1., 1., 1., 1., 1., 1., 1., 1.])"
            ]
          },
          "metadata": {},
          "execution_count": 31
        }
      ]
    },
    {
      "cell_type": "code",
      "source": [
        "adaboost.estimator_weights_"
      ],
      "metadata": {
        "colab": {
          "base_uri": "https://localhost:8080/"
        },
        "id": "gWb65FiU4h-B",
        "outputId": "cad0c096-b67f-4882-ac61-5c9b41662229"
      },
      "execution_count": null,
      "outputs": [
        {
          "output_type": "execute_result",
          "data": {
            "text/plain": [
              "array([1., 0., 0., 0., 0., 0., 0., 0., 0., 0., 0., 0., 0., 0., 0., 0., 0.,\n",
              "       0., 0., 0., 0., 0., 0., 0., 0., 0., 0., 0., 0., 0., 0., 0., 0., 0.,\n",
              "       0., 0., 0., 0., 0., 0., 0., 0., 0., 0., 0., 0., 0., 0., 0., 0.])"
            ]
          },
          "metadata": {},
          "execution_count": 32
        }
      ]
    }
  ],
  "metadata": {
    "colab": {
      "provenance": []
    },
    "kernelspec": {
      "display_name": "Python 3",
      "name": "python3"
    },
    "language_info": {
      "name": "python"
    }
  },
  "nbformat": 4,
  "nbformat_minor": 0
}